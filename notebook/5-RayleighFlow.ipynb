{
 "cells": [
  {
   "cell_type": "markdown",
   "source": [
    "# Steady flow through a duct with heat transfer\n",
    "This notebook demonstrates the use of tools for computing steady compressible flow\n",
    "through a constant-area duct with heat transfer, commonly known as **Rayleigh flow**."
   ],
   "metadata": {}
  },
  {
   "cell_type": "markdown",
   "source": [
    "### Set up the module"
   ],
   "metadata": {}
  },
  {
   "outputs": [],
   "cell_type": "code",
   "source": [
    "using Gasdynamics1D"
   ],
   "metadata": {},
   "execution_count": 1
  },
  {
   "outputs": [],
   "cell_type": "code",
   "source": [
    "using Plots\n",
    "using LaTeXStrings"
   ],
   "metadata": {},
   "execution_count": 2
  },
  {
   "cell_type": "markdown",
   "source": [
    "#### Simple example\n",
    "In a duct with helium, if the flow enters with stagnation temperature of 20 degrees C,\n",
    "how much does the stagnation temperature change if we add heat 400 kJ/kg?"
   ],
   "metadata": {}
  },
  {
   "outputs": [
    {
     "output_type": "execute_result",
     "data": {
      "text/plain": "StagnationTemperature = 293.15 K"
     },
     "metadata": {},
     "execution_count": 3
    }
   ],
   "cell_type": "code",
   "source": [
    "q = HeatFlux(400u\"kJ/kg\")\n",
    "T01 = StagnationTemperature(20u\"°C\")"
   ],
   "metadata": {},
   "execution_count": 3
  },
  {
   "cell_type": "markdown",
   "source": [
    "starting stagnation enthalpy"
   ],
   "metadata": {}
  },
  {
   "outputs": [
    {
     "output_type": "execute_result",
     "data": {
      "text/plain": "StagnationEnthalpy = 1.5223751427893795e6 J kg⁻¹"
     },
     "metadata": {},
     "execution_count": 4
    }
   ],
   "cell_type": "code",
   "source": [
    "h01 = StagnationEnthalpy(T01,gas=He) # h01 = cp*T01"
   ],
   "metadata": {},
   "execution_count": 4
  },
  {
   "cell_type": "markdown",
   "source": [
    "add the heat"
   ],
   "metadata": {}
  },
  {
   "outputs": [
    {
     "output_type": "execute_result",
     "data": {
      "text/plain": "StagnationEnthalpy = 1.9223751427893795e6 J kg⁻¹"
     },
     "metadata": {},
     "execution_count": 5
    }
   ],
   "cell_type": "code",
   "source": [
    "h02 = StagnationEnthalpy(h01 + q)"
   ],
   "metadata": {},
   "execution_count": 5
  },
  {
   "cell_type": "markdown",
   "source": [
    "calculate the final stagnation temperature"
   ],
   "metadata": {}
  },
  {
   "outputs": [
    {
     "output_type": "execute_result",
     "data": {
      "text/plain": "StagnationTemperature = 370.17437901419606 K"
     },
     "metadata": {},
     "execution_count": 6
    }
   ],
   "cell_type": "code",
   "source": [
    "T02 = StagnationTemperature(h02,gas=He)  # T02 = h02/cp"
   ],
   "metadata": {},
   "execution_count": 6
  },
  {
   "cell_type": "markdown",
   "source": [
    "Report the final value in Celsius:"
   ],
   "metadata": {}
  },
  {
   "outputs": [
    {
     "output_type": "execute_result",
     "data": {
      "text/plain": "97.02437901419609 °C"
     },
     "metadata": {},
     "execution_count": 7
    }
   ],
   "cell_type": "code",
   "source": [
    "value(T02,u\"°C\")"
   ],
   "metadata": {},
   "execution_count": 7
  },
  {
   "cell_type": "markdown",
   "source": [
    "so the flow exiting the duct has stagnation temperature 97 C."
   ],
   "metadata": {}
  },
  {
   "cell_type": "markdown",
   "source": [
    "The sonic state is used as a reference, similar to Fanno flow and isentropic flow.\n",
    "All states share the same $T_{0}^*$, $p^*$, $u^*$, etc, so we can relate two points\n",
    "via this reference. We have functions that allow us to do this. For example, to\n",
    "find the ratio of the local stagnation temperature to its sonic reference value\n",
    "at Mach number 0.5 in air:"
   ],
   "metadata": {}
  },
  {
   "outputs": [
    {
     "output_type": "execute_result",
     "data": {
      "text/plain": "TemperatureRatio = 0.691358024691358"
     },
     "metadata": {},
     "execution_count": 8
    }
   ],
   "cell_type": "code",
   "source": [
    "T0OverT0Star(MachNumber(0.5),RayleighFlow,gas=Air)"
   ],
   "metadata": {},
   "execution_count": 8
  },
  {
   "cell_type": "markdown",
   "source": [
    "Note that the argument `RayleighFlow` was used to designate this function's use.\n",
    "If the Mach number is 1, then..."
   ],
   "metadata": {}
  },
  {
   "outputs": [
    {
     "output_type": "execute_result",
     "data": {
      "text/plain": "TemperatureRatio = 1.0"
     },
     "metadata": {},
     "execution_count": 9
    }
   ],
   "cell_type": "code",
   "source": [
    "T0OverT0Star(MachNumber(1),RayleighFlow,gas=Air)"
   ],
   "metadata": {},
   "execution_count": 9
  },
  {
   "cell_type": "markdown",
   "source": [
    "That is, $T_{0}$ is equal to $T_{0}^*$ when Mach number is 1, as it should be,\n",
    "by definition.\n",
    "Alternatively, if we know $T_0/T_0^*$, we can determine $M$. However, there are\n",
    "sometimes two possible values of Mach number, as with Fanno flow and isentropic flow."
   ],
   "metadata": {}
  },
  {
   "outputs": [],
   "cell_type": "code",
   "source": [
    "Mrange = range(0.001,8,length=801)\n",
    "T0_over_T0star = []\n",
    "for M in Mrange\n",
    "    push!(T0_over_T0star,value(T0OverT0Star(MachNumber(M),RayleighFlow,gas=Air)))\n",
    "end"
   ],
   "metadata": {},
   "execution_count": 10
  },
  {
   "outputs": [
    {
     "output_type": "execute_result",
     "data": {
      "text/plain": "Plot{Plots.GRBackend() n=2}",
      "image/png": "[encoded data removed]",
      "text/html": [
       "<?xml version=\"1.0\" encoding=\"utf-8\"?>\n",
       "<svg xmlns=\"http://www.w3.org/2000/svg\" xmlns:xlink=\"http://www.w3.org/1999/xlink\" width=\"400\" height=\"300\" viewBox=\"0 0 1600 1200\">\n",
       "<defs>\n",
       "  <clipPath id=\"clip620\">\n",
       "    <rect x=\"0\" y=\"0\" width=\"1600\" height=\"1200\"/>\n",
       "  </clipPath>\n",
       "</defs>\n",
       "<path clip-path=\"url(#clip620)\" d=\"\n",
       "M0 1200 L1600 1200 L1600 0 L0 0  Z\n",
       "  \" fill=\"#ffffff\" fill-rule=\"evenodd\" fill-opacity=\"1\"/>\n",
       "<defs>\n",
       "  <clipPath id=\"clip621\">\n",
       "    <rect x=\"320\" y=\"0\" width=\"1121\" height=\"1121\"/>\n",
       "  </clipPath>\n",
       "</defs>\n",
       "<defs>\n",
       "  <clipPath id=\"clip622\">\n",
       "    <rect x=\"223\" y=\"47\" width=\"1330\" height=\"971\"/>\n",
       "  </clipPath>\n",
       "</defs>\n",
       "<path clip-path=\"url(#clip620)\" d=\"\n",
       "M223.889 1016.92 L1552.76 1016.92 L1552.76 47.2441 L223.889 47.2441  Z\n",
       "  \" fill=\"#ffffff\" fill-rule=\"evenodd\" fill-opacity=\"1\"/>\n",
       "<polyline clip-path=\"url(#clip620)\" style=\"stroke:#000000; stroke-width:4; stroke-opacity:1; fill:none\" points=\"\n",
       "  223.889,1016.92 1552.76,1016.92 \n",
       "  \"/>\n",
       "<polyline clip-path=\"url(#clip620)\" style=\"stroke:#000000; stroke-width:4; stroke-opacity:1; fill:none\" points=\"\n",
       "  223.889,1016.92 223.889,1005.28 \n",
       "  \"/>\n",
       "<polyline clip-path=\"url(#clip620)\" style=\"stroke:#000000; stroke-width:4; stroke-opacity:1; fill:none\" points=\"\n",
       "  389.998,1016.92 389.998,1005.28 \n",
       "  \"/>\n",
       "<polyline clip-path=\"url(#clip620)\" style=\"stroke:#000000; stroke-width:4; stroke-opacity:1; fill:none\" points=\"\n",
       "  556.106,1016.92 556.106,1005.28 \n",
       "  \"/>\n",
       "<polyline clip-path=\"url(#clip620)\" style=\"stroke:#000000; stroke-width:4; stroke-opacity:1; fill:none\" points=\"\n",
       "  722.214,1016.92 722.214,1005.28 \n",
       "  \"/>\n",
       "<polyline clip-path=\"url(#clip620)\" style=\"stroke:#000000; stroke-width:4; stroke-opacity:1; fill:none\" points=\"\n",
       "  888.323,1016.92 888.323,1005.28 \n",
       "  \"/>\n",
       "<polyline clip-path=\"url(#clip620)\" style=\"stroke:#000000; stroke-width:4; stroke-opacity:1; fill:none\" points=\"\n",
       "  1054.43,1016.92 1054.43,1005.28 \n",
       "  \"/>\n",
       "<polyline clip-path=\"url(#clip620)\" style=\"stroke:#000000; stroke-width:4; stroke-opacity:1; fill:none\" points=\"\n",
       "  1220.54,1016.92 1220.54,1005.28 \n",
       "  \"/>\n",
       "<polyline clip-path=\"url(#clip620)\" style=\"stroke:#000000; stroke-width:4; stroke-opacity:1; fill:none\" points=\"\n",
       "  1386.65,1016.92 1386.65,1005.28 \n",
       "  \"/>\n",
       "<polyline clip-path=\"url(#clip620)\" style=\"stroke:#000000; stroke-width:4; stroke-opacity:1; fill:none\" points=\"\n",
       "  1552.76,1016.92 1552.76,1005.28 \n",
       "  \"/>\n",
       "<path clip-path=\"url(#clip620)\" d=\"M 0 0 M223.889 1039.71 Q220.278 1039.71 218.45 1043.28 Q216.644 1046.82 216.644 1053.95 Q216.644 1061.05 218.45 1064.62 Q220.278 1068.16 223.889 1068.16 Q227.524 1068.16 229.329 1064.62 Q231.158 1061.05 231.158 1053.95 Q231.158 1046.82 229.329 1043.28 Q227.524 1039.71 223.889 1039.71 M223.889 1036.01 Q229.7 1036.01 232.755 1040.61 Q235.834 1045.2 235.834 1053.95 Q235.834 1062.67 232.755 1067.28 Q229.7 1071.86 223.889 1071.86 Q218.079 1071.86 215.001 1067.28 Q211.945 1062.67 211.945 1053.95 Q211.945 1045.2 215.001 1040.61 Q218.079 1036.01 223.889 1036.01 Z\" fill=\"#000000\" fill-rule=\"evenodd\" fill-opacity=\"1\" /><path clip-path=\"url(#clip620)\" d=\"M 0 0 M380.38 1067.26 L388.019 1067.26 L388.019 1040.89 L379.708 1042.56 L379.708 1038.3 L387.972 1036.63 L392.648 1036.63 L392.648 1067.26 L400.287 1067.26 L400.287 1071.19 L380.38 1071.19 L380.38 1067.26 Z\" fill=\"#000000\" fill-rule=\"evenodd\" fill-opacity=\"1\" /><path clip-path=\"url(#clip620)\" d=\"M 0 0 M550.759 1067.26 L567.078 1067.26 L567.078 1071.19 L545.134 1071.19 L545.134 1067.26 Q547.796 1064.5 552.379 1059.87 Q556.986 1055.22 558.166 1053.88 Q560.412 1051.35 561.291 1049.62 Q562.194 1047.86 562.194 1046.17 Q562.194 1043.41 560.25 1041.68 Q558.328 1039.94 555.226 1039.94 Q553.027 1039.94 550.574 1040.71 Q548.143 1041.47 545.365 1043.02 L545.365 1038.3 Q548.189 1037.16 550.643 1036.59 Q553.097 1036.01 555.134 1036.01 Q560.504 1036.01 563.699 1038.69 Q566.893 1041.38 566.893 1045.87 Q566.893 1048 566.083 1049.92 Q565.296 1051.82 563.189 1054.41 Q562.611 1055.08 559.509 1058.3 Q556.407 1061.49 550.759 1067.26 Z\" fill=\"#000000\" fill-rule=\"evenodd\" fill-opacity=\"1\" /><path clip-path=\"url(#clip620)\" d=\"M 0 0 M726.462 1052.56 Q729.819 1053.28 731.693 1055.54 Q733.592 1057.81 733.592 1061.15 Q733.592 1066.26 730.073 1069.06 Q726.555 1071.86 720.073 1071.86 Q717.897 1071.86 715.582 1071.42 Q713.291 1071.01 710.837 1070.15 L710.837 1065.64 Q712.782 1066.77 715.096 1067.35 Q717.411 1067.93 719.934 1067.93 Q724.332 1067.93 726.624 1066.19 Q728.939 1064.46 728.939 1061.15 Q728.939 1058.09 726.786 1056.38 Q724.656 1054.64 720.837 1054.64 L716.809 1054.64 L716.809 1050.8 L721.022 1050.8 Q724.471 1050.8 726.3 1049.43 Q728.129 1048.04 728.129 1045.45 Q728.129 1042.79 726.231 1041.38 Q724.356 1039.94 720.837 1039.94 Q718.916 1039.94 716.717 1040.36 Q714.518 1040.78 711.879 1041.65 L711.879 1037.49 Q714.541 1036.75 716.856 1036.38 Q719.194 1036.01 721.254 1036.01 Q726.578 1036.01 729.68 1038.44 Q732.781 1040.84 732.781 1044.97 Q732.781 1047.84 731.138 1049.83 Q729.494 1051.79 726.462 1052.56 Z\" fill=\"#000000\" fill-rule=\"evenodd\" fill-opacity=\"1\" /><path clip-path=\"url(#clip620)\" d=\"M 0 0 M891.332 1040.71 L879.526 1059.15 L891.332 1059.15 L891.332 1040.71 M890.105 1036.63 L895.985 1036.63 L895.985 1059.15 L900.915 1059.15 L900.915 1063.04 L895.985 1063.04 L895.985 1071.19 L891.332 1071.19 L891.332 1063.04 L875.73 1063.04 L875.73 1058.53 L890.105 1036.63 Z\" fill=\"#000000\" fill-rule=\"evenodd\" fill-opacity=\"1\" /><path clip-path=\"url(#clip620)\" d=\"M 0 0 M1044.71 1036.63 L1063.07 1036.63 L1063.07 1040.57 L1048.99 1040.57 L1048.99 1049.04 Q1050.01 1048.69 1051.03 1048.53 Q1052.05 1048.34 1053.07 1048.34 Q1058.85 1048.34 1062.23 1051.52 Q1065.61 1054.69 1065.61 1060.1 Q1065.61 1065.68 1062.14 1068.78 Q1058.67 1071.86 1052.35 1071.86 Q1050.17 1071.86 1047.9 1071.49 Q1045.66 1071.12 1043.25 1070.38 L1043.25 1065.68 Q1045.33 1066.82 1047.56 1067.37 Q1049.78 1067.93 1052.26 1067.93 Q1056.26 1067.93 1058.6 1065.82 Q1060.94 1063.72 1060.94 1060.1 Q1060.94 1056.49 1058.6 1054.39 Q1056.26 1052.28 1052.26 1052.28 Q1050.38 1052.28 1048.51 1052.7 Q1046.65 1053.11 1044.71 1053.99 L1044.71 1036.63 Z\" fill=\"#000000\" fill-rule=\"evenodd\" fill-opacity=\"1\" /><path clip-path=\"url(#clip620)\" d=\"M 0 0 M1220.94 1052.05 Q1217.8 1052.05 1215.94 1054.2 Q1214.12 1056.35 1214.12 1060.1 Q1214.12 1063.83 1215.94 1066.01 Q1217.8 1068.16 1220.94 1068.16 Q1224.09 1068.16 1225.92 1066.01 Q1227.77 1063.83 1227.77 1060.1 Q1227.77 1056.35 1225.92 1054.2 Q1224.09 1052.05 1220.94 1052.05 M1230.23 1037.4 L1230.23 1041.65 Q1228.47 1040.82 1226.66 1040.38 Q1224.88 1039.94 1223.12 1039.94 Q1218.49 1039.94 1216.04 1043.07 Q1213.61 1046.19 1213.26 1052.51 Q1214.62 1050.5 1216.69 1049.43 Q1218.75 1048.34 1221.22 1048.34 Q1226.43 1048.34 1229.44 1051.52 Q1232.47 1054.66 1232.47 1060.1 Q1232.47 1065.43 1229.32 1068.65 Q1226.18 1071.86 1220.94 1071.86 Q1214.95 1071.86 1211.78 1067.28 Q1208.61 1062.67 1208.61 1053.95 Q1208.61 1045.75 1212.5 1040.89 Q1216.38 1036.01 1222.94 1036.01 Q1224.69 1036.01 1226.48 1036.35 Q1228.28 1036.7 1230.23 1037.4 Z\" fill=\"#000000\" fill-rule=\"evenodd\" fill-opacity=\"1\" /><path clip-path=\"url(#clip620)\" d=\"M 0 0 M1375.54 1036.63 L1397.76 1036.63 L1397.76 1038.62 L1385.21 1071.19 L1380.33 1071.19 L1392.13 1040.57 L1375.54 1040.57 L1375.54 1036.63 Z\" fill=\"#000000\" fill-rule=\"evenodd\" fill-opacity=\"1\" /><path clip-path=\"url(#clip620)\" d=\"M 0 0 M1552.76 1054.78 Q1549.42 1054.78 1547.5 1056.56 Q1545.6 1058.34 1545.6 1061.47 Q1545.6 1064.59 1547.5 1066.38 Q1549.42 1068.16 1552.76 1068.16 Q1556.09 1068.16 1558.01 1066.38 Q1559.93 1064.57 1559.93 1061.47 Q1559.93 1058.34 1558.01 1056.56 Q1556.11 1054.78 1552.76 1054.78 M1548.08 1052.79 Q1545.07 1052.05 1543.38 1049.99 Q1541.71 1047.93 1541.71 1044.97 Q1541.71 1040.82 1544.65 1038.41 Q1547.62 1036.01 1552.76 1036.01 Q1557.92 1036.01 1560.86 1038.41 Q1563.8 1040.82 1563.8 1044.97 Q1563.8 1047.93 1562.11 1049.99 Q1560.44 1052.05 1557.45 1052.79 Q1560.83 1053.58 1562.71 1055.87 Q1564.61 1058.16 1564.61 1061.47 Q1564.61 1066.49 1561.53 1069.18 Q1558.47 1071.86 1552.76 1071.86 Q1547.04 1071.86 1543.96 1069.18 Q1540.9 1066.49 1540.9 1061.47 Q1540.9 1058.16 1542.8 1055.87 Q1544.7 1053.58 1548.08 1052.79 M1546.37 1045.4 Q1546.37 1048.09 1548.03 1049.59 Q1549.72 1051.1 1552.76 1051.1 Q1555.77 1051.1 1557.45 1049.59 Q1559.17 1048.09 1559.17 1045.4 Q1559.17 1042.72 1557.45 1041.22 Q1555.77 1039.71 1552.76 1039.71 Q1549.72 1039.71 1548.03 1041.22 Q1546.37 1042.72 1546.37 1045.4 Z\" fill=\"#000000\" fill-rule=\"evenodd\" fill-opacity=\"1\" /><path clip-path=\"url(#clip620)\" d=\"M 0 0 M690.238 1102.26 L699.818 1102.26 L711.945 1134.6 L724.135 1102.26 L733.716 1102.26 L733.716 1149.78 L727.445 1149.78 L727.445 1108.06 L715.191 1140.65 L708.73 1140.65 L696.476 1108.06 L696.476 1149.78 L690.238 1149.78 L690.238 1102.26 Z\" fill=\"#000000\" fill-rule=\"evenodd\" fill-opacity=\"1\" /><path clip-path=\"url(#clip620)\" d=\"M 0 0 M756.059 1131.86 Q748.961 1131.86 746.224 1133.49 Q743.487 1135.11 743.487 1139.03 Q743.487 1142.14 745.524 1143.99 Q747.593 1145.81 751.126 1145.81 Q755.996 1145.81 758.924 1142.37 Q761.884 1138.9 761.884 1133.17 L761.884 1131.86 L756.059 1131.86 M767.74 1129.45 L767.74 1149.78 L761.884 1149.78 L761.884 1144.37 Q759.879 1147.62 756.887 1149.18 Q753.895 1150.71 749.566 1150.71 Q744.092 1150.71 740.845 1147.65 Q737.63 1144.56 737.63 1139.41 Q737.63 1133.39 741.641 1130.34 Q745.683 1127.28 753.672 1127.28 L761.884 1127.28 L761.884 1126.71 Q761.884 1122.67 759.21 1120.47 Q756.568 1118.24 751.762 1118.24 Q748.707 1118.24 745.81 1118.97 Q742.914 1119.71 740.24 1121.17 L740.24 1115.76 Q743.455 1114.52 746.479 1113.91 Q749.503 1113.28 752.367 1113.28 Q760.101 1113.28 763.921 1117.29 Q767.74 1121.3 767.74 1129.45 Z\" fill=\"#000000\" fill-rule=\"evenodd\" fill-opacity=\"1\" /><path clip-path=\"url(#clip620)\" d=\"M 0 0 M799.537 1115.5 L799.537 1120.98 Q797.054 1119.61 794.54 1118.94 Q792.057 1118.24 789.511 1118.24 Q783.814 1118.24 780.663 1121.87 Q777.512 1125.47 777.512 1131.99 Q777.512 1138.52 780.663 1142.14 Q783.814 1145.74 789.511 1145.74 Q792.057 1145.74 794.54 1145.07 Q797.054 1144.37 799.537 1143 L799.537 1148.42 Q797.086 1149.56 794.444 1150.13 Q791.834 1150.71 788.874 1150.71 Q780.822 1150.71 776.079 1145.65 Q771.337 1140.59 771.337 1131.99 Q771.337 1123.27 776.111 1118.27 Q780.917 1113.28 789.256 1113.28 Q791.962 1113.28 794.54 1113.85 Q797.118 1114.39 799.537 1115.5 Z\" fill=\"#000000\" fill-rule=\"evenodd\" fill-opacity=\"1\" /><path clip-path=\"url(#clip620)\" d=\"M 0 0 M835.312 1128.27 L835.312 1149.78 L829.456 1149.78 L829.456 1128.46 Q829.456 1123.4 827.482 1120.88 Q825.509 1118.37 821.562 1118.37 Q816.82 1118.37 814.083 1121.39 Q811.345 1124.42 811.345 1129.64 L811.345 1149.78 L805.457 1149.78 L805.457 1100.26 L811.345 1100.26 L811.345 1119.67 Q813.446 1116.46 816.279 1114.87 Q819.143 1113.28 822.867 1113.28 Q829.01 1113.28 832.161 1117.1 Q835.312 1120.88 835.312 1128.27 Z\" fill=\"#000000\" fill-rule=\"evenodd\" fill-opacity=\"1\" /><path clip-path=\"url(#clip620)\" d=\"M 0 0 M891.808 1128.27 L891.808 1149.78 L885.951 1149.78 L885.951 1128.46 Q885.951 1123.4 883.978 1120.88 Q882.005 1118.37 878.058 1118.37 Q873.316 1118.37 870.578 1121.39 Q867.841 1124.42 867.841 1129.64 L867.841 1149.78 L861.953 1149.78 L861.953 1114.14 L867.841 1114.14 L867.841 1119.67 Q869.942 1116.46 872.774 1114.87 Q875.639 1113.28 879.363 1113.28 Q885.506 1113.28 888.657 1117.1 Q891.808 1120.88 891.808 1128.27 Z\" fill=\"#000000\" fill-rule=\"evenodd\" fill-opacity=\"1\" /><path clip-path=\"url(#clip620)\" d=\"M 0 0 M897.346 1135.72 L897.346 1114.14 L903.203 1114.14 L903.203 1135.49 Q903.203 1140.55 905.176 1143.1 Q907.149 1145.61 911.096 1145.61 Q915.838 1145.61 918.576 1142.59 Q921.345 1139.57 921.345 1134.35 L921.345 1114.14 L927.201 1114.14 L927.201 1149.78 L921.345 1149.78 L921.345 1144.31 Q919.212 1147.56 916.38 1149.15 Q913.579 1150.71 909.855 1150.71 Q903.712 1150.71 900.529 1146.89 Q897.346 1143.07 897.346 1135.72 M912.083 1113.28 L912.083 1113.28 Z\" fill=\"#000000\" fill-rule=\"evenodd\" fill-opacity=\"1\" /><path clip-path=\"url(#clip620)\" d=\"M 0 0 M961.099 1120.98 Q963.295 1117.03 966.35 1115.15 Q969.406 1113.28 973.544 1113.28 Q979.114 1113.28 982.137 1117.19 Q985.161 1121.07 985.161 1128.27 L985.161 1149.78 L979.273 1149.78 L979.273 1128.46 Q979.273 1123.33 977.458 1120.85 Q975.644 1118.37 971.92 1118.37 Q967.369 1118.37 964.727 1121.39 Q962.085 1124.42 962.085 1129.64 L962.085 1149.78 L956.197 1149.78 L956.197 1128.46 Q956.197 1123.3 954.383 1120.85 Q952.569 1118.37 948.781 1118.37 Q944.293 1118.37 941.651 1121.42 Q939.01 1124.45 939.01 1129.64 L939.01 1149.78 L933.121 1149.78 L933.121 1114.14 L939.01 1114.14 L939.01 1119.67 Q941.015 1116.4 943.816 1114.84 Q946.617 1113.28 950.468 1113.28 Q954.351 1113.28 957.056 1115.25 Q959.794 1117.22 961.099 1120.98 Z\" fill=\"#000000\" fill-rule=\"evenodd\" fill-opacity=\"1\" /><path clip-path=\"url(#clip620)\" d=\"M 0 0 M1016.89 1131.99 Q1016.89 1125.53 1014.22 1121.87 Q1011.58 1118.18 1006.93 1118.18 Q1002.28 1118.18 999.611 1121.87 Q996.969 1125.53 996.969 1131.99 Q996.969 1138.45 999.611 1142.14 Q1002.28 1145.81 1006.93 1145.81 Q1011.58 1145.81 1014.22 1142.14 Q1016.89 1138.45 1016.89 1131.99 M996.969 1119.55 Q998.815 1116.36 1001.62 1114.84 Q1004.45 1113.28 1008.36 1113.28 Q1014.86 1113.28 1018.9 1118.43 Q1022.97 1123.59 1022.97 1131.99 Q1022.97 1140.39 1018.9 1145.55 Q1014.86 1150.71 1008.36 1150.71 Q1004.45 1150.71 1001.62 1149.18 Q998.815 1147.62 996.969 1144.44 L996.969 1149.78 L991.081 1149.78 L991.081 1100.26 L996.969 1100.26 L996.969 1119.55 Z\" fill=\"#000000\" fill-rule=\"evenodd\" fill-opacity=\"1\" /><path clip-path=\"url(#clip620)\" d=\"M 0 0 M1059.61 1130.5 L1059.61 1133.36 L1032.68 1133.36 Q1033.06 1139.41 1036.31 1142.59 Q1039.59 1145.74 1045.41 1145.74 Q1048.79 1145.74 1051.94 1144.91 Q1055.12 1144.09 1058.24 1142.43 L1058.24 1147.97 Q1055.09 1149.31 1051.78 1150.01 Q1048.47 1150.71 1045.06 1150.71 Q1036.53 1150.71 1031.54 1145.74 Q1026.57 1140.78 1026.57 1132.31 Q1026.57 1123.56 1031.28 1118.43 Q1036.02 1113.28 1044.04 1113.28 Q1051.24 1113.28 1055.41 1117.92 Q1059.61 1122.54 1059.61 1130.5 M1053.75 1128.78 Q1053.69 1123.97 1051.05 1121.11 Q1048.44 1118.24 1044.11 1118.24 Q1039.21 1118.24 1036.25 1121.01 Q1033.32 1123.78 1032.87 1128.81 L1053.75 1128.78 Z\" fill=\"#000000\" fill-rule=\"evenodd\" fill-opacity=\"1\" /><path clip-path=\"url(#clip620)\" d=\"M 0 0 M1086.41 1119.61 Q1085.42 1119.04 1084.24 1118.78 Q1083.1 1118.5 1081.7 1118.5 Q1076.73 1118.5 1074.06 1121.74 Q1071.42 1124.96 1071.42 1131.01 L1071.42 1149.78 L1065.53 1149.78 L1065.53 1114.14 L1071.42 1114.14 L1071.42 1119.67 Q1073.26 1116.43 1076.22 1114.87 Q1079.18 1113.28 1083.42 1113.28 Q1084.02 1113.28 1084.75 1113.37 Q1085.48 1113.44 1086.38 1113.59 L1086.41 1119.61 Z\" fill=\"#000000\" fill-rule=\"evenodd\" fill-opacity=\"1\" /><polyline clip-path=\"url(#clip620)\" style=\"stroke:#000000; stroke-width:4; stroke-opacity:1; fill:none\" points=\"\n",
       "  223.889,1016.92 223.889,47.2441 \n",
       "  \"/>\n",
       "<polyline clip-path=\"url(#clip620)\" style=\"stroke:#000000; stroke-width:4; stroke-opacity:1; fill:none\" points=\"\n",
       "  223.889,1016.92 239.836,1016.92 \n",
       "  \"/>\n",
       "<polyline clip-path=\"url(#clip620)\" style=\"stroke:#000000; stroke-width:4; stroke-opacity:1; fill:none\" points=\"\n",
       "  223.889,774.501 239.836,774.501 \n",
       "  \"/>\n",
       "<polyline clip-path=\"url(#clip620)\" style=\"stroke:#000000; stroke-width:4; stroke-opacity:1; fill:none\" points=\"\n",
       "  223.889,532.082 239.836,532.082 \n",
       "  \"/>\n",
       "<polyline clip-path=\"url(#clip620)\" style=\"stroke:#000000; stroke-width:4; stroke-opacity:1; fill:none\" points=\"\n",
       "  223.889,289.663 239.836,289.663 \n",
       "  \"/>\n",
       "<polyline clip-path=\"url(#clip620)\" style=\"stroke:#000000; stroke-width:4; stroke-opacity:1; fill:none\" points=\"\n",
       "  223.889,47.2441 239.836,47.2441 \n",
       "  \"/>\n",
       "<path clip-path=\"url(#clip620)\" d=\"M 0 0 M150.978 1002.72 Q147.367 1002.72 145.538 1006.28 Q143.732 1009.82 143.732 1016.95 Q143.732 1024.06 145.538 1027.63 Q147.367 1031.17 150.978 1031.17 Q154.612 1031.17 156.417 1027.63 Q158.246 1024.06 158.246 1016.95 Q158.246 1009.82 156.417 1006.28 Q154.612 1002.72 150.978 1002.72 M150.978 999.015 Q156.788 999.015 159.843 1003.62 Q162.922 1008.2 162.922 1016.95 Q162.922 1025.68 159.843 1030.29 Q156.788 1034.87 150.978 1034.87 Q145.168 1034.87 142.089 1030.29 Q139.033 1025.68 139.033 1016.95 Q139.033 1008.2 142.089 1003.62 Q145.168 999.015 150.978 999.015 Z\" fill=\"#000000\" fill-rule=\"evenodd\" fill-opacity=\"1\" /><path clip-path=\"url(#clip620)\" d=\"M 0 0 M167.991 1028.32 L172.876 1028.32 L172.876 1034.2 L167.991 1034.2 L167.991 1028.32 Z\" fill=\"#000000\" fill-rule=\"evenodd\" fill-opacity=\"1\" /><path clip-path=\"url(#clip620)\" d=\"M 0 0 M187.945 1002.72 Q184.334 1002.72 182.505 1006.28 Q180.7 1009.82 180.7 1016.95 Q180.7 1024.06 182.505 1027.63 Q184.334 1031.17 187.945 1031.17 Q191.579 1031.17 193.385 1027.63 Q195.214 1024.06 195.214 1016.95 Q195.214 1009.82 193.385 1006.28 Q191.579 1002.72 187.945 1002.72 M187.945 999.015 Q193.755 999.015 196.811 1003.62 Q199.889 1008.2 199.889 1016.95 Q199.889 1025.68 196.811 1030.29 Q193.755 1034.87 187.945 1034.87 Q182.135 1034.87 179.056 1030.29 Q176.001 1025.68 176.001 1016.95 Q176.001 1008.2 179.056 1003.62 Q182.135 999.015 187.945 999.015 Z\" fill=\"#000000\" fill-rule=\"evenodd\" fill-opacity=\"1\" /><path clip-path=\"url(#clip620)\" d=\"M 0 0 M151.973 760.3 Q148.362 760.3 146.533 763.864 Q144.728 767.406 144.728 774.536 Q144.728 781.642 146.533 785.207 Q148.362 788.749 151.973 788.749 Q155.607 788.749 157.413 785.207 Q159.242 781.642 159.242 774.536 Q159.242 767.406 157.413 763.864 Q155.607 760.3 151.973 760.3 M151.973 756.596 Q157.783 756.596 160.839 761.202 Q163.917 765.786 163.917 774.536 Q163.917 783.262 160.839 787.869 Q157.783 792.452 151.973 792.452 Q146.163 792.452 143.084 787.869 Q140.029 783.262 140.029 774.536 Q140.029 765.786 143.084 761.202 Q146.163 756.596 151.973 756.596 Z\" fill=\"#000000\" fill-rule=\"evenodd\" fill-opacity=\"1\" /><path clip-path=\"url(#clip620)\" d=\"M 0 0 M168.987 785.901 L173.871 785.901 L173.871 791.781 L168.987 791.781 L168.987 785.901 Z\" fill=\"#000000\" fill-rule=\"evenodd\" fill-opacity=\"1\" /><path clip-path=\"url(#clip620)\" d=\"M 0 0 M178.987 757.221 L197.343 757.221 L197.343 761.156 L183.269 761.156 L183.269 769.628 Q184.288 769.281 185.306 769.119 Q186.325 768.934 187.343 768.934 Q193.13 768.934 196.51 772.105 Q199.889 775.276 199.889 780.693 Q199.889 786.272 196.417 789.374 Q192.945 792.452 186.626 792.452 Q184.45 792.452 182.181 792.082 Q179.936 791.711 177.528 790.971 L177.528 786.272 Q179.612 787.406 181.834 787.961 Q184.056 788.517 186.533 788.517 Q190.538 788.517 192.876 786.411 Q195.214 784.304 195.214 780.693 Q195.214 777.082 192.876 774.975 Q190.538 772.869 186.533 772.869 Q184.658 772.869 182.783 773.286 Q180.931 773.702 178.987 774.582 L178.987 757.221 Z\" fill=\"#000000\" fill-rule=\"evenodd\" fill-opacity=\"1\" /><path clip-path=\"url(#clip620)\" d=\"M 0 0 M143.015 545.427 L150.654 545.427 L150.654 519.061 L142.343 520.728 L142.343 516.469 L150.607 514.802 L155.283 514.802 L155.283 545.427 L162.922 545.427 L162.922 549.362 L143.015 549.362 L143.015 545.427 Z\" fill=\"#000000\" fill-rule=\"evenodd\" fill-opacity=\"1\" /><path clip-path=\"url(#clip620)\" d=\"M 0 0 M167.991 543.482 L172.876 543.482 L172.876 549.362 L167.991 549.362 L167.991 543.482 Z\" fill=\"#000000\" fill-rule=\"evenodd\" fill-opacity=\"1\" /><path clip-path=\"url(#clip620)\" d=\"M 0 0 M187.945 517.881 Q184.334 517.881 182.505 521.445 Q180.7 524.987 180.7 532.117 Q180.7 539.223 182.505 542.788 Q184.334 546.33 187.945 546.33 Q191.579 546.33 193.385 542.788 Q195.214 539.223 195.214 532.117 Q195.214 524.987 193.385 521.445 Q191.579 517.881 187.945 517.881 M187.945 514.177 Q193.755 514.177 196.811 518.783 Q199.889 523.367 199.889 532.117 Q199.889 540.843 196.811 545.45 Q193.755 550.033 187.945 550.033 Q182.135 550.033 179.056 545.45 Q176.001 540.843 176.001 532.117 Q176.001 523.367 179.056 518.783 Q182.135 514.177 187.945 514.177 Z\" fill=\"#000000\" fill-rule=\"evenodd\" fill-opacity=\"1\" /><path clip-path=\"url(#clip620)\" d=\"M 0 0 M144.01 303.008 L151.649 303.008 L151.649 276.642 L143.339 278.309 L143.339 274.05 L151.603 272.383 L156.279 272.383 L156.279 303.008 L163.917 303.008 L163.917 306.943 L144.01 306.943 L144.01 303.008 Z\" fill=\"#000000\" fill-rule=\"evenodd\" fill-opacity=\"1\" /><path clip-path=\"url(#clip620)\" d=\"M 0 0 M168.987 301.063 L173.871 301.063 L173.871 306.943 L168.987 306.943 L168.987 301.063 Z\" fill=\"#000000\" fill-rule=\"evenodd\" fill-opacity=\"1\" /><path clip-path=\"url(#clip620)\" d=\"M 0 0 M178.987 272.383 L197.343 272.383 L197.343 276.318 L183.269 276.318 L183.269 284.79 Q184.288 284.443 185.306 284.281 Q186.325 284.096 187.343 284.096 Q193.13 284.096 196.51 287.267 Q199.889 290.438 199.889 295.855 Q199.889 301.434 196.417 304.536 Q192.945 307.614 186.626 307.614 Q184.45 307.614 182.181 307.244 Q179.936 306.874 177.528 306.133 L177.528 301.434 Q179.612 302.568 181.834 303.124 Q184.056 303.679 186.533 303.679 Q190.538 303.679 192.876 301.573 Q195.214 299.466 195.214 295.855 Q195.214 292.244 192.876 290.138 Q190.538 288.031 186.533 288.031 Q184.658 288.031 182.783 288.448 Q180.931 288.864 178.987 289.744 L178.987 272.383 Z\" fill=\"#000000\" fill-rule=\"evenodd\" fill-opacity=\"1\" /><path clip-path=\"url(#clip620)\" d=\"M 0 0 M146.603 60.5889 L162.922 60.5889 L162.922 64.5241 L140.978 64.5241 L140.978 60.5889 Q143.64 57.8343 148.223 53.2047 Q152.83 48.552 154.01 47.2094 Q156.255 44.6862 157.135 42.9501 Q158.038 41.1909 158.038 39.5011 Q158.038 36.7465 156.093 35.0104 Q154.172 33.2743 151.07 33.2743 Q148.871 33.2743 146.418 34.0381 Q143.987 34.802 141.209 36.3529 L141.209 31.6308 Q144.033 30.4965 146.487 29.9178 Q148.941 29.3391 150.978 29.3391 Q156.348 29.3391 159.542 32.0243 Q162.737 34.7094 162.737 39.2002 Q162.737 41.3298 161.927 43.2511 Q161.14 45.1492 159.033 47.7418 Q158.455 48.4131 155.353 51.6306 Q152.251 54.8251 146.603 60.5889 Z\" fill=\"#000000\" fill-rule=\"evenodd\" fill-opacity=\"1\" /><path clip-path=\"url(#clip620)\" d=\"M 0 0 M167.991 58.6445 L172.876 58.6445 L172.876 64.5241 L167.991 64.5241 L167.991 58.6445 Z\" fill=\"#000000\" fill-rule=\"evenodd\" fill-opacity=\"1\" /><path clip-path=\"url(#clip620)\" d=\"M 0 0 M187.945 33.0428 Q184.334 33.0428 182.505 36.6076 Q180.7 40.1492 180.7 47.2788 Q180.7 54.3853 182.505 57.9501 Q184.334 61.4917 187.945 61.4917 Q191.579 61.4917 193.385 57.9501 Q195.214 54.3853 195.214 47.2788 Q195.214 40.1492 193.385 36.6076 Q191.579 33.0428 187.945 33.0428 M187.945 29.3391 Q193.755 29.3391 196.811 33.9456 Q199.889 38.5289 199.889 47.2788 Q199.889 56.0056 196.811 60.6121 Q193.755 65.1954 187.945 65.1954 Q182.135 65.1954 179.056 60.6121 Q176.001 56.0056 176.001 47.2788 Q176.001 38.5289 179.056 33.9456 Q182.135 29.3391 187.945 29.3391 Z\" fill=\"#000000\" fill-rule=\"evenodd\" fill-opacity=\"1\" /><path clip-path=\"url(#clip620)\" d=\"M 0 0 M60.9296 595.935 Q61.5416 595.935 62.0568 596.064 L73.5221 597.867 Q74.3917 597.964 74.7138 598.157 Q75.0358 598.318 75.0358 598.834 Q75.0358 599.639 74.1985 599.639 Q73.7154 599.639 72.9424 599.446 Q69.3032 598.898 67.6607 598.898 Q66.5657 598.898 65.7605 599.123 Q64.9232 599.317 64.3435 599.639 Q63.7638 599.929 63.3773 600.605 Q62.9908 601.281 62.7654 601.925 Q62.5399 602.569 62.4433 603.729 Q62.3145 604.888 62.2823 605.887 Q62.2501 606.885 62.2501 608.528 Q62.2501 612.102 62.3789 612.682 Q62.5399 613.294 63.023 613.616 Q63.4739 613.906 64.8266 614.228 L99.8343 622.988 L101.219 623.246 Q101.992 623.246 102.25 622.763 Q102.507 622.279 102.668 620.798 Q102.829 618.672 102.829 616.579 Q102.829 616.515 102.829 616.386 Q102.829 615.677 102.862 615.387 Q102.862 615.098 102.926 614.808 Q102.99 614.518 103.152 614.453 Q103.28 614.357 103.538 614.357 Q104.15 614.357 104.472 614.614 Q104.762 614.872 104.826 615.13 Q104.858 615.355 104.858 615.806 Q104.858 616.708 104.794 618.64 Q104.73 620.573 104.73 621.539 L104.665 627.014 L104.73 632.618 Q104.73 633.487 104.794 635.323 Q104.858 637.159 104.858 638.028 Q104.858 639.155 104.053 639.155 Q103.152 639.155 102.99 638.737 Q102.829 638.286 102.829 636.386 Q102.829 633.713 102.701 632.263 Q102.572 630.814 102.121 630.041 Q101.67 629.236 101.219 629.01 Q100.736 628.785 99.6411 628.527 L64.4401 619.671 Q63.6671 619.413 63.0552 619.413 Q62.7332 619.413 62.6043 619.51 Q62.4755 619.574 62.3789 619.993 Q62.2501 620.412 62.2501 621.281 L62.2501 623.858 Q62.2501 626.498 62.3789 628.141 Q62.4755 629.751 62.9586 631.297 Q63.4417 632.811 64.118 633.713 Q64.7943 634.582 66.1792 635.548 Q67.564 636.514 69.2388 637.223 Q70.9135 637.899 73.651 638.865 Q74.5527 639.188 74.8104 639.381 Q75.0358 639.542 75.0358 639.993 Q75.0358 640.315 74.8426 640.572 Q74.6171 640.798 74.3273 640.798 Q73.2645 640.476 73.1357 640.411 L61.5093 636.45 Q60.5754 636.128 60.4143 635.838 Q60.2211 635.516 60.2211 634.324 L60.2211 597.739 Q60.2211 597.159 60.2211 596.966 Q60.2211 596.772 60.2855 596.45 Q60.3499 596.128 60.511 596.032 Q60.672 595.935 60.9296 595.935 Z\" fill=\"#000000\" fill-rule=\"evenodd\" fill-opacity=\"1\" /><path clip-path=\"url(#clip620)\" d=\"M 0 0 M108.366 589.32 Q101.581 589.32 97.8834 587.607 Q92.3827 585.217 92.3827 579.581 Q92.3827 578.386 92.7208 577.147 Q93.0364 575.884 94.2764 574.306 Q95.5163 572.705 97.5453 571.736 Q101.468 569.887 108.366 569.887 Q115.107 569.887 118.782 571.601 Q124.147 574.103 124.147 579.626 Q124.147 581.7 123.088 583.82 Q122.028 585.916 119.481 587.246 Q115.671 589.32 108.366 589.32 M107.803 585.488 Q114.769 585.488 117.542 584.992 Q120.54 584.428 121.848 582.895 Q123.133 581.34 123.133 579.626 Q123.133 577.778 121.758 576.245 Q120.36 574.689 117.362 574.216 Q114.408 573.697 107.803 573.72 Q101.378 573.72 98.8077 574.171 Q95.8094 574.779 94.6145 576.403 Q93.3971 578.003 93.3971 579.626 Q93.3971 580.235 93.5775 580.889 Q93.7578 581.52 94.2764 582.444 Q94.7949 583.369 96.0799 584.09 Q97.3649 584.789 99.3037 585.127 Q101.806 585.488 107.803 585.488 Z\" fill=\"#000000\" fill-rule=\"evenodd\" fill-opacity=\"1\" /><path clip-path=\"url(#clip620)\" d=\"M 0 0 M120.414 563.038 Q120.092 563.038 119.383 562.78 L57.1616 539.495 Q57.0971 539.495 56.7429 539.334 Q56.3886 539.173 56.1632 539.076 Q55.9055 538.98 55.7123 538.787 Q55.5191 538.561 55.5191 538.304 Q55.5191 537.659 56.3242 537.659 Q56.3886 537.659 57.1616 537.853 L119.448 561.202 Q120.575 561.588 120.897 561.846 Q121.219 562.071 121.219 562.458 Q121.219 563.038 120.414 563.038 Z\" fill=\"#000000\" fill-rule=\"evenodd\" fill-opacity=\"1\" /><path clip-path=\"url(#clip620)\" d=\"M 0 0 M60.9296 485.508 Q61.5416 485.508 62.0568 485.637 L73.5221 487.441 Q74.3917 487.537 74.7138 487.73 Q75.0358 487.891 75.0358 488.407 Q75.0358 489.212 74.1985 489.212 Q73.7154 489.212 72.9424 489.019 Q69.3032 488.471 67.6607 488.471 Q66.5657 488.471 65.7605 488.697 Q64.9232 488.89 64.3435 489.212 Q63.7638 489.502 63.3773 490.178 Q62.9908 490.854 62.7654 491.498 Q62.5399 492.143 62.4433 493.302 Q62.3145 494.461 62.2823 495.46 Q62.2501 496.458 62.2501 498.101 Q62.2501 501.676 62.3789 502.255 Q62.5399 502.867 63.023 503.189 Q63.4739 503.479 64.8266 503.801 L99.8343 512.561 L101.219 512.819 Q101.992 512.819 102.25 512.336 Q102.507 511.853 102.668 510.371 Q102.829 508.246 102.829 506.152 Q102.829 506.088 102.829 505.959 Q102.829 505.25 102.862 504.961 Q102.862 504.671 102.926 504.381 Q102.99 504.091 103.152 504.027 Q103.28 503.93 103.538 503.93 Q104.15 503.93 104.472 504.188 Q104.762 504.445 104.826 504.703 Q104.858 504.928 104.858 505.379 Q104.858 506.281 104.794 508.213 Q104.73 510.146 104.73 511.112 L104.665 516.587 L104.73 522.191 Q104.73 523.06 104.794 524.896 Q104.858 526.732 104.858 527.601 Q104.858 528.728 104.053 528.728 Q103.152 528.728 102.99 528.31 Q102.829 527.859 102.829 525.959 Q102.829 523.286 102.701 521.836 Q102.572 520.387 102.121 519.614 Q101.67 518.809 101.219 518.584 Q100.736 518.358 99.6411 518.101 L64.4401 509.244 Q63.6671 508.986 63.0552 508.986 Q62.7332 508.986 62.6043 509.083 Q62.4755 509.147 62.3789 509.566 Q62.2501 509.985 62.2501 510.854 L62.2501 513.431 Q62.2501 516.072 62.3789 517.714 Q62.4755 519.324 62.9586 520.87 Q63.4417 522.384 64.118 523.286 Q64.7943 524.155 66.1792 525.121 Q67.564 526.088 69.2388 526.796 Q70.9135 527.472 73.651 528.439 Q74.5527 528.761 74.8104 528.954 Q75.0358 529.115 75.0358 529.566 Q75.0358 529.888 74.8426 530.146 Q74.6171 530.371 74.3273 530.371 Q73.2645 530.049 73.1357 529.984 L61.5093 526.023 Q60.5754 525.701 60.4143 525.411 Q60.2211 525.089 60.2211 523.898 L60.2211 487.312 Q60.2211 486.732 60.2211 486.539 Q60.2211 486.346 60.2855 486.023 Q60.3499 485.701 60.511 485.605 Q60.672 485.508 60.9296 485.508 Z\" fill=\"#000000\" fill-rule=\"evenodd\" fill-opacity=\"1\" /><path clip-path=\"url(#clip620)\" d=\"M 0 0 M108.366 478.893 Q101.581 478.893 97.8834 477.18 Q92.3827 474.79 92.3827 469.154 Q92.3827 467.96 92.7208 466.72 Q93.0364 465.457 94.2764 463.879 Q95.5163 462.278 97.5453 461.309 Q101.468 459.46 108.366 459.46 Q115.107 459.46 118.782 461.174 Q124.147 463.676 124.147 469.199 Q124.147 471.274 123.088 473.393 Q122.028 475.489 119.481 476.819 Q115.671 478.893 108.366 478.893 M107.803 475.061 Q114.769 475.061 117.542 474.565 Q120.54 474.001 121.848 472.468 Q123.133 470.913 123.133 469.199 Q123.133 467.351 121.758 465.818 Q120.36 464.262 117.362 463.789 Q114.408 463.27 107.803 463.293 Q101.378 463.293 98.8077 463.744 Q95.8094 464.353 94.6145 465.976 Q93.3971 467.576 93.3971 469.199 Q93.3971 469.808 93.5775 470.462 Q93.7578 471.093 94.2764 472.018 Q94.7949 472.942 96.0799 473.663 Q97.3649 474.362 99.3037 474.7 Q101.806 475.061 107.803 475.061 Z\" fill=\"#000000\" fill-rule=\"evenodd\" fill-opacity=\"1\" /><path clip-path=\"url(#clip620)\" d=\"M 0 0 M47.0242 466.083 Q46.2352 466.083 45.7166 465.024 L42.6732 458.598 L39.6297 465.114 Q39.1789 466.083 38.3898 466.083 Q37.9389 466.083 37.5331 465.722 Q37.1048 465.339 37.1048 464.843 Q37.1048 464.482 37.6008 463.829 L41.7489 458.103 Q34.129 458.801 33.9035 458.779 Q33.4527 458.779 33.1145 458.441 Q32.7538 458.103 32.7538 457.539 Q32.7538 457.088 33.0919 456.727 Q33.4076 456.344 33.9035 456.344 L41.7489 457.02 L37.9615 451.903 Q37.0823 450.708 37.1048 450.28 Q37.1048 449.761 37.5106 449.4 Q37.9164 449.04 38.3898 449.04 Q39.1789 449.04 39.6748 450.099 L42.7183 456.524 L45.7843 450.009 Q46.2352 449.04 47.0242 449.04 Q47.4751 449.04 47.9034 449.423 Q48.3092 449.784 48.3092 450.28 Q48.3092 450.55 48.0387 451.024 Q47.9936 451.114 47.2722 452.083 Q46.5508 453.053 45.4461 454.563 Q44.3415 456.051 43.6426 457.02 Q51.2625 456.322 51.4879 456.344 Q51.9388 456.344 52.2995 456.682 Q52.6602 457.02 52.6602 457.584 Q52.6602 458.035 52.3446 458.418 Q52.0064 458.779 51.4879 458.779 L43.6426 458.103 L48.3092 464.55 Q48.3092 465.249 47.9711 465.632 Q47.6103 465.993 47.4075 466.038 Q47.2046 466.083 47.0242 466.083 Z\" fill=\"#000000\" fill-rule=\"evenodd\" fill-opacity=\"1\" /><polyline clip-path=\"url(#clip622)\" style=\"stroke:#009af9; stroke-width:4; stroke-opacity:1; fill:none\" points=\"\n",
       "  224.056,1016.92 225.716,1016.64 227.377,1015.89 229.038,1014.69 230.699,1013.03 232.36,1010.91 234.021,1008.35 235.682,1005.34 237.343,1001.91 239.003,998.061 \n",
       "  240.664,993.802 242.325,989.149 243.986,984.114 245.647,978.713 247.308,972.96 248.969,966.873 250.63,960.469 252.29,953.764 253.951,946.777 255.612,939.528 \n",
       "  257.273,932.033 258.934,924.314 260.595,916.389 262.256,908.278 263.917,899.999 265.577,891.573 267.238,883.019 268.899,874.355 270.56,865.601 272.221,856.774 \n",
       "  273.882,847.892 275.543,838.973 277.204,830.034 278.864,821.091 280.525,812.16 282.186,803.255 283.847,794.392 285.508,785.584 287.169,776.844 288.83,768.185 \n",
       "  290.491,759.618 292.151,751.153 293.812,742.802 295.473,734.574 297.134,726.477 298.795,718.52 300.456,710.709 302.117,703.052 303.778,695.555 305.438,688.222 \n",
       "  307.099,681.059 308.76,674.07 310.421,667.257 312.082,660.625 313.743,654.176 315.404,647.911 317.065,641.832 318.725,635.94 320.386,630.236 322.047,624.719 \n",
       "  323.708,619.39 325.369,614.248 327.03,609.291 328.691,604.52 330.352,599.931 332.012,595.524 333.673,591.296 335.334,587.245 336.995,583.369 338.656,579.664 \n",
       "  340.317,576.129 341.978,572.761 343.639,569.555 345.299,566.509 346.96,563.62 348.621,560.885 350.282,558.299 351.943,555.86 353.604,553.563 355.265,551.406 \n",
       "  356.926,549.385 358.586,547.496 360.247,545.735 361.908,544.1 363.569,542.586 365.23,541.189 366.891,539.907 368.552,538.736 370.213,537.672 371.873,536.712 \n",
       "  373.534,535.853 375.195,535.091 376.856,534.423 378.517,533.845 380.178,533.355 381.839,532.949 383.5,532.625 385.16,532.379 386.821,532.208 388.482,532.11 \n",
       "  390.143,532.082 391.804,532.121 393.465,532.225 395.126,532.39 396.787,532.615 398.447,532.896 400.108,533.232 401.769,533.62 403.43,534.058 405.091,534.544 \n",
       "  406.752,535.076 408.413,535.651 410.074,536.267 411.734,536.924 413.395,537.618 415.056,538.348 416.717,539.112 418.378,539.908 420.039,540.736 421.7,541.593 \n",
       "  423.361,542.477 425.021,543.388 426.682,544.324 428.343,545.283 430.004,546.264 431.665,547.266 433.326,548.288 434.987,549.328 436.648,550.385 438.309,551.459 \n",
       "  439.969,552.547 441.63,553.65 443.291,554.766 444.952,555.894 446.613,557.033 448.274,558.182 449.935,559.341 451.596,560.509 453.256,561.684 454.917,562.867 \n",
       "  456.578,564.057 458.239,565.252 459.9,566.452 461.561,567.657 463.222,568.865 464.883,570.077 466.543,571.292 468.204,572.509 469.865,573.727 471.526,574.947 \n",
       "  473.187,576.168 474.848,577.389 476.509,578.61 478.17,579.83 479.83,581.05 481.491,582.268 483.152,583.485 484.813,584.7 486.474,585.912 488.135,587.122 \n",
       "  489.796,588.329 491.457,589.533 493.117,590.734 494.778,591.931 496.439,593.125 498.1,594.314 499.761,595.499 501.422,596.679 503.083,597.855 504.744,599.026 \n",
       "  506.404,600.192 508.065,601.353 509.726,602.508 511.387,603.658 513.048,604.803 514.709,605.941 516.37,607.074 518.031,608.201 519.691,609.322 521.352,610.437 \n",
       "  523.013,611.546 524.674,612.648 526.335,613.744 527.996,614.834 529.657,615.917 531.318,616.993 532.978,618.063 534.639,619.126 536.3,620.183 537.961,621.232 \n",
       "  539.622,622.275 541.283,623.312 542.944,624.341 544.605,625.363 546.265,626.379 547.926,627.388 549.587,628.39 551.248,629.385 552.909,630.373 554.57,631.354 \n",
       "  556.231,632.328 557.892,633.295 559.552,634.256 561.213,635.209 562.874,636.156 564.535,637.095 566.196,638.028 567.857,638.954 569.518,639.873 571.179,640.785 \n",
       "  572.839,641.691 574.5,642.59 576.161,643.482 577.822,644.367 579.483,645.246 581.144,646.117 582.805,646.983 584.466,647.841 586.126,648.693 587.787,649.539 \n",
       "  589.448,650.378 591.109,651.21 592.77,652.036 594.431,652.856 596.092,653.669 597.753,654.476 599.413,655.276 601.074,656.071 602.735,656.859 604.396,657.641 \n",
       "  606.057,658.416 607.718,659.186 609.379,659.95 611.04,660.707 612.7,661.459 614.361,662.204 616.022,662.944 617.683,663.677 619.344,664.405 621.005,665.128 \n",
       "  622.666,665.844 624.327,666.555 625.987,667.26 627.648,667.959 629.309,668.653 630.97,669.341 632.631,670.024 634.292,670.702 635.953,671.374 637.614,672.04 \n",
       "  639.274,672.702 640.935,673.358 642.596,674.008 644.257,674.654 645.918,675.294 647.579,675.93 649.24,676.56 650.901,677.185 652.561,677.806 654.222,678.421 \n",
       "  655.883,679.031 657.544,679.637 659.205,680.237 660.866,680.833 662.527,681.425 664.188,682.011 665.848,682.593 667.509,683.17 669.17,683.743 670.831,684.311 \n",
       "  672.492,684.875 674.153,685.434 675.814,685.988 677.475,686.539 679.135,687.085 680.796,687.626 682.457,688.164 684.118,688.697 685.779,689.226 687.44,689.751 \n",
       "  689.101,690.272 690.762,690.788 692.422,691.301 694.083,691.809 695.744,692.314 697.405,692.814 699.066,693.311 700.727,693.804 702.388,694.293 704.049,694.778 \n",
       "  705.709,695.26 707.37,695.737 709.031,696.211 710.692,696.682 712.353,697.148 714.014,697.611 715.675,698.071 717.336,698.527 718.996,698.979 720.657,699.428 \n",
       "  722.318,699.874 723.979,700.316 725.64,700.755 727.301,701.19 728.962,701.622 730.623,702.051 732.283,702.476 733.944,702.898 735.605,703.317 737.266,703.733 \n",
       "  738.927,704.146 740.588,704.556 742.249,704.962 743.91,705.366 745.57,705.766 747.231,706.163 748.892,706.558 750.553,706.949 752.214,707.338 753.875,707.724 \n",
       "  755.536,708.106 757.197,708.486 758.857,708.863 760.518,709.238 762.179,709.609 763.84,709.978 765.501,710.344 767.162,710.707 768.823,711.068 770.484,711.426 \n",
       "  772.144,711.781 773.805,712.134 775.466,712.484 777.127,712.832 778.788,713.177 780.449,713.52 782.11,713.86 783.771,714.197 785.431,714.533 787.092,714.865 \n",
       "  788.753,715.196 790.414,715.524 792.075,715.849 793.736,716.172 795.397,716.493 797.058,716.812 798.718,717.128 800.379,717.443 802.04,717.754 803.701,718.064 \n",
       "  805.362,718.372 807.023,718.677 808.684,718.98 810.345,719.281 812.005,719.58 813.666,719.876 815.327,720.171 816.988,720.464 818.649,720.754 820.31,721.043 \n",
       "  821.971,721.329 823.632,721.614 825.292,721.896 826.953,722.177 828.614,722.455 830.275,722.732 831.936,723.007 833.597,723.28 835.258,723.551 836.919,723.82 \n",
       "  838.579,724.087 840.24,724.352 841.901,724.616 843.562,724.878 845.223,725.138 846.884,725.396 848.545,725.653 850.206,725.907 851.866,726.161 853.527,726.412 \n",
       "  855.188,726.662 856.849,726.909 858.51,727.156 860.171,727.4 861.832,727.643 863.493,727.885 865.153,728.125 866.814,728.363 868.475,728.599 870.136,728.834 \n",
       "  871.797,729.068 873.458,729.3 875.119,729.53 876.78,729.759 878.44,729.986 880.101,730.212 881.762,730.437 883.423,730.659 885.084,730.881 886.745,731.101 \n",
       "  888.406,731.319 890.067,731.537 891.727,731.752 893.388,731.967 895.049,732.18 896.71,732.391 898.371,732.601 900.032,732.81 901.693,733.018 903.354,733.224 \n",
       "  905.014,733.429 906.675,733.632 908.336,733.835 909.997,734.036 911.658,734.235 913.319,734.434 914.98,734.631 916.641,734.827 918.301,735.022 919.962,735.215 \n",
       "  921.623,735.407 923.284,735.598 924.945,735.788 926.606,735.977 928.267,736.164 929.928,736.351 931.588,736.536 933.249,736.72 934.91,736.903 936.571,737.084 \n",
       "  938.232,737.265 939.893,737.444 941.554,737.623 943.215,737.8 944.876,737.976 946.536,738.151 948.197,738.325 949.858,738.498 951.519,738.67 953.18,738.841 \n",
       "  954.841,739.011 956.502,739.18 958.163,739.348 959.823,739.514 961.484,739.68 963.145,739.845 964.806,740.009 966.467,740.172 968.128,740.333 969.789,740.494 \n",
       "  971.45,740.654 973.11,740.813 974.771,740.971 976.432,741.128 978.093,741.284 979.754,741.439 981.415,741.594 983.076,741.747 984.737,741.9 986.397,742.051 \n",
       "  988.058,742.202 989.719,742.352 991.38,742.5 993.041,742.649 994.702,742.796 996.363,742.942 998.024,743.088 999.684,743.232 1001.35,743.376 1003.01,743.519 \n",
       "  1004.67,743.661 1006.33,743.802 1007.99,743.943 1009.65,744.083 1011.31,744.221 1012.97,744.36 1014.63,744.497 1016.29,744.633 1017.95,744.769 1019.61,744.904 \n",
       "  1021.28,745.038 1022.94,745.172 1024.6,745.304 1026.26,745.436 1027.92,745.568 1029.58,745.698 1031.24,745.828 1032.9,745.957 1034.56,746.085 1036.22,746.213 \n",
       "  1037.88,746.34 1039.55,746.466 1041.21,746.591 1042.87,746.716 1044.53,746.84 1046.19,746.963 1047.85,747.086 1049.51,747.208 1051.17,747.329 1052.83,747.45 \n",
       "  1054.49,747.57 1056.15,747.689 1057.82,747.808 1059.48,747.926 1061.14,748.043 1062.8,748.16 1064.46,748.276 1066.12,748.392 1067.78,748.507 1069.44,748.621 \n",
       "  1071.1,748.735 1072.76,748.848 1074.42,748.96 1076.08,749.072 1077.75,749.183 1079.41,749.294 1081.07,749.404 1082.73,749.513 1084.39,749.622 1086.05,749.73 \n",
       "  1087.71,749.838 1089.37,749.945 1091.03,750.051 1092.69,750.157 1094.35,750.263 1096.02,750.368 1097.68,750.472 1099.34,750.576 1101,750.679 1102.66,750.782 \n",
       "  1104.32,750.884 1105.98,750.985 1107.64,751.087 1109.3,751.187 1110.96,751.287 1112.62,751.387 1114.28,751.486 1115.95,751.584 1117.61,751.682 1119.27,751.78 \n",
       "  1120.93,751.877 1122.59,751.973 1124.25,752.069 1125.91,752.164 1127.57,752.259 1129.23,752.354 1130.89,752.448 1132.55,752.541 1134.22,752.635 1135.88,752.727 \n",
       "  1137.54,752.819 1139.2,752.911 1140.86,753.002 1142.52,753.093 1144.18,753.183 1145.84,753.273 1147.5,753.362 1149.16,753.451 1150.82,753.54 1152.48,753.628 \n",
       "  1154.15,753.715 1155.81,753.802 1157.47,753.889 1159.13,753.976 1160.79,754.061 1162.45,754.147 1164.11,754.232 1165.77,754.316 1167.43,754.401 1169.09,754.484 \n",
       "  1170.75,754.568 1172.42,754.651 1174.08,754.733 1175.74,754.815 1177.4,754.897 1179.06,754.978 1180.72,755.059 1182.38,755.14 1184.04,755.22 1185.7,755.3 \n",
       "  1187.36,755.379 1189.02,755.458 1190.69,755.537 1192.35,755.615 1194.01,755.693 1195.67,755.77 1197.33,755.847 1198.99,755.924 1200.65,756 1202.31,756.076 \n",
       "  1203.97,756.152 1205.63,756.227 1207.29,756.302 1208.95,756.377 1210.62,756.451 1212.28,756.525 1213.94,756.598 1215.6,756.672 1217.26,756.744 1218.92,756.817 \n",
       "  1220.58,756.889 1222.24,756.961 1223.9,757.032 1225.56,757.103 1227.22,757.174 1228.89,757.245 1230.55,757.315 1232.21,757.385 1233.87,757.454 1235.53,757.523 \n",
       "  1237.19,757.592 1238.85,757.661 1240.51,757.729 1242.17,757.797 1243.83,757.864 1245.49,757.931 1247.15,757.998 1248.82,758.065 1250.48,758.131 1252.14,758.197 \n",
       "  1253.8,758.263 1255.46,758.329 1257.12,758.394 1258.78,758.458 1260.44,758.523 1262.1,758.587 1263.76,758.651 1265.42,758.715 1267.09,758.778 1268.75,758.841 \n",
       "  1270.41,758.904 1272.07,758.967 1273.73,759.029 1275.39,759.091 1277.05,759.153 1278.71,759.214 1280.37,759.275 1282.03,759.336 1283.69,759.397 1285.35,759.457 \n",
       "  1287.02,759.517 1288.68,759.577 1290.34,759.636 1292,759.696 1293.66,759.755 1295.32,759.813 1296.98,759.872 1298.64,759.93 1300.3,759.988 1301.96,760.046 \n",
       "  1303.62,760.103 1305.29,760.16 1306.95,760.217 1308.61,760.274 1310.27,760.331 1311.93,760.387 1313.59,760.443 1315.25,760.498 1316.91,760.554 1318.57,760.609 \n",
       "  1320.23,760.664 1321.89,760.719 1323.56,760.773 1325.22,760.828 1326.88,760.882 1328.54,760.936 1330.2,760.989 1331.86,761.043 1333.52,761.096 1335.18,761.149 \n",
       "  1336.84,761.201 1338.5,761.254 1340.16,761.306 1341.82,761.358 1343.49,761.41 1345.15,761.462 1346.81,761.513 1348.47,761.564 1350.13,761.615 1351.79,761.666 \n",
       "  1353.45,761.716 1355.11,761.766 1356.77,761.817 1358.43,761.866 1360.09,761.916 1361.76,761.966 1363.42,762.015 1365.08,762.064 1366.74,762.113 1368.4,762.161 \n",
       "  1370.06,762.21 1371.72,762.258 1373.38,762.306 1375.04,762.354 1376.7,762.401 1378.36,762.449 1380.02,762.496 1381.69,762.543 1383.35,762.59 1385.01,762.637 \n",
       "  1386.67,762.683 1388.33,762.729 1389.99,762.776 1391.65,762.821 1393.31,762.867 1394.97,762.913 1396.63,762.958 1398.29,763.003 1399.96,763.048 1401.62,763.093 \n",
       "  1403.28,763.138 1404.94,763.182 1406.6,763.226 1408.26,763.27 1409.92,763.314 1411.58,763.358 1413.24,763.402 1414.9,763.445 1416.56,763.488 1418.22,763.531 \n",
       "  1419.89,763.574 1421.55,763.617 1423.21,763.659 1424.87,763.702 1426.53,763.744 1428.19,763.786 1429.85,763.828 1431.51,763.869 1433.17,763.911 1434.83,763.952 \n",
       "  1436.49,763.993 1438.16,764.034 1439.82,764.075 1441.48,764.116 1443.14,764.156 1444.8,764.197 1446.46,764.237 1448.12,764.277 1449.78,764.317 1451.44,764.357 \n",
       "  1453.1,764.396 1454.76,764.436 1456.43,764.475 1458.09,764.514 1459.75,764.553 1461.41,764.592 1463.07,764.631 1464.73,764.669 1466.39,764.708 1468.05,764.746 \n",
       "  1469.71,764.784 1471.37,764.822 1473.03,764.86 1474.69,764.897 1476.36,764.935 1478.02,764.972 1479.68,765.01 1481.34,765.047 1483,765.084 1484.66,765.12 \n",
       "  1486.32,765.157 1487.98,765.194 1489.64,765.23 1491.3,765.266 1492.96,765.302 1494.63,765.338 1496.29,765.374 1497.95,765.41 1499.61,765.445 1501.27,765.481 \n",
       "  1502.93,765.516 1504.59,765.551 1506.25,765.586 1507.91,765.621 1509.57,765.656 1511.23,765.691 1512.89,765.725 1514.56,765.759 1516.22,765.794 1517.88,765.828 \n",
       "  1519.54,765.862 1521.2,765.896 1522.86,765.93 1524.52,765.963 1526.18,765.997 1527.84,766.03 1529.5,766.063 1531.16,766.096 1532.83,766.129 1534.49,766.162 \n",
       "  1536.15,766.195 1537.81,766.228 1539.47,766.26 1541.13,766.293 1542.79,766.325 1544.45,766.357 1546.11,766.389 1547.77,766.421 1549.43,766.453 1551.1,766.485 \n",
       "  1552.76,766.516 \n",
       "  \"/>\n",
       "<polyline clip-path=\"url(#clip622)\" style=\"stroke:#e26f46; stroke-width:4; stroke-opacity:1; fill:none\" stroke-dasharray=\"16, 10\" points=\"\n",
       "  224.056,653.291 225.716,653.291 227.377,653.291 229.038,653.291 230.699,653.291 232.36,653.291 234.021,653.291 235.682,653.291 237.343,653.291 239.003,653.291 \n",
       "  240.664,653.291 242.325,653.291 243.986,653.291 245.647,653.291 247.308,653.291 248.969,653.291 250.63,653.291 252.29,653.291 253.951,653.291 255.612,653.291 \n",
       "  257.273,653.291 258.934,653.291 260.595,653.291 262.256,653.291 263.917,653.291 265.577,653.291 267.238,653.291 268.899,653.291 270.56,653.291 272.221,653.291 \n",
       "  273.882,653.291 275.543,653.291 277.204,653.291 278.864,653.291 280.525,653.291 282.186,653.291 283.847,653.291 285.508,653.291 287.169,653.291 288.83,653.291 \n",
       "  290.491,653.291 292.151,653.291 293.812,653.291 295.473,653.291 297.134,653.291 298.795,653.291 300.456,653.291 302.117,653.291 303.778,653.291 305.438,653.291 \n",
       "  307.099,653.291 308.76,653.291 310.421,653.291 312.082,653.291 313.743,653.291 315.404,653.291 317.065,653.291 318.725,653.291 320.386,653.291 322.047,653.291 \n",
       "  323.708,653.291 325.369,653.291 327.03,653.291 328.691,653.291 330.352,653.291 332.012,653.291 333.673,653.291 335.334,653.291 336.995,653.291 338.656,653.291 \n",
       "  340.317,653.291 341.978,653.291 343.639,653.291 345.299,653.291 346.96,653.291 348.621,653.291 350.282,653.291 351.943,653.291 353.604,653.291 355.265,653.291 \n",
       "  356.926,653.291 358.586,653.291 360.247,653.291 361.908,653.291 363.569,653.291 365.23,653.291 366.891,653.291 368.552,653.291 370.213,653.291 371.873,653.291 \n",
       "  373.534,653.291 375.195,653.291 376.856,653.291 378.517,653.291 380.178,653.291 381.839,653.291 383.5,653.291 385.16,653.291 386.821,653.291 388.482,653.291 \n",
       "  390.143,653.291 391.804,653.291 393.465,653.291 395.126,653.291 396.787,653.291 398.447,653.291 400.108,653.291 401.769,653.291 403.43,653.291 405.091,653.291 \n",
       "  406.752,653.291 408.413,653.291 410.074,653.291 411.734,653.291 413.395,653.291 415.056,653.291 416.717,653.291 418.378,653.291 420.039,653.291 421.7,653.291 \n",
       "  423.361,653.291 425.021,653.291 426.682,653.291 428.343,653.291 430.004,653.291 431.665,653.291 433.326,653.291 434.987,653.291 436.648,653.291 438.309,653.291 \n",
       "  439.969,653.291 441.63,653.291 443.291,653.291 444.952,653.291 446.613,653.291 448.274,653.291 449.935,653.291 451.596,653.291 453.256,653.291 454.917,653.291 \n",
       "  456.578,653.291 458.239,653.291 459.9,653.291 461.561,653.291 463.222,653.291 464.883,653.291 466.543,653.291 468.204,653.291 469.865,653.291 471.526,653.291 \n",
       "  473.187,653.291 474.848,653.291 476.509,653.291 478.17,653.291 479.83,653.291 481.491,653.291 483.152,653.291 484.813,653.291 486.474,653.291 488.135,653.291 \n",
       "  489.796,653.291 491.457,653.291 493.117,653.291 494.778,653.291 496.439,653.291 498.1,653.291 499.761,653.291 501.422,653.291 503.083,653.291 504.744,653.291 \n",
       "  506.404,653.291 508.065,653.291 509.726,653.291 511.387,653.291 513.048,653.291 514.709,653.291 516.37,653.291 518.031,653.291 519.691,653.291 521.352,653.291 \n",
       "  523.013,653.291 524.674,653.291 526.335,653.291 527.996,653.291 529.657,653.291 531.318,653.291 532.978,653.291 534.639,653.291 536.3,653.291 537.961,653.291 \n",
       "  539.622,653.291 541.283,653.291 542.944,653.291 544.605,653.291 546.265,653.291 547.926,653.291 549.587,653.291 551.248,653.291 552.909,653.291 554.57,653.291 \n",
       "  556.231,653.291 557.892,653.291 559.552,653.291 561.213,653.291 562.874,653.291 564.535,653.291 566.196,653.291 567.857,653.291 569.518,653.291 571.179,653.291 \n",
       "  572.839,653.291 574.5,653.291 576.161,653.291 577.822,653.291 579.483,653.291 581.144,653.291 582.805,653.291 584.466,653.291 586.126,653.291 587.787,653.291 \n",
       "  589.448,653.291 591.109,653.291 592.77,653.291 594.431,653.291 596.092,653.291 597.753,653.291 599.413,653.291 601.074,653.291 602.735,653.291 604.396,653.291 \n",
       "  606.057,653.291 607.718,653.291 609.379,653.291 611.04,653.291 612.7,653.291 614.361,653.291 616.022,653.291 617.683,653.291 619.344,653.291 621.005,653.291 \n",
       "  622.666,653.291 624.327,653.291 625.987,653.291 627.648,653.291 629.309,653.291 630.97,653.291 632.631,653.291 634.292,653.291 635.953,653.291 637.614,653.291 \n",
       "  639.274,653.291 640.935,653.291 642.596,653.291 644.257,653.291 645.918,653.291 647.579,653.291 649.24,653.291 650.901,653.291 652.561,653.291 654.222,653.291 \n",
       "  655.883,653.291 657.544,653.291 659.205,653.291 660.866,653.291 662.527,653.291 664.188,653.291 665.848,653.291 667.509,653.291 669.17,653.291 670.831,653.291 \n",
       "  672.492,653.291 674.153,653.291 675.814,653.291 677.475,653.291 679.135,653.291 680.796,653.291 682.457,653.291 684.118,653.291 685.779,653.291 687.44,653.291 \n",
       "  689.101,653.291 690.762,653.291 692.422,653.291 694.083,653.291 695.744,653.291 697.405,653.291 699.066,653.291 700.727,653.291 702.388,653.291 704.049,653.291 \n",
       "  705.709,653.291 707.37,653.291 709.031,653.291 710.692,653.291 712.353,653.291 714.014,653.291 715.675,653.291 717.336,653.291 718.996,653.291 720.657,653.291 \n",
       "  722.318,653.291 723.979,653.291 725.64,653.291 727.301,653.291 728.962,653.291 730.623,653.291 732.283,653.291 733.944,653.291 735.605,653.291 737.266,653.291 \n",
       "  738.927,653.291 740.588,653.291 742.249,653.291 743.91,653.291 745.57,653.291 747.231,653.291 748.892,653.291 750.553,653.291 752.214,653.291 753.875,653.291 \n",
       "  755.536,653.291 757.197,653.291 758.857,653.291 760.518,653.291 762.179,653.291 763.84,653.291 765.501,653.291 767.162,653.291 768.823,653.291 770.484,653.291 \n",
       "  772.144,653.291 773.805,653.291 775.466,653.291 777.127,653.291 778.788,653.291 780.449,653.291 782.11,653.291 783.771,653.291 785.431,653.291 787.092,653.291 \n",
       "  788.753,653.291 790.414,653.291 792.075,653.291 793.736,653.291 795.397,653.291 797.058,653.291 798.718,653.291 800.379,653.291 802.04,653.291 803.701,653.291 \n",
       "  805.362,653.291 807.023,653.291 808.684,653.291 810.345,653.291 812.005,653.291 813.666,653.291 815.327,653.291 816.988,653.291 818.649,653.291 820.31,653.291 \n",
       "  821.971,653.291 823.632,653.291 825.292,653.291 826.953,653.291 828.614,653.291 830.275,653.291 831.936,653.291 833.597,653.291 835.258,653.291 836.919,653.291 \n",
       "  838.579,653.291 840.24,653.291 841.901,653.291 843.562,653.291 845.223,653.291 846.884,653.291 848.545,653.291 850.206,653.291 851.866,653.291 853.527,653.291 \n",
       "  855.188,653.291 856.849,653.291 858.51,653.291 860.171,653.291 861.832,653.291 863.493,653.291 865.153,653.291 866.814,653.291 868.475,653.291 870.136,653.291 \n",
       "  871.797,653.291 873.458,653.291 875.119,653.291 876.78,653.291 878.44,653.291 880.101,653.291 881.762,653.291 883.423,653.291 885.084,653.291 886.745,653.291 \n",
       "  888.406,653.291 890.067,653.291 891.727,653.291 893.388,653.291 895.049,653.291 896.71,653.291 898.371,653.291 900.032,653.291 901.693,653.291 903.354,653.291 \n",
       "  905.014,653.291 906.675,653.291 908.336,653.291 909.997,653.291 911.658,653.291 913.319,653.291 914.98,653.291 916.641,653.291 918.301,653.291 919.962,653.291 \n",
       "  921.623,653.291 923.284,653.291 924.945,653.291 926.606,653.291 928.267,653.291 929.928,653.291 931.588,653.291 933.249,653.291 934.91,653.291 936.571,653.291 \n",
       "  938.232,653.291 939.893,653.291 941.554,653.291 943.215,653.291 944.876,653.291 946.536,653.291 948.197,653.291 949.858,653.291 951.519,653.291 953.18,653.291 \n",
       "  954.841,653.291 956.502,653.291 958.163,653.291 959.823,653.291 961.484,653.291 963.145,653.291 964.806,653.291 966.467,653.291 968.128,653.291 969.789,653.291 \n",
       "  971.45,653.291 973.11,653.291 974.771,653.291 976.432,653.291 978.093,653.291 979.754,653.291 981.415,653.291 983.076,653.291 984.737,653.291 986.397,653.291 \n",
       "  988.058,653.291 989.719,653.291 991.38,653.291 993.041,653.291 994.702,653.291 996.363,653.291 998.024,653.291 999.684,653.291 1001.35,653.291 1003.01,653.291 \n",
       "  1004.67,653.291 1006.33,653.291 1007.99,653.291 1009.65,653.291 1011.31,653.291 1012.97,653.291 1014.63,653.291 1016.29,653.291 1017.95,653.291 1019.61,653.291 \n",
       "  1021.28,653.291 1022.94,653.291 1024.6,653.291 1026.26,653.291 1027.92,653.291 1029.58,653.291 1031.24,653.291 1032.9,653.291 1034.56,653.291 1036.22,653.291 \n",
       "  1037.88,653.291 1039.55,653.291 1041.21,653.291 1042.87,653.291 1044.53,653.291 1046.19,653.291 1047.85,653.291 1049.51,653.291 1051.17,653.291 1052.83,653.291 \n",
       "  1054.49,653.291 1056.15,653.291 1057.82,653.291 1059.48,653.291 1061.14,653.291 1062.8,653.291 1064.46,653.291 1066.12,653.291 1067.78,653.291 1069.44,653.291 \n",
       "  1071.1,653.291 1072.76,653.291 1074.42,653.291 1076.08,653.291 1077.75,653.291 1079.41,653.291 1081.07,653.291 1082.73,653.291 1084.39,653.291 1086.05,653.291 \n",
       "  1087.71,653.291 1089.37,653.291 1091.03,653.291 1092.69,653.291 1094.35,653.291 1096.02,653.291 1097.68,653.291 1099.34,653.291 1101,653.291 1102.66,653.291 \n",
       "  1104.32,653.291 1105.98,653.291 1107.64,653.291 1109.3,653.291 1110.96,653.291 1112.62,653.291 1114.28,653.291 1115.95,653.291 1117.61,653.291 1119.27,653.291 \n",
       "  1120.93,653.291 1122.59,653.291 1124.25,653.291 1125.91,653.291 1127.57,653.291 1129.23,653.291 1130.89,653.291 1132.55,653.291 1134.22,653.291 1135.88,653.291 \n",
       "  1137.54,653.291 1139.2,653.291 1140.86,653.291 1142.52,653.291 1144.18,653.291 1145.84,653.291 1147.5,653.291 1149.16,653.291 1150.82,653.291 1152.48,653.291 \n",
       "  1154.15,653.291 1155.81,653.291 1157.47,653.291 1159.13,653.291 1160.79,653.291 1162.45,653.291 1164.11,653.291 1165.77,653.291 1167.43,653.291 1169.09,653.291 \n",
       "  1170.75,653.291 1172.42,653.291 1174.08,653.291 1175.74,653.291 1177.4,653.291 1179.06,653.291 1180.72,653.291 1182.38,653.291 1184.04,653.291 1185.7,653.291 \n",
       "  1187.36,653.291 1189.02,653.291 1190.69,653.291 1192.35,653.291 1194.01,653.291 1195.67,653.291 1197.33,653.291 1198.99,653.291 1200.65,653.291 1202.31,653.291 \n",
       "  1203.97,653.291 1205.63,653.291 1207.29,653.291 1208.95,653.291 1210.62,653.291 1212.28,653.291 1213.94,653.291 1215.6,653.291 1217.26,653.291 1218.92,653.291 \n",
       "  1220.58,653.291 1222.24,653.291 1223.9,653.291 1225.56,653.291 1227.22,653.291 1228.89,653.291 1230.55,653.291 1232.21,653.291 1233.87,653.291 1235.53,653.291 \n",
       "  1237.19,653.291 1238.85,653.291 1240.51,653.291 1242.17,653.291 1243.83,653.291 1245.49,653.291 1247.15,653.291 1248.82,653.291 1250.48,653.291 1252.14,653.291 \n",
       "  1253.8,653.291 1255.46,653.291 1257.12,653.291 1258.78,653.291 1260.44,653.291 1262.1,653.291 1263.76,653.291 1265.42,653.291 1267.09,653.291 1268.75,653.291 \n",
       "  1270.41,653.291 1272.07,653.291 1273.73,653.291 1275.39,653.291 1277.05,653.291 1278.71,653.291 1280.37,653.291 1282.03,653.291 1283.69,653.291 1285.35,653.291 \n",
       "  1287.02,653.291 1288.68,653.291 1290.34,653.291 1292,653.291 1293.66,653.291 1295.32,653.291 1296.98,653.291 1298.64,653.291 1300.3,653.291 1301.96,653.291 \n",
       "  1303.62,653.291 1305.29,653.291 1306.95,653.291 1308.61,653.291 1310.27,653.291 1311.93,653.291 1313.59,653.291 1315.25,653.291 1316.91,653.291 1318.57,653.291 \n",
       "  1320.23,653.291 1321.89,653.291 1323.56,653.291 1325.22,653.291 1326.88,653.291 1328.54,653.291 1330.2,653.291 1331.86,653.291 1333.52,653.291 1335.18,653.291 \n",
       "  1336.84,653.291 1338.5,653.291 1340.16,653.291 1341.82,653.291 1343.49,653.291 1345.15,653.291 1346.81,653.291 1348.47,653.291 1350.13,653.291 1351.79,653.291 \n",
       "  1353.45,653.291 1355.11,653.291 1356.77,653.291 1358.43,653.291 1360.09,653.291 1361.76,653.291 1363.42,653.291 1365.08,653.291 1366.74,653.291 1368.4,653.291 \n",
       "  1370.06,653.291 1371.72,653.291 1373.38,653.291 1375.04,653.291 1376.7,653.291 1378.36,653.291 1380.02,653.291 1381.69,653.291 1383.35,653.291 1385.01,653.291 \n",
       "  1386.67,653.291 1388.33,653.291 1389.99,653.291 1391.65,653.291 1393.31,653.291 1394.97,653.291 1396.63,653.291 1398.29,653.291 1399.96,653.291 1401.62,653.291 \n",
       "  1403.28,653.291 1404.94,653.291 1406.6,653.291 1408.26,653.291 1409.92,653.291 1411.58,653.291 1413.24,653.291 1414.9,653.291 1416.56,653.291 1418.22,653.291 \n",
       "  1419.89,653.291 1421.55,653.291 1423.21,653.291 1424.87,653.291 1426.53,653.291 1428.19,653.291 1429.85,653.291 1431.51,653.291 1433.17,653.291 1434.83,653.291 \n",
       "  1436.49,653.291 1438.16,653.291 1439.82,653.291 1441.48,653.291 1443.14,653.291 1444.8,653.291 1446.46,653.291 1448.12,653.291 1449.78,653.291 1451.44,653.291 \n",
       "  1453.1,653.291 1454.76,653.291 1456.43,653.291 1458.09,653.291 1459.75,653.291 1461.41,653.291 1463.07,653.291 1464.73,653.291 1466.39,653.291 1468.05,653.291 \n",
       "  1469.71,653.291 1471.37,653.291 1473.03,653.291 1474.69,653.291 1476.36,653.291 1478.02,653.291 1479.68,653.291 1481.34,653.291 1483,653.291 1484.66,653.291 \n",
       "  1486.32,653.291 1487.98,653.291 1489.64,653.291 1491.3,653.291 1492.96,653.291 1494.63,653.291 1496.29,653.291 1497.95,653.291 1499.61,653.291 1501.27,653.291 \n",
       "  1502.93,653.291 1504.59,653.291 1506.25,653.291 1507.91,653.291 1509.57,653.291 1511.23,653.291 1512.89,653.291 1514.56,653.291 1516.22,653.291 1517.88,653.291 \n",
       "  1519.54,653.291 1521.2,653.291 1522.86,653.291 1524.52,653.291 1526.18,653.291 1527.84,653.291 1529.5,653.291 1531.16,653.291 1532.83,653.291 1534.49,653.291 \n",
       "  1536.15,653.291 1537.81,653.291 1539.47,653.291 1541.13,653.291 1542.79,653.291 1544.45,653.291 1546.11,653.291 1547.77,653.291 1549.43,653.291 1551.1,653.291 \n",
       "  1552.76,653.291 \n",
       "  \"/>\n",
       "</svg>\n"
      ],
      "image/svg+xml": [
       "<?xml version=\"1.0\" encoding=\"utf-8\"?>\n",
       "<svg xmlns=\"http://www.w3.org/2000/svg\" xmlns:xlink=\"http://www.w3.org/1999/xlink\" width=\"400\" height=\"300\" viewBox=\"0 0 1600 1200\">\n",
       "<defs>\n",
       "  <clipPath id=\"clip590\">\n",
       "    <rect x=\"0\" y=\"0\" width=\"1600\" height=\"1200\"/>\n",
       "  </clipPath>\n",
       "</defs>\n",
       "<path clip-path=\"url(#clip590)\" d=\"\n",
       "M0 1200 L1600 1200 L1600 0 L0 0  Z\n",
       "  \" fill=\"#ffffff\" fill-rule=\"evenodd\" fill-opacity=\"1\"/>\n",
       "<defs>\n",
       "  <clipPath id=\"clip591\">\n",
       "    <rect x=\"320\" y=\"0\" width=\"1121\" height=\"1121\"/>\n",
       "  </clipPath>\n",
       "</defs>\n",
       "<defs>\n",
       "  <clipPath id=\"clip592\">\n",
       "    <rect x=\"208\" y=\"47\" width=\"1345\" height=\"971\"/>\n",
       "  </clipPath>\n",
       "</defs>\n",
       "<path clip-path=\"url(#clip590)\" d=\"\n",
       "M223.889 1016.92 L1552.76 1016.92 L1552.76 47.2441 L223.889 47.2441  Z\n",
       "  \" fill=\"#ffffff\" fill-rule=\"evenodd\" fill-opacity=\"1\"/>\n",
       "<defs>\n",
       "  <clipPath id=\"clip593\">\n",
       "    <rect x=\"223\" y=\"47\" width=\"1330\" height=\"971\"/>\n",
       "  </clipPath>\n",
       "</defs>\n",
       "<polyline clip-path=\"url(#clip590)\" style=\"stroke:#000000; stroke-width:4; stroke-opacity:1; fill:none\" points=\"\n",
       "  223.889,1016.92 1552.76,1016.92 \n",
       "  \"/>\n",
       "<polyline clip-path=\"url(#clip590)\" style=\"stroke:#000000; stroke-width:4; stroke-opacity:1; fill:none\" points=\"\n",
       "  223.889,1016.92 223.889,1005.28 \n",
       "  \"/>\n",
       "<polyline clip-path=\"url(#clip590)\" style=\"stroke:#000000; stroke-width:4; stroke-opacity:1; fill:none\" points=\"\n",
       "  389.998,1016.92 389.998,1005.28 \n",
       "  \"/>\n",
       "<polyline clip-path=\"url(#clip590)\" style=\"stroke:#000000; stroke-width:4; stroke-opacity:1; fill:none\" points=\"\n",
       "  556.106,1016.92 556.106,1005.28 \n",
       "  \"/>\n",
       "<polyline clip-path=\"url(#clip590)\" style=\"stroke:#000000; stroke-width:4; stroke-opacity:1; fill:none\" points=\"\n",
       "  722.214,1016.92 722.214,1005.28 \n",
       "  \"/>\n",
       "<polyline clip-path=\"url(#clip590)\" style=\"stroke:#000000; stroke-width:4; stroke-opacity:1; fill:none\" points=\"\n",
       "  888.323,1016.92 888.323,1005.28 \n",
       "  \"/>\n",
       "<polyline clip-path=\"url(#clip590)\" style=\"stroke:#000000; stroke-width:4; stroke-opacity:1; fill:none\" points=\"\n",
       "  1054.43,1016.92 1054.43,1005.28 \n",
       "  \"/>\n",
       "<polyline clip-path=\"url(#clip590)\" style=\"stroke:#000000; stroke-width:4; stroke-opacity:1; fill:none\" points=\"\n",
       "  1220.54,1016.92 1220.54,1005.28 \n",
       "  \"/>\n",
       "<polyline clip-path=\"url(#clip590)\" style=\"stroke:#000000; stroke-width:4; stroke-opacity:1; fill:none\" points=\"\n",
       "  1386.65,1016.92 1386.65,1005.28 \n",
       "  \"/>\n",
       "<polyline clip-path=\"url(#clip590)\" style=\"stroke:#000000; stroke-width:4; stroke-opacity:1; fill:none\" points=\"\n",
       "  1552.76,1016.92 1552.76,1005.28 \n",
       "  \"/>\n",
       "<path clip-path=\"url(#clip590)\" d=\"M 0 0 M223.889 1039.71 Q220.278 1039.71 218.45 1043.28 Q216.644 1046.82 216.644 1053.95 Q216.644 1061.05 218.45 1064.62 Q220.278 1068.16 223.889 1068.16 Q227.524 1068.16 229.329 1064.62 Q231.158 1061.05 231.158 1053.95 Q231.158 1046.82 229.329 1043.28 Q227.524 1039.71 223.889 1039.71 M223.889 1036.01 Q229.7 1036.01 232.755 1040.61 Q235.834 1045.2 235.834 1053.95 Q235.834 1062.67 232.755 1067.28 Q229.7 1071.86 223.889 1071.86 Q218.079 1071.86 215.001 1067.28 Q211.945 1062.67 211.945 1053.95 Q211.945 1045.2 215.001 1040.61 Q218.079 1036.01 223.889 1036.01 Z\" fill=\"#000000\" fill-rule=\"evenodd\" fill-opacity=\"1\" /><path clip-path=\"url(#clip590)\" d=\"M 0 0 M380.38 1067.26 L388.019 1067.26 L388.019 1040.89 L379.708 1042.56 L379.708 1038.3 L387.972 1036.63 L392.648 1036.63 L392.648 1067.26 L400.287 1067.26 L400.287 1071.19 L380.38 1071.19 L380.38 1067.26 Z\" fill=\"#000000\" fill-rule=\"evenodd\" fill-opacity=\"1\" /><path clip-path=\"url(#clip590)\" d=\"M 0 0 M550.759 1067.26 L567.078 1067.26 L567.078 1071.19 L545.134 1071.19 L545.134 1067.26 Q547.796 1064.5 552.379 1059.87 Q556.986 1055.22 558.166 1053.88 Q560.412 1051.35 561.291 1049.62 Q562.194 1047.86 562.194 1046.17 Q562.194 1043.41 560.25 1041.68 Q558.328 1039.94 555.226 1039.94 Q553.027 1039.94 550.574 1040.71 Q548.143 1041.47 545.365 1043.02 L545.365 1038.3 Q548.189 1037.16 550.643 1036.59 Q553.097 1036.01 555.134 1036.01 Q560.504 1036.01 563.699 1038.69 Q566.893 1041.38 566.893 1045.87 Q566.893 1048 566.083 1049.92 Q565.296 1051.82 563.189 1054.41 Q562.611 1055.08 559.509 1058.3 Q556.407 1061.49 550.759 1067.26 Z\" fill=\"#000000\" fill-rule=\"evenodd\" fill-opacity=\"1\" /><path clip-path=\"url(#clip590)\" d=\"M 0 0 M726.462 1052.56 Q729.819 1053.28 731.693 1055.54 Q733.592 1057.81 733.592 1061.15 Q733.592 1066.26 730.073 1069.06 Q726.555 1071.86 720.073 1071.86 Q717.897 1071.86 715.582 1071.42 Q713.291 1071.01 710.837 1070.15 L710.837 1065.64 Q712.782 1066.77 715.096 1067.35 Q717.411 1067.93 719.934 1067.93 Q724.332 1067.93 726.624 1066.19 Q728.939 1064.46 728.939 1061.15 Q728.939 1058.09 726.786 1056.38 Q724.656 1054.64 720.837 1054.64 L716.809 1054.64 L716.809 1050.8 L721.022 1050.8 Q724.471 1050.8 726.3 1049.43 Q728.129 1048.04 728.129 1045.45 Q728.129 1042.79 726.231 1041.38 Q724.356 1039.94 720.837 1039.94 Q718.916 1039.94 716.717 1040.36 Q714.518 1040.78 711.879 1041.65 L711.879 1037.49 Q714.541 1036.75 716.856 1036.38 Q719.194 1036.01 721.254 1036.01 Q726.578 1036.01 729.68 1038.44 Q732.781 1040.84 732.781 1044.97 Q732.781 1047.84 731.138 1049.83 Q729.494 1051.79 726.462 1052.56 Z\" fill=\"#000000\" fill-rule=\"evenodd\" fill-opacity=\"1\" /><path clip-path=\"url(#clip590)\" d=\"M 0 0 M891.332 1040.71 L879.526 1059.15 L891.332 1059.15 L891.332 1040.71 M890.105 1036.63 L895.985 1036.63 L895.985 1059.15 L900.915 1059.15 L900.915 1063.04 L895.985 1063.04 L895.985 1071.19 L891.332 1071.19 L891.332 1063.04 L875.73 1063.04 L875.73 1058.53 L890.105 1036.63 Z\" fill=\"#000000\" fill-rule=\"evenodd\" fill-opacity=\"1\" /><path clip-path=\"url(#clip590)\" d=\"M 0 0 M1044.71 1036.63 L1063.07 1036.63 L1063.07 1040.57 L1048.99 1040.57 L1048.99 1049.04 Q1050.01 1048.69 1051.03 1048.53 Q1052.05 1048.34 1053.07 1048.34 Q1058.85 1048.34 1062.23 1051.52 Q1065.61 1054.69 1065.61 1060.1 Q1065.61 1065.68 1062.14 1068.78 Q1058.67 1071.86 1052.35 1071.86 Q1050.17 1071.86 1047.9 1071.49 Q1045.66 1071.12 1043.25 1070.38 L1043.25 1065.68 Q1045.33 1066.82 1047.56 1067.37 Q1049.78 1067.93 1052.26 1067.93 Q1056.26 1067.93 1058.6 1065.82 Q1060.94 1063.72 1060.94 1060.1 Q1060.94 1056.49 1058.6 1054.39 Q1056.26 1052.28 1052.26 1052.28 Q1050.38 1052.28 1048.51 1052.7 Q1046.65 1053.11 1044.71 1053.99 L1044.71 1036.63 Z\" fill=\"#000000\" fill-rule=\"evenodd\" fill-opacity=\"1\" /><path clip-path=\"url(#clip590)\" d=\"M 0 0 M1220.94 1052.05 Q1217.8 1052.05 1215.94 1054.2 Q1214.12 1056.35 1214.12 1060.1 Q1214.12 1063.83 1215.94 1066.01 Q1217.8 1068.16 1220.94 1068.16 Q1224.09 1068.16 1225.92 1066.01 Q1227.77 1063.83 1227.77 1060.1 Q1227.77 1056.35 1225.92 1054.2 Q1224.09 1052.05 1220.94 1052.05 M1230.23 1037.4 L1230.23 1041.65 Q1228.47 1040.82 1226.66 1040.38 Q1224.88 1039.94 1223.12 1039.94 Q1218.49 1039.94 1216.04 1043.07 Q1213.61 1046.19 1213.26 1052.51 Q1214.62 1050.5 1216.69 1049.43 Q1218.75 1048.34 1221.22 1048.34 Q1226.43 1048.34 1229.44 1051.52 Q1232.47 1054.66 1232.47 1060.1 Q1232.47 1065.43 1229.32 1068.65 Q1226.18 1071.86 1220.94 1071.86 Q1214.95 1071.86 1211.78 1067.28 Q1208.61 1062.67 1208.61 1053.95 Q1208.61 1045.75 1212.5 1040.89 Q1216.38 1036.01 1222.94 1036.01 Q1224.69 1036.01 1226.48 1036.35 Q1228.28 1036.7 1230.23 1037.4 Z\" fill=\"#000000\" fill-rule=\"evenodd\" fill-opacity=\"1\" /><path clip-path=\"url(#clip590)\" d=\"M 0 0 M1375.54 1036.63 L1397.76 1036.63 L1397.76 1038.62 L1385.21 1071.19 L1380.33 1071.19 L1392.13 1040.57 L1375.54 1040.57 L1375.54 1036.63 Z\" fill=\"#000000\" fill-rule=\"evenodd\" fill-opacity=\"1\" /><path clip-path=\"url(#clip590)\" d=\"M 0 0 M1552.76 1054.78 Q1549.42 1054.78 1547.5 1056.56 Q1545.6 1058.34 1545.6 1061.47 Q1545.6 1064.59 1547.5 1066.38 Q1549.42 1068.16 1552.76 1068.16 Q1556.09 1068.16 1558.01 1066.38 Q1559.93 1064.57 1559.93 1061.47 Q1559.93 1058.34 1558.01 1056.56 Q1556.11 1054.78 1552.76 1054.78 M1548.08 1052.79 Q1545.07 1052.05 1543.38 1049.99 Q1541.71 1047.93 1541.71 1044.97 Q1541.71 1040.82 1544.65 1038.41 Q1547.62 1036.01 1552.76 1036.01 Q1557.92 1036.01 1560.86 1038.41 Q1563.8 1040.82 1563.8 1044.97 Q1563.8 1047.93 1562.11 1049.99 Q1560.44 1052.05 1557.45 1052.79 Q1560.83 1053.58 1562.71 1055.87 Q1564.61 1058.16 1564.61 1061.47 Q1564.61 1066.49 1561.53 1069.18 Q1558.47 1071.86 1552.76 1071.86 Q1547.04 1071.86 1543.96 1069.18 Q1540.9 1066.49 1540.9 1061.47 Q1540.9 1058.16 1542.8 1055.87 Q1544.7 1053.58 1548.08 1052.79 M1546.37 1045.4 Q1546.37 1048.09 1548.03 1049.59 Q1549.72 1051.1 1552.76 1051.1 Q1555.77 1051.1 1557.45 1049.59 Q1559.17 1048.09 1559.17 1045.4 Q1559.17 1042.72 1557.45 1041.22 Q1555.77 1039.71 1552.76 1039.71 Q1549.72 1039.71 1548.03 1041.22 Q1546.37 1042.72 1546.37 1045.4 Z\" fill=\"#000000\" fill-rule=\"evenodd\" fill-opacity=\"1\" /><path clip-path=\"url(#clip590)\" d=\"M 0 0 M690.238 1102.26 L699.818 1102.26 L711.945 1134.6 L724.135 1102.26 L733.716 1102.26 L733.716 1149.78 L727.445 1149.78 L727.445 1108.06 L715.191 1140.65 L708.73 1140.65 L696.476 1108.06 L696.476 1149.78 L690.238 1149.78 L690.238 1102.26 Z\" fill=\"#000000\" fill-rule=\"evenodd\" fill-opacity=\"1\" /><path clip-path=\"url(#clip590)\" d=\"M 0 0 M756.059 1131.86 Q748.961 1131.86 746.224 1133.49 Q743.487 1135.11 743.487 1139.03 Q743.487 1142.14 745.524 1143.99 Q747.593 1145.81 751.126 1145.81 Q755.996 1145.81 758.924 1142.37 Q761.884 1138.9 761.884 1133.17 L761.884 1131.86 L756.059 1131.86 M767.74 1129.45 L767.74 1149.78 L761.884 1149.78 L761.884 1144.37 Q759.879 1147.62 756.887 1149.18 Q753.895 1150.71 749.566 1150.71 Q744.092 1150.71 740.845 1147.65 Q737.63 1144.56 737.63 1139.41 Q737.63 1133.39 741.641 1130.34 Q745.683 1127.28 753.672 1127.28 L761.884 1127.28 L761.884 1126.71 Q761.884 1122.67 759.21 1120.47 Q756.568 1118.24 751.762 1118.24 Q748.707 1118.24 745.81 1118.97 Q742.914 1119.71 740.24 1121.17 L740.24 1115.76 Q743.455 1114.52 746.479 1113.91 Q749.503 1113.28 752.367 1113.28 Q760.101 1113.28 763.921 1117.29 Q767.74 1121.3 767.74 1129.45 Z\" fill=\"#000000\" fill-rule=\"evenodd\" fill-opacity=\"1\" /><path clip-path=\"url(#clip590)\" d=\"M 0 0 M799.537 1115.5 L799.537 1120.98 Q797.054 1119.61 794.54 1118.94 Q792.057 1118.24 789.511 1118.24 Q783.814 1118.24 780.663 1121.87 Q777.512 1125.47 777.512 1131.99 Q777.512 1138.52 780.663 1142.14 Q783.814 1145.74 789.511 1145.74 Q792.057 1145.74 794.54 1145.07 Q797.054 1144.37 799.537 1143 L799.537 1148.42 Q797.086 1149.56 794.444 1150.13 Q791.834 1150.71 788.874 1150.71 Q780.822 1150.71 776.079 1145.65 Q771.337 1140.59 771.337 1131.99 Q771.337 1123.27 776.111 1118.27 Q780.917 1113.28 789.256 1113.28 Q791.962 1113.28 794.54 1113.85 Q797.118 1114.39 799.537 1115.5 Z\" fill=\"#000000\" fill-rule=\"evenodd\" fill-opacity=\"1\" /><path clip-path=\"url(#clip590)\" d=\"M 0 0 M835.312 1128.27 L835.312 1149.78 L829.456 1149.78 L829.456 1128.46 Q829.456 1123.4 827.482 1120.88 Q825.509 1118.37 821.562 1118.37 Q816.82 1118.37 814.083 1121.39 Q811.345 1124.42 811.345 1129.64 L811.345 1149.78 L805.457 1149.78 L805.457 1100.26 L811.345 1100.26 L811.345 1119.67 Q813.446 1116.46 816.279 1114.87 Q819.143 1113.28 822.867 1113.28 Q829.01 1113.28 832.161 1117.1 Q835.312 1120.88 835.312 1128.27 Z\" fill=\"#000000\" fill-rule=\"evenodd\" fill-opacity=\"1\" /><path clip-path=\"url(#clip590)\" d=\"M 0 0 M891.808 1128.27 L891.808 1149.78 L885.951 1149.78 L885.951 1128.46 Q885.951 1123.4 883.978 1120.88 Q882.005 1118.37 878.058 1118.37 Q873.316 1118.37 870.578 1121.39 Q867.841 1124.42 867.841 1129.64 L867.841 1149.78 L861.953 1149.78 L861.953 1114.14 L867.841 1114.14 L867.841 1119.67 Q869.942 1116.46 872.774 1114.87 Q875.639 1113.28 879.363 1113.28 Q885.506 1113.28 888.657 1117.1 Q891.808 1120.88 891.808 1128.27 Z\" fill=\"#000000\" fill-rule=\"evenodd\" fill-opacity=\"1\" /><path clip-path=\"url(#clip590)\" d=\"M 0 0 M897.346 1135.72 L897.346 1114.14 L903.203 1114.14 L903.203 1135.49 Q903.203 1140.55 905.176 1143.1 Q907.149 1145.61 911.096 1145.61 Q915.838 1145.61 918.576 1142.59 Q921.345 1139.57 921.345 1134.35 L921.345 1114.14 L927.201 1114.14 L927.201 1149.78 L921.345 1149.78 L921.345 1144.31 Q919.212 1147.56 916.38 1149.15 Q913.579 1150.71 909.855 1150.71 Q903.712 1150.71 900.529 1146.89 Q897.346 1143.07 897.346 1135.72 M912.083 1113.28 L912.083 1113.28 Z\" fill=\"#000000\" fill-rule=\"evenodd\" fill-opacity=\"1\" /><path clip-path=\"url(#clip590)\" d=\"M 0 0 M961.099 1120.98 Q963.295 1117.03 966.35 1115.15 Q969.406 1113.28 973.544 1113.28 Q979.114 1113.28 982.137 1117.19 Q985.161 1121.07 985.161 1128.27 L985.161 1149.78 L979.273 1149.78 L979.273 1128.46 Q979.273 1123.33 977.458 1120.85 Q975.644 1118.37 971.92 1118.37 Q967.369 1118.37 964.727 1121.39 Q962.085 1124.42 962.085 1129.64 L962.085 1149.78 L956.197 1149.78 L956.197 1128.46 Q956.197 1123.3 954.383 1120.85 Q952.569 1118.37 948.781 1118.37 Q944.293 1118.37 941.651 1121.42 Q939.01 1124.45 939.01 1129.64 L939.01 1149.78 L933.121 1149.78 L933.121 1114.14 L939.01 1114.14 L939.01 1119.67 Q941.015 1116.4 943.816 1114.84 Q946.617 1113.28 950.468 1113.28 Q954.351 1113.28 957.056 1115.25 Q959.794 1117.22 961.099 1120.98 Z\" fill=\"#000000\" fill-rule=\"evenodd\" fill-opacity=\"1\" /><path clip-path=\"url(#clip590)\" d=\"M 0 0 M1016.89 1131.99 Q1016.89 1125.53 1014.22 1121.87 Q1011.58 1118.18 1006.93 1118.18 Q1002.28 1118.18 999.611 1121.87 Q996.969 1125.53 996.969 1131.99 Q996.969 1138.45 999.611 1142.14 Q1002.28 1145.81 1006.93 1145.81 Q1011.58 1145.81 1014.22 1142.14 Q1016.89 1138.45 1016.89 1131.99 M996.969 1119.55 Q998.815 1116.36 1001.62 1114.84 Q1004.45 1113.28 1008.36 1113.28 Q1014.86 1113.28 1018.9 1118.43 Q1022.97 1123.59 1022.97 1131.99 Q1022.97 1140.39 1018.9 1145.55 Q1014.86 1150.71 1008.36 1150.71 Q1004.45 1150.71 1001.62 1149.18 Q998.815 1147.62 996.969 1144.44 L996.969 1149.78 L991.081 1149.78 L991.081 1100.26 L996.969 1100.26 L996.969 1119.55 Z\" fill=\"#000000\" fill-rule=\"evenodd\" fill-opacity=\"1\" /><path clip-path=\"url(#clip590)\" d=\"M 0 0 M1059.61 1130.5 L1059.61 1133.36 L1032.68 1133.36 Q1033.06 1139.41 1036.31 1142.59 Q1039.59 1145.74 1045.41 1145.74 Q1048.79 1145.74 1051.94 1144.91 Q1055.12 1144.09 1058.24 1142.43 L1058.24 1147.97 Q1055.09 1149.31 1051.78 1150.01 Q1048.47 1150.71 1045.06 1150.71 Q1036.53 1150.71 1031.54 1145.74 Q1026.57 1140.78 1026.57 1132.31 Q1026.57 1123.56 1031.28 1118.43 Q1036.02 1113.28 1044.04 1113.28 Q1051.24 1113.28 1055.41 1117.92 Q1059.61 1122.54 1059.61 1130.5 M1053.75 1128.78 Q1053.69 1123.97 1051.05 1121.11 Q1048.44 1118.24 1044.11 1118.24 Q1039.21 1118.24 1036.25 1121.01 Q1033.32 1123.78 1032.87 1128.81 L1053.75 1128.78 Z\" fill=\"#000000\" fill-rule=\"evenodd\" fill-opacity=\"1\" /><path clip-path=\"url(#clip590)\" d=\"M 0 0 M1086.41 1119.61 Q1085.42 1119.04 1084.24 1118.78 Q1083.1 1118.5 1081.7 1118.5 Q1076.73 1118.5 1074.06 1121.74 Q1071.42 1124.96 1071.42 1131.01 L1071.42 1149.78 L1065.53 1149.78 L1065.53 1114.14 L1071.42 1114.14 L1071.42 1119.67 Q1073.26 1116.43 1076.22 1114.87 Q1079.18 1113.28 1083.42 1113.28 Q1084.02 1113.28 1084.75 1113.37 Q1085.48 1113.44 1086.38 1113.59 L1086.41 1119.61 Z\" fill=\"#000000\" fill-rule=\"evenodd\" fill-opacity=\"1\" /><polyline clip-path=\"url(#clip590)\" style=\"stroke:#000000; stroke-width:4; stroke-opacity:1; fill:none\" points=\"\n",
       "  223.889,1016.92 223.889,47.2441 \n",
       "  \"/>\n",
       "<polyline clip-path=\"url(#clip590)\" style=\"stroke:#000000; stroke-width:4; stroke-opacity:1; fill:none\" points=\"\n",
       "  223.889,1016.92 239.836,1016.92 \n",
       "  \"/>\n",
       "<polyline clip-path=\"url(#clip590)\" style=\"stroke:#000000; stroke-width:4; stroke-opacity:1; fill:none\" points=\"\n",
       "  223.889,774.501 239.836,774.501 \n",
       "  \"/>\n",
       "<polyline clip-path=\"url(#clip590)\" style=\"stroke:#000000; stroke-width:4; stroke-opacity:1; fill:none\" points=\"\n",
       "  223.889,532.082 239.836,532.082 \n",
       "  \"/>\n",
       "<polyline clip-path=\"url(#clip590)\" style=\"stroke:#000000; stroke-width:4; stroke-opacity:1; fill:none\" points=\"\n",
       "  223.889,289.663 239.836,289.663 \n",
       "  \"/>\n",
       "<polyline clip-path=\"url(#clip590)\" style=\"stroke:#000000; stroke-width:4; stroke-opacity:1; fill:none\" points=\"\n",
       "  223.889,47.2441 239.836,47.2441 \n",
       "  \"/>\n",
       "<path clip-path=\"url(#clip590)\" d=\"M 0 0 M150.978 1002.72 Q147.367 1002.72 145.538 1006.28 Q143.732 1009.82 143.732 1016.95 Q143.732 1024.06 145.538 1027.63 Q147.367 1031.17 150.978 1031.17 Q154.612 1031.17 156.417 1027.63 Q158.246 1024.06 158.246 1016.95 Q158.246 1009.82 156.417 1006.28 Q154.612 1002.72 150.978 1002.72 M150.978 999.015 Q156.788 999.015 159.843 1003.62 Q162.922 1008.2 162.922 1016.95 Q162.922 1025.68 159.843 1030.29 Q156.788 1034.87 150.978 1034.87 Q145.168 1034.87 142.089 1030.29 Q139.033 1025.68 139.033 1016.95 Q139.033 1008.2 142.089 1003.62 Q145.168 999.015 150.978 999.015 Z\" fill=\"#000000\" fill-rule=\"evenodd\" fill-opacity=\"1\" /><path clip-path=\"url(#clip590)\" d=\"M 0 0 M167.991 1028.32 L172.876 1028.32 L172.876 1034.2 L167.991 1034.2 L167.991 1028.32 Z\" fill=\"#000000\" fill-rule=\"evenodd\" fill-opacity=\"1\" /><path clip-path=\"url(#clip590)\" d=\"M 0 0 M187.945 1002.72 Q184.334 1002.72 182.505 1006.28 Q180.7 1009.82 180.7 1016.95 Q180.7 1024.06 182.505 1027.63 Q184.334 1031.17 187.945 1031.17 Q191.579 1031.17 193.385 1027.63 Q195.214 1024.06 195.214 1016.95 Q195.214 1009.82 193.385 1006.28 Q191.579 1002.72 187.945 1002.72 M187.945 999.015 Q193.755 999.015 196.811 1003.62 Q199.889 1008.2 199.889 1016.95 Q199.889 1025.68 196.811 1030.29 Q193.755 1034.87 187.945 1034.87 Q182.135 1034.87 179.056 1030.29 Q176.001 1025.68 176.001 1016.95 Q176.001 1008.2 179.056 1003.62 Q182.135 999.015 187.945 999.015 Z\" fill=\"#000000\" fill-rule=\"evenodd\" fill-opacity=\"1\" /><path clip-path=\"url(#clip590)\" d=\"M 0 0 M151.973 760.3 Q148.362 760.3 146.533 763.864 Q144.728 767.406 144.728 774.536 Q144.728 781.642 146.533 785.207 Q148.362 788.749 151.973 788.749 Q155.607 788.749 157.413 785.207 Q159.242 781.642 159.242 774.536 Q159.242 767.406 157.413 763.864 Q155.607 760.3 151.973 760.3 M151.973 756.596 Q157.783 756.596 160.839 761.202 Q163.917 765.786 163.917 774.536 Q163.917 783.262 160.839 787.869 Q157.783 792.452 151.973 792.452 Q146.163 792.452 143.084 787.869 Q140.029 783.262 140.029 774.536 Q140.029 765.786 143.084 761.202 Q146.163 756.596 151.973 756.596 Z\" fill=\"#000000\" fill-rule=\"evenodd\" fill-opacity=\"1\" /><path clip-path=\"url(#clip590)\" d=\"M 0 0 M168.987 785.901 L173.871 785.901 L173.871 791.781 L168.987 791.781 L168.987 785.901 Z\" fill=\"#000000\" fill-rule=\"evenodd\" fill-opacity=\"1\" /><path clip-path=\"url(#clip590)\" d=\"M 0 0 M178.987 757.221 L197.343 757.221 L197.343 761.156 L183.269 761.156 L183.269 769.628 Q184.288 769.281 185.306 769.119 Q186.325 768.934 187.343 768.934 Q193.13 768.934 196.51 772.105 Q199.889 775.276 199.889 780.693 Q199.889 786.272 196.417 789.374 Q192.945 792.452 186.626 792.452 Q184.45 792.452 182.181 792.082 Q179.936 791.711 177.528 790.971 L177.528 786.272 Q179.612 787.406 181.834 787.961 Q184.056 788.517 186.533 788.517 Q190.538 788.517 192.876 786.411 Q195.214 784.304 195.214 780.693 Q195.214 777.082 192.876 774.975 Q190.538 772.869 186.533 772.869 Q184.658 772.869 182.783 773.286 Q180.931 773.702 178.987 774.582 L178.987 757.221 Z\" fill=\"#000000\" fill-rule=\"evenodd\" fill-opacity=\"1\" /><path clip-path=\"url(#clip590)\" d=\"M 0 0 M143.015 545.427 L150.654 545.427 L150.654 519.061 L142.343 520.728 L142.343 516.469 L150.607 514.802 L155.283 514.802 L155.283 545.427 L162.922 545.427 L162.922 549.362 L143.015 549.362 L143.015 545.427 Z\" fill=\"#000000\" fill-rule=\"evenodd\" fill-opacity=\"1\" /><path clip-path=\"url(#clip590)\" d=\"M 0 0 M167.991 543.482 L172.876 543.482 L172.876 549.362 L167.991 549.362 L167.991 543.482 Z\" fill=\"#000000\" fill-rule=\"evenodd\" fill-opacity=\"1\" /><path clip-path=\"url(#clip590)\" d=\"M 0 0 M187.945 517.881 Q184.334 517.881 182.505 521.445 Q180.7 524.987 180.7 532.117 Q180.7 539.223 182.505 542.788 Q184.334 546.33 187.945 546.33 Q191.579 546.33 193.385 542.788 Q195.214 539.223 195.214 532.117 Q195.214 524.987 193.385 521.445 Q191.579 517.881 187.945 517.881 M187.945 514.177 Q193.755 514.177 196.811 518.783 Q199.889 523.367 199.889 532.117 Q199.889 540.843 196.811 545.45 Q193.755 550.033 187.945 550.033 Q182.135 550.033 179.056 545.45 Q176.001 540.843 176.001 532.117 Q176.001 523.367 179.056 518.783 Q182.135 514.177 187.945 514.177 Z\" fill=\"#000000\" fill-rule=\"evenodd\" fill-opacity=\"1\" /><path clip-path=\"url(#clip590)\" d=\"M 0 0 M144.01 303.008 L151.649 303.008 L151.649 276.642 L143.339 278.309 L143.339 274.05 L151.603 272.383 L156.279 272.383 L156.279 303.008 L163.917 303.008 L163.917 306.943 L144.01 306.943 L144.01 303.008 Z\" fill=\"#000000\" fill-rule=\"evenodd\" fill-opacity=\"1\" /><path clip-path=\"url(#clip590)\" d=\"M 0 0 M168.987 301.063 L173.871 301.063 L173.871 306.943 L168.987 306.943 L168.987 301.063 Z\" fill=\"#000000\" fill-rule=\"evenodd\" fill-opacity=\"1\" /><path clip-path=\"url(#clip590)\" d=\"M 0 0 M178.987 272.383 L197.343 272.383 L197.343 276.318 L183.269 276.318 L183.269 284.79 Q184.288 284.443 185.306 284.281 Q186.325 284.096 187.343 284.096 Q193.13 284.096 196.51 287.267 Q199.889 290.438 199.889 295.855 Q199.889 301.434 196.417 304.536 Q192.945 307.614 186.626 307.614 Q184.45 307.614 182.181 307.244 Q179.936 306.874 177.528 306.133 L177.528 301.434 Q179.612 302.568 181.834 303.124 Q184.056 303.679 186.533 303.679 Q190.538 303.679 192.876 301.573 Q195.214 299.466 195.214 295.855 Q195.214 292.244 192.876 290.138 Q190.538 288.031 186.533 288.031 Q184.658 288.031 182.783 288.448 Q180.931 288.864 178.987 289.744 L178.987 272.383 Z\" fill=\"#000000\" fill-rule=\"evenodd\" fill-opacity=\"1\" /><path clip-path=\"url(#clip590)\" d=\"M 0 0 M146.603 60.5889 L162.922 60.5889 L162.922 64.5241 L140.978 64.5241 L140.978 60.5889 Q143.64 57.8343 148.223 53.2047 Q152.83 48.552 154.01 47.2094 Q156.255 44.6862 157.135 42.9501 Q158.038 41.1909 158.038 39.5011 Q158.038 36.7465 156.093 35.0104 Q154.172 33.2743 151.07 33.2743 Q148.871 33.2743 146.418 34.0381 Q143.987 34.802 141.209 36.3529 L141.209 31.6308 Q144.033 30.4965 146.487 29.9178 Q148.941 29.3391 150.978 29.3391 Q156.348 29.3391 159.542 32.0243 Q162.737 34.7094 162.737 39.2002 Q162.737 41.3298 161.927 43.2511 Q161.14 45.1492 159.033 47.7418 Q158.455 48.4131 155.353 51.6306 Q152.251 54.8251 146.603 60.5889 Z\" fill=\"#000000\" fill-rule=\"evenodd\" fill-opacity=\"1\" /><path clip-path=\"url(#clip590)\" d=\"M 0 0 M167.991 58.6445 L172.876 58.6445 L172.876 64.5241 L167.991 64.5241 L167.991 58.6445 Z\" fill=\"#000000\" fill-rule=\"evenodd\" fill-opacity=\"1\" /><path clip-path=\"url(#clip590)\" d=\"M 0 0 M187.945 33.0428 Q184.334 33.0428 182.505 36.6076 Q180.7 40.1492 180.7 47.2788 Q180.7 54.3853 182.505 57.9501 Q184.334 61.4917 187.945 61.4917 Q191.579 61.4917 193.385 57.9501 Q195.214 54.3853 195.214 47.2788 Q195.214 40.1492 193.385 36.6076 Q191.579 33.0428 187.945 33.0428 M187.945 29.3391 Q193.755 29.3391 196.811 33.9456 Q199.889 38.5289 199.889 47.2788 Q199.889 56.0056 196.811 60.6121 Q193.755 65.1954 187.945 65.1954 Q182.135 65.1954 179.056 60.6121 Q176.001 56.0056 176.001 47.2788 Q176.001 38.5289 179.056 33.9456 Q182.135 29.3391 187.945 29.3391 Z\" fill=\"#000000\" fill-rule=\"evenodd\" fill-opacity=\"1\" /><path clip-path=\"url(#clip590)\" d=\"M 0 0 M60.9296 595.935 Q61.5416 595.935 62.0568 596.064 L73.5221 597.867 Q74.3917 597.964 74.7138 598.157 Q75.0358 598.318 75.0358 598.834 Q75.0358 599.639 74.1985 599.639 Q73.7154 599.639 72.9424 599.446 Q69.3032 598.898 67.6607 598.898 Q66.5657 598.898 65.7605 599.123 Q64.9232 599.317 64.3435 599.639 Q63.7638 599.929 63.3773 600.605 Q62.9908 601.281 62.7654 601.925 Q62.5399 602.569 62.4433 603.729 Q62.3145 604.888 62.2823 605.887 Q62.2501 606.885 62.2501 608.528 Q62.2501 612.102 62.3789 612.682 Q62.5399 613.294 63.023 613.616 Q63.4739 613.906 64.8266 614.228 L99.8343 622.988 L101.219 623.246 Q101.992 623.246 102.25 622.763 Q102.507 622.279 102.668 620.798 Q102.829 618.672 102.829 616.579 Q102.829 616.515 102.829 616.386 Q102.829 615.677 102.862 615.387 Q102.862 615.098 102.926 614.808 Q102.99 614.518 103.152 614.453 Q103.28 614.357 103.538 614.357 Q104.15 614.357 104.472 614.614 Q104.762 614.872 104.826 615.13 Q104.858 615.355 104.858 615.806 Q104.858 616.708 104.794 618.64 Q104.73 620.573 104.73 621.539 L104.665 627.014 L104.73 632.618 Q104.73 633.487 104.794 635.323 Q104.858 637.159 104.858 638.028 Q104.858 639.155 104.053 639.155 Q103.152 639.155 102.99 638.737 Q102.829 638.286 102.829 636.386 Q102.829 633.713 102.701 632.263 Q102.572 630.814 102.121 630.041 Q101.67 629.236 101.219 629.01 Q100.736 628.785 99.6411 628.527 L64.4401 619.671 Q63.6671 619.413 63.0552 619.413 Q62.7332 619.413 62.6043 619.51 Q62.4755 619.574 62.3789 619.993 Q62.2501 620.412 62.2501 621.281 L62.2501 623.858 Q62.2501 626.498 62.3789 628.141 Q62.4755 629.751 62.9586 631.297 Q63.4417 632.811 64.118 633.713 Q64.7943 634.582 66.1792 635.548 Q67.564 636.514 69.2388 637.223 Q70.9135 637.899 73.651 638.865 Q74.5527 639.188 74.8104 639.381 Q75.0358 639.542 75.0358 639.993 Q75.0358 640.315 74.8426 640.572 Q74.6171 640.798 74.3273 640.798 Q73.2645 640.476 73.1357 640.411 L61.5093 636.45 Q60.5754 636.128 60.4143 635.838 Q60.2211 635.516 60.2211 634.324 L60.2211 597.739 Q60.2211 597.159 60.2211 596.966 Q60.2211 596.772 60.2855 596.45 Q60.3499 596.128 60.511 596.032 Q60.672 595.935 60.9296 595.935 Z\" fill=\"#000000\" fill-rule=\"evenodd\" fill-opacity=\"1\" /><path clip-path=\"url(#clip590)\" d=\"M 0 0 M108.366 589.32 Q101.581 589.32 97.8834 587.607 Q92.3827 585.217 92.3827 579.581 Q92.3827 578.386 92.7208 577.147 Q93.0364 575.884 94.2764 574.306 Q95.5163 572.705 97.5453 571.736 Q101.468 569.887 108.366 569.887 Q115.107 569.887 118.782 571.601 Q124.147 574.103 124.147 579.626 Q124.147 581.7 123.088 583.82 Q122.028 585.916 119.481 587.246 Q115.671 589.32 108.366 589.32 M107.803 585.488 Q114.769 585.488 117.542 584.992 Q120.54 584.428 121.848 582.895 Q123.133 581.34 123.133 579.626 Q123.133 577.778 121.758 576.245 Q120.36 574.689 117.362 574.216 Q114.408 573.697 107.803 573.72 Q101.378 573.72 98.8077 574.171 Q95.8094 574.779 94.6145 576.403 Q93.3971 578.003 93.3971 579.626 Q93.3971 580.235 93.5775 580.889 Q93.7578 581.52 94.2764 582.444 Q94.7949 583.369 96.0799 584.09 Q97.3649 584.789 99.3037 585.127 Q101.806 585.488 107.803 585.488 Z\" fill=\"#000000\" fill-rule=\"evenodd\" fill-opacity=\"1\" /><path clip-path=\"url(#clip590)\" d=\"M 0 0 M120.414 563.038 Q120.092 563.038 119.383 562.78 L57.1616 539.495 Q57.0971 539.495 56.7429 539.334 Q56.3886 539.173 56.1632 539.076 Q55.9055 538.98 55.7123 538.787 Q55.5191 538.561 55.5191 538.304 Q55.5191 537.659 56.3242 537.659 Q56.3886 537.659 57.1616 537.853 L119.448 561.202 Q120.575 561.588 120.897 561.846 Q121.219 562.071 121.219 562.458 Q121.219 563.038 120.414 563.038 Z\" fill=\"#000000\" fill-rule=\"evenodd\" fill-opacity=\"1\" /><path clip-path=\"url(#clip590)\" d=\"M 0 0 M60.9296 485.508 Q61.5416 485.508 62.0568 485.637 L73.5221 487.441 Q74.3917 487.537 74.7138 487.73 Q75.0358 487.891 75.0358 488.407 Q75.0358 489.212 74.1985 489.212 Q73.7154 489.212 72.9424 489.019 Q69.3032 488.471 67.6607 488.471 Q66.5657 488.471 65.7605 488.697 Q64.9232 488.89 64.3435 489.212 Q63.7638 489.502 63.3773 490.178 Q62.9908 490.854 62.7654 491.498 Q62.5399 492.143 62.4433 493.302 Q62.3145 494.461 62.2823 495.46 Q62.2501 496.458 62.2501 498.101 Q62.2501 501.676 62.3789 502.255 Q62.5399 502.867 63.023 503.189 Q63.4739 503.479 64.8266 503.801 L99.8343 512.561 L101.219 512.819 Q101.992 512.819 102.25 512.336 Q102.507 511.853 102.668 510.371 Q102.829 508.246 102.829 506.152 Q102.829 506.088 102.829 505.959 Q102.829 505.25 102.862 504.961 Q102.862 504.671 102.926 504.381 Q102.99 504.091 103.152 504.027 Q103.28 503.93 103.538 503.93 Q104.15 503.93 104.472 504.188 Q104.762 504.445 104.826 504.703 Q104.858 504.928 104.858 505.379 Q104.858 506.281 104.794 508.213 Q104.73 510.146 104.73 511.112 L104.665 516.587 L104.73 522.191 Q104.73 523.06 104.794 524.896 Q104.858 526.732 104.858 527.601 Q104.858 528.728 104.053 528.728 Q103.152 528.728 102.99 528.31 Q102.829 527.859 102.829 525.959 Q102.829 523.286 102.701 521.836 Q102.572 520.387 102.121 519.614 Q101.67 518.809 101.219 518.584 Q100.736 518.358 99.6411 518.101 L64.4401 509.244 Q63.6671 508.986 63.0552 508.986 Q62.7332 508.986 62.6043 509.083 Q62.4755 509.147 62.3789 509.566 Q62.2501 509.985 62.2501 510.854 L62.2501 513.431 Q62.2501 516.072 62.3789 517.714 Q62.4755 519.324 62.9586 520.87 Q63.4417 522.384 64.118 523.286 Q64.7943 524.155 66.1792 525.121 Q67.564 526.088 69.2388 526.796 Q70.9135 527.472 73.651 528.439 Q74.5527 528.761 74.8104 528.954 Q75.0358 529.115 75.0358 529.566 Q75.0358 529.888 74.8426 530.146 Q74.6171 530.371 74.3273 530.371 Q73.2645 530.049 73.1357 529.984 L61.5093 526.023 Q60.5754 525.701 60.4143 525.411 Q60.2211 525.089 60.2211 523.898 L60.2211 487.312 Q60.2211 486.732 60.2211 486.539 Q60.2211 486.346 60.2855 486.023 Q60.3499 485.701 60.511 485.605 Q60.672 485.508 60.9296 485.508 Z\" fill=\"#000000\" fill-rule=\"evenodd\" fill-opacity=\"1\" /><path clip-path=\"url(#clip590)\" d=\"M 0 0 M108.366 478.893 Q101.581 478.893 97.8834 477.18 Q92.3827 474.79 92.3827 469.154 Q92.3827 467.96 92.7208 466.72 Q93.0364 465.457 94.2764 463.879 Q95.5163 462.278 97.5453 461.309 Q101.468 459.46 108.366 459.46 Q115.107 459.46 118.782 461.174 Q124.147 463.676 124.147 469.199 Q124.147 471.274 123.088 473.393 Q122.028 475.489 119.481 476.819 Q115.671 478.893 108.366 478.893 M107.803 475.061 Q114.769 475.061 117.542 474.565 Q120.54 474.001 121.848 472.468 Q123.133 470.913 123.133 469.199 Q123.133 467.351 121.758 465.818 Q120.36 464.262 117.362 463.789 Q114.408 463.27 107.803 463.293 Q101.378 463.293 98.8077 463.744 Q95.8094 464.353 94.6145 465.976 Q93.3971 467.576 93.3971 469.199 Q93.3971 469.808 93.5775 470.462 Q93.7578 471.093 94.2764 472.018 Q94.7949 472.942 96.0799 473.663 Q97.3649 474.362 99.3037 474.7 Q101.806 475.061 107.803 475.061 Z\" fill=\"#000000\" fill-rule=\"evenodd\" fill-opacity=\"1\" /><path clip-path=\"url(#clip590)\" d=\"M 0 0 M47.0242 466.083 Q46.2352 466.083 45.7166 465.024 L42.6732 458.598 L39.6297 465.114 Q39.1789 466.083 38.3898 466.083 Q37.9389 466.083 37.5331 465.722 Q37.1048 465.339 37.1048 464.843 Q37.1048 464.482 37.6008 463.829 L41.7489 458.103 Q34.129 458.801 33.9035 458.779 Q33.4527 458.779 33.1145 458.441 Q32.7538 458.103 32.7538 457.539 Q32.7538 457.088 33.0919 456.727 Q33.4076 456.344 33.9035 456.344 L41.7489 457.02 L37.9615 451.903 Q37.0823 450.708 37.1048 450.28 Q37.1048 449.761 37.5106 449.4 Q37.9164 449.04 38.3898 449.04 Q39.1789 449.04 39.6748 450.099 L42.7183 456.524 L45.7843 450.009 Q46.2352 449.04 47.0242 449.04 Q47.4751 449.04 47.9034 449.423 Q48.3092 449.784 48.3092 450.28 Q48.3092 450.55 48.0387 451.024 Q47.9936 451.114 47.2722 452.083 Q46.5508 453.053 45.4461 454.563 Q44.3415 456.051 43.6426 457.02 Q51.2625 456.322 51.4879 456.344 Q51.9388 456.344 52.2995 456.682 Q52.6602 457.02 52.6602 457.584 Q52.6602 458.035 52.3446 458.418 Q52.0064 458.779 51.4879 458.779 L43.6426 458.103 L48.3092 464.55 Q48.3092 465.249 47.9711 465.632 Q47.6103 465.993 47.4075 466.038 Q47.2046 466.083 47.0242 466.083 Z\" fill=\"#000000\" fill-rule=\"evenodd\" fill-opacity=\"1\" /><polyline clip-path=\"url(#clip593)\" style=\"stroke:#009af9; stroke-width:4; stroke-opacity:1; fill:none\" points=\"\n",
       "  224.056,1016.92 225.716,1016.64 227.377,1015.89 229.038,1014.69 230.699,1013.03 232.36,1010.91 234.021,1008.35 235.682,1005.34 237.343,1001.91 239.003,998.061 \n",
       "  240.664,993.802 242.325,989.149 243.986,984.114 245.647,978.713 247.308,972.96 248.969,966.873 250.63,960.469 252.29,953.764 253.951,946.777 255.612,939.528 \n",
       "  257.273,932.033 258.934,924.314 260.595,916.389 262.256,908.278 263.917,899.999 265.577,891.573 267.238,883.019 268.899,874.355 270.56,865.601 272.221,856.774 \n",
       "  273.882,847.892 275.543,838.973 277.204,830.034 278.864,821.091 280.525,812.16 282.186,803.255 283.847,794.392 285.508,785.584 287.169,776.844 288.83,768.185 \n",
       "  290.491,759.618 292.151,751.153 293.812,742.802 295.473,734.574 297.134,726.477 298.795,718.52 300.456,710.709 302.117,703.052 303.778,695.555 305.438,688.222 \n",
       "  307.099,681.059 308.76,674.07 310.421,667.257 312.082,660.625 313.743,654.176 315.404,647.911 317.065,641.832 318.725,635.94 320.386,630.236 322.047,624.719 \n",
       "  323.708,619.39 325.369,614.248 327.03,609.291 328.691,604.52 330.352,599.931 332.012,595.524 333.673,591.296 335.334,587.245 336.995,583.369 338.656,579.664 \n",
       "  340.317,576.129 341.978,572.761 343.639,569.555 345.299,566.509 346.96,563.62 348.621,560.885 350.282,558.299 351.943,555.86 353.604,553.563 355.265,551.406 \n",
       "  356.926,549.385 358.586,547.496 360.247,545.735 361.908,544.1 363.569,542.586 365.23,541.189 366.891,539.907 368.552,538.736 370.213,537.672 371.873,536.712 \n",
       "  373.534,535.853 375.195,535.091 376.856,534.423 378.517,533.845 380.178,533.355 381.839,532.949 383.5,532.625 385.16,532.379 386.821,532.208 388.482,532.11 \n",
       "  390.143,532.082 391.804,532.121 393.465,532.225 395.126,532.39 396.787,532.615 398.447,532.896 400.108,533.232 401.769,533.62 403.43,534.058 405.091,534.544 \n",
       "  406.752,535.076 408.413,535.651 410.074,536.267 411.734,536.924 413.395,537.618 415.056,538.348 416.717,539.112 418.378,539.908 420.039,540.736 421.7,541.593 \n",
       "  423.361,542.477 425.021,543.388 426.682,544.324 428.343,545.283 430.004,546.264 431.665,547.266 433.326,548.288 434.987,549.328 436.648,550.385 438.309,551.459 \n",
       "  439.969,552.547 441.63,553.65 443.291,554.766 444.952,555.894 446.613,557.033 448.274,558.182 449.935,559.341 451.596,560.509 453.256,561.684 454.917,562.867 \n",
       "  456.578,564.057 458.239,565.252 459.9,566.452 461.561,567.657 463.222,568.865 464.883,570.077 466.543,571.292 468.204,572.509 469.865,573.727 471.526,574.947 \n",
       "  473.187,576.168 474.848,577.389 476.509,578.61 478.17,579.83 479.83,581.05 481.491,582.268 483.152,583.485 484.813,584.7 486.474,585.912 488.135,587.122 \n",
       "  489.796,588.329 491.457,589.533 493.117,590.734 494.778,591.931 496.439,593.125 498.1,594.314 499.761,595.499 501.422,596.679 503.083,597.855 504.744,599.026 \n",
       "  506.404,600.192 508.065,601.353 509.726,602.508 511.387,603.658 513.048,604.803 514.709,605.941 516.37,607.074 518.031,608.201 519.691,609.322 521.352,610.437 \n",
       "  523.013,611.546 524.674,612.648 526.335,613.744 527.996,614.834 529.657,615.917 531.318,616.993 532.978,618.063 534.639,619.126 536.3,620.183 537.961,621.232 \n",
       "  539.622,622.275 541.283,623.312 542.944,624.341 544.605,625.363 546.265,626.379 547.926,627.388 549.587,628.39 551.248,629.385 552.909,630.373 554.57,631.354 \n",
       "  556.231,632.328 557.892,633.295 559.552,634.256 561.213,635.209 562.874,636.156 564.535,637.095 566.196,638.028 567.857,638.954 569.518,639.873 571.179,640.785 \n",
       "  572.839,641.691 574.5,642.59 576.161,643.482 577.822,644.367 579.483,645.246 581.144,646.117 582.805,646.983 584.466,647.841 586.126,648.693 587.787,649.539 \n",
       "  589.448,650.378 591.109,651.21 592.77,652.036 594.431,652.856 596.092,653.669 597.753,654.476 599.413,655.276 601.074,656.071 602.735,656.859 604.396,657.641 \n",
       "  606.057,658.416 607.718,659.186 609.379,659.95 611.04,660.707 612.7,661.459 614.361,662.204 616.022,662.944 617.683,663.677 619.344,664.405 621.005,665.128 \n",
       "  622.666,665.844 624.327,666.555 625.987,667.26 627.648,667.959 629.309,668.653 630.97,669.341 632.631,670.024 634.292,670.702 635.953,671.374 637.614,672.04 \n",
       "  639.274,672.702 640.935,673.358 642.596,674.008 644.257,674.654 645.918,675.294 647.579,675.93 649.24,676.56 650.901,677.185 652.561,677.806 654.222,678.421 \n",
       "  655.883,679.031 657.544,679.637 659.205,680.237 660.866,680.833 662.527,681.425 664.188,682.011 665.848,682.593 667.509,683.17 669.17,683.743 670.831,684.311 \n",
       "  672.492,684.875 674.153,685.434 675.814,685.988 677.475,686.539 679.135,687.085 680.796,687.626 682.457,688.164 684.118,688.697 685.779,689.226 687.44,689.751 \n",
       "  689.101,690.272 690.762,690.788 692.422,691.301 694.083,691.809 695.744,692.314 697.405,692.814 699.066,693.311 700.727,693.804 702.388,694.293 704.049,694.778 \n",
       "  705.709,695.26 707.37,695.737 709.031,696.211 710.692,696.682 712.353,697.148 714.014,697.611 715.675,698.071 717.336,698.527 718.996,698.979 720.657,699.428 \n",
       "  722.318,699.874 723.979,700.316 725.64,700.755 727.301,701.19 728.962,701.622 730.623,702.051 732.283,702.476 733.944,702.898 735.605,703.317 737.266,703.733 \n",
       "  738.927,704.146 740.588,704.556 742.249,704.962 743.91,705.366 745.57,705.766 747.231,706.163 748.892,706.558 750.553,706.949 752.214,707.338 753.875,707.724 \n",
       "  755.536,708.106 757.197,708.486 758.857,708.863 760.518,709.238 762.179,709.609 763.84,709.978 765.501,710.344 767.162,710.707 768.823,711.068 770.484,711.426 \n",
       "  772.144,711.781 773.805,712.134 775.466,712.484 777.127,712.832 778.788,713.177 780.449,713.52 782.11,713.86 783.771,714.197 785.431,714.533 787.092,714.865 \n",
       "  788.753,715.196 790.414,715.524 792.075,715.849 793.736,716.172 795.397,716.493 797.058,716.812 798.718,717.128 800.379,717.443 802.04,717.754 803.701,718.064 \n",
       "  805.362,718.372 807.023,718.677 808.684,718.98 810.345,719.281 812.005,719.58 813.666,719.876 815.327,720.171 816.988,720.464 818.649,720.754 820.31,721.043 \n",
       "  821.971,721.329 823.632,721.614 825.292,721.896 826.953,722.177 828.614,722.455 830.275,722.732 831.936,723.007 833.597,723.28 835.258,723.551 836.919,723.82 \n",
       "  838.579,724.087 840.24,724.352 841.901,724.616 843.562,724.878 845.223,725.138 846.884,725.396 848.545,725.653 850.206,725.907 851.866,726.161 853.527,726.412 \n",
       "  855.188,726.662 856.849,726.909 858.51,727.156 860.171,727.4 861.832,727.643 863.493,727.885 865.153,728.125 866.814,728.363 868.475,728.599 870.136,728.834 \n",
       "  871.797,729.068 873.458,729.3 875.119,729.53 876.78,729.759 878.44,729.986 880.101,730.212 881.762,730.437 883.423,730.659 885.084,730.881 886.745,731.101 \n",
       "  888.406,731.319 890.067,731.537 891.727,731.752 893.388,731.967 895.049,732.18 896.71,732.391 898.371,732.601 900.032,732.81 901.693,733.018 903.354,733.224 \n",
       "  905.014,733.429 906.675,733.632 908.336,733.835 909.997,734.036 911.658,734.235 913.319,734.434 914.98,734.631 916.641,734.827 918.301,735.022 919.962,735.215 \n",
       "  921.623,735.407 923.284,735.598 924.945,735.788 926.606,735.977 928.267,736.164 929.928,736.351 931.588,736.536 933.249,736.72 934.91,736.903 936.571,737.084 \n",
       "  938.232,737.265 939.893,737.444 941.554,737.623 943.215,737.8 944.876,737.976 946.536,738.151 948.197,738.325 949.858,738.498 951.519,738.67 953.18,738.841 \n",
       "  954.841,739.011 956.502,739.18 958.163,739.348 959.823,739.514 961.484,739.68 963.145,739.845 964.806,740.009 966.467,740.172 968.128,740.333 969.789,740.494 \n",
       "  971.45,740.654 973.11,740.813 974.771,740.971 976.432,741.128 978.093,741.284 979.754,741.439 981.415,741.594 983.076,741.747 984.737,741.9 986.397,742.051 \n",
       "  988.058,742.202 989.719,742.352 991.38,742.5 993.041,742.649 994.702,742.796 996.363,742.942 998.024,743.088 999.684,743.232 1001.35,743.376 1003.01,743.519 \n",
       "  1004.67,743.661 1006.33,743.802 1007.99,743.943 1009.65,744.083 1011.31,744.221 1012.97,744.36 1014.63,744.497 1016.29,744.633 1017.95,744.769 1019.61,744.904 \n",
       "  1021.28,745.038 1022.94,745.172 1024.6,745.304 1026.26,745.436 1027.92,745.568 1029.58,745.698 1031.24,745.828 1032.9,745.957 1034.56,746.085 1036.22,746.213 \n",
       "  1037.88,746.34 1039.55,746.466 1041.21,746.591 1042.87,746.716 1044.53,746.84 1046.19,746.963 1047.85,747.086 1049.51,747.208 1051.17,747.329 1052.83,747.45 \n",
       "  1054.49,747.57 1056.15,747.689 1057.82,747.808 1059.48,747.926 1061.14,748.043 1062.8,748.16 1064.46,748.276 1066.12,748.392 1067.78,748.507 1069.44,748.621 \n",
       "  1071.1,748.735 1072.76,748.848 1074.42,748.96 1076.08,749.072 1077.75,749.183 1079.41,749.294 1081.07,749.404 1082.73,749.513 1084.39,749.622 1086.05,749.73 \n",
       "  1087.71,749.838 1089.37,749.945 1091.03,750.051 1092.69,750.157 1094.35,750.263 1096.02,750.368 1097.68,750.472 1099.34,750.576 1101,750.679 1102.66,750.782 \n",
       "  1104.32,750.884 1105.98,750.985 1107.64,751.087 1109.3,751.187 1110.96,751.287 1112.62,751.387 1114.28,751.486 1115.95,751.584 1117.61,751.682 1119.27,751.78 \n",
       "  1120.93,751.877 1122.59,751.973 1124.25,752.069 1125.91,752.164 1127.57,752.259 1129.23,752.354 1130.89,752.448 1132.55,752.541 1134.22,752.635 1135.88,752.727 \n",
       "  1137.54,752.819 1139.2,752.911 1140.86,753.002 1142.52,753.093 1144.18,753.183 1145.84,753.273 1147.5,753.362 1149.16,753.451 1150.82,753.54 1152.48,753.628 \n",
       "  1154.15,753.715 1155.81,753.802 1157.47,753.889 1159.13,753.976 1160.79,754.061 1162.45,754.147 1164.11,754.232 1165.77,754.316 1167.43,754.401 1169.09,754.484 \n",
       "  1170.75,754.568 1172.42,754.651 1174.08,754.733 1175.74,754.815 1177.4,754.897 1179.06,754.978 1180.72,755.059 1182.38,755.14 1184.04,755.22 1185.7,755.3 \n",
       "  1187.36,755.379 1189.02,755.458 1190.69,755.537 1192.35,755.615 1194.01,755.693 1195.67,755.77 1197.33,755.847 1198.99,755.924 1200.65,756 1202.31,756.076 \n",
       "  1203.97,756.152 1205.63,756.227 1207.29,756.302 1208.95,756.377 1210.62,756.451 1212.28,756.525 1213.94,756.598 1215.6,756.672 1217.26,756.744 1218.92,756.817 \n",
       "  1220.58,756.889 1222.24,756.961 1223.9,757.032 1225.56,757.103 1227.22,757.174 1228.89,757.245 1230.55,757.315 1232.21,757.385 1233.87,757.454 1235.53,757.523 \n",
       "  1237.19,757.592 1238.85,757.661 1240.51,757.729 1242.17,757.797 1243.83,757.864 1245.49,757.931 1247.15,757.998 1248.82,758.065 1250.48,758.131 1252.14,758.197 \n",
       "  1253.8,758.263 1255.46,758.329 1257.12,758.394 1258.78,758.458 1260.44,758.523 1262.1,758.587 1263.76,758.651 1265.42,758.715 1267.09,758.778 1268.75,758.841 \n",
       "  1270.41,758.904 1272.07,758.967 1273.73,759.029 1275.39,759.091 1277.05,759.153 1278.71,759.214 1280.37,759.275 1282.03,759.336 1283.69,759.397 1285.35,759.457 \n",
       "  1287.02,759.517 1288.68,759.577 1290.34,759.636 1292,759.696 1293.66,759.755 1295.32,759.813 1296.98,759.872 1298.64,759.93 1300.3,759.988 1301.96,760.046 \n",
       "  1303.62,760.103 1305.29,760.16 1306.95,760.217 1308.61,760.274 1310.27,760.331 1311.93,760.387 1313.59,760.443 1315.25,760.498 1316.91,760.554 1318.57,760.609 \n",
       "  1320.23,760.664 1321.89,760.719 1323.56,760.773 1325.22,760.828 1326.88,760.882 1328.54,760.936 1330.2,760.989 1331.86,761.043 1333.52,761.096 1335.18,761.149 \n",
       "  1336.84,761.201 1338.5,761.254 1340.16,761.306 1341.82,761.358 1343.49,761.41 1345.15,761.462 1346.81,761.513 1348.47,761.564 1350.13,761.615 1351.79,761.666 \n",
       "  1353.45,761.716 1355.11,761.766 1356.77,761.817 1358.43,761.866 1360.09,761.916 1361.76,761.966 1363.42,762.015 1365.08,762.064 1366.74,762.113 1368.4,762.161 \n",
       "  1370.06,762.21 1371.72,762.258 1373.38,762.306 1375.04,762.354 1376.7,762.401 1378.36,762.449 1380.02,762.496 1381.69,762.543 1383.35,762.59 1385.01,762.637 \n",
       "  1386.67,762.683 1388.33,762.729 1389.99,762.776 1391.65,762.821 1393.31,762.867 1394.97,762.913 1396.63,762.958 1398.29,763.003 1399.96,763.048 1401.62,763.093 \n",
       "  1403.28,763.138 1404.94,763.182 1406.6,763.226 1408.26,763.27 1409.92,763.314 1411.58,763.358 1413.24,763.402 1414.9,763.445 1416.56,763.488 1418.22,763.531 \n",
       "  1419.89,763.574 1421.55,763.617 1423.21,763.659 1424.87,763.702 1426.53,763.744 1428.19,763.786 1429.85,763.828 1431.51,763.869 1433.17,763.911 1434.83,763.952 \n",
       "  1436.49,763.993 1438.16,764.034 1439.82,764.075 1441.48,764.116 1443.14,764.156 1444.8,764.197 1446.46,764.237 1448.12,764.277 1449.78,764.317 1451.44,764.357 \n",
       "  1453.1,764.396 1454.76,764.436 1456.43,764.475 1458.09,764.514 1459.75,764.553 1461.41,764.592 1463.07,764.631 1464.73,764.669 1466.39,764.708 1468.05,764.746 \n",
       "  1469.71,764.784 1471.37,764.822 1473.03,764.86 1474.69,764.897 1476.36,764.935 1478.02,764.972 1479.68,765.01 1481.34,765.047 1483,765.084 1484.66,765.12 \n",
       "  1486.32,765.157 1487.98,765.194 1489.64,765.23 1491.3,765.266 1492.96,765.302 1494.63,765.338 1496.29,765.374 1497.95,765.41 1499.61,765.445 1501.27,765.481 \n",
       "  1502.93,765.516 1504.59,765.551 1506.25,765.586 1507.91,765.621 1509.57,765.656 1511.23,765.691 1512.89,765.725 1514.56,765.759 1516.22,765.794 1517.88,765.828 \n",
       "  1519.54,765.862 1521.2,765.896 1522.86,765.93 1524.52,765.963 1526.18,765.997 1527.84,766.03 1529.5,766.063 1531.16,766.096 1532.83,766.129 1534.49,766.162 \n",
       "  1536.15,766.195 1537.81,766.228 1539.47,766.26 1541.13,766.293 1542.79,766.325 1544.45,766.357 1546.11,766.389 1547.77,766.421 1549.43,766.453 1551.1,766.485 \n",
       "  1552.76,766.516 \n",
       "  \"/>\n",
       "<polyline clip-path=\"url(#clip593)\" style=\"stroke:#e26f46; stroke-width:4; stroke-opacity:1; fill:none\" stroke-dasharray=\"16, 10\" points=\"\n",
       "  224.056,653.291 225.716,653.291 227.377,653.291 229.038,653.291 230.699,653.291 232.36,653.291 234.021,653.291 235.682,653.291 237.343,653.291 239.003,653.291 \n",
       "  240.664,653.291 242.325,653.291 243.986,653.291 245.647,653.291 247.308,653.291 248.969,653.291 250.63,653.291 252.29,653.291 253.951,653.291 255.612,653.291 \n",
       "  257.273,653.291 258.934,653.291 260.595,653.291 262.256,653.291 263.917,653.291 265.577,653.291 267.238,653.291 268.899,653.291 270.56,653.291 272.221,653.291 \n",
       "  273.882,653.291 275.543,653.291 277.204,653.291 278.864,653.291 280.525,653.291 282.186,653.291 283.847,653.291 285.508,653.291 287.169,653.291 288.83,653.291 \n",
       "  290.491,653.291 292.151,653.291 293.812,653.291 295.473,653.291 297.134,653.291 298.795,653.291 300.456,653.291 302.117,653.291 303.778,653.291 305.438,653.291 \n",
       "  307.099,653.291 308.76,653.291 310.421,653.291 312.082,653.291 313.743,653.291 315.404,653.291 317.065,653.291 318.725,653.291 320.386,653.291 322.047,653.291 \n",
       "  323.708,653.291 325.369,653.291 327.03,653.291 328.691,653.291 330.352,653.291 332.012,653.291 333.673,653.291 335.334,653.291 336.995,653.291 338.656,653.291 \n",
       "  340.317,653.291 341.978,653.291 343.639,653.291 345.299,653.291 346.96,653.291 348.621,653.291 350.282,653.291 351.943,653.291 353.604,653.291 355.265,653.291 \n",
       "  356.926,653.291 358.586,653.291 360.247,653.291 361.908,653.291 363.569,653.291 365.23,653.291 366.891,653.291 368.552,653.291 370.213,653.291 371.873,653.291 \n",
       "  373.534,653.291 375.195,653.291 376.856,653.291 378.517,653.291 380.178,653.291 381.839,653.291 383.5,653.291 385.16,653.291 386.821,653.291 388.482,653.291 \n",
       "  390.143,653.291 391.804,653.291 393.465,653.291 395.126,653.291 396.787,653.291 398.447,653.291 400.108,653.291 401.769,653.291 403.43,653.291 405.091,653.291 \n",
       "  406.752,653.291 408.413,653.291 410.074,653.291 411.734,653.291 413.395,653.291 415.056,653.291 416.717,653.291 418.378,653.291 420.039,653.291 421.7,653.291 \n",
       "  423.361,653.291 425.021,653.291 426.682,653.291 428.343,653.291 430.004,653.291 431.665,653.291 433.326,653.291 434.987,653.291 436.648,653.291 438.309,653.291 \n",
       "  439.969,653.291 441.63,653.291 443.291,653.291 444.952,653.291 446.613,653.291 448.274,653.291 449.935,653.291 451.596,653.291 453.256,653.291 454.917,653.291 \n",
       "  456.578,653.291 458.239,653.291 459.9,653.291 461.561,653.291 463.222,653.291 464.883,653.291 466.543,653.291 468.204,653.291 469.865,653.291 471.526,653.291 \n",
       "  473.187,653.291 474.848,653.291 476.509,653.291 478.17,653.291 479.83,653.291 481.491,653.291 483.152,653.291 484.813,653.291 486.474,653.291 488.135,653.291 \n",
       "  489.796,653.291 491.457,653.291 493.117,653.291 494.778,653.291 496.439,653.291 498.1,653.291 499.761,653.291 501.422,653.291 503.083,653.291 504.744,653.291 \n",
       "  506.404,653.291 508.065,653.291 509.726,653.291 511.387,653.291 513.048,653.291 514.709,653.291 516.37,653.291 518.031,653.291 519.691,653.291 521.352,653.291 \n",
       "  523.013,653.291 524.674,653.291 526.335,653.291 527.996,653.291 529.657,653.291 531.318,653.291 532.978,653.291 534.639,653.291 536.3,653.291 537.961,653.291 \n",
       "  539.622,653.291 541.283,653.291 542.944,653.291 544.605,653.291 546.265,653.291 547.926,653.291 549.587,653.291 551.248,653.291 552.909,653.291 554.57,653.291 \n",
       "  556.231,653.291 557.892,653.291 559.552,653.291 561.213,653.291 562.874,653.291 564.535,653.291 566.196,653.291 567.857,653.291 569.518,653.291 571.179,653.291 \n",
       "  572.839,653.291 574.5,653.291 576.161,653.291 577.822,653.291 579.483,653.291 581.144,653.291 582.805,653.291 584.466,653.291 586.126,653.291 587.787,653.291 \n",
       "  589.448,653.291 591.109,653.291 592.77,653.291 594.431,653.291 596.092,653.291 597.753,653.291 599.413,653.291 601.074,653.291 602.735,653.291 604.396,653.291 \n",
       "  606.057,653.291 607.718,653.291 609.379,653.291 611.04,653.291 612.7,653.291 614.361,653.291 616.022,653.291 617.683,653.291 619.344,653.291 621.005,653.291 \n",
       "  622.666,653.291 624.327,653.291 625.987,653.291 627.648,653.291 629.309,653.291 630.97,653.291 632.631,653.291 634.292,653.291 635.953,653.291 637.614,653.291 \n",
       "  639.274,653.291 640.935,653.291 642.596,653.291 644.257,653.291 645.918,653.291 647.579,653.291 649.24,653.291 650.901,653.291 652.561,653.291 654.222,653.291 \n",
       "  655.883,653.291 657.544,653.291 659.205,653.291 660.866,653.291 662.527,653.291 664.188,653.291 665.848,653.291 667.509,653.291 669.17,653.291 670.831,653.291 \n",
       "  672.492,653.291 674.153,653.291 675.814,653.291 677.475,653.291 679.135,653.291 680.796,653.291 682.457,653.291 684.118,653.291 685.779,653.291 687.44,653.291 \n",
       "  689.101,653.291 690.762,653.291 692.422,653.291 694.083,653.291 695.744,653.291 697.405,653.291 699.066,653.291 700.727,653.291 702.388,653.291 704.049,653.291 \n",
       "  705.709,653.291 707.37,653.291 709.031,653.291 710.692,653.291 712.353,653.291 714.014,653.291 715.675,653.291 717.336,653.291 718.996,653.291 720.657,653.291 \n",
       "  722.318,653.291 723.979,653.291 725.64,653.291 727.301,653.291 728.962,653.291 730.623,653.291 732.283,653.291 733.944,653.291 735.605,653.291 737.266,653.291 \n",
       "  738.927,653.291 740.588,653.291 742.249,653.291 743.91,653.291 745.57,653.291 747.231,653.291 748.892,653.291 750.553,653.291 752.214,653.291 753.875,653.291 \n",
       "  755.536,653.291 757.197,653.291 758.857,653.291 760.518,653.291 762.179,653.291 763.84,653.291 765.501,653.291 767.162,653.291 768.823,653.291 770.484,653.291 \n",
       "  772.144,653.291 773.805,653.291 775.466,653.291 777.127,653.291 778.788,653.291 780.449,653.291 782.11,653.291 783.771,653.291 785.431,653.291 787.092,653.291 \n",
       "  788.753,653.291 790.414,653.291 792.075,653.291 793.736,653.291 795.397,653.291 797.058,653.291 798.718,653.291 800.379,653.291 802.04,653.291 803.701,653.291 \n",
       "  805.362,653.291 807.023,653.291 808.684,653.291 810.345,653.291 812.005,653.291 813.666,653.291 815.327,653.291 816.988,653.291 818.649,653.291 820.31,653.291 \n",
       "  821.971,653.291 823.632,653.291 825.292,653.291 826.953,653.291 828.614,653.291 830.275,653.291 831.936,653.291 833.597,653.291 835.258,653.291 836.919,653.291 \n",
       "  838.579,653.291 840.24,653.291 841.901,653.291 843.562,653.291 845.223,653.291 846.884,653.291 848.545,653.291 850.206,653.291 851.866,653.291 853.527,653.291 \n",
       "  855.188,653.291 856.849,653.291 858.51,653.291 860.171,653.291 861.832,653.291 863.493,653.291 865.153,653.291 866.814,653.291 868.475,653.291 870.136,653.291 \n",
       "  871.797,653.291 873.458,653.291 875.119,653.291 876.78,653.291 878.44,653.291 880.101,653.291 881.762,653.291 883.423,653.291 885.084,653.291 886.745,653.291 \n",
       "  888.406,653.291 890.067,653.291 891.727,653.291 893.388,653.291 895.049,653.291 896.71,653.291 898.371,653.291 900.032,653.291 901.693,653.291 903.354,653.291 \n",
       "  905.014,653.291 906.675,653.291 908.336,653.291 909.997,653.291 911.658,653.291 913.319,653.291 914.98,653.291 916.641,653.291 918.301,653.291 919.962,653.291 \n",
       "  921.623,653.291 923.284,653.291 924.945,653.291 926.606,653.291 928.267,653.291 929.928,653.291 931.588,653.291 933.249,653.291 934.91,653.291 936.571,653.291 \n",
       "  938.232,653.291 939.893,653.291 941.554,653.291 943.215,653.291 944.876,653.291 946.536,653.291 948.197,653.291 949.858,653.291 951.519,653.291 953.18,653.291 \n",
       "  954.841,653.291 956.502,653.291 958.163,653.291 959.823,653.291 961.484,653.291 963.145,653.291 964.806,653.291 966.467,653.291 968.128,653.291 969.789,653.291 \n",
       "  971.45,653.291 973.11,653.291 974.771,653.291 976.432,653.291 978.093,653.291 979.754,653.291 981.415,653.291 983.076,653.291 984.737,653.291 986.397,653.291 \n",
       "  988.058,653.291 989.719,653.291 991.38,653.291 993.041,653.291 994.702,653.291 996.363,653.291 998.024,653.291 999.684,653.291 1001.35,653.291 1003.01,653.291 \n",
       "  1004.67,653.291 1006.33,653.291 1007.99,653.291 1009.65,653.291 1011.31,653.291 1012.97,653.291 1014.63,653.291 1016.29,653.291 1017.95,653.291 1019.61,653.291 \n",
       "  1021.28,653.291 1022.94,653.291 1024.6,653.291 1026.26,653.291 1027.92,653.291 1029.58,653.291 1031.24,653.291 1032.9,653.291 1034.56,653.291 1036.22,653.291 \n",
       "  1037.88,653.291 1039.55,653.291 1041.21,653.291 1042.87,653.291 1044.53,653.291 1046.19,653.291 1047.85,653.291 1049.51,653.291 1051.17,653.291 1052.83,653.291 \n",
       "  1054.49,653.291 1056.15,653.291 1057.82,653.291 1059.48,653.291 1061.14,653.291 1062.8,653.291 1064.46,653.291 1066.12,653.291 1067.78,653.291 1069.44,653.291 \n",
       "  1071.1,653.291 1072.76,653.291 1074.42,653.291 1076.08,653.291 1077.75,653.291 1079.41,653.291 1081.07,653.291 1082.73,653.291 1084.39,653.291 1086.05,653.291 \n",
       "  1087.71,653.291 1089.37,653.291 1091.03,653.291 1092.69,653.291 1094.35,653.291 1096.02,653.291 1097.68,653.291 1099.34,653.291 1101,653.291 1102.66,653.291 \n",
       "  1104.32,653.291 1105.98,653.291 1107.64,653.291 1109.3,653.291 1110.96,653.291 1112.62,653.291 1114.28,653.291 1115.95,653.291 1117.61,653.291 1119.27,653.291 \n",
       "  1120.93,653.291 1122.59,653.291 1124.25,653.291 1125.91,653.291 1127.57,653.291 1129.23,653.291 1130.89,653.291 1132.55,653.291 1134.22,653.291 1135.88,653.291 \n",
       "  1137.54,653.291 1139.2,653.291 1140.86,653.291 1142.52,653.291 1144.18,653.291 1145.84,653.291 1147.5,653.291 1149.16,653.291 1150.82,653.291 1152.48,653.291 \n",
       "  1154.15,653.291 1155.81,653.291 1157.47,653.291 1159.13,653.291 1160.79,653.291 1162.45,653.291 1164.11,653.291 1165.77,653.291 1167.43,653.291 1169.09,653.291 \n",
       "  1170.75,653.291 1172.42,653.291 1174.08,653.291 1175.74,653.291 1177.4,653.291 1179.06,653.291 1180.72,653.291 1182.38,653.291 1184.04,653.291 1185.7,653.291 \n",
       "  1187.36,653.291 1189.02,653.291 1190.69,653.291 1192.35,653.291 1194.01,653.291 1195.67,653.291 1197.33,653.291 1198.99,653.291 1200.65,653.291 1202.31,653.291 \n",
       "  1203.97,653.291 1205.63,653.291 1207.29,653.291 1208.95,653.291 1210.62,653.291 1212.28,653.291 1213.94,653.291 1215.6,653.291 1217.26,653.291 1218.92,653.291 \n",
       "  1220.58,653.291 1222.24,653.291 1223.9,653.291 1225.56,653.291 1227.22,653.291 1228.89,653.291 1230.55,653.291 1232.21,653.291 1233.87,653.291 1235.53,653.291 \n",
       "  1237.19,653.291 1238.85,653.291 1240.51,653.291 1242.17,653.291 1243.83,653.291 1245.49,653.291 1247.15,653.291 1248.82,653.291 1250.48,653.291 1252.14,653.291 \n",
       "  1253.8,653.291 1255.46,653.291 1257.12,653.291 1258.78,653.291 1260.44,653.291 1262.1,653.291 1263.76,653.291 1265.42,653.291 1267.09,653.291 1268.75,653.291 \n",
       "  1270.41,653.291 1272.07,653.291 1273.73,653.291 1275.39,653.291 1277.05,653.291 1278.71,653.291 1280.37,653.291 1282.03,653.291 1283.69,653.291 1285.35,653.291 \n",
       "  1287.02,653.291 1288.68,653.291 1290.34,653.291 1292,653.291 1293.66,653.291 1295.32,653.291 1296.98,653.291 1298.64,653.291 1300.3,653.291 1301.96,653.291 \n",
       "  1303.62,653.291 1305.29,653.291 1306.95,653.291 1308.61,653.291 1310.27,653.291 1311.93,653.291 1313.59,653.291 1315.25,653.291 1316.91,653.291 1318.57,653.291 \n",
       "  1320.23,653.291 1321.89,653.291 1323.56,653.291 1325.22,653.291 1326.88,653.291 1328.54,653.291 1330.2,653.291 1331.86,653.291 1333.52,653.291 1335.18,653.291 \n",
       "  1336.84,653.291 1338.5,653.291 1340.16,653.291 1341.82,653.291 1343.49,653.291 1345.15,653.291 1346.81,653.291 1348.47,653.291 1350.13,653.291 1351.79,653.291 \n",
       "  1353.45,653.291 1355.11,653.291 1356.77,653.291 1358.43,653.291 1360.09,653.291 1361.76,653.291 1363.42,653.291 1365.08,653.291 1366.74,653.291 1368.4,653.291 \n",
       "  1370.06,653.291 1371.72,653.291 1373.38,653.291 1375.04,653.291 1376.7,653.291 1378.36,653.291 1380.02,653.291 1381.69,653.291 1383.35,653.291 1385.01,653.291 \n",
       "  1386.67,653.291 1388.33,653.291 1389.99,653.291 1391.65,653.291 1393.31,653.291 1394.97,653.291 1396.63,653.291 1398.29,653.291 1399.96,653.291 1401.62,653.291 \n",
       "  1403.28,653.291 1404.94,653.291 1406.6,653.291 1408.26,653.291 1409.92,653.291 1411.58,653.291 1413.24,653.291 1414.9,653.291 1416.56,653.291 1418.22,653.291 \n",
       "  1419.89,653.291 1421.55,653.291 1423.21,653.291 1424.87,653.291 1426.53,653.291 1428.19,653.291 1429.85,653.291 1431.51,653.291 1433.17,653.291 1434.83,653.291 \n",
       "  1436.49,653.291 1438.16,653.291 1439.82,653.291 1441.48,653.291 1443.14,653.291 1444.8,653.291 1446.46,653.291 1448.12,653.291 1449.78,653.291 1451.44,653.291 \n",
       "  1453.1,653.291 1454.76,653.291 1456.43,653.291 1458.09,653.291 1459.75,653.291 1461.41,653.291 1463.07,653.291 1464.73,653.291 1466.39,653.291 1468.05,653.291 \n",
       "  1469.71,653.291 1471.37,653.291 1473.03,653.291 1474.69,653.291 1476.36,653.291 1478.02,653.291 1479.68,653.291 1481.34,653.291 1483,653.291 1484.66,653.291 \n",
       "  1486.32,653.291 1487.98,653.291 1489.64,653.291 1491.3,653.291 1492.96,653.291 1494.63,653.291 1496.29,653.291 1497.95,653.291 1499.61,653.291 1501.27,653.291 \n",
       "  1502.93,653.291 1504.59,653.291 1506.25,653.291 1507.91,653.291 1509.57,653.291 1511.23,653.291 1512.89,653.291 1514.56,653.291 1516.22,653.291 1517.88,653.291 \n",
       "  1519.54,653.291 1521.2,653.291 1522.86,653.291 1524.52,653.291 1526.18,653.291 1527.84,653.291 1529.5,653.291 1531.16,653.291 1532.83,653.291 1534.49,653.291 \n",
       "  1536.15,653.291 1537.81,653.291 1539.47,653.291 1541.13,653.291 1542.79,653.291 1544.45,653.291 1546.11,653.291 1547.77,653.291 1549.43,653.291 1551.1,653.291 \n",
       "  1552.76,653.291 \n",
       "  \"/>\n",
       "</svg>\n"
      ]
     },
     "metadata": {},
     "execution_count": 11
    }
   ],
   "cell_type": "code",
   "source": [
    "plot(Mrange,T0_over_T0star,xlim=(0,8),ylim=(0,2),xticks=0:1:8,xlabel=\"Mach number\",ylabel=L\"T_0/T_0^*\",legend=false)\n",
    "plot!(Mrange,0.75*ones(length(Mrange)),style=:dash)"
   ],
   "metadata": {},
   "execution_count": 11
  },
  {
   "cell_type": "markdown",
   "source": [
    "For example, if $T_0/T_0^* = 0.75$, there are two possible Mach numbers, one subsonic\n",
    "and one supersonic. The correct one depends on the circumstances."
   ],
   "metadata": {}
  },
  {
   "outputs": [
    {
     "output_type": "execute_result",
     "data": {
      "text/plain": "(MachNumber{Float64}(0.5423261445466405, \"MachNumber\"), MachNumber{Float64}(2.2360679774997907, \"MachNumber\"))"
     },
     "metadata": {},
     "execution_count": 12
    }
   ],
   "cell_type": "code",
   "source": [
    "Msub, Msup = MachNumber(TemperatureRatio(0.75),RayleighFlow,gas=Air)"
   ],
   "metadata": {},
   "execution_count": 12
  },
  {
   "outputs": [
    {
     "output_type": "execute_result",
     "data": {
      "text/plain": "MachNumber = 0.5423261445466405"
     },
     "metadata": {},
     "execution_count": 13
    }
   ],
   "cell_type": "code",
   "source": [
    "Msub"
   ],
   "metadata": {},
   "execution_count": 13
  },
  {
   "outputs": [
    {
     "output_type": "execute_result",
     "data": {
      "text/plain": "MachNumber = 2.2360679774997907"
     },
     "metadata": {},
     "execution_count": 14
    }
   ],
   "cell_type": "code",
   "source": [
    "Msup"
   ],
   "metadata": {},
   "execution_count": 14
  },
  {
   "cell_type": "markdown",
   "source": [
    "### Example\n",
    "Suppose the flow of air in a duct enters with velocity 75 m/s at a pressure of\n",
    "150 kPa and temperature 300 K. We add heat 900 kJ/kg. Find\n",
    "\n",
    "(a) The value of the Mach number at the entrance and exit\n",
    "\n",
    "(b) The velocity, pressure, and temperature at the exit\n",
    "\n",
    "(c) The maximum amount of heat we can add so that the flow is just choked"
   ],
   "metadata": {}
  },
  {
   "cell_type": "markdown",
   "source": [
    "Set the given values"
   ],
   "metadata": {}
  },
  {
   "outputs": [
    {
     "output_type": "execute_result",
     "data": {
      "text/plain": "HeatFlux = 900000.0 J kg⁻¹"
     },
     "metadata": {},
     "execution_count": 15
    }
   ],
   "cell_type": "code",
   "source": [
    "u1 = Velocity(75u\"m/s\")\n",
    "p1 = Pressure(150u\"kPa\")\n",
    "T1 = Temperature(300)\n",
    "q = HeatFlux(900u\"kJ/kg\")"
   ],
   "metadata": {},
   "execution_count": 15
  },
  {
   "cell_type": "markdown",
   "source": [
    "We can immediately find the Mach number at the location 1, by finding $c_1$:"
   ],
   "metadata": {}
  },
  {
   "outputs": [
    {
     "output_type": "execute_result",
     "data": {
      "text/plain": "MachNumber = 0.216020849610405"
     },
     "metadata": {},
     "execution_count": 16
    }
   ],
   "cell_type": "code",
   "source": [
    "c1 = SoundSpeed(T1,gas=Air)\n",
    "M1 = MachNumber(u1/c1)"
   ],
   "metadata": {},
   "execution_count": 16
  },
  {
   "cell_type": "markdown",
   "source": [
    "Now, use $M_1$ and $T_1$ to find $T_{01}$."
   ],
   "metadata": {}
  },
  {
   "outputs": [
    {
     "output_type": "execute_result",
     "data": {
      "text/plain": "StagnationTemperature = 302.79990044798404 K"
     },
     "metadata": {},
     "execution_count": 17
    }
   ],
   "cell_type": "code",
   "source": [
    "T01 = StagnationTemperature(T1,M1,Isentropic,gas=Air)"
   ],
   "metadata": {},
   "execution_count": 17
  },
  {
   "cell_type": "markdown",
   "source": [
    "Now let's focus on state 2. We will use the basic relation $h_{02} = h_{01} + q$\n",
    "to determine $T_{02}$."
   ],
   "metadata": {}
  },
  {
   "outputs": [
    {
     "output_type": "execute_result",
     "data": {
      "text/plain": "StagnationTemperature = 1198.768043802887 K"
     },
     "metadata": {},
     "execution_count": 18
    }
   ],
   "cell_type": "code",
   "source": [
    "h01 = StagnationEnthalpy(T01,gas=Air)\n",
    "h02 = StagnationEnthalpy(h01+q)\n",
    "T02 = StagnationTemperature(h02,gas=Air)"
   ],
   "metadata": {},
   "execution_count": 18
  },
  {
   "cell_type": "markdown",
   "source": [
    "To get the other states at location 2, we need the sonic reference conditions.\n",
    "For example, we will find\n",
    "\n",
    "$$T_{02}/T_{0}^*$$\n",
    "to determine $M_2$. We get this by calculating\n",
    "\n",
    "$$T_{0}^* = T_{01}/(T_{01}/T_{0}^*)$$"
   ],
   "metadata": {}
  },
  {
   "outputs": [
    {
     "output_type": "execute_result",
     "data": {
      "text/plain": "StagnationTemperature = 1520.0497967479669 K"
     },
     "metadata": {},
     "execution_count": 19
    }
   ],
   "cell_type": "code",
   "source": [
    "T0star = StagnationTemperature(T01/T0OverT0Star(M1,RayleighFlow,gas=Air))"
   ],
   "metadata": {},
   "execution_count": 19
  },
  {
   "outputs": [
    {
     "output_type": "execute_result",
     "data": {
      "text/plain": "TemperatureRatio = 0.788637350149687"
     },
     "metadata": {},
     "execution_count": 20
    }
   ],
   "cell_type": "code",
   "source": [
    "T02_over_T0star = TemperatureRatio(T02/T0star)"
   ],
   "metadata": {},
   "execution_count": 20
  },
  {
   "outputs": [
    {
     "output_type": "execute_result",
     "data": {
      "text/plain": "(MachNumber{Float64}(0.5733204685023365, \"MachNumber\"), MachNumber{Float64}(2.0239173983089973, \"MachNumber\"))"
     },
     "metadata": {},
     "execution_count": 21
    }
   ],
   "cell_type": "code",
   "source": [
    "M2sub, M2sup = MachNumber(T02_over_T0star,RayleighFlow,gas=Air)"
   ],
   "metadata": {},
   "execution_count": 21
  },
  {
   "cell_type": "markdown",
   "source": [
    "The subsonic one is the only possible candidate, because the flow came in at\n",
    "subsonic speed and can't have passed through Mach number 1. Thus"
   ],
   "metadata": {}
  },
  {
   "outputs": [
    {
     "output_type": "execute_result",
     "data": {
      "text/plain": "MachNumber = 0.5733204685023365"
     },
     "metadata": {},
     "execution_count": 22
    }
   ],
   "cell_type": "code",
   "source": [
    "M2 = M2sub"
   ],
   "metadata": {},
   "execution_count": 22
  },
  {
   "cell_type": "markdown",
   "source": [
    "We have increased the Mach number from 0.216 to 0.573 by adding heat."
   ],
   "metadata": {}
  },
  {
   "cell_type": "markdown",
   "source": [
    "Now find the other reference states that we will use:"
   ],
   "metadata": {}
  },
  {
   "outputs": [
    {
     "output_type": "execute_result",
     "data": {
      "text/plain": "Temperature = 1266.708163956639 K"
     },
     "metadata": {},
     "execution_count": 23
    }
   ],
   "cell_type": "code",
   "source": [
    "pstar = Pressure(p1/POverPStar(M1,RayleighFlow,gas=Air))\n",
    "ustar = Velocity(u1/VOverVStar(M1,RayleighFlow,gas=Air))\n",
    "Tstar = Temperature(T1/TOverTStar(M1,RayleighFlow,gas=Air))"
   ],
   "metadata": {},
   "execution_count": 23
  },
  {
   "cell_type": "markdown",
   "source": [
    "and now the values themselves. For example, we use $M_2$ to calculate $p_2/p^*$\n",
    "and then calculate $p_2 = p^*(p_2/p^*)$."
   ],
   "metadata": {}
  },
  {
   "outputs": [
    {
     "output_type": "execute_result",
     "data": {
      "text/plain": "Pressure = 109438.70572689772 Pa"
     },
     "metadata": {},
     "execution_count": 24
    }
   ],
   "cell_type": "code",
   "source": [
    "p2 = Pressure(pstar*POverPStar(M2,RayleighFlow,gas=Air))"
   ],
   "metadata": {},
   "execution_count": 24
  },
  {
   "outputs": [
    {
     "output_type": "execute_result",
     "data": {
      "text/plain": "Velocity = 385.4291055034761 m s⁻¹"
     },
     "metadata": {},
     "execution_count": 25
    }
   ],
   "cell_type": "code",
   "source": [
    "u2 = Velocity(ustar*VOverVStar(M2,RayleighFlow,gas=Air))"
   ],
   "metadata": {},
   "execution_count": 25
  },
  {
   "outputs": [
    {
     "output_type": "execute_result",
     "data": {
      "text/plain": "Temperature = 1124.822998820702 K"
     },
     "metadata": {},
     "execution_count": 26
    }
   ],
   "cell_type": "code",
   "source": [
    "T2 = Temperature(Tstar*TOverTStar(M2,RayleighFlow,gas=Air))"
   ],
   "metadata": {},
   "execution_count": 26
  },
  {
   "cell_type": "markdown",
   "source": [
    "Finally, let us calculate the maximum heat flux -- the heat flux that brings the\n",
    "flow just to sonic conditions when starting at the given conditions at location 1.\n",
    "This comes from\n",
    "\n",
    "$$q_{max} = h_{0}^* - h_{01} = c_p (T_0^* - T_{01})$$\n",
    "\n",
    "We have a convenience function for that, based on stagnation temperature:"
   ],
   "metadata": {}
  },
  {
   "outputs": [
    {
     "output_type": "execute_result",
     "data": {
      "text/plain": "HeatFlux = 1.2227275208333328e6 J kg⁻¹"
     },
     "metadata": {},
     "execution_count": 27
    }
   ],
   "cell_type": "code",
   "source": [
    "qmax = HeatFlux(T01,T0star,gas=Air)"
   ],
   "metadata": {},
   "execution_count": 27
  },
  {
   "outputs": [
    {
     "output_type": "execute_result",
     "data": {
      "text/plain": "1222.7275208333328 kJ kg⁻¹"
     },
     "metadata": {},
     "execution_count": 28
    }
   ],
   "cell_type": "code",
   "source": [
    "value(qmax,u\"kJ/kg\")"
   ],
   "metadata": {},
   "execution_count": 28
  },
  {
   "cell_type": "markdown",
   "source": [
    "Thus, we can add up to 1223 kJ/kg before the flow gets choked. Any more than that\n",
    "will cause the entrance conditions to change."
   ],
   "metadata": {}
  },
  {
   "cell_type": "markdown",
   "source": [
    "---\n",
    "\n",
    "*This notebook was generated using [Literate.jl](https://github.com/fredrikekre/Literate.jl).*"
   ],
   "metadata": {}
  }
 ],
 "nbformat_minor": 3,
 "metadata": {
  "language_info": {
   "file_extension": ".jl",
   "mimetype": "application/julia",
   "name": "julia",
   "version": "1.5.3"
  },
  "kernelspec": {
   "name": "julia-1.5",
   "display_name": "Julia 1.5.3",
   "language": "julia"
  }
 },
 "nbformat": 4
}
