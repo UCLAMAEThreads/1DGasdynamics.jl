{
 "cells": [
  {
   "cell_type": "markdown",
   "source": [
    "# Steady flow through a duct with heat transfer\n",
    "This notebook demonstrates the use of tools for computing steady compressible flow\n",
    "through a constant-area duct with heat transfer, commonly known as **Rayleigh flow**."
   ],
   "metadata": {}
  },
  {
   "cell_type": "markdown",
   "source": [
    "### Set up the module"
   ],
   "metadata": {}
  },
  {
   "outputs": [],
   "cell_type": "code",
   "source": [
    "using Gasdynamics1D"
   ],
   "metadata": {},
   "execution_count": 1
  },
  {
   "outputs": [],
   "cell_type": "code",
   "source": [
    "using Plots\n",
    "using LaTeXStrings"
   ],
   "metadata": {},
   "execution_count": 2
  },
  {
   "cell_type": "markdown",
   "source": [
    "#### Simple example\n",
    "In a duct with helium, if the flow enters with stagnation temperature of 20 degrees C,\n",
    "how much does the stagnation temperature change if we add heat 400 kJ/kg?"
   ],
   "metadata": {}
  },
  {
   "outputs": [
    {
     "output_type": "execute_result",
     "data": {
      "text/plain": "StagnationTemperature = 293.15 Kelvin"
     },
     "metadata": {},
     "execution_count": 3
    }
   ],
   "cell_type": "code",
   "source": [
    "q = HeatFlux(400,units=KJPerKG)\n",
    "T01 = StagnationTemperature(20,units=C)"
   ],
   "metadata": {},
   "execution_count": 3
  },
  {
   "cell_type": "markdown",
   "source": [
    "starting stagnation enthalpy"
   ],
   "metadata": {}
  },
  {
   "outputs": [
    {
     "output_type": "execute_result",
     "data": {
      "text/plain": "StagnationEnthalpy = 1.52218e6 JPerKG"
     },
     "metadata": {},
     "execution_count": 4
    }
   ],
   "cell_type": "code",
   "source": [
    "h01 = StagnationEnthalpy(T01,gas=He) # h01 = cp*T01"
   ],
   "metadata": {},
   "execution_count": 4
  },
  {
   "cell_type": "markdown",
   "source": [
    "add the heat"
   ],
   "metadata": {}
  },
  {
   "outputs": [
    {
     "output_type": "execute_result",
     "data": {
      "text/plain": "StagnationEnthalpy = 1.92218e6 JPerKG"
     },
     "metadata": {},
     "execution_count": 5
    }
   ],
   "cell_type": "code",
   "source": [
    "h02 = StagnationEnthalpy(h01 + q)"
   ],
   "metadata": {},
   "execution_count": 5
  },
  {
   "cell_type": "markdown",
   "source": [
    "calculate the final stagnation temperature"
   ],
   "metadata": {}
  },
  {
   "outputs": [
    {
     "output_type": "execute_result",
     "data": {
      "text/plain": "StagnationTemperature = 370.184 Kelvin"
     },
     "metadata": {},
     "execution_count": 6
    }
   ],
   "cell_type": "code",
   "source": [
    "T02 = StagnationTemperature(h02,gas=He)  # T02 = h02/cp"
   ],
   "metadata": {},
   "execution_count": 6
  },
  {
   "cell_type": "markdown",
   "source": [
    "Report the final value in Celsius:"
   ],
   "metadata": {}
  },
  {
   "outputs": [
    {
     "output_type": "execute_result",
     "data": {
      "text/plain": "97.03418391911407"
     },
     "metadata": {},
     "execution_count": 7
    }
   ],
   "cell_type": "code",
   "source": [
    "value(T02,C)"
   ],
   "metadata": {},
   "execution_count": 7
  },
  {
   "cell_type": "markdown",
   "source": [
    "so the flow exiting the duct has stagnation temperature 97 C."
   ],
   "metadata": {}
  },
  {
   "cell_type": "markdown",
   "source": [
    "The sonic state is used as a reference, similar to Fanno flow and isentropic flow.\n",
    "All states share the same $T_{0}^*$, $p^*$, $u^*$, etc, so we can relate two points\n",
    "via this reference. We have functions that allow us to do this. For example, to\n",
    "find the ratio of the local stagnation temperature to its sonic reference value\n",
    "at Mach number 0.5 in air:"
   ],
   "metadata": {}
  },
  {
   "outputs": [
    {
     "output_type": "execute_result",
     "data": {
      "text/plain": "TemperatureRatio = 0.691358 "
     },
     "metadata": {},
     "execution_count": 8
    }
   ],
   "cell_type": "code",
   "source": [
    "T0OverT0Star(MachNumber(0.5),RayleighFlow,gas=Air)"
   ],
   "metadata": {},
   "execution_count": 8
  },
  {
   "cell_type": "markdown",
   "source": [
    "Note that the argument `RayleighFlow` was used to designate this function's use.\n",
    "If the Mach number is 1, then..."
   ],
   "metadata": {}
  },
  {
   "outputs": [
    {
     "output_type": "execute_result",
     "data": {
      "text/plain": "TemperatureRatio = 1.0 "
     },
     "metadata": {},
     "execution_count": 9
    }
   ],
   "cell_type": "code",
   "source": [
    "T0OverT0Star(MachNumber(1),RayleighFlow,gas=Air)"
   ],
   "metadata": {},
   "execution_count": 9
  },
  {
   "cell_type": "markdown",
   "source": [
    "That is, $T_{0}$ is equal to $T_{0}^*$ when Mach number is 1, as it should be,\n",
    "by definition.\n",
    "Alternatively, if we know $T_0/T_0^*$, we can determine $M$. However, there are\n",
    "sometimes two possible values of Mach number, as with Fanno flow and isentropic flow."
   ],
   "metadata": {}
  },
  {
   "outputs": [],
   "cell_type": "code",
   "source": [
    "Mrange = range(0.001,8,length=801)\n",
    "T0_over_T0star = []\n",
    "for M in Mrange\n",
    "    push!(T0_over_T0star,value(T0OverT0Star(MachNumber(M),RayleighFlow,gas=Air)))\n",
    "end"
   ],
   "metadata": {},
   "execution_count": 10
  },
  {
   "outputs": [
    {
     "output_type": "execute_result",
     "data": {
      "text/plain": "Plot{Plots.GRBackend() n=2}",
      "image/png": "[encoded data removed]",
      "text/html": [
       "<?xml version=\"1.0\" encoding=\"utf-8\"?>\n",
       "<svg xmlns=\"http://www.w3.org/2000/svg\" xmlns:xlink=\"http://www.w3.org/1999/xlink\" width=\"600\" height=\"400\" viewBox=\"0 0 2400 1600\">\n",
       "<defs>\n",
       "  <clipPath id=\"clip210\">\n",
       "    <rect x=\"0\" y=\"0\" width=\"2400\" height=\"1600\"/>\n",
       "  </clipPath>\n",
       "</defs>\n",
       "<path clip-path=\"url(#clip210)\" d=\"\n",
       "M0 1600 L2400 1600 L2400 0 L0 0  Z\n",
       "  \" fill=\"#ffffff\" fill-rule=\"evenodd\" fill-opacity=\"1\"/>\n",
       "<defs>\n",
       "  <clipPath id=\"clip211\">\n",
       "    <rect x=\"480\" y=\"0\" width=\"1681\" height=\"1600\"/>\n",
       "  </clipPath>\n",
       "</defs>\n",
       "<defs>\n",
       "  <clipPath id=\"clip212\">\n",
       "    <rect x=\"223\" y=\"47\" width=\"2130\" height=\"1377\"/>\n",
       "  </clipPath>\n",
       "</defs>\n",
       "<path clip-path=\"url(#clip210)\" d=\"\n",
       "M223.996 1423.18 L2352.76 1423.18 L2352.76 47.2441 L223.996 47.2441  Z\n",
       "  \" fill=\"#ffffff\" fill-rule=\"evenodd\" fill-opacity=\"1\"/>\n",
       "<polyline clip-path=\"url(#clip212)\" style=\"stroke:#000000; stroke-width:2; stroke-opacity:0.1; fill:none\" points=\"\n",
       "  223.996,1423.18 223.996,47.2441 \n",
       "  \"/>\n",
       "<polyline clip-path=\"url(#clip212)\" style=\"stroke:#000000; stroke-width:2; stroke-opacity:0.1; fill:none\" points=\"\n",
       "  490.091,1423.18 490.091,47.2441 \n",
       "  \"/>\n",
       "<polyline clip-path=\"url(#clip212)\" style=\"stroke:#000000; stroke-width:2; stroke-opacity:0.1; fill:none\" points=\"\n",
       "  756.186,1423.18 756.186,47.2441 \n",
       "  \"/>\n",
       "<polyline clip-path=\"url(#clip212)\" style=\"stroke:#000000; stroke-width:2; stroke-opacity:0.1; fill:none\" points=\"\n",
       "  1022.28,1423.18 1022.28,47.2441 \n",
       "  \"/>\n",
       "<polyline clip-path=\"url(#clip212)\" style=\"stroke:#000000; stroke-width:2; stroke-opacity:0.1; fill:none\" points=\"\n",
       "  1288.38,1423.18 1288.38,47.2441 \n",
       "  \"/>\n",
       "<polyline clip-path=\"url(#clip212)\" style=\"stroke:#000000; stroke-width:2; stroke-opacity:0.1; fill:none\" points=\"\n",
       "  1554.47,1423.18 1554.47,47.2441 \n",
       "  \"/>\n",
       "<polyline clip-path=\"url(#clip212)\" style=\"stroke:#000000; stroke-width:2; stroke-opacity:0.1; fill:none\" points=\"\n",
       "  1820.57,1423.18 1820.57,47.2441 \n",
       "  \"/>\n",
       "<polyline clip-path=\"url(#clip212)\" style=\"stroke:#000000; stroke-width:2; stroke-opacity:0.1; fill:none\" points=\"\n",
       "  2086.66,1423.18 2086.66,47.2441 \n",
       "  \"/>\n",
       "<polyline clip-path=\"url(#clip212)\" style=\"stroke:#000000; stroke-width:2; stroke-opacity:0.1; fill:none\" points=\"\n",
       "  2352.76,1423.18 2352.76,47.2441 \n",
       "  \"/>\n",
       "<polyline clip-path=\"url(#clip210)\" style=\"stroke:#000000; stroke-width:4; stroke-opacity:1; fill:none\" points=\"\n",
       "  223.996,1423.18 2352.76,1423.18 \n",
       "  \"/>\n",
       "<polyline clip-path=\"url(#clip210)\" style=\"stroke:#000000; stroke-width:4; stroke-opacity:1; fill:none\" points=\"\n",
       "  223.996,1423.18 223.996,1406.67 \n",
       "  \"/>\n",
       "<polyline clip-path=\"url(#clip210)\" style=\"stroke:#000000; stroke-width:4; stroke-opacity:1; fill:none\" points=\"\n",
       "  490.091,1423.18 490.091,1406.67 \n",
       "  \"/>\n",
       "<polyline clip-path=\"url(#clip210)\" style=\"stroke:#000000; stroke-width:4; stroke-opacity:1; fill:none\" points=\"\n",
       "  756.186,1423.18 756.186,1406.67 \n",
       "  \"/>\n",
       "<polyline clip-path=\"url(#clip210)\" style=\"stroke:#000000; stroke-width:4; stroke-opacity:1; fill:none\" points=\"\n",
       "  1022.28,1423.18 1022.28,1406.67 \n",
       "  \"/>\n",
       "<polyline clip-path=\"url(#clip210)\" style=\"stroke:#000000; stroke-width:4; stroke-opacity:1; fill:none\" points=\"\n",
       "  1288.38,1423.18 1288.38,1406.67 \n",
       "  \"/>\n",
       "<polyline clip-path=\"url(#clip210)\" style=\"stroke:#000000; stroke-width:4; stroke-opacity:1; fill:none\" points=\"\n",
       "  1554.47,1423.18 1554.47,1406.67 \n",
       "  \"/>\n",
       "<polyline clip-path=\"url(#clip210)\" style=\"stroke:#000000; stroke-width:4; stroke-opacity:1; fill:none\" points=\"\n",
       "  1820.57,1423.18 1820.57,1406.67 \n",
       "  \"/>\n",
       "<polyline clip-path=\"url(#clip210)\" style=\"stroke:#000000; stroke-width:4; stroke-opacity:1; fill:none\" points=\"\n",
       "  2086.66,1423.18 2086.66,1406.67 \n",
       "  \"/>\n",
       "<polyline clip-path=\"url(#clip210)\" style=\"stroke:#000000; stroke-width:4; stroke-opacity:1; fill:none\" points=\"\n",
       "  2352.76,1423.18 2352.76,1406.67 \n",
       "  \"/>\n",
       "<path clip-path=\"url(#clip210)\" d=\"M 0 0 M223.996 1452.37 Q220.385 1452.37 218.557 1455.94 Q216.751 1459.48 216.751 1466.61 Q216.751 1473.71 218.557 1477.28 Q220.385 1480.82 223.996 1480.82 Q227.631 1480.82 229.436 1477.28 Q231.265 1473.71 231.265 1466.61 Q231.265 1459.48 229.436 1455.94 Q227.631 1452.37 223.996 1452.37 M223.996 1448.67 Q229.806 1448.67 232.862 1453.27 Q235.941 1457.86 235.941 1466.61 Q235.941 1475.33 232.862 1479.94 Q229.806 1484.52 223.996 1484.52 Q218.186 1484.52 215.107 1479.94 Q212.052 1475.33 212.052 1466.61 Q212.052 1457.86 215.107 1453.27 Q218.186 1448.67 223.996 1448.67 Z\" fill=\"#000000\" fill-rule=\"evenodd\" fill-opacity=\"1\" /><path clip-path=\"url(#clip210)\" d=\"M 0 0 M480.473 1479.92 L488.112 1479.92 L488.112 1453.55 L479.802 1455.22 L479.802 1450.96 L488.066 1449.29 L492.742 1449.29 L492.742 1479.92 L500.381 1479.92 L500.381 1483.85 L480.473 1483.85 L480.473 1479.92 Z\" fill=\"#000000\" fill-rule=\"evenodd\" fill-opacity=\"1\" /><path clip-path=\"url(#clip210)\" d=\"M 0 0 M750.839 1479.92 L767.158 1479.92 L767.158 1483.85 L745.214 1483.85 L745.214 1479.92 Q747.876 1477.16 752.459 1472.53 Q757.066 1467.88 758.246 1466.54 Q760.492 1464.01 761.371 1462.28 Q762.274 1460.52 762.274 1458.83 Q762.274 1456.07 760.33 1454.34 Q758.408 1452.6 755.307 1452.6 Q753.108 1452.6 750.654 1453.37 Q748.223 1454.13 745.446 1455.68 L745.446 1450.96 Q748.27 1449.82 750.723 1449.25 Q753.177 1448.67 755.214 1448.67 Q760.584 1448.67 763.779 1451.35 Q766.973 1454.04 766.973 1458.53 Q766.973 1460.66 766.163 1462.58 Q765.376 1464.48 763.27 1467.07 Q762.691 1467.74 759.589 1470.96 Q756.487 1474.15 750.839 1479.92 Z\" fill=\"#000000\" fill-rule=\"evenodd\" fill-opacity=\"1\" /><path clip-path=\"url(#clip210)\" d=\"M 0 0 M1026.53 1465.22 Q1029.89 1465.94 1031.76 1468.2 Q1033.66 1470.47 1033.66 1473.81 Q1033.66 1478.92 1030.14 1481.72 Q1026.62 1484.52 1020.14 1484.52 Q1017.96 1484.52 1015.65 1484.08 Q1013.36 1483.67 1010.9 1482.81 L1010.9 1478.3 Q1012.85 1479.43 1015.16 1480.01 Q1017.48 1480.59 1020 1480.59 Q1024.4 1480.59 1026.69 1478.85 Q1029.01 1477.12 1029.01 1473.81 Q1029.01 1470.75 1026.85 1469.04 Q1024.72 1467.3 1020.9 1467.3 L1016.88 1467.3 L1016.88 1463.46 L1021.09 1463.46 Q1024.54 1463.46 1026.37 1462.09 Q1028.2 1460.7 1028.2 1458.11 Q1028.2 1455.45 1026.3 1454.04 Q1024.42 1452.6 1020.9 1452.6 Q1018.98 1452.6 1016.78 1453.02 Q1014.58 1453.44 1011.95 1454.31 L1011.95 1450.15 Q1014.61 1449.41 1016.92 1449.04 Q1019.26 1448.67 1021.32 1448.67 Q1026.64 1448.67 1029.75 1451.1 Q1032.85 1453.5 1032.85 1457.63 Q1032.85 1460.5 1031.2 1462.49 Q1029.56 1464.45 1026.53 1465.22 Z\" fill=\"#000000\" fill-rule=\"evenodd\" fill-opacity=\"1\" /><path clip-path=\"url(#clip210)\" d=\"M 0 0 M1291.39 1453.37 L1279.58 1471.81 L1291.39 1471.81 L1291.39 1453.37 M1290.16 1449.29 L1296.04 1449.29 L1296.04 1471.81 L1300.97 1471.81 L1300.97 1475.7 L1296.04 1475.7 L1296.04 1483.85 L1291.39 1483.85 L1291.39 1475.7 L1275.78 1475.7 L1275.78 1471.19 L1290.16 1449.29 Z\" fill=\"#000000\" fill-rule=\"evenodd\" fill-opacity=\"1\" /><path clip-path=\"url(#clip210)\" d=\"M 0 0 M1544.75 1449.29 L1563.11 1449.29 L1563.11 1453.23 L1549.03 1453.23 L1549.03 1461.7 Q1550.05 1461.35 1551.07 1461.19 Q1552.09 1461 1553.11 1461 Q1558.89 1461 1562.27 1464.18 Q1565.65 1467.35 1565.65 1472.76 Q1565.65 1478.34 1562.18 1481.44 Q1558.71 1484.52 1552.39 1484.52 Q1550.21 1484.52 1547.94 1484.15 Q1545.7 1483.78 1543.29 1483.04 L1543.29 1478.34 Q1545.37 1479.48 1547.6 1480.03 Q1549.82 1480.59 1552.3 1480.59 Q1556.3 1480.59 1558.64 1478.48 Q1560.98 1476.38 1560.98 1472.76 Q1560.98 1469.15 1558.64 1467.05 Q1556.3 1464.94 1552.3 1464.94 Q1550.42 1464.94 1548.55 1465.36 Q1546.69 1465.77 1544.75 1466.65 L1544.75 1449.29 Z\" fill=\"#000000\" fill-rule=\"evenodd\" fill-opacity=\"1\" /><path clip-path=\"url(#clip210)\" d=\"M 0 0 M1820.97 1464.71 Q1817.82 1464.71 1815.97 1466.86 Q1814.14 1469.01 1814.14 1472.76 Q1814.14 1476.49 1815.97 1478.67 Q1817.82 1480.82 1820.97 1480.82 Q1824.12 1480.82 1825.95 1478.67 Q1827.8 1476.49 1827.8 1472.76 Q1827.8 1469.01 1825.95 1466.86 Q1824.12 1464.71 1820.97 1464.71 M1830.25 1450.06 L1830.25 1454.31 Q1828.49 1453.48 1826.69 1453.04 Q1824.91 1452.6 1823.15 1452.6 Q1818.52 1452.6 1816.06 1455.73 Q1813.63 1458.85 1813.29 1465.17 Q1814.65 1463.16 1816.71 1462.09 Q1818.77 1461 1821.25 1461 Q1826.46 1461 1829.47 1464.18 Q1832.5 1467.32 1832.5 1472.76 Q1832.5 1478.09 1829.35 1481.31 Q1826.2 1484.52 1820.97 1484.52 Q1814.98 1484.52 1811.8 1479.94 Q1808.63 1475.33 1808.63 1466.61 Q1808.63 1458.41 1812.52 1453.55 Q1816.41 1448.67 1822.96 1448.67 Q1824.72 1448.67 1826.5 1449.01 Q1828.31 1449.36 1830.25 1450.06 Z\" fill=\"#000000\" fill-rule=\"evenodd\" fill-opacity=\"1\" /><path clip-path=\"url(#clip210)\" d=\"M 0 0 M2075.55 1449.29 L2097.77 1449.29 L2097.77 1451.28 L2085.23 1483.85 L2080.34 1483.85 L2092.15 1453.23 L2075.55 1453.23 L2075.55 1449.29 Z\" fill=\"#000000\" fill-rule=\"evenodd\" fill-opacity=\"1\" /><path clip-path=\"url(#clip210)\" d=\"M 0 0 M2352.76 1467.44 Q2349.42 1467.44 2347.5 1469.22 Q2345.6 1471 2345.6 1474.13 Q2345.6 1477.25 2347.5 1479.04 Q2349.42 1480.82 2352.76 1480.82 Q2356.09 1480.82 2358.01 1479.04 Q2359.93 1477.23 2359.93 1474.13 Q2359.93 1471 2358.01 1469.22 Q2356.11 1467.44 2352.76 1467.44 M2348.08 1465.45 Q2345.07 1464.71 2343.38 1462.65 Q2341.71 1460.59 2341.71 1457.63 Q2341.71 1453.48 2344.65 1451.07 Q2347.62 1448.67 2352.76 1448.67 Q2357.92 1448.67 2360.86 1451.07 Q2363.8 1453.48 2363.8 1457.63 Q2363.8 1460.59 2362.11 1462.65 Q2360.44 1464.71 2357.45 1465.45 Q2360.83 1466.24 2362.71 1468.53 Q2364.61 1470.82 2364.61 1474.13 Q2364.61 1479.15 2361.53 1481.84 Q2358.47 1484.52 2352.76 1484.52 Q2347.04 1484.52 2343.96 1481.84 Q2340.9 1479.15 2340.9 1474.13 Q2340.9 1470.82 2342.8 1468.53 Q2344.7 1466.24 2348.08 1465.45 M2346.37 1458.06 Q2346.37 1460.75 2348.03 1462.25 Q2349.72 1463.76 2352.76 1463.76 Q2355.77 1463.76 2357.45 1462.25 Q2359.17 1460.75 2359.17 1458.06 Q2359.17 1455.38 2357.45 1453.88 Q2355.77 1452.37 2352.76 1452.37 Q2349.72 1452.37 2348.03 1453.88 Q2346.37 1455.38 2346.37 1458.06 Z\" fill=\"#000000\" fill-rule=\"evenodd\" fill-opacity=\"1\" /><path clip-path=\"url(#clip210)\" d=\"M 0 0 M1090.29 1520.52 L1099.87 1520.52 L1112 1552.86 L1124.19 1520.52 L1133.77 1520.52 L1133.77 1568.04 L1127.5 1568.04 L1127.5 1526.32 L1115.24 1558.91 L1108.78 1558.91 L1096.53 1526.32 L1096.53 1568.04 L1090.29 1568.04 L1090.29 1520.52 Z\" fill=\"#000000\" fill-rule=\"evenodd\" fill-opacity=\"1\" /><path clip-path=\"url(#clip210)\" d=\"M 0 0 M1156.11 1550.12 Q1149.01 1550.12 1146.28 1551.75 Q1143.54 1553.37 1143.54 1557.29 Q1143.54 1560.4 1145.58 1562.25 Q1147.65 1564.07 1151.18 1564.07 Q1156.05 1564.07 1158.98 1560.63 Q1161.94 1557.16 1161.94 1551.43 L1161.94 1550.12 L1156.11 1550.12 M1167.79 1547.71 L1167.79 1568.04 L1161.94 1568.04 L1161.94 1562.63 Q1159.93 1565.88 1156.94 1567.44 Q1153.95 1568.97 1149.62 1568.97 Q1144.15 1568.97 1140.9 1565.91 Q1137.68 1562.82 1137.68 1557.67 Q1137.68 1551.65 1141.69 1548.6 Q1145.74 1545.54 1153.73 1545.54 L1161.94 1545.54 L1161.94 1544.97 Q1161.94 1540.93 1159.26 1538.73 Q1156.62 1536.5 1151.82 1536.5 Q1148.76 1536.5 1145.86 1537.23 Q1142.97 1537.97 1140.29 1539.43 L1140.29 1534.02 Q1143.51 1532.78 1146.53 1532.17 Q1149.56 1531.54 1152.42 1531.54 Q1160.15 1531.54 1163.97 1535.55 Q1167.79 1539.56 1167.79 1547.71 Z\" fill=\"#000000\" fill-rule=\"evenodd\" fill-opacity=\"1\" /><path clip-path=\"url(#clip210)\" d=\"M 0 0 M1199.59 1533.76 L1199.59 1539.24 Q1197.11 1537.87 1194.59 1537.2 Q1192.11 1536.5 1189.56 1536.5 Q1183.87 1536.5 1180.72 1540.13 Q1177.57 1543.73 1177.57 1550.25 Q1177.57 1556.78 1180.72 1560.4 Q1183.87 1564 1189.56 1564 Q1192.11 1564 1194.59 1563.33 Q1197.11 1562.63 1199.59 1561.26 L1199.59 1566.68 Q1197.14 1567.82 1194.5 1568.39 Q1191.89 1568.97 1188.93 1568.97 Q1180.88 1568.97 1176.13 1563.91 Q1171.39 1558.85 1171.39 1550.25 Q1171.39 1541.53 1176.16 1536.53 Q1180.97 1531.54 1189.31 1531.54 Q1192.02 1531.54 1194.59 1532.11 Q1197.17 1532.65 1199.59 1533.76 Z\" fill=\"#000000\" fill-rule=\"evenodd\" fill-opacity=\"1\" /><path clip-path=\"url(#clip210)\" d=\"M 0 0 M1235.37 1546.53 L1235.37 1568.04 L1229.51 1568.04 L1229.51 1546.72 Q1229.51 1541.66 1227.54 1539.14 Q1225.56 1536.63 1221.62 1536.63 Q1216.87 1536.63 1214.14 1539.65 Q1211.4 1542.68 1211.4 1547.9 L1211.4 1568.04 L1205.51 1568.04 L1205.51 1518.52 L1211.4 1518.52 L1211.4 1537.93 Q1213.5 1534.72 1216.33 1533.13 Q1219.2 1531.54 1222.92 1531.54 Q1229.06 1531.54 1232.21 1535.36 Q1235.37 1539.14 1235.37 1546.53 Z\" fill=\"#000000\" fill-rule=\"evenodd\" fill-opacity=\"1\" /><path clip-path=\"url(#clip210)\" d=\"M 0 0 M1291.86 1546.53 L1291.86 1568.04 L1286 1568.04 L1286 1546.72 Q1286 1541.66 1284.03 1539.14 Q1282.06 1536.63 1278.11 1536.63 Q1273.37 1536.63 1270.63 1539.65 Q1267.89 1542.68 1267.89 1547.9 L1267.89 1568.04 L1262.01 1568.04 L1262.01 1532.4 L1267.89 1532.4 L1267.89 1537.93 Q1270 1534.72 1272.83 1533.13 Q1275.69 1531.54 1279.42 1531.54 Q1285.56 1531.54 1288.71 1535.36 Q1291.86 1539.14 1291.86 1546.53 Z\" fill=\"#000000\" fill-rule=\"evenodd\" fill-opacity=\"1\" /><path clip-path=\"url(#clip210)\" d=\"M 0 0 M1297.4 1553.98 L1297.4 1532.4 L1303.26 1532.4 L1303.26 1553.75 Q1303.26 1558.81 1305.23 1561.36 Q1307.2 1563.87 1311.15 1563.87 Q1315.89 1563.87 1318.63 1560.85 Q1321.4 1557.83 1321.4 1552.61 L1321.4 1532.4 L1327.25 1532.4 L1327.25 1568.04 L1321.4 1568.04 L1321.4 1562.57 Q1319.27 1565.82 1316.43 1567.41 Q1313.63 1568.97 1309.91 1568.97 Q1303.77 1568.97 1300.58 1565.15 Q1297.4 1561.33 1297.4 1553.98 M1312.14 1531.54 L1312.14 1531.54 Z\" fill=\"#000000\" fill-rule=\"evenodd\" fill-opacity=\"1\" /><path clip-path=\"url(#clip210)\" d=\"M 0 0 M1361.15 1539.24 Q1363.35 1535.29 1366.4 1533.41 Q1369.46 1531.54 1373.6 1531.54 Q1379.17 1531.54 1382.19 1535.45 Q1385.21 1539.33 1385.21 1546.53 L1385.21 1568.04 L1379.33 1568.04 L1379.33 1546.72 Q1379.33 1541.59 1377.51 1539.11 Q1375.7 1536.63 1371.97 1536.63 Q1367.42 1536.63 1364.78 1539.65 Q1362.14 1542.68 1362.14 1547.9 L1362.14 1568.04 L1356.25 1568.04 L1356.25 1546.72 Q1356.25 1541.56 1354.44 1539.11 Q1352.62 1536.63 1348.83 1536.63 Q1344.35 1536.63 1341.7 1539.68 Q1339.06 1542.71 1339.06 1547.9 L1339.06 1568.04 L1333.17 1568.04 L1333.17 1532.4 L1339.06 1532.4 L1339.06 1537.93 Q1341.07 1534.66 1343.87 1533.1 Q1346.67 1531.54 1350.52 1531.54 Q1354.4 1531.54 1357.11 1533.51 Q1359.85 1535.48 1361.15 1539.24 Z\" fill=\"#000000\" fill-rule=\"evenodd\" fill-opacity=\"1\" /><path clip-path=\"url(#clip210)\" d=\"M 0 0 M1416.95 1550.25 Q1416.95 1543.79 1414.27 1540.13 Q1411.63 1536.44 1406.99 1536.44 Q1402.34 1536.44 1399.66 1540.13 Q1397.02 1543.79 1397.02 1550.25 Q1397.02 1556.71 1399.66 1560.4 Q1402.34 1564.07 1406.99 1564.07 Q1411.63 1564.07 1414.27 1560.4 Q1416.95 1556.71 1416.95 1550.25 M1397.02 1537.81 Q1398.87 1534.62 1401.67 1533.1 Q1404.5 1531.54 1408.42 1531.54 Q1414.91 1531.54 1418.95 1536.69 Q1423.03 1541.85 1423.03 1550.25 Q1423.03 1558.65 1418.95 1563.81 Q1414.91 1568.97 1408.42 1568.97 Q1404.5 1568.97 1401.67 1567.44 Q1398.87 1565.88 1397.02 1562.7 L1397.02 1568.04 L1391.13 1568.04 L1391.13 1518.52 L1397.02 1518.52 L1397.02 1537.81 Z\" fill=\"#000000\" fill-rule=\"evenodd\" fill-opacity=\"1\" /><path clip-path=\"url(#clip210)\" d=\"M 0 0 M1459.66 1548.76 L1459.66 1551.62 L1432.73 1551.62 Q1433.12 1557.67 1436.36 1560.85 Q1439.64 1564 1445.47 1564 Q1448.84 1564 1451.99 1563.17 Q1455.17 1562.35 1458.29 1560.69 L1458.29 1566.23 Q1455.14 1567.57 1451.83 1568.27 Q1448.52 1568.97 1445.12 1568.97 Q1436.59 1568.97 1431.59 1564 Q1426.62 1559.04 1426.62 1550.57 Q1426.62 1541.82 1431.33 1536.69 Q1436.08 1531.54 1444.1 1531.54 Q1451.29 1531.54 1455.46 1536.18 Q1459.66 1540.8 1459.66 1548.76 M1453.8 1547.04 Q1453.74 1542.23 1451.1 1539.37 Q1448.49 1536.5 1444.16 1536.5 Q1439.26 1536.5 1436.3 1539.27 Q1433.37 1542.04 1432.93 1547.07 L1453.8 1547.04 Z\" fill=\"#000000\" fill-rule=\"evenodd\" fill-opacity=\"1\" /><path clip-path=\"url(#clip210)\" d=\"M 0 0 M1486.46 1537.87 Q1485.47 1537.3 1484.3 1537.04 Q1483.15 1536.76 1481.75 1536.76 Q1476.79 1536.76 1474.11 1540 Q1471.47 1543.22 1471.47 1549.27 L1471.47 1568.04 L1465.58 1568.04 L1465.58 1532.4 L1471.47 1532.4 L1471.47 1537.93 Q1473.32 1534.69 1476.28 1533.13 Q1479.24 1531.54 1483.47 1531.54 Q1484.07 1531.54 1484.81 1531.63 Q1485.54 1531.7 1486.43 1531.85 L1486.46 1537.87 Z\" fill=\"#000000\" fill-rule=\"evenodd\" fill-opacity=\"1\" /><polyline clip-path=\"url(#clip212)\" style=\"stroke:#000000; stroke-width:2; stroke-opacity:0.1; fill:none\" points=\"\n",
       "  223.996,1423.18 2352.76,1423.18 \n",
       "  \"/>\n",
       "<polyline clip-path=\"url(#clip212)\" style=\"stroke:#000000; stroke-width:2; stroke-opacity:0.1; fill:none\" points=\"\n",
       "  223.996,1079.2 2352.76,1079.2 \n",
       "  \"/>\n",
       "<polyline clip-path=\"url(#clip212)\" style=\"stroke:#000000; stroke-width:2; stroke-opacity:0.1; fill:none\" points=\"\n",
       "  223.996,735.212 2352.76,735.212 \n",
       "  \"/>\n",
       "<polyline clip-path=\"url(#clip212)\" style=\"stroke:#000000; stroke-width:2; stroke-opacity:0.1; fill:none\" points=\"\n",
       "  223.996,391.228 2352.76,391.228 \n",
       "  \"/>\n",
       "<polyline clip-path=\"url(#clip212)\" style=\"stroke:#000000; stroke-width:2; stroke-opacity:0.1; fill:none\" points=\"\n",
       "  223.996,47.2441 2352.76,47.2441 \n",
       "  \"/>\n",
       "<polyline clip-path=\"url(#clip210)\" style=\"stroke:#000000; stroke-width:4; stroke-opacity:1; fill:none\" points=\"\n",
       "  223.996,1423.18 223.996,47.2441 \n",
       "  \"/>\n",
       "<polyline clip-path=\"url(#clip210)\" style=\"stroke:#000000; stroke-width:4; stroke-opacity:1; fill:none\" points=\"\n",
       "  223.996,1423.18 249.541,1423.18 \n",
       "  \"/>\n",
       "<polyline clip-path=\"url(#clip210)\" style=\"stroke:#000000; stroke-width:4; stroke-opacity:1; fill:none\" points=\"\n",
       "  223.996,1079.2 249.541,1079.2 \n",
       "  \"/>\n",
       "<polyline clip-path=\"url(#clip210)\" style=\"stroke:#000000; stroke-width:4; stroke-opacity:1; fill:none\" points=\"\n",
       "  223.996,735.212 249.541,735.212 \n",
       "  \"/>\n",
       "<polyline clip-path=\"url(#clip210)\" style=\"stroke:#000000; stroke-width:4; stroke-opacity:1; fill:none\" points=\"\n",
       "  223.996,391.228 249.541,391.228 \n",
       "  \"/>\n",
       "<polyline clip-path=\"url(#clip210)\" style=\"stroke:#000000; stroke-width:4; stroke-opacity:1; fill:none\" points=\"\n",
       "  223.996,47.2441 249.541,47.2441 \n",
       "  \"/>\n",
       "<path clip-path=\"url(#clip210)\" d=\"M 0 0 M139.085 1408.98 Q135.473 1408.98 133.645 1412.54 Q131.839 1416.08 131.839 1423.21 Q131.839 1430.32 133.645 1433.89 Q135.473 1437.43 139.085 1437.43 Q142.719 1437.43 144.524 1433.89 Q146.353 1430.32 146.353 1423.21 Q146.353 1416.08 144.524 1412.54 Q142.719 1408.98 139.085 1408.98 M139.085 1405.27 Q144.895 1405.27 147.95 1409.88 Q151.029 1414.46 151.029 1423.21 Q151.029 1431.94 147.95 1436.55 Q144.895 1441.13 139.085 1441.13 Q133.274 1441.13 130.196 1436.55 Q127.14 1431.94 127.14 1423.21 Q127.14 1414.46 130.196 1409.88 Q133.274 1405.27 139.085 1405.27 Z\" fill=\"#000000\" fill-rule=\"evenodd\" fill-opacity=\"1\" /><path clip-path=\"url(#clip210)\" d=\"M 0 0 M156.098 1434.58 L160.983 1434.58 L160.983 1440.46 L156.098 1440.46 L156.098 1434.58 Z\" fill=\"#000000\" fill-rule=\"evenodd\" fill-opacity=\"1\" /><path clip-path=\"url(#clip210)\" d=\"M 0 0 M176.052 1408.98 Q172.441 1408.98 170.612 1412.54 Q168.807 1416.08 168.807 1423.21 Q168.807 1430.32 170.612 1433.89 Q172.441 1437.43 176.052 1437.43 Q179.686 1437.43 181.492 1433.89 Q183.32 1430.32 183.32 1423.21 Q183.32 1416.08 181.492 1412.54 Q179.686 1408.98 176.052 1408.98 M176.052 1405.27 Q181.862 1405.27 184.918 1409.88 Q187.996 1414.46 187.996 1423.21 Q187.996 1431.94 184.918 1436.55 Q181.862 1441.13 176.052 1441.13 Q170.242 1441.13 167.163 1436.55 Q164.108 1431.94 164.108 1423.21 Q164.108 1414.46 167.163 1409.88 Q170.242 1405.27 176.052 1405.27 Z\" fill=\"#000000\" fill-rule=\"evenodd\" fill-opacity=\"1\" /><path clip-path=\"url(#clip210)\" d=\"M 0 0 M140.08 1064.99 Q136.469 1064.99 134.64 1068.56 Q132.835 1072.1 132.835 1079.23 Q132.835 1086.34 134.64 1089.9 Q136.469 1093.44 140.08 1093.44 Q143.714 1093.44 145.52 1089.9 Q147.348 1086.34 147.348 1079.23 Q147.348 1072.1 145.52 1068.56 Q143.714 1064.99 140.08 1064.99 M140.08 1061.29 Q145.89 1061.29 148.946 1065.9 Q152.024 1070.48 152.024 1079.23 Q152.024 1087.96 148.946 1092.56 Q145.89 1097.15 140.08 1097.15 Q134.27 1097.15 131.191 1092.56 Q128.136 1087.96 128.136 1079.23 Q128.136 1070.48 131.191 1065.9 Q134.27 1061.29 140.08 1061.29 Z\" fill=\"#000000\" fill-rule=\"evenodd\" fill-opacity=\"1\" /><path clip-path=\"url(#clip210)\" d=\"M 0 0 M157.094 1090.6 L161.978 1090.6 L161.978 1096.48 L157.094 1096.48 L157.094 1090.6 Z\" fill=\"#000000\" fill-rule=\"evenodd\" fill-opacity=\"1\" /><path clip-path=\"url(#clip210)\" d=\"M 0 0 M167.094 1061.92 L185.45 1061.92 L185.45 1065.85 L171.376 1065.85 L171.376 1074.32 Q172.395 1073.98 173.413 1073.81 Q174.432 1073.63 175.45 1073.63 Q181.237 1073.63 184.617 1076.8 Q187.996 1079.97 187.996 1085.39 Q187.996 1090.97 184.524 1094.07 Q181.052 1097.15 174.733 1097.15 Q172.557 1097.15 170.288 1096.78 Q168.043 1096.41 165.635 1095.67 L165.635 1090.97 Q167.719 1092.1 169.941 1092.66 Q172.163 1093.21 174.64 1093.21 Q178.645 1093.21 180.982 1091.11 Q183.32 1089 183.32 1085.39 Q183.32 1081.78 180.982 1079.67 Q178.645 1077.56 174.64 1077.56 Q172.765 1077.56 170.89 1077.98 Q169.038 1078.4 167.094 1079.28 L167.094 1061.92 Z\" fill=\"#000000\" fill-rule=\"evenodd\" fill-opacity=\"1\" /><path clip-path=\"url(#clip210)\" d=\"M 0 0 M131.122 748.557 L138.76 748.557 L138.76 722.191 L130.45 723.858 L130.45 719.599 L138.714 717.932 L143.39 717.932 L143.39 748.557 L151.029 748.557 L151.029 752.492 L131.122 752.492 L131.122 748.557 Z\" fill=\"#000000\" fill-rule=\"evenodd\" fill-opacity=\"1\" /><path clip-path=\"url(#clip210)\" d=\"M 0 0 M156.098 746.612 L160.983 746.612 L160.983 752.492 L156.098 752.492 L156.098 746.612 Z\" fill=\"#000000\" fill-rule=\"evenodd\" fill-opacity=\"1\" /><path clip-path=\"url(#clip210)\" d=\"M 0 0 M176.052 721.011 Q172.441 721.011 170.612 724.575 Q168.807 728.117 168.807 735.247 Q168.807 742.353 170.612 745.918 Q172.441 749.46 176.052 749.46 Q179.686 749.46 181.492 745.918 Q183.32 742.353 183.32 735.247 Q183.32 728.117 181.492 724.575 Q179.686 721.011 176.052 721.011 M176.052 717.307 Q181.862 717.307 184.918 721.913 Q187.996 726.497 187.996 735.247 Q187.996 743.973 184.918 748.58 Q181.862 753.163 176.052 753.163 Q170.242 753.163 167.163 748.58 Q164.108 743.973 164.108 735.247 Q164.108 726.497 167.163 721.913 Q170.242 717.307 176.052 717.307 Z\" fill=\"#000000\" fill-rule=\"evenodd\" fill-opacity=\"1\" /><path clip-path=\"url(#clip210)\" d=\"M 0 0 M132.117 404.573 L139.756 404.573 L139.756 378.207 L131.446 379.874 L131.446 375.615 L139.71 373.948 L144.385 373.948 L144.385 404.573 L152.024 404.573 L152.024 408.508 L132.117 408.508 L132.117 404.573 Z\" fill=\"#000000\" fill-rule=\"evenodd\" fill-opacity=\"1\" /><path clip-path=\"url(#clip210)\" d=\"M 0 0 M157.094 402.628 L161.978 402.628 L161.978 408.508 L157.094 408.508 L157.094 402.628 Z\" fill=\"#000000\" fill-rule=\"evenodd\" fill-opacity=\"1\" /><path clip-path=\"url(#clip210)\" d=\"M 0 0 M167.094 373.948 L185.45 373.948 L185.45 377.883 L171.376 377.883 L171.376 386.355 Q172.395 386.008 173.413 385.846 Q174.432 385.661 175.45 385.661 Q181.237 385.661 184.617 388.832 Q187.996 392.003 187.996 397.42 Q187.996 402.999 184.524 406.101 Q181.052 409.179 174.733 409.179 Q172.557 409.179 170.288 408.809 Q168.043 408.439 165.635 407.698 L165.635 402.999 Q167.719 404.133 169.941 404.689 Q172.163 405.244 174.64 405.244 Q178.645 405.244 180.982 403.138 Q183.32 401.031 183.32 397.42 Q183.32 393.809 180.982 391.703 Q178.645 389.596 174.64 389.596 Q172.765 389.596 170.89 390.013 Q169.038 390.429 167.094 391.309 L167.094 373.948 Z\" fill=\"#000000\" fill-rule=\"evenodd\" fill-opacity=\"1\" /><path clip-path=\"url(#clip210)\" d=\"M 0 0 M134.71 60.5889 L151.029 60.5889 L151.029 64.5241 L129.085 64.5241 L129.085 60.5889 Q131.747 57.8343 136.33 53.2047 Q140.936 48.552 142.117 47.2094 Q144.362 44.6862 145.242 42.9501 Q146.145 41.1909 146.145 39.5011 Q146.145 36.7465 144.2 35.0104 Q142.279 33.2743 139.177 33.2743 Q136.978 33.2743 134.524 34.0381 Q132.094 34.802 129.316 36.3529 L129.316 31.6308 Q132.14 30.4965 134.594 29.9178 Q137.048 29.3391 139.085 29.3391 Q144.455 29.3391 147.649 32.0243 Q150.844 34.7094 150.844 39.2002 Q150.844 41.3298 150.034 43.2511 Q149.247 45.1492 147.14 47.7418 Q146.561 48.4131 143.46 51.6306 Q140.358 54.8251 134.71 60.5889 Z\" fill=\"#000000\" fill-rule=\"evenodd\" fill-opacity=\"1\" /><path clip-path=\"url(#clip210)\" d=\"M 0 0 M156.098 58.6445 L160.983 58.6445 L160.983 64.5241 L156.098 64.5241 L156.098 58.6445 Z\" fill=\"#000000\" fill-rule=\"evenodd\" fill-opacity=\"1\" /><path clip-path=\"url(#clip210)\" d=\"M 0 0 M176.052 33.0428 Q172.441 33.0428 170.612 36.6076 Q168.807 40.1492 168.807 47.2788 Q168.807 54.3853 170.612 57.9501 Q172.441 61.4917 176.052 61.4917 Q179.686 61.4917 181.492 57.9501 Q183.32 54.3853 183.32 47.2788 Q183.32 40.1492 181.492 36.6076 Q179.686 33.0428 176.052 33.0428 M176.052 29.3391 Q181.862 29.3391 184.918 33.9456 Q187.996 38.5289 187.996 47.2788 Q187.996 56.0056 184.918 60.6121 Q181.862 65.1954 176.052 65.1954 Q170.242 65.1954 167.163 60.6121 Q164.108 56.0056 164.108 47.2788 Q164.108 38.5289 167.163 33.9456 Q170.242 29.3391 176.052 29.3391 Z\" fill=\"#000000\" fill-rule=\"evenodd\" fill-opacity=\"1\" /><path clip-path=\"url(#clip210)\" d=\"M 0 0 M37.0914 799.119 Q37.7033 799.119 38.2186 799.247 L49.6839 801.051 Q50.5534 801.148 50.8755 801.341 Q51.1976 801.502 51.1976 802.017 Q51.1976 802.822 50.3602 802.822 Q49.8771 802.822 49.1042 802.629 Q45.4649 802.082 43.8224 802.082 Q42.7274 802.082 41.9223 802.307 Q41.0849 802.5 40.5052 802.822 Q39.9255 803.112 39.539 803.788 Q39.1526 804.465 38.9271 805.109 Q38.7017 805.753 38.6051 806.912 Q38.4762 808.072 38.444 809.07 Q38.4118 810.069 38.4118 811.711 Q38.4118 815.286 38.5407 815.866 Q38.7017 816.478 39.1848 816.8 Q39.6357 817.089 40.9883 817.411 L75.9961 826.171 L77.3809 826.429 Q78.1539 826.429 78.4115 825.946 Q78.6692 825.463 78.8302 823.981 Q78.9912 821.856 78.9912 819.763 Q78.9912 819.698 78.9912 819.569 Q78.9912 818.861 79.0234 818.571 Q79.0234 818.281 79.0878 817.991 Q79.1522 817.701 79.3133 817.637 Q79.4421 817.54 79.6997 817.54 Q80.3117 817.54 80.6337 817.798 Q80.9236 818.056 80.988 818.313 Q81.0202 818.539 81.0202 818.99 Q81.0202 819.891 80.9558 821.824 Q80.8914 823.756 80.8914 824.722 L80.8269 830.197 L80.8914 835.801 Q80.8914 836.671 80.9558 838.506 Q81.0202 840.342 81.0202 841.212 Q81.0202 842.339 80.215 842.339 Q79.3133 842.339 79.1522 841.92 Q78.9912 841.469 78.9912 839.569 Q78.9912 836.896 78.8624 835.447 Q78.7336 833.998 78.2827 833.225 Q77.8318 832.419 77.3809 832.194 Q76.8978 831.969 75.8028 831.711 L40.6018 822.854 Q39.8289 822.597 39.217 822.597 Q38.8949 822.597 38.7661 822.693 Q38.6373 822.758 38.5407 823.176 Q38.4118 823.595 38.4118 824.465 L38.4118 827.041 Q38.4118 829.682 38.5407 831.324 Q38.6373 832.935 39.1204 834.481 Q39.6034 835.994 40.2798 836.896 Q40.9561 837.766 42.3409 838.732 Q43.7258 839.698 45.4005 840.406 Q47.0752 841.083 49.8127 842.049 Q50.7145 842.371 50.9721 842.564 Q51.1976 842.725 51.1976 843.176 Q51.1976 843.498 51.0043 843.756 Q50.7789 843.981 50.489 843.981 Q49.4262 843.659 49.2974 843.595 L37.6711 839.634 Q36.7371 839.311 36.5761 839.022 Q36.3829 838.7 36.3829 837.508 L36.3829 800.922 Q36.3829 800.342 36.3829 800.149 Q36.3829 799.956 36.4473 799.634 Q36.5117 799.312 36.6727 799.215 Q36.8337 799.119 37.0914 799.119 Z\" fill=\"#000000\" fill-rule=\"evenodd\" fill-opacity=\"1\" /><path clip-path=\"url(#clip210)\" d=\"M 0 0 M84.4385 792.488 Q77.6527 792.488 73.9555 790.775 Q68.4547 788.385 68.4547 782.749 Q68.4547 781.554 68.7929 780.314 Q69.1085 779.052 70.3484 777.474 Q71.5883 775.873 73.6173 774.904 Q77.54 773.055 84.4385 773.055 Q91.1792 773.055 94.8539 774.769 Q100.219 777.271 100.219 782.794 Q100.219 784.868 99.1598 786.987 Q98.1002 789.084 95.5527 790.414 Q91.7428 792.488 84.4385 792.488 M83.8749 788.656 Q90.841 788.656 93.6139 788.16 Q96.6123 787.596 97.9199 786.063 Q99.2049 784.508 99.2049 782.794 Q99.2049 780.946 97.8297 779.413 Q96.4319 777.857 93.4336 777.384 Q90.4803 776.865 83.8749 776.888 Q77.4498 776.888 74.8798 777.339 Q71.8814 777.947 70.6866 779.57 Q69.4692 781.171 69.4692 782.794 Q69.4692 783.403 69.6496 784.057 Q69.8299 784.688 70.3484 785.612 Q70.8669 786.537 72.1519 787.258 Q73.437 787.957 75.3758 788.295 Q77.8782 788.656 83.8749 788.656 Z\" fill=\"#000000\" fill-rule=\"evenodd\" fill-opacity=\"1\" /><path clip-path=\"url(#clip210)\" d=\"M 0 0 M96.5756 766.187 Q96.2536 766.187 95.545 765.93 L33.3233 742.645 Q33.2589 742.645 32.9046 742.484 Q32.5504 742.323 32.3249 742.226 Q32.0673 742.129 31.874 741.936 Q31.6808 741.711 31.6808 741.453 Q31.6808 740.809 32.486 740.809 Q32.5504 740.809 33.3233 741.002 L95.6094 764.352 Q96.7366 764.738 97.0587 764.996 Q97.3808 765.221 97.3808 765.608 Q97.3808 766.187 96.5756 766.187 Z\" fill=\"#000000\" fill-rule=\"evenodd\" fill-opacity=\"1\" /><path clip-path=\"url(#clip210)\" d=\"M 0 0 M37.0914 688.637 Q37.7033 688.637 38.2186 688.766 L49.6839 690.569 Q50.5534 690.666 50.8755 690.859 Q51.1976 691.02 51.1976 691.536 Q51.1976 692.341 50.3602 692.341 Q49.8771 692.341 49.1042 692.147 Q45.4649 691.6 43.8224 691.6 Q42.7274 691.6 41.9223 691.825 Q41.0849 692.019 40.5052 692.341 Q39.9255 692.631 39.539 693.307 Q39.1526 693.983 38.9271 694.627 Q38.7017 695.271 38.6051 696.431 Q38.4762 697.59 38.444 698.589 Q38.4118 699.587 38.4118 701.229 Q38.4118 704.804 38.5407 705.384 Q38.7017 705.996 39.1848 706.318 Q39.6357 706.608 40.9883 706.93 L75.9961 715.69 L77.3809 715.948 Q78.1539 715.948 78.4115 715.464 Q78.6692 714.981 78.8302 713.5 Q78.9912 711.374 78.9912 709.281 Q78.9912 709.217 78.9912 709.088 Q78.9912 708.379 79.0234 708.089 Q79.0234 707.799 79.0878 707.51 Q79.1522 707.22 79.3133 707.155 Q79.4421 707.059 79.6997 707.059 Q80.3117 707.059 80.6337 707.316 Q80.9236 707.574 80.988 707.832 Q81.0202 708.057 81.0202 708.508 Q81.0202 709.41 80.9558 711.342 Q80.8914 713.274 80.8914 714.241 L80.8269 719.716 L80.8914 725.319 Q80.8914 726.189 80.9558 728.025 Q81.0202 729.861 81.0202 730.73 Q81.0202 731.857 80.215 731.857 Q79.3133 731.857 79.1522 731.439 Q78.9912 730.988 78.9912 729.088 Q78.9912 726.414 78.8624 724.965 Q78.7336 723.516 78.2827 722.743 Q77.8318 721.938 77.3809 721.712 Q76.8978 721.487 75.8028 721.229 L40.6018 712.373 Q39.8289 712.115 39.217 712.115 Q38.8949 712.115 38.7661 712.212 Q38.6373 712.276 38.5407 712.695 Q38.4118 713.113 38.4118 713.983 L38.4118 716.559 Q38.4118 719.2 38.5407 720.843 Q38.6373 722.453 39.1204 723.999 Q39.6034 725.513 40.2798 726.414 Q40.9561 727.284 42.3409 728.25 Q43.7258 729.216 45.4005 729.925 Q47.0752 730.601 49.8127 731.567 Q50.7145 731.889 50.9721 732.083 Q51.1976 732.244 51.1976 732.695 Q51.1976 733.017 51.0043 733.274 Q50.7789 733.5 50.489 733.5 Q49.4262 733.178 49.2974 733.113 L37.6711 729.152 Q36.7371 728.83 36.5761 728.54 Q36.3829 728.218 36.3829 727.026 L36.3829 690.441 Q36.3829 689.861 36.3829 689.668 Q36.3829 689.474 36.4473 689.152 Q36.5117 688.83 36.6727 688.734 Q36.8337 688.637 37.0914 688.637 Z\" fill=\"#000000\" fill-rule=\"evenodd\" fill-opacity=\"1\" /><path clip-path=\"url(#clip210)\" d=\"M 0 0 M84.4385 682.007 Q77.6527 682.007 73.9555 680.293 Q68.4547 677.904 68.4547 672.268 Q68.4547 671.073 68.7929 669.833 Q69.1085 668.57 70.3484 666.992 Q71.5883 665.392 73.6173 664.422 Q77.54 662.574 84.4385 662.574 Q91.1792 662.574 94.8539 664.287 Q100.219 666.789 100.219 672.313 Q100.219 674.387 99.1598 676.506 Q98.1002 678.602 95.5527 679.933 Q91.7428 682.007 84.4385 682.007 M83.8749 678.174 Q90.841 678.174 93.6139 677.678 Q96.6123 677.115 97.9199 675.582 Q99.2049 674.026 99.2049 672.313 Q99.2049 670.464 97.8297 668.931 Q96.4319 667.376 93.4336 666.902 Q90.4803 666.384 83.8749 666.406 Q77.4498 666.406 74.8798 666.857 Q71.8814 667.466 70.6866 669.089 Q69.4692 670.69 69.4692 672.313 Q69.4692 672.921 69.6496 673.575 Q69.8299 674.206 70.3484 675.131 Q70.8669 676.055 72.1519 676.776 Q73.437 677.475 75.3758 677.813 Q77.8782 678.174 83.8749 678.174 Z\" fill=\"#000000\" fill-rule=\"evenodd\" fill-opacity=\"1\" /><path clip-path=\"url(#clip210)\" d=\"M 0 0 M23.3678 669.185 Q22.5788 669.185 22.0603 668.126 L19.0168 661.701 L15.9734 668.216 Q15.5225 669.185 14.7334 669.185 Q14.2826 669.185 13.8768 668.825 Q13.4484 668.441 13.4484 667.945 Q13.4484 667.585 13.9444 666.931 L18.0925 661.205 Q10.4726 661.904 10.2472 661.881 Q9.79627 661.881 9.45811 661.543 Q9.09741 661.205 9.09741 660.641 Q9.09741 660.19 9.43557 659.829 Q9.75119 659.446 10.2472 659.446 L18.0925 660.123 L14.3051 655.005 Q13.4259 653.81 13.4484 653.382 Q13.4484 652.863 13.8542 652.503 Q14.26 652.142 14.7334 652.142 Q15.5225 652.142 16.0184 653.201 L19.0619 659.627 L22.1279 653.111 Q22.5788 652.142 23.3678 652.142 Q23.8187 652.142 24.247 652.525 Q24.6528 652.886 24.6528 653.382 Q24.6528 653.652 24.3823 654.126 Q24.3372 654.216 23.6158 655.185 Q22.8944 656.155 21.7897 657.665 Q20.6851 659.153 19.9862 660.123 Q27.6061 659.424 27.8316 659.446 Q28.2824 659.446 28.6431 659.784 Q29.0039 660.123 29.0039 660.686 Q29.0039 661.137 28.6882 661.52 Q28.3501 661.881 27.8316 661.881 L19.9862 661.205 L24.6528 667.652 Q24.6528 668.351 24.3147 668.734 Q23.954 669.095 23.7511 669.14 Q23.5482 669.185 23.3678 669.185 Z\" fill=\"#000000\" fill-rule=\"evenodd\" fill-opacity=\"1\" /><polyline clip-path=\"url(#clip212)\" style=\"stroke:#009af9; stroke-width:4; stroke-opacity:1; fill:none\" points=\"\n",
       "  224.262,1423.18 226.923,1422.78 229.584,1421.73 232.244,1420.02 234.905,1417.65 237.566,1414.65 240.226,1411.01 242.887,1406.75 245.547,1401.88 248.208,1396.42 \n",
       "  250.869,1390.38 253.529,1383.77 256.19,1376.63 258.85,1368.97 261.511,1360.8 264.172,1352.17 266.832,1343.08 269.493,1333.56 272.154,1323.65 274.814,1313.36 \n",
       "  277.475,1302.73 280.135,1291.78 282.796,1280.53 285.457,1269.02 288.117,1257.27 290.778,1245.32 293.438,1233.18 296.099,1220.89 298.76,1208.46 301.42,1195.94 \n",
       "  304.081,1183.34 306.742,1170.68 309.402,1158 312.063,1145.31 314.723,1132.63 317.384,1120 320.045,1107.42 322.705,1094.92 325.366,1082.52 328.026,1070.23 \n",
       "  330.687,1058.08 333.348,1046.07 336.008,1034.22 338.669,1022.54 341.33,1011.05 343.99,999.761 346.651,988.678 349.311,977.813 351.972,967.174 354.633,956.769 \n",
       "  357.293,946.605 359.954,936.687 362.615,927.021 365.275,917.61 367.936,908.459 370.596,899.569 373.257,890.943 375.918,882.583 378.578,874.489 381.239,866.661 \n",
       "  383.899,859.099 386.56,851.802 389.221,844.769 391.881,837.998 394.542,831.487 397.203,825.234 399.863,819.234 402.524,813.486 405.184,807.986 407.845,802.73 \n",
       "  410.506,797.714 413.166,792.933 415.827,788.385 418.487,784.063 421.148,779.964 423.809,776.082 426.469,772.413 429.13,768.951 431.791,765.693 434.451,762.632 \n",
       "  437.112,759.764 439.772,757.084 442.433,754.585 445.094,752.265 447.754,750.116 450.415,748.135 453.075,746.316 455.736,744.654 458.397,743.145 461.057,741.782 \n",
       "  463.718,740.563 466.379,739.481 469.039,738.533 471.7,737.714 474.36,737.018 477.021,736.442 479.682,735.982 482.342,735.633 485.003,735.391 487.663,735.252 \n",
       "  490.324,735.212 492.985,735.268 495.645,735.414 498.306,735.649 500.967,735.968 503.627,736.367 506.288,736.844 508.948,737.395 511.609,738.016 514.27,738.706 \n",
       "  516.93,739.46 519.591,740.276 522.252,741.151 524.912,742.082 527.573,743.067 530.233,744.103 532.894,745.187 535.555,746.317 538.215,747.492 540.876,748.707 \n",
       "  543.536,749.962 546.197,751.255 548.858,752.583 551.518,753.943 554.179,755.336 556.84,756.758 559.5,758.207 562.161,759.683 564.821,761.184 567.482,762.707 \n",
       "  570.143,764.251 572.803,765.816 575.464,767.399 578.124,769 580.785,770.616 583.446,772.247 586.106,773.892 588.767,775.549 591.428,777.217 594.088,778.895 \n",
       "  596.749,780.583 599.409,782.279 602.07,783.982 604.731,785.691 607.391,787.406 610.052,789.126 612.712,790.849 615.373,792.576 618.034,794.305 620.694,796.036 \n",
       "  623.355,797.768 626.016,799.501 628.676,801.233 631.337,802.965 633.997,804.695 636.658,806.424 639.319,808.151 641.979,809.874 644.64,811.595 647.301,813.312 \n",
       "  649.961,815.025 652.622,816.734 655.282,818.437 657.943,820.136 660.604,821.829 663.264,823.517 665.925,825.198 668.585,826.873 671.246,828.542 673.907,830.203 \n",
       "  676.567,831.858 679.228,833.505 681.889,835.144 684.549,836.776 687.21,838.4 689.87,840.016 692.531,841.623 695.192,843.223 697.852,844.813 700.513,846.395 \n",
       "  703.173,847.968 705.834,849.532 708.495,851.088 711.155,852.634 713.816,854.17 716.477,855.698 719.137,857.216 721.798,858.725 724.458,860.224 727.119,861.713 \n",
       "  729.78,863.193 732.44,864.664 735.101,866.124 737.761,867.575 740.422,869.016 743.083,870.448 745.743,871.869 748.404,873.281 751.065,874.683 753.725,876.075 \n",
       "  756.386,877.457 759.046,878.83 761.707,880.193 764.368,881.546 767.028,882.889 769.689,884.222 772.35,885.546 775.01,886.86 777.671,888.164 780.331,889.458 \n",
       "  782.992,890.743 785.653,892.019 788.313,893.284 790.974,894.54 793.634,895.787 796.295,897.024 798.956,898.252 801.616,899.47 804.277,900.679 806.938,901.879 \n",
       "  809.598,903.069 812.259,904.251 814.919,905.423 817.58,906.586 820.241,907.74 822.901,908.885 825.562,910.021 828.222,911.148 830.883,912.266 833.544,913.375 \n",
       "  836.204,914.476 838.865,915.568 841.526,916.652 844.186,917.726 846.847,918.793 849.507,919.851 852.168,920.9 854.829,921.941 857.489,922.974 860.15,923.999 \n",
       "  862.81,925.016 865.471,926.024 868.132,927.025 870.792,928.017 873.453,929.002 876.114,929.978 878.774,930.947 881.435,931.908 884.095,932.862 886.756,933.808 \n",
       "  889.417,934.746 892.077,935.677 894.738,936.601 897.398,937.517 900.059,938.425 902.72,939.327 905.38,940.221 908.041,941.108 910.702,941.989 913.362,942.862 \n",
       "  916.023,943.728 918.683,944.587 921.344,945.439 924.005,946.285 926.665,947.124 929.326,947.956 931.987,948.782 934.647,949.601 937.308,950.413 939.968,951.22 \n",
       "  942.629,952.019 945.29,952.813 947.95,953.6 950.611,954.381 953.271,955.155 955.932,955.924 958.593,956.687 961.253,957.443 963.914,958.194 966.575,958.939 \n",
       "  969.235,959.677 971.896,960.41 974.556,961.138 977.217,961.859 979.878,962.575 982.538,963.286 985.199,963.99 987.859,964.69 990.52,965.384 993.181,966.072 \n",
       "  995.841,966.755 998.502,967.433 1001.16,968.106 1003.82,968.773 1006.48,969.435 1009.14,970.092 1011.81,970.744 1014.47,971.391 1017.13,972.033 1019.79,972.67 \n",
       "  1022.45,973.303 1025.11,973.93 1027.77,974.552 1030.43,975.17 1033.09,975.783 1035.75,976.392 1038.41,976.995 1041.07,977.595 1043.73,978.189 1046.39,978.779 \n",
       "  1049.05,979.365 1051.71,979.946 1054.37,980.523 1057.04,981.095 1059.7,981.664 1062.36,982.228 1065.02,982.787 1067.68,983.343 1070.34,983.894 1073,984.441 \n",
       "  1075.66,984.984 1078.32,985.523 1080.98,986.058 1083.64,986.59 1086.3,987.117 1088.96,987.64 1091.62,988.159 1094.28,988.675 1096.94,989.187 1099.61,989.695 \n",
       "  1102.27,990.199 1104.93,990.7 1107.59,991.197 1110.25,991.69 1112.91,992.179 1115.57,992.666 1118.23,993.148 1120.89,993.627 1123.55,994.103 1126.21,994.575 \n",
       "  1128.87,995.044 1131.53,995.509 1134.19,995.971 1136.85,996.43 1139.51,996.885 1142.18,997.337 1144.84,997.786 1147.5,998.232 1150.16,998.675 1152.82,999.114 \n",
       "  1155.48,999.55 1158.14,999.983 1160.8,1000.41 1163.46,1000.84 1166.12,1001.26 1168.78,1001.69 1171.44,1002.1 1174.1,1002.52 1176.76,1002.93 1179.42,1003.34 \n",
       "  1182.08,1003.75 1184.75,1004.15 1187.41,1004.55 1190.07,1004.95 1192.73,1005.35 1195.39,1005.74 1198.05,1006.13 1200.71,1006.51 1203.37,1006.9 1206.03,1007.28 \n",
       "  1208.69,1007.66 1211.35,1008.04 1214.01,1008.41 1216.67,1008.78 1219.33,1009.15 1221.99,1009.52 1224.65,1009.88 1227.31,1010.24 1229.98,1010.6 1232.64,1010.96 \n",
       "  1235.3,1011.31 1237.96,1011.67 1240.62,1012.01 1243.28,1012.36 1245.94,1012.71 1248.6,1013.05 1251.26,1013.39 1253.92,1013.73 1256.58,1014.06 1259.24,1014.4 \n",
       "  1261.9,1014.73 1264.56,1015.06 1267.22,1015.38 1269.88,1015.71 1272.55,1016.03 1275.21,1016.35 1277.87,1016.67 1280.53,1016.99 1283.19,1017.3 1285.85,1017.61 \n",
       "  1288.51,1017.92 1291.17,1018.23 1293.83,1018.54 1296.49,1018.84 1299.15,1019.14 1301.81,1019.44 1304.47,1019.74 1307.13,1020.04 1309.79,1020.33 1312.45,1020.63 \n",
       "  1315.12,1020.92 1317.78,1021.21 1320.44,1021.49 1323.1,1021.78 1325.76,1022.06 1328.42,1022.34 1331.08,1022.62 1333.74,1022.9 1336.4,1023.18 1339.06,1023.45 \n",
       "  1341.72,1023.72 1344.38,1023.99 1347.04,1024.26 1349.7,1024.53 1352.36,1024.8 1355.02,1025.06 1357.69,1025.32 1360.35,1025.59 1363.01,1025.85 1365.67,1026.1 \n",
       "  1368.33,1026.36 1370.99,1026.61 1373.65,1026.87 1376.31,1027.12 1378.97,1027.37 1381.63,1027.62 1384.29,1027.86 1386.95,1028.11 1389.61,1028.35 1392.27,1028.6 \n",
       "  1394.93,1028.84 1397.59,1029.08 1400.26,1029.31 1402.92,1029.55 1405.58,1029.79 1408.24,1030.02 1410.9,1030.25 1413.56,1030.48 1416.22,1030.71 1418.88,1030.94 \n",
       "  1421.54,1031.17 1424.2,1031.39 1426.86,1031.62 1429.52,1031.84 1432.18,1032.06 1434.84,1032.28 1437.5,1032.5 1440.16,1032.72 1442.82,1032.94 1445.49,1033.15 \n",
       "  1448.15,1033.36 1450.81,1033.58 1453.47,1033.79 1456.13,1034 1458.79,1034.21 1461.45,1034.41 1464.11,1034.62 1466.77,1034.83 1469.43,1035.03 1472.09,1035.23 \n",
       "  1474.75,1035.44 1477.41,1035.64 1480.07,1035.84 1482.73,1036.03 1485.39,1036.23 1488.06,1036.43 1490.72,1036.62 1493.38,1036.81 1496.04,1037.01 1498.7,1037.2 \n",
       "  1501.36,1037.39 1504.02,1037.58 1506.68,1037.77 1509.34,1037.95 1512,1038.14 1514.66,1038.33 1517.32,1038.51 1519.98,1038.69 1522.64,1038.87 1525.3,1039.06 \n",
       "  1527.96,1039.24 1530.63,1039.41 1533.29,1039.59 1535.95,1039.77 1538.61,1039.95 1541.27,1040.12 1543.93,1040.3 1546.59,1040.47 1549.25,1040.64 1551.91,1040.81 \n",
       "  1554.57,1040.98 1557.23,1041.15 1559.89,1041.32 1562.55,1041.49 1565.21,1041.65 1567.87,1041.82 1570.53,1041.98 1573.2,1042.15 1575.86,1042.31 1578.52,1042.47 \n",
       "  1581.18,1042.63 1583.84,1042.79 1586.5,1042.95 1589.16,1043.11 1591.82,1043.27 1594.48,1043.43 1597.14,1043.58 1599.8,1043.74 1602.46,1043.89 1605.12,1044.05 \n",
       "  1607.78,1044.2 1610.44,1044.35 1613.1,1044.5 1615.77,1044.65 1618.43,1044.8 1621.09,1044.95 1623.75,1045.1 1626.41,1045.25 1629.07,1045.39 1631.73,1045.54 \n",
       "  1634.39,1045.68 1637.05,1045.83 1639.71,1045.97 1642.37,1046.11 1645.03,1046.26 1647.69,1046.4 1650.35,1046.54 1653.01,1046.68 1655.67,1046.82 1658.33,1046.96 \n",
       "  1661,1047.09 1663.66,1047.23 1666.32,1047.37 1668.98,1047.5 1671.64,1047.64 1674.3,1047.77 1676.96,1047.9 1679.62,1048.04 1682.28,1048.17 1684.94,1048.3 \n",
       "  1687.6,1048.43 1690.26,1048.56 1692.92,1048.69 1695.58,1048.82 1698.24,1048.95 1700.9,1049.07 1703.57,1049.2 1706.23,1049.33 1708.89,1049.45 1711.55,1049.58 \n",
       "  1714.21,1049.7 1716.87,1049.83 1719.53,1049.95 1722.19,1050.07 1724.85,1050.19 1727.51,1050.31 1730.17,1050.43 1732.83,1050.55 1735.49,1050.67 1738.15,1050.79 \n",
       "  1740.81,1050.91 1743.47,1051.03 1746.14,1051.15 1748.8,1051.26 1751.46,1051.38 1754.12,1051.49 1756.78,1051.61 1759.44,1051.72 1762.1,1051.84 1764.76,1051.95 \n",
       "  1767.42,1052.06 1770.08,1052.17 1772.74,1052.29 1775.4,1052.4 1778.06,1052.51 1780.72,1052.62 1783.38,1052.73 1786.04,1052.84 1788.71,1052.94 1791.37,1053.05 \n",
       "  1794.03,1053.16 1796.69,1053.27 1799.35,1053.37 1802.01,1053.48 1804.67,1053.58 1807.33,1053.69 1809.99,1053.79 1812.65,1053.9 1815.31,1054 1817.97,1054.1 \n",
       "  1820.63,1054.21 1823.29,1054.31 1825.95,1054.41 1828.61,1054.51 1831.28,1054.61 1833.94,1054.71 1836.6,1054.81 1839.26,1054.91 1841.92,1055.01 1844.58,1055.11 \n",
       "  1847.24,1055.2 1849.9,1055.3 1852.56,1055.4 1855.22,1055.49 1857.88,1055.59 1860.54,1055.68 1863.2,1055.78 1865.86,1055.87 1868.52,1055.97 1871.18,1056.06 \n",
       "  1873.84,1056.16 1876.51,1056.25 1879.17,1056.34 1881.83,1056.43 1884.49,1056.52 1887.15,1056.62 1889.81,1056.71 1892.47,1056.8 1895.13,1056.89 1897.79,1056.98 \n",
       "  1900.45,1057.06 1903.11,1057.15 1905.77,1057.24 1908.43,1057.33 1911.09,1057.42 1913.75,1057.5 1916.41,1057.59 1919.08,1057.68 1921.74,1057.76 1924.4,1057.85 \n",
       "  1927.06,1057.93 1929.72,1058.02 1932.38,1058.1 1935.04,1058.19 1937.7,1058.27 1940.36,1058.35 1943.02,1058.44 1945.68,1058.52 1948.34,1058.6 1951,1058.68 \n",
       "  1953.66,1058.77 1956.32,1058.85 1958.98,1058.93 1961.65,1059.01 1964.31,1059.09 1966.97,1059.17 1969.63,1059.25 1972.29,1059.33 1974.95,1059.41 1977.61,1059.48 \n",
       "  1980.27,1059.56 1982.93,1059.64 1985.59,1059.72 1988.25,1059.79 1990.91,1059.87 1993.57,1059.95 1996.23,1060.02 1998.89,1060.1 2001.55,1060.17 2004.22,1060.25 \n",
       "  2006.88,1060.32 2009.54,1060.4 2012.2,1060.47 2014.86,1060.55 2017.52,1060.62 2020.18,1060.69 2022.84,1060.77 2025.5,1060.84 2028.16,1060.91 2030.82,1060.98 \n",
       "  2033.48,1061.05 2036.14,1061.13 2038.8,1061.2 2041.46,1061.27 2044.12,1061.34 2046.78,1061.41 2049.45,1061.48 2052.11,1061.55 2054.77,1061.62 2057.43,1061.69 \n",
       "  2060.09,1061.76 2062.75,1061.82 2065.41,1061.89 2068.07,1061.96 2070.73,1062.03 2073.39,1062.09 2076.05,1062.16 2078.71,1062.23 2081.37,1062.29 2084.03,1062.36 \n",
       "  2086.69,1062.43 2089.35,1062.49 2092.02,1062.56 2094.68,1062.62 2097.34,1062.69 2100,1062.75 2102.66,1062.82 2105.32,1062.88 2107.98,1062.94 2110.64,1063.01 \n",
       "  2113.3,1063.07 2115.96,1063.13 2118.62,1063.2 2121.28,1063.26 2123.94,1063.32 2126.6,1063.38 2129.26,1063.45 2131.92,1063.51 2134.59,1063.57 2137.25,1063.63 \n",
       "  2139.91,1063.69 2142.57,1063.75 2145.23,1063.81 2147.89,1063.87 2150.55,1063.93 2153.21,1063.99 2155.87,1064.05 2158.53,1064.11 2161.19,1064.17 2163.85,1064.23 \n",
       "  2166.51,1064.29 2169.17,1064.34 2171.83,1064.4 2174.49,1064.46 2177.16,1064.52 2179.82,1064.57 2182.48,1064.63 2185.14,1064.69 2187.8,1064.75 2190.46,1064.8 \n",
       "  2193.12,1064.86 2195.78,1064.91 2198.44,1064.97 2201.1,1065.03 2203.76,1065.08 2206.42,1065.14 2209.08,1065.19 2211.74,1065.25 2214.4,1065.3 2217.06,1065.35 \n",
       "  2219.73,1065.41 2222.39,1065.46 2225.05,1065.52 2227.71,1065.57 2230.37,1065.62 2233.03,1065.68 2235.69,1065.73 2238.35,1065.78 2241.01,1065.83 2243.67,1065.89 \n",
       "  2246.33,1065.94 2248.99,1065.99 2251.65,1066.04 2254.31,1066.09 2256.97,1066.14 2259.63,1066.19 2262.29,1066.25 2264.96,1066.3 2267.62,1066.35 2270.28,1066.4 \n",
       "  2272.94,1066.45 2275.6,1066.5 2278.26,1066.55 2280.92,1066.6 2283.58,1066.65 2286.24,1066.69 2288.9,1066.74 2291.56,1066.79 2294.22,1066.84 2296.88,1066.89 \n",
       "  2299.54,1066.94 2302.2,1066.99 2304.86,1067.03 2307.53,1067.08 2310.19,1067.13 2312.85,1067.18 2315.51,1067.22 2318.17,1067.27 2320.83,1067.32 2323.49,1067.36 \n",
       "  2326.15,1067.41 2328.81,1067.46 2331.47,1067.5 2334.13,1067.55 2336.79,1067.59 2339.45,1067.64 2342.11,1067.69 2344.77,1067.73 2347.43,1067.78 2350.1,1067.82 \n",
       "  2352.76,1067.87 \n",
       "  \"/>\n",
       "<polyline clip-path=\"url(#clip212)\" style=\"stroke:#e26f46; stroke-width:4; stroke-opacity:1; fill:none\" stroke-dasharray=\"16, 10\" points=\"\n",
       "  224.262,907.204 226.923,907.204 229.584,907.204 232.244,907.204 234.905,907.204 237.566,907.204 240.226,907.204 242.887,907.204 245.547,907.204 248.208,907.204 \n",
       "  250.869,907.204 253.529,907.204 256.19,907.204 258.85,907.204 261.511,907.204 264.172,907.204 266.832,907.204 269.493,907.204 272.154,907.204 274.814,907.204 \n",
       "  277.475,907.204 280.135,907.204 282.796,907.204 285.457,907.204 288.117,907.204 290.778,907.204 293.438,907.204 296.099,907.204 298.76,907.204 301.42,907.204 \n",
       "  304.081,907.204 306.742,907.204 309.402,907.204 312.063,907.204 314.723,907.204 317.384,907.204 320.045,907.204 322.705,907.204 325.366,907.204 328.026,907.204 \n",
       "  330.687,907.204 333.348,907.204 336.008,907.204 338.669,907.204 341.33,907.204 343.99,907.204 346.651,907.204 349.311,907.204 351.972,907.204 354.633,907.204 \n",
       "  357.293,907.204 359.954,907.204 362.615,907.204 365.275,907.204 367.936,907.204 370.596,907.204 373.257,907.204 375.918,907.204 378.578,907.204 381.239,907.204 \n",
       "  383.899,907.204 386.56,907.204 389.221,907.204 391.881,907.204 394.542,907.204 397.203,907.204 399.863,907.204 402.524,907.204 405.184,907.204 407.845,907.204 \n",
       "  410.506,907.204 413.166,907.204 415.827,907.204 418.487,907.204 421.148,907.204 423.809,907.204 426.469,907.204 429.13,907.204 431.791,907.204 434.451,907.204 \n",
       "  437.112,907.204 439.772,907.204 442.433,907.204 445.094,907.204 447.754,907.204 450.415,907.204 453.075,907.204 455.736,907.204 458.397,907.204 461.057,907.204 \n",
       "  463.718,907.204 466.379,907.204 469.039,907.204 471.7,907.204 474.36,907.204 477.021,907.204 479.682,907.204 482.342,907.204 485.003,907.204 487.663,907.204 \n",
       "  490.324,907.204 492.985,907.204 495.645,907.204 498.306,907.204 500.967,907.204 503.627,907.204 506.288,907.204 508.948,907.204 511.609,907.204 514.27,907.204 \n",
       "  516.93,907.204 519.591,907.204 522.252,907.204 524.912,907.204 527.573,907.204 530.233,907.204 532.894,907.204 535.555,907.204 538.215,907.204 540.876,907.204 \n",
       "  543.536,907.204 546.197,907.204 548.858,907.204 551.518,907.204 554.179,907.204 556.84,907.204 559.5,907.204 562.161,907.204 564.821,907.204 567.482,907.204 \n",
       "  570.143,907.204 572.803,907.204 575.464,907.204 578.124,907.204 580.785,907.204 583.446,907.204 586.106,907.204 588.767,907.204 591.428,907.204 594.088,907.204 \n",
       "  596.749,907.204 599.409,907.204 602.07,907.204 604.731,907.204 607.391,907.204 610.052,907.204 612.712,907.204 615.373,907.204 618.034,907.204 620.694,907.204 \n",
       "  623.355,907.204 626.016,907.204 628.676,907.204 631.337,907.204 633.997,907.204 636.658,907.204 639.319,907.204 641.979,907.204 644.64,907.204 647.301,907.204 \n",
       "  649.961,907.204 652.622,907.204 655.282,907.204 657.943,907.204 660.604,907.204 663.264,907.204 665.925,907.204 668.585,907.204 671.246,907.204 673.907,907.204 \n",
       "  676.567,907.204 679.228,907.204 681.889,907.204 684.549,907.204 687.21,907.204 689.87,907.204 692.531,907.204 695.192,907.204 697.852,907.204 700.513,907.204 \n",
       "  703.173,907.204 705.834,907.204 708.495,907.204 711.155,907.204 713.816,907.204 716.477,907.204 719.137,907.204 721.798,907.204 724.458,907.204 727.119,907.204 \n",
       "  729.78,907.204 732.44,907.204 735.101,907.204 737.761,907.204 740.422,907.204 743.083,907.204 745.743,907.204 748.404,907.204 751.065,907.204 753.725,907.204 \n",
       "  756.386,907.204 759.046,907.204 761.707,907.204 764.368,907.204 767.028,907.204 769.689,907.204 772.35,907.204 775.01,907.204 777.671,907.204 780.331,907.204 \n",
       "  782.992,907.204 785.653,907.204 788.313,907.204 790.974,907.204 793.634,907.204 796.295,907.204 798.956,907.204 801.616,907.204 804.277,907.204 806.938,907.204 \n",
       "  809.598,907.204 812.259,907.204 814.919,907.204 817.58,907.204 820.241,907.204 822.901,907.204 825.562,907.204 828.222,907.204 830.883,907.204 833.544,907.204 \n",
       "  836.204,907.204 838.865,907.204 841.526,907.204 844.186,907.204 846.847,907.204 849.507,907.204 852.168,907.204 854.829,907.204 857.489,907.204 860.15,907.204 \n",
       "  862.81,907.204 865.471,907.204 868.132,907.204 870.792,907.204 873.453,907.204 876.114,907.204 878.774,907.204 881.435,907.204 884.095,907.204 886.756,907.204 \n",
       "  889.417,907.204 892.077,907.204 894.738,907.204 897.398,907.204 900.059,907.204 902.72,907.204 905.38,907.204 908.041,907.204 910.702,907.204 913.362,907.204 \n",
       "  916.023,907.204 918.683,907.204 921.344,907.204 924.005,907.204 926.665,907.204 929.326,907.204 931.987,907.204 934.647,907.204 937.308,907.204 939.968,907.204 \n",
       "  942.629,907.204 945.29,907.204 947.95,907.204 950.611,907.204 953.271,907.204 955.932,907.204 958.593,907.204 961.253,907.204 963.914,907.204 966.575,907.204 \n",
       "  969.235,907.204 971.896,907.204 974.556,907.204 977.217,907.204 979.878,907.204 982.538,907.204 985.199,907.204 987.859,907.204 990.52,907.204 993.181,907.204 \n",
       "  995.841,907.204 998.502,907.204 1001.16,907.204 1003.82,907.204 1006.48,907.204 1009.14,907.204 1011.81,907.204 1014.47,907.204 1017.13,907.204 1019.79,907.204 \n",
       "  1022.45,907.204 1025.11,907.204 1027.77,907.204 1030.43,907.204 1033.09,907.204 1035.75,907.204 1038.41,907.204 1041.07,907.204 1043.73,907.204 1046.39,907.204 \n",
       "  1049.05,907.204 1051.71,907.204 1054.37,907.204 1057.04,907.204 1059.7,907.204 1062.36,907.204 1065.02,907.204 1067.68,907.204 1070.34,907.204 1073,907.204 \n",
       "  1075.66,907.204 1078.32,907.204 1080.98,907.204 1083.64,907.204 1086.3,907.204 1088.96,907.204 1091.62,907.204 1094.28,907.204 1096.94,907.204 1099.61,907.204 \n",
       "  1102.27,907.204 1104.93,907.204 1107.59,907.204 1110.25,907.204 1112.91,907.204 1115.57,907.204 1118.23,907.204 1120.89,907.204 1123.55,907.204 1126.21,907.204 \n",
       "  1128.87,907.204 1131.53,907.204 1134.19,907.204 1136.85,907.204 1139.51,907.204 1142.18,907.204 1144.84,907.204 1147.5,907.204 1150.16,907.204 1152.82,907.204 \n",
       "  1155.48,907.204 1158.14,907.204 1160.8,907.204 1163.46,907.204 1166.12,907.204 1168.78,907.204 1171.44,907.204 1174.1,907.204 1176.76,907.204 1179.42,907.204 \n",
       "  1182.08,907.204 1184.75,907.204 1187.41,907.204 1190.07,907.204 1192.73,907.204 1195.39,907.204 1198.05,907.204 1200.71,907.204 1203.37,907.204 1206.03,907.204 \n",
       "  1208.69,907.204 1211.35,907.204 1214.01,907.204 1216.67,907.204 1219.33,907.204 1221.99,907.204 1224.65,907.204 1227.31,907.204 1229.98,907.204 1232.64,907.204 \n",
       "  1235.3,907.204 1237.96,907.204 1240.62,907.204 1243.28,907.204 1245.94,907.204 1248.6,907.204 1251.26,907.204 1253.92,907.204 1256.58,907.204 1259.24,907.204 \n",
       "  1261.9,907.204 1264.56,907.204 1267.22,907.204 1269.88,907.204 1272.55,907.204 1275.21,907.204 1277.87,907.204 1280.53,907.204 1283.19,907.204 1285.85,907.204 \n",
       "  1288.51,907.204 1291.17,907.204 1293.83,907.204 1296.49,907.204 1299.15,907.204 1301.81,907.204 1304.47,907.204 1307.13,907.204 1309.79,907.204 1312.45,907.204 \n",
       "  1315.12,907.204 1317.78,907.204 1320.44,907.204 1323.1,907.204 1325.76,907.204 1328.42,907.204 1331.08,907.204 1333.74,907.204 1336.4,907.204 1339.06,907.204 \n",
       "  1341.72,907.204 1344.38,907.204 1347.04,907.204 1349.7,907.204 1352.36,907.204 1355.02,907.204 1357.69,907.204 1360.35,907.204 1363.01,907.204 1365.67,907.204 \n",
       "  1368.33,907.204 1370.99,907.204 1373.65,907.204 1376.31,907.204 1378.97,907.204 1381.63,907.204 1384.29,907.204 1386.95,907.204 1389.61,907.204 1392.27,907.204 \n",
       "  1394.93,907.204 1397.59,907.204 1400.26,907.204 1402.92,907.204 1405.58,907.204 1408.24,907.204 1410.9,907.204 1413.56,907.204 1416.22,907.204 1418.88,907.204 \n",
       "  1421.54,907.204 1424.2,907.204 1426.86,907.204 1429.52,907.204 1432.18,907.204 1434.84,907.204 1437.5,907.204 1440.16,907.204 1442.82,907.204 1445.49,907.204 \n",
       "  1448.15,907.204 1450.81,907.204 1453.47,907.204 1456.13,907.204 1458.79,907.204 1461.45,907.204 1464.11,907.204 1466.77,907.204 1469.43,907.204 1472.09,907.204 \n",
       "  1474.75,907.204 1477.41,907.204 1480.07,907.204 1482.73,907.204 1485.39,907.204 1488.06,907.204 1490.72,907.204 1493.38,907.204 1496.04,907.204 1498.7,907.204 \n",
       "  1501.36,907.204 1504.02,907.204 1506.68,907.204 1509.34,907.204 1512,907.204 1514.66,907.204 1517.32,907.204 1519.98,907.204 1522.64,907.204 1525.3,907.204 \n",
       "  1527.96,907.204 1530.63,907.204 1533.29,907.204 1535.95,907.204 1538.61,907.204 1541.27,907.204 1543.93,907.204 1546.59,907.204 1549.25,907.204 1551.91,907.204 \n",
       "  1554.57,907.204 1557.23,907.204 1559.89,907.204 1562.55,907.204 1565.21,907.204 1567.87,907.204 1570.53,907.204 1573.2,907.204 1575.86,907.204 1578.52,907.204 \n",
       "  1581.18,907.204 1583.84,907.204 1586.5,907.204 1589.16,907.204 1591.82,907.204 1594.48,907.204 1597.14,907.204 1599.8,907.204 1602.46,907.204 1605.12,907.204 \n",
       "  1607.78,907.204 1610.44,907.204 1613.1,907.204 1615.77,907.204 1618.43,907.204 1621.09,907.204 1623.75,907.204 1626.41,907.204 1629.07,907.204 1631.73,907.204 \n",
       "  1634.39,907.204 1637.05,907.204 1639.71,907.204 1642.37,907.204 1645.03,907.204 1647.69,907.204 1650.35,907.204 1653.01,907.204 1655.67,907.204 1658.33,907.204 \n",
       "  1661,907.204 1663.66,907.204 1666.32,907.204 1668.98,907.204 1671.64,907.204 1674.3,907.204 1676.96,907.204 1679.62,907.204 1682.28,907.204 1684.94,907.204 \n",
       "  1687.6,907.204 1690.26,907.204 1692.92,907.204 1695.58,907.204 1698.24,907.204 1700.9,907.204 1703.57,907.204 1706.23,907.204 1708.89,907.204 1711.55,907.204 \n",
       "  1714.21,907.204 1716.87,907.204 1719.53,907.204 1722.19,907.204 1724.85,907.204 1727.51,907.204 1730.17,907.204 1732.83,907.204 1735.49,907.204 1738.15,907.204 \n",
       "  1740.81,907.204 1743.47,907.204 1746.14,907.204 1748.8,907.204 1751.46,907.204 1754.12,907.204 1756.78,907.204 1759.44,907.204 1762.1,907.204 1764.76,907.204 \n",
       "  1767.42,907.204 1770.08,907.204 1772.74,907.204 1775.4,907.204 1778.06,907.204 1780.72,907.204 1783.38,907.204 1786.04,907.204 1788.71,907.204 1791.37,907.204 \n",
       "  1794.03,907.204 1796.69,907.204 1799.35,907.204 1802.01,907.204 1804.67,907.204 1807.33,907.204 1809.99,907.204 1812.65,907.204 1815.31,907.204 1817.97,907.204 \n",
       "  1820.63,907.204 1823.29,907.204 1825.95,907.204 1828.61,907.204 1831.28,907.204 1833.94,907.204 1836.6,907.204 1839.26,907.204 1841.92,907.204 1844.58,907.204 \n",
       "  1847.24,907.204 1849.9,907.204 1852.56,907.204 1855.22,907.204 1857.88,907.204 1860.54,907.204 1863.2,907.204 1865.86,907.204 1868.52,907.204 1871.18,907.204 \n",
       "  1873.84,907.204 1876.51,907.204 1879.17,907.204 1881.83,907.204 1884.49,907.204 1887.15,907.204 1889.81,907.204 1892.47,907.204 1895.13,907.204 1897.79,907.204 \n",
       "  1900.45,907.204 1903.11,907.204 1905.77,907.204 1908.43,907.204 1911.09,907.204 1913.75,907.204 1916.41,907.204 1919.08,907.204 1921.74,907.204 1924.4,907.204 \n",
       "  1927.06,907.204 1929.72,907.204 1932.38,907.204 1935.04,907.204 1937.7,907.204 1940.36,907.204 1943.02,907.204 1945.68,907.204 1948.34,907.204 1951,907.204 \n",
       "  1953.66,907.204 1956.32,907.204 1958.98,907.204 1961.65,907.204 1964.31,907.204 1966.97,907.204 1969.63,907.204 1972.29,907.204 1974.95,907.204 1977.61,907.204 \n",
       "  1980.27,907.204 1982.93,907.204 1985.59,907.204 1988.25,907.204 1990.91,907.204 1993.57,907.204 1996.23,907.204 1998.89,907.204 2001.55,907.204 2004.22,907.204 \n",
       "  2006.88,907.204 2009.54,907.204 2012.2,907.204 2014.86,907.204 2017.52,907.204 2020.18,907.204 2022.84,907.204 2025.5,907.204 2028.16,907.204 2030.82,907.204 \n",
       "  2033.48,907.204 2036.14,907.204 2038.8,907.204 2041.46,907.204 2044.12,907.204 2046.78,907.204 2049.45,907.204 2052.11,907.204 2054.77,907.204 2057.43,907.204 \n",
       "  2060.09,907.204 2062.75,907.204 2065.41,907.204 2068.07,907.204 2070.73,907.204 2073.39,907.204 2076.05,907.204 2078.71,907.204 2081.37,907.204 2084.03,907.204 \n",
       "  2086.69,907.204 2089.35,907.204 2092.02,907.204 2094.68,907.204 2097.34,907.204 2100,907.204 2102.66,907.204 2105.32,907.204 2107.98,907.204 2110.64,907.204 \n",
       "  2113.3,907.204 2115.96,907.204 2118.62,907.204 2121.28,907.204 2123.94,907.204 2126.6,907.204 2129.26,907.204 2131.92,907.204 2134.59,907.204 2137.25,907.204 \n",
       "  2139.91,907.204 2142.57,907.204 2145.23,907.204 2147.89,907.204 2150.55,907.204 2153.21,907.204 2155.87,907.204 2158.53,907.204 2161.19,907.204 2163.85,907.204 \n",
       "  2166.51,907.204 2169.17,907.204 2171.83,907.204 2174.49,907.204 2177.16,907.204 2179.82,907.204 2182.48,907.204 2185.14,907.204 2187.8,907.204 2190.46,907.204 \n",
       "  2193.12,907.204 2195.78,907.204 2198.44,907.204 2201.1,907.204 2203.76,907.204 2206.42,907.204 2209.08,907.204 2211.74,907.204 2214.4,907.204 2217.06,907.204 \n",
       "  2219.73,907.204 2222.39,907.204 2225.05,907.204 2227.71,907.204 2230.37,907.204 2233.03,907.204 2235.69,907.204 2238.35,907.204 2241.01,907.204 2243.67,907.204 \n",
       "  2246.33,907.204 2248.99,907.204 2251.65,907.204 2254.31,907.204 2256.97,907.204 2259.63,907.204 2262.29,907.204 2264.96,907.204 2267.62,907.204 2270.28,907.204 \n",
       "  2272.94,907.204 2275.6,907.204 2278.26,907.204 2280.92,907.204 2283.58,907.204 2286.24,907.204 2288.9,907.204 2291.56,907.204 2294.22,907.204 2296.88,907.204 \n",
       "  2299.54,907.204 2302.2,907.204 2304.86,907.204 2307.53,907.204 2310.19,907.204 2312.85,907.204 2315.51,907.204 2318.17,907.204 2320.83,907.204 2323.49,907.204 \n",
       "  2326.15,907.204 2328.81,907.204 2331.47,907.204 2334.13,907.204 2336.79,907.204 2339.45,907.204 2342.11,907.204 2344.77,907.204 2347.43,907.204 2350.1,907.204 \n",
       "  2352.76,907.204 \n",
       "  \"/>\n",
       "</svg>\n"
      ],
      "image/svg+xml": [
       "<?xml version=\"1.0\" encoding=\"utf-8\"?>\n",
       "<svg xmlns=\"http://www.w3.org/2000/svg\" xmlns:xlink=\"http://www.w3.org/1999/xlink\" width=\"600\" height=\"400\" viewBox=\"0 0 2400 1600\">\n",
       "<defs>\n",
       "  <clipPath id=\"clip180\">\n",
       "    <rect x=\"0\" y=\"0\" width=\"2400\" height=\"1600\"/>\n",
       "  </clipPath>\n",
       "</defs>\n",
       "<path clip-path=\"url(#clip180)\" d=\"\n",
       "M0 1600 L2400 1600 L2400 0 L0 0  Z\n",
       "  \" fill=\"#ffffff\" fill-rule=\"evenodd\" fill-opacity=\"1\"/>\n",
       "<defs>\n",
       "  <clipPath id=\"clip181\">\n",
       "    <rect x=\"480\" y=\"0\" width=\"1681\" height=\"1600\"/>\n",
       "  </clipPath>\n",
       "</defs>\n",
       "<defs>\n",
       "  <clipPath id=\"clip182\">\n",
       "    <rect x=\"208\" y=\"47\" width=\"2145\" height=\"1377\"/>\n",
       "  </clipPath>\n",
       "</defs>\n",
       "<path clip-path=\"url(#clip180)\" d=\"\n",
       "M223.996 1423.18 L2352.76 1423.18 L2352.76 47.2441 L223.996 47.2441  Z\n",
       "  \" fill=\"#ffffff\" fill-rule=\"evenodd\" fill-opacity=\"1\"/>\n",
       "<defs>\n",
       "  <clipPath id=\"clip183\">\n",
       "    <rect x=\"223\" y=\"47\" width=\"2130\" height=\"1377\"/>\n",
       "  </clipPath>\n",
       "</defs>\n",
       "<polyline clip-path=\"url(#clip183)\" style=\"stroke:#000000; stroke-width:2; stroke-opacity:0.1; fill:none\" points=\"\n",
       "  223.996,1423.18 223.996,47.2441 \n",
       "  \"/>\n",
       "<polyline clip-path=\"url(#clip183)\" style=\"stroke:#000000; stroke-width:2; stroke-opacity:0.1; fill:none\" points=\"\n",
       "  490.091,1423.18 490.091,47.2441 \n",
       "  \"/>\n",
       "<polyline clip-path=\"url(#clip183)\" style=\"stroke:#000000; stroke-width:2; stroke-opacity:0.1; fill:none\" points=\"\n",
       "  756.186,1423.18 756.186,47.2441 \n",
       "  \"/>\n",
       "<polyline clip-path=\"url(#clip183)\" style=\"stroke:#000000; stroke-width:2; stroke-opacity:0.1; fill:none\" points=\"\n",
       "  1022.28,1423.18 1022.28,47.2441 \n",
       "  \"/>\n",
       "<polyline clip-path=\"url(#clip183)\" style=\"stroke:#000000; stroke-width:2; stroke-opacity:0.1; fill:none\" points=\"\n",
       "  1288.38,1423.18 1288.38,47.2441 \n",
       "  \"/>\n",
       "<polyline clip-path=\"url(#clip183)\" style=\"stroke:#000000; stroke-width:2; stroke-opacity:0.1; fill:none\" points=\"\n",
       "  1554.47,1423.18 1554.47,47.2441 \n",
       "  \"/>\n",
       "<polyline clip-path=\"url(#clip183)\" style=\"stroke:#000000; stroke-width:2; stroke-opacity:0.1; fill:none\" points=\"\n",
       "  1820.57,1423.18 1820.57,47.2441 \n",
       "  \"/>\n",
       "<polyline clip-path=\"url(#clip183)\" style=\"stroke:#000000; stroke-width:2; stroke-opacity:0.1; fill:none\" points=\"\n",
       "  2086.66,1423.18 2086.66,47.2441 \n",
       "  \"/>\n",
       "<polyline clip-path=\"url(#clip183)\" style=\"stroke:#000000; stroke-width:2; stroke-opacity:0.1; fill:none\" points=\"\n",
       "  2352.76,1423.18 2352.76,47.2441 \n",
       "  \"/>\n",
       "<polyline clip-path=\"url(#clip180)\" style=\"stroke:#000000; stroke-width:4; stroke-opacity:1; fill:none\" points=\"\n",
       "  223.996,1423.18 2352.76,1423.18 \n",
       "  \"/>\n",
       "<polyline clip-path=\"url(#clip180)\" style=\"stroke:#000000; stroke-width:4; stroke-opacity:1; fill:none\" points=\"\n",
       "  223.996,1423.18 223.996,1406.67 \n",
       "  \"/>\n",
       "<polyline clip-path=\"url(#clip180)\" style=\"stroke:#000000; stroke-width:4; stroke-opacity:1; fill:none\" points=\"\n",
       "  490.091,1423.18 490.091,1406.67 \n",
       "  \"/>\n",
       "<polyline clip-path=\"url(#clip180)\" style=\"stroke:#000000; stroke-width:4; stroke-opacity:1; fill:none\" points=\"\n",
       "  756.186,1423.18 756.186,1406.67 \n",
       "  \"/>\n",
       "<polyline clip-path=\"url(#clip180)\" style=\"stroke:#000000; stroke-width:4; stroke-opacity:1; fill:none\" points=\"\n",
       "  1022.28,1423.18 1022.28,1406.67 \n",
       "  \"/>\n",
       "<polyline clip-path=\"url(#clip180)\" style=\"stroke:#000000; stroke-width:4; stroke-opacity:1; fill:none\" points=\"\n",
       "  1288.38,1423.18 1288.38,1406.67 \n",
       "  \"/>\n",
       "<polyline clip-path=\"url(#clip180)\" style=\"stroke:#000000; stroke-width:4; stroke-opacity:1; fill:none\" points=\"\n",
       "  1554.47,1423.18 1554.47,1406.67 \n",
       "  \"/>\n",
       "<polyline clip-path=\"url(#clip180)\" style=\"stroke:#000000; stroke-width:4; stroke-opacity:1; fill:none\" points=\"\n",
       "  1820.57,1423.18 1820.57,1406.67 \n",
       "  \"/>\n",
       "<polyline clip-path=\"url(#clip180)\" style=\"stroke:#000000; stroke-width:4; stroke-opacity:1; fill:none\" points=\"\n",
       "  2086.66,1423.18 2086.66,1406.67 \n",
       "  \"/>\n",
       "<polyline clip-path=\"url(#clip180)\" style=\"stroke:#000000; stroke-width:4; stroke-opacity:1; fill:none\" points=\"\n",
       "  2352.76,1423.18 2352.76,1406.67 \n",
       "  \"/>\n",
       "<path clip-path=\"url(#clip180)\" d=\"M 0 0 M223.996 1452.37 Q220.385 1452.37 218.557 1455.94 Q216.751 1459.48 216.751 1466.61 Q216.751 1473.71 218.557 1477.28 Q220.385 1480.82 223.996 1480.82 Q227.631 1480.82 229.436 1477.28 Q231.265 1473.71 231.265 1466.61 Q231.265 1459.48 229.436 1455.94 Q227.631 1452.37 223.996 1452.37 M223.996 1448.67 Q229.806 1448.67 232.862 1453.27 Q235.941 1457.86 235.941 1466.61 Q235.941 1475.33 232.862 1479.94 Q229.806 1484.52 223.996 1484.52 Q218.186 1484.52 215.107 1479.94 Q212.052 1475.33 212.052 1466.61 Q212.052 1457.86 215.107 1453.27 Q218.186 1448.67 223.996 1448.67 Z\" fill=\"#000000\" fill-rule=\"evenodd\" fill-opacity=\"1\" /><path clip-path=\"url(#clip180)\" d=\"M 0 0 M480.473 1479.92 L488.112 1479.92 L488.112 1453.55 L479.802 1455.22 L479.802 1450.96 L488.066 1449.29 L492.742 1449.29 L492.742 1479.92 L500.381 1479.92 L500.381 1483.85 L480.473 1483.85 L480.473 1479.92 Z\" fill=\"#000000\" fill-rule=\"evenodd\" fill-opacity=\"1\" /><path clip-path=\"url(#clip180)\" d=\"M 0 0 M750.839 1479.92 L767.158 1479.92 L767.158 1483.85 L745.214 1483.85 L745.214 1479.92 Q747.876 1477.16 752.459 1472.53 Q757.066 1467.88 758.246 1466.54 Q760.492 1464.01 761.371 1462.28 Q762.274 1460.52 762.274 1458.83 Q762.274 1456.07 760.33 1454.34 Q758.408 1452.6 755.307 1452.6 Q753.108 1452.6 750.654 1453.37 Q748.223 1454.13 745.446 1455.68 L745.446 1450.96 Q748.27 1449.82 750.723 1449.25 Q753.177 1448.67 755.214 1448.67 Q760.584 1448.67 763.779 1451.35 Q766.973 1454.04 766.973 1458.53 Q766.973 1460.66 766.163 1462.58 Q765.376 1464.48 763.27 1467.07 Q762.691 1467.74 759.589 1470.96 Q756.487 1474.15 750.839 1479.92 Z\" fill=\"#000000\" fill-rule=\"evenodd\" fill-opacity=\"1\" /><path clip-path=\"url(#clip180)\" d=\"M 0 0 M1026.53 1465.22 Q1029.89 1465.94 1031.76 1468.2 Q1033.66 1470.47 1033.66 1473.81 Q1033.66 1478.92 1030.14 1481.72 Q1026.62 1484.52 1020.14 1484.52 Q1017.96 1484.52 1015.65 1484.08 Q1013.36 1483.67 1010.9 1482.81 L1010.9 1478.3 Q1012.85 1479.43 1015.16 1480.01 Q1017.48 1480.59 1020 1480.59 Q1024.4 1480.59 1026.69 1478.85 Q1029.01 1477.12 1029.01 1473.81 Q1029.01 1470.75 1026.85 1469.04 Q1024.72 1467.3 1020.9 1467.3 L1016.88 1467.3 L1016.88 1463.46 L1021.09 1463.46 Q1024.54 1463.46 1026.37 1462.09 Q1028.2 1460.7 1028.2 1458.11 Q1028.2 1455.45 1026.3 1454.04 Q1024.42 1452.6 1020.9 1452.6 Q1018.98 1452.6 1016.78 1453.02 Q1014.58 1453.44 1011.95 1454.31 L1011.95 1450.15 Q1014.61 1449.41 1016.92 1449.04 Q1019.26 1448.67 1021.32 1448.67 Q1026.64 1448.67 1029.75 1451.1 Q1032.85 1453.5 1032.85 1457.63 Q1032.85 1460.5 1031.2 1462.49 Q1029.56 1464.45 1026.53 1465.22 Z\" fill=\"#000000\" fill-rule=\"evenodd\" fill-opacity=\"1\" /><path clip-path=\"url(#clip180)\" d=\"M 0 0 M1291.39 1453.37 L1279.58 1471.81 L1291.39 1471.81 L1291.39 1453.37 M1290.16 1449.29 L1296.04 1449.29 L1296.04 1471.81 L1300.97 1471.81 L1300.97 1475.7 L1296.04 1475.7 L1296.04 1483.85 L1291.39 1483.85 L1291.39 1475.7 L1275.78 1475.7 L1275.78 1471.19 L1290.16 1449.29 Z\" fill=\"#000000\" fill-rule=\"evenodd\" fill-opacity=\"1\" /><path clip-path=\"url(#clip180)\" d=\"M 0 0 M1544.75 1449.29 L1563.11 1449.29 L1563.11 1453.23 L1549.03 1453.23 L1549.03 1461.7 Q1550.05 1461.35 1551.07 1461.19 Q1552.09 1461 1553.11 1461 Q1558.89 1461 1562.27 1464.18 Q1565.65 1467.35 1565.65 1472.76 Q1565.65 1478.34 1562.18 1481.44 Q1558.71 1484.52 1552.39 1484.52 Q1550.21 1484.52 1547.94 1484.15 Q1545.7 1483.78 1543.29 1483.04 L1543.29 1478.34 Q1545.37 1479.48 1547.6 1480.03 Q1549.82 1480.59 1552.3 1480.59 Q1556.3 1480.59 1558.64 1478.48 Q1560.98 1476.38 1560.98 1472.76 Q1560.98 1469.15 1558.64 1467.05 Q1556.3 1464.94 1552.3 1464.94 Q1550.42 1464.94 1548.55 1465.36 Q1546.69 1465.77 1544.75 1466.65 L1544.75 1449.29 Z\" fill=\"#000000\" fill-rule=\"evenodd\" fill-opacity=\"1\" /><path clip-path=\"url(#clip180)\" d=\"M 0 0 M1820.97 1464.71 Q1817.82 1464.71 1815.97 1466.86 Q1814.14 1469.01 1814.14 1472.76 Q1814.14 1476.49 1815.97 1478.67 Q1817.82 1480.82 1820.97 1480.82 Q1824.12 1480.82 1825.95 1478.67 Q1827.8 1476.49 1827.8 1472.76 Q1827.8 1469.01 1825.95 1466.86 Q1824.12 1464.71 1820.97 1464.71 M1830.25 1450.06 L1830.25 1454.31 Q1828.49 1453.48 1826.69 1453.04 Q1824.91 1452.6 1823.15 1452.6 Q1818.52 1452.6 1816.06 1455.73 Q1813.63 1458.85 1813.29 1465.17 Q1814.65 1463.16 1816.71 1462.09 Q1818.77 1461 1821.25 1461 Q1826.46 1461 1829.47 1464.18 Q1832.5 1467.32 1832.5 1472.76 Q1832.5 1478.09 1829.35 1481.31 Q1826.2 1484.52 1820.97 1484.52 Q1814.98 1484.52 1811.8 1479.94 Q1808.63 1475.33 1808.63 1466.61 Q1808.63 1458.41 1812.52 1453.55 Q1816.41 1448.67 1822.96 1448.67 Q1824.72 1448.67 1826.5 1449.01 Q1828.31 1449.36 1830.25 1450.06 Z\" fill=\"#000000\" fill-rule=\"evenodd\" fill-opacity=\"1\" /><path clip-path=\"url(#clip180)\" d=\"M 0 0 M2075.55 1449.29 L2097.77 1449.29 L2097.77 1451.28 L2085.23 1483.85 L2080.34 1483.85 L2092.15 1453.23 L2075.55 1453.23 L2075.55 1449.29 Z\" fill=\"#000000\" fill-rule=\"evenodd\" fill-opacity=\"1\" /><path clip-path=\"url(#clip180)\" d=\"M 0 0 M2352.76 1467.44 Q2349.42 1467.44 2347.5 1469.22 Q2345.6 1471 2345.6 1474.13 Q2345.6 1477.25 2347.5 1479.04 Q2349.42 1480.82 2352.76 1480.82 Q2356.09 1480.82 2358.01 1479.04 Q2359.93 1477.23 2359.93 1474.13 Q2359.93 1471 2358.01 1469.22 Q2356.11 1467.44 2352.76 1467.44 M2348.08 1465.45 Q2345.07 1464.71 2343.38 1462.65 Q2341.71 1460.59 2341.71 1457.63 Q2341.71 1453.48 2344.65 1451.07 Q2347.62 1448.67 2352.76 1448.67 Q2357.92 1448.67 2360.86 1451.07 Q2363.8 1453.48 2363.8 1457.63 Q2363.8 1460.59 2362.11 1462.65 Q2360.44 1464.71 2357.45 1465.45 Q2360.83 1466.24 2362.71 1468.53 Q2364.61 1470.82 2364.61 1474.13 Q2364.61 1479.15 2361.53 1481.84 Q2358.47 1484.52 2352.76 1484.52 Q2347.04 1484.52 2343.96 1481.84 Q2340.9 1479.15 2340.9 1474.13 Q2340.9 1470.82 2342.8 1468.53 Q2344.7 1466.24 2348.08 1465.45 M2346.37 1458.06 Q2346.37 1460.75 2348.03 1462.25 Q2349.72 1463.76 2352.76 1463.76 Q2355.77 1463.76 2357.45 1462.25 Q2359.17 1460.75 2359.17 1458.06 Q2359.17 1455.38 2357.45 1453.88 Q2355.77 1452.37 2352.76 1452.37 Q2349.72 1452.37 2348.03 1453.88 Q2346.37 1455.38 2346.37 1458.06 Z\" fill=\"#000000\" fill-rule=\"evenodd\" fill-opacity=\"1\" /><path clip-path=\"url(#clip180)\" d=\"M 0 0 M1090.29 1520.52 L1099.87 1520.52 L1112 1552.86 L1124.19 1520.52 L1133.77 1520.52 L1133.77 1568.04 L1127.5 1568.04 L1127.5 1526.32 L1115.24 1558.91 L1108.78 1558.91 L1096.53 1526.32 L1096.53 1568.04 L1090.29 1568.04 L1090.29 1520.52 Z\" fill=\"#000000\" fill-rule=\"evenodd\" fill-opacity=\"1\" /><path clip-path=\"url(#clip180)\" d=\"M 0 0 M1156.11 1550.12 Q1149.01 1550.12 1146.28 1551.75 Q1143.54 1553.37 1143.54 1557.29 Q1143.54 1560.4 1145.58 1562.25 Q1147.65 1564.07 1151.18 1564.07 Q1156.05 1564.07 1158.98 1560.63 Q1161.94 1557.16 1161.94 1551.43 L1161.94 1550.12 L1156.11 1550.12 M1167.79 1547.71 L1167.79 1568.04 L1161.94 1568.04 L1161.94 1562.63 Q1159.93 1565.88 1156.94 1567.44 Q1153.95 1568.97 1149.62 1568.97 Q1144.15 1568.97 1140.9 1565.91 Q1137.68 1562.82 1137.68 1557.67 Q1137.68 1551.65 1141.69 1548.6 Q1145.74 1545.54 1153.73 1545.54 L1161.94 1545.54 L1161.94 1544.97 Q1161.94 1540.93 1159.26 1538.73 Q1156.62 1536.5 1151.82 1536.5 Q1148.76 1536.5 1145.86 1537.23 Q1142.97 1537.97 1140.29 1539.43 L1140.29 1534.02 Q1143.51 1532.78 1146.53 1532.17 Q1149.56 1531.54 1152.42 1531.54 Q1160.15 1531.54 1163.97 1535.55 Q1167.79 1539.56 1167.79 1547.71 Z\" fill=\"#000000\" fill-rule=\"evenodd\" fill-opacity=\"1\" /><path clip-path=\"url(#clip180)\" d=\"M 0 0 M1199.59 1533.76 L1199.59 1539.24 Q1197.11 1537.87 1194.59 1537.2 Q1192.11 1536.5 1189.56 1536.5 Q1183.87 1536.5 1180.72 1540.13 Q1177.57 1543.73 1177.57 1550.25 Q1177.57 1556.78 1180.72 1560.4 Q1183.87 1564 1189.56 1564 Q1192.11 1564 1194.59 1563.33 Q1197.11 1562.63 1199.59 1561.26 L1199.59 1566.68 Q1197.14 1567.82 1194.5 1568.39 Q1191.89 1568.97 1188.93 1568.97 Q1180.88 1568.97 1176.13 1563.91 Q1171.39 1558.85 1171.39 1550.25 Q1171.39 1541.53 1176.16 1536.53 Q1180.97 1531.54 1189.31 1531.54 Q1192.02 1531.54 1194.59 1532.11 Q1197.17 1532.65 1199.59 1533.76 Z\" fill=\"#000000\" fill-rule=\"evenodd\" fill-opacity=\"1\" /><path clip-path=\"url(#clip180)\" d=\"M 0 0 M1235.37 1546.53 L1235.37 1568.04 L1229.51 1568.04 L1229.51 1546.72 Q1229.51 1541.66 1227.54 1539.14 Q1225.56 1536.63 1221.62 1536.63 Q1216.87 1536.63 1214.14 1539.65 Q1211.4 1542.68 1211.4 1547.9 L1211.4 1568.04 L1205.51 1568.04 L1205.51 1518.52 L1211.4 1518.52 L1211.4 1537.93 Q1213.5 1534.72 1216.33 1533.13 Q1219.2 1531.54 1222.92 1531.54 Q1229.06 1531.54 1232.21 1535.36 Q1235.37 1539.14 1235.37 1546.53 Z\" fill=\"#000000\" fill-rule=\"evenodd\" fill-opacity=\"1\" /><path clip-path=\"url(#clip180)\" d=\"M 0 0 M1291.86 1546.53 L1291.86 1568.04 L1286 1568.04 L1286 1546.72 Q1286 1541.66 1284.03 1539.14 Q1282.06 1536.63 1278.11 1536.63 Q1273.37 1536.63 1270.63 1539.65 Q1267.89 1542.68 1267.89 1547.9 L1267.89 1568.04 L1262.01 1568.04 L1262.01 1532.4 L1267.89 1532.4 L1267.89 1537.93 Q1270 1534.72 1272.83 1533.13 Q1275.69 1531.54 1279.42 1531.54 Q1285.56 1531.54 1288.71 1535.36 Q1291.86 1539.14 1291.86 1546.53 Z\" fill=\"#000000\" fill-rule=\"evenodd\" fill-opacity=\"1\" /><path clip-path=\"url(#clip180)\" d=\"M 0 0 M1297.4 1553.98 L1297.4 1532.4 L1303.26 1532.4 L1303.26 1553.75 Q1303.26 1558.81 1305.23 1561.36 Q1307.2 1563.87 1311.15 1563.87 Q1315.89 1563.87 1318.63 1560.85 Q1321.4 1557.83 1321.4 1552.61 L1321.4 1532.4 L1327.25 1532.4 L1327.25 1568.04 L1321.4 1568.04 L1321.4 1562.57 Q1319.27 1565.82 1316.43 1567.41 Q1313.63 1568.97 1309.91 1568.97 Q1303.77 1568.97 1300.58 1565.15 Q1297.4 1561.33 1297.4 1553.98 M1312.14 1531.54 L1312.14 1531.54 Z\" fill=\"#000000\" fill-rule=\"evenodd\" fill-opacity=\"1\" /><path clip-path=\"url(#clip180)\" d=\"M 0 0 M1361.15 1539.24 Q1363.35 1535.29 1366.4 1533.41 Q1369.46 1531.54 1373.6 1531.54 Q1379.17 1531.54 1382.19 1535.45 Q1385.21 1539.33 1385.21 1546.53 L1385.21 1568.04 L1379.33 1568.04 L1379.33 1546.72 Q1379.33 1541.59 1377.51 1539.11 Q1375.7 1536.63 1371.97 1536.63 Q1367.42 1536.63 1364.78 1539.65 Q1362.14 1542.68 1362.14 1547.9 L1362.14 1568.04 L1356.25 1568.04 L1356.25 1546.72 Q1356.25 1541.56 1354.44 1539.11 Q1352.62 1536.63 1348.83 1536.63 Q1344.35 1536.63 1341.7 1539.68 Q1339.06 1542.71 1339.06 1547.9 L1339.06 1568.04 L1333.17 1568.04 L1333.17 1532.4 L1339.06 1532.4 L1339.06 1537.93 Q1341.07 1534.66 1343.87 1533.1 Q1346.67 1531.54 1350.52 1531.54 Q1354.4 1531.54 1357.11 1533.51 Q1359.85 1535.48 1361.15 1539.24 Z\" fill=\"#000000\" fill-rule=\"evenodd\" fill-opacity=\"1\" /><path clip-path=\"url(#clip180)\" d=\"M 0 0 M1416.95 1550.25 Q1416.95 1543.79 1414.27 1540.13 Q1411.63 1536.44 1406.99 1536.44 Q1402.34 1536.44 1399.66 1540.13 Q1397.02 1543.79 1397.02 1550.25 Q1397.02 1556.71 1399.66 1560.4 Q1402.34 1564.07 1406.99 1564.07 Q1411.63 1564.07 1414.27 1560.4 Q1416.95 1556.71 1416.95 1550.25 M1397.02 1537.81 Q1398.87 1534.62 1401.67 1533.1 Q1404.5 1531.54 1408.42 1531.54 Q1414.91 1531.54 1418.95 1536.69 Q1423.03 1541.85 1423.03 1550.25 Q1423.03 1558.65 1418.95 1563.81 Q1414.91 1568.97 1408.42 1568.97 Q1404.5 1568.97 1401.67 1567.44 Q1398.87 1565.88 1397.02 1562.7 L1397.02 1568.04 L1391.13 1568.04 L1391.13 1518.52 L1397.02 1518.52 L1397.02 1537.81 Z\" fill=\"#000000\" fill-rule=\"evenodd\" fill-opacity=\"1\" /><path clip-path=\"url(#clip180)\" d=\"M 0 0 M1459.66 1548.76 L1459.66 1551.62 L1432.73 1551.62 Q1433.12 1557.67 1436.36 1560.85 Q1439.64 1564 1445.47 1564 Q1448.84 1564 1451.99 1563.17 Q1455.17 1562.35 1458.29 1560.69 L1458.29 1566.23 Q1455.14 1567.57 1451.83 1568.27 Q1448.52 1568.97 1445.12 1568.97 Q1436.59 1568.97 1431.59 1564 Q1426.62 1559.04 1426.62 1550.57 Q1426.62 1541.82 1431.33 1536.69 Q1436.08 1531.54 1444.1 1531.54 Q1451.29 1531.54 1455.46 1536.18 Q1459.66 1540.8 1459.66 1548.76 M1453.8 1547.04 Q1453.74 1542.23 1451.1 1539.37 Q1448.49 1536.5 1444.16 1536.5 Q1439.26 1536.5 1436.3 1539.27 Q1433.37 1542.04 1432.93 1547.07 L1453.8 1547.04 Z\" fill=\"#000000\" fill-rule=\"evenodd\" fill-opacity=\"1\" /><path clip-path=\"url(#clip180)\" d=\"M 0 0 M1486.46 1537.87 Q1485.47 1537.3 1484.3 1537.04 Q1483.15 1536.76 1481.75 1536.76 Q1476.79 1536.76 1474.11 1540 Q1471.47 1543.22 1471.47 1549.27 L1471.47 1568.04 L1465.58 1568.04 L1465.58 1532.4 L1471.47 1532.4 L1471.47 1537.93 Q1473.32 1534.69 1476.28 1533.13 Q1479.24 1531.54 1483.47 1531.54 Q1484.07 1531.54 1484.81 1531.63 Q1485.54 1531.7 1486.43 1531.85 L1486.46 1537.87 Z\" fill=\"#000000\" fill-rule=\"evenodd\" fill-opacity=\"1\" /><polyline clip-path=\"url(#clip183)\" style=\"stroke:#000000; stroke-width:2; stroke-opacity:0.1; fill:none\" points=\"\n",
       "  223.996,1423.18 2352.76,1423.18 \n",
       "  \"/>\n",
       "<polyline clip-path=\"url(#clip183)\" style=\"stroke:#000000; stroke-width:2; stroke-opacity:0.1; fill:none\" points=\"\n",
       "  223.996,1079.2 2352.76,1079.2 \n",
       "  \"/>\n",
       "<polyline clip-path=\"url(#clip183)\" style=\"stroke:#000000; stroke-width:2; stroke-opacity:0.1; fill:none\" points=\"\n",
       "  223.996,735.212 2352.76,735.212 \n",
       "  \"/>\n",
       "<polyline clip-path=\"url(#clip183)\" style=\"stroke:#000000; stroke-width:2; stroke-opacity:0.1; fill:none\" points=\"\n",
       "  223.996,391.228 2352.76,391.228 \n",
       "  \"/>\n",
       "<polyline clip-path=\"url(#clip183)\" style=\"stroke:#000000; stroke-width:2; stroke-opacity:0.1; fill:none\" points=\"\n",
       "  223.996,47.2441 2352.76,47.2441 \n",
       "  \"/>\n",
       "<polyline clip-path=\"url(#clip180)\" style=\"stroke:#000000; stroke-width:4; stroke-opacity:1; fill:none\" points=\"\n",
       "  223.996,1423.18 223.996,47.2441 \n",
       "  \"/>\n",
       "<polyline clip-path=\"url(#clip180)\" style=\"stroke:#000000; stroke-width:4; stroke-opacity:1; fill:none\" points=\"\n",
       "  223.996,1423.18 249.541,1423.18 \n",
       "  \"/>\n",
       "<polyline clip-path=\"url(#clip180)\" style=\"stroke:#000000; stroke-width:4; stroke-opacity:1; fill:none\" points=\"\n",
       "  223.996,1079.2 249.541,1079.2 \n",
       "  \"/>\n",
       "<polyline clip-path=\"url(#clip180)\" style=\"stroke:#000000; stroke-width:4; stroke-opacity:1; fill:none\" points=\"\n",
       "  223.996,735.212 249.541,735.212 \n",
       "  \"/>\n",
       "<polyline clip-path=\"url(#clip180)\" style=\"stroke:#000000; stroke-width:4; stroke-opacity:1; fill:none\" points=\"\n",
       "  223.996,391.228 249.541,391.228 \n",
       "  \"/>\n",
       "<polyline clip-path=\"url(#clip180)\" style=\"stroke:#000000; stroke-width:4; stroke-opacity:1; fill:none\" points=\"\n",
       "  223.996,47.2441 249.541,47.2441 \n",
       "  \"/>\n",
       "<path clip-path=\"url(#clip180)\" d=\"M 0 0 M139.085 1408.98 Q135.473 1408.98 133.645 1412.54 Q131.839 1416.08 131.839 1423.21 Q131.839 1430.32 133.645 1433.89 Q135.473 1437.43 139.085 1437.43 Q142.719 1437.43 144.524 1433.89 Q146.353 1430.32 146.353 1423.21 Q146.353 1416.08 144.524 1412.54 Q142.719 1408.98 139.085 1408.98 M139.085 1405.27 Q144.895 1405.27 147.95 1409.88 Q151.029 1414.46 151.029 1423.21 Q151.029 1431.94 147.95 1436.55 Q144.895 1441.13 139.085 1441.13 Q133.274 1441.13 130.196 1436.55 Q127.14 1431.94 127.14 1423.21 Q127.14 1414.46 130.196 1409.88 Q133.274 1405.27 139.085 1405.27 Z\" fill=\"#000000\" fill-rule=\"evenodd\" fill-opacity=\"1\" /><path clip-path=\"url(#clip180)\" d=\"M 0 0 M156.098 1434.58 L160.983 1434.58 L160.983 1440.46 L156.098 1440.46 L156.098 1434.58 Z\" fill=\"#000000\" fill-rule=\"evenodd\" fill-opacity=\"1\" /><path clip-path=\"url(#clip180)\" d=\"M 0 0 M176.052 1408.98 Q172.441 1408.98 170.612 1412.54 Q168.807 1416.08 168.807 1423.21 Q168.807 1430.32 170.612 1433.89 Q172.441 1437.43 176.052 1437.43 Q179.686 1437.43 181.492 1433.89 Q183.32 1430.32 183.32 1423.21 Q183.32 1416.08 181.492 1412.54 Q179.686 1408.98 176.052 1408.98 M176.052 1405.27 Q181.862 1405.27 184.918 1409.88 Q187.996 1414.46 187.996 1423.21 Q187.996 1431.94 184.918 1436.55 Q181.862 1441.13 176.052 1441.13 Q170.242 1441.13 167.163 1436.55 Q164.108 1431.94 164.108 1423.21 Q164.108 1414.46 167.163 1409.88 Q170.242 1405.27 176.052 1405.27 Z\" fill=\"#000000\" fill-rule=\"evenodd\" fill-opacity=\"1\" /><path clip-path=\"url(#clip180)\" d=\"M 0 0 M140.08 1064.99 Q136.469 1064.99 134.64 1068.56 Q132.835 1072.1 132.835 1079.23 Q132.835 1086.34 134.64 1089.9 Q136.469 1093.44 140.08 1093.44 Q143.714 1093.44 145.52 1089.9 Q147.348 1086.34 147.348 1079.23 Q147.348 1072.1 145.52 1068.56 Q143.714 1064.99 140.08 1064.99 M140.08 1061.29 Q145.89 1061.29 148.946 1065.9 Q152.024 1070.48 152.024 1079.23 Q152.024 1087.96 148.946 1092.56 Q145.89 1097.15 140.08 1097.15 Q134.27 1097.15 131.191 1092.56 Q128.136 1087.96 128.136 1079.23 Q128.136 1070.48 131.191 1065.9 Q134.27 1061.29 140.08 1061.29 Z\" fill=\"#000000\" fill-rule=\"evenodd\" fill-opacity=\"1\" /><path clip-path=\"url(#clip180)\" d=\"M 0 0 M157.094 1090.6 L161.978 1090.6 L161.978 1096.48 L157.094 1096.48 L157.094 1090.6 Z\" fill=\"#000000\" fill-rule=\"evenodd\" fill-opacity=\"1\" /><path clip-path=\"url(#clip180)\" d=\"M 0 0 M167.094 1061.92 L185.45 1061.92 L185.45 1065.85 L171.376 1065.85 L171.376 1074.32 Q172.395 1073.98 173.413 1073.81 Q174.432 1073.63 175.45 1073.63 Q181.237 1073.63 184.617 1076.8 Q187.996 1079.97 187.996 1085.39 Q187.996 1090.97 184.524 1094.07 Q181.052 1097.15 174.733 1097.15 Q172.557 1097.15 170.288 1096.78 Q168.043 1096.41 165.635 1095.67 L165.635 1090.97 Q167.719 1092.1 169.941 1092.66 Q172.163 1093.21 174.64 1093.21 Q178.645 1093.21 180.982 1091.11 Q183.32 1089 183.32 1085.39 Q183.32 1081.78 180.982 1079.67 Q178.645 1077.56 174.64 1077.56 Q172.765 1077.56 170.89 1077.98 Q169.038 1078.4 167.094 1079.28 L167.094 1061.92 Z\" fill=\"#000000\" fill-rule=\"evenodd\" fill-opacity=\"1\" /><path clip-path=\"url(#clip180)\" d=\"M 0 0 M131.122 748.557 L138.76 748.557 L138.76 722.191 L130.45 723.858 L130.45 719.599 L138.714 717.932 L143.39 717.932 L143.39 748.557 L151.029 748.557 L151.029 752.492 L131.122 752.492 L131.122 748.557 Z\" fill=\"#000000\" fill-rule=\"evenodd\" fill-opacity=\"1\" /><path clip-path=\"url(#clip180)\" d=\"M 0 0 M156.098 746.612 L160.983 746.612 L160.983 752.492 L156.098 752.492 L156.098 746.612 Z\" fill=\"#000000\" fill-rule=\"evenodd\" fill-opacity=\"1\" /><path clip-path=\"url(#clip180)\" d=\"M 0 0 M176.052 721.011 Q172.441 721.011 170.612 724.575 Q168.807 728.117 168.807 735.247 Q168.807 742.353 170.612 745.918 Q172.441 749.46 176.052 749.46 Q179.686 749.46 181.492 745.918 Q183.32 742.353 183.32 735.247 Q183.32 728.117 181.492 724.575 Q179.686 721.011 176.052 721.011 M176.052 717.307 Q181.862 717.307 184.918 721.913 Q187.996 726.497 187.996 735.247 Q187.996 743.973 184.918 748.58 Q181.862 753.163 176.052 753.163 Q170.242 753.163 167.163 748.58 Q164.108 743.973 164.108 735.247 Q164.108 726.497 167.163 721.913 Q170.242 717.307 176.052 717.307 Z\" fill=\"#000000\" fill-rule=\"evenodd\" fill-opacity=\"1\" /><path clip-path=\"url(#clip180)\" d=\"M 0 0 M132.117 404.573 L139.756 404.573 L139.756 378.207 L131.446 379.874 L131.446 375.615 L139.71 373.948 L144.385 373.948 L144.385 404.573 L152.024 404.573 L152.024 408.508 L132.117 408.508 L132.117 404.573 Z\" fill=\"#000000\" fill-rule=\"evenodd\" fill-opacity=\"1\" /><path clip-path=\"url(#clip180)\" d=\"M 0 0 M157.094 402.628 L161.978 402.628 L161.978 408.508 L157.094 408.508 L157.094 402.628 Z\" fill=\"#000000\" fill-rule=\"evenodd\" fill-opacity=\"1\" /><path clip-path=\"url(#clip180)\" d=\"M 0 0 M167.094 373.948 L185.45 373.948 L185.45 377.883 L171.376 377.883 L171.376 386.355 Q172.395 386.008 173.413 385.846 Q174.432 385.661 175.45 385.661 Q181.237 385.661 184.617 388.832 Q187.996 392.003 187.996 397.42 Q187.996 402.999 184.524 406.101 Q181.052 409.179 174.733 409.179 Q172.557 409.179 170.288 408.809 Q168.043 408.439 165.635 407.698 L165.635 402.999 Q167.719 404.133 169.941 404.689 Q172.163 405.244 174.64 405.244 Q178.645 405.244 180.982 403.138 Q183.32 401.031 183.32 397.42 Q183.32 393.809 180.982 391.703 Q178.645 389.596 174.64 389.596 Q172.765 389.596 170.89 390.013 Q169.038 390.429 167.094 391.309 L167.094 373.948 Z\" fill=\"#000000\" fill-rule=\"evenodd\" fill-opacity=\"1\" /><path clip-path=\"url(#clip180)\" d=\"M 0 0 M134.71 60.5889 L151.029 60.5889 L151.029 64.5241 L129.085 64.5241 L129.085 60.5889 Q131.747 57.8343 136.33 53.2047 Q140.936 48.552 142.117 47.2094 Q144.362 44.6862 145.242 42.9501 Q146.145 41.1909 146.145 39.5011 Q146.145 36.7465 144.2 35.0104 Q142.279 33.2743 139.177 33.2743 Q136.978 33.2743 134.524 34.0381 Q132.094 34.802 129.316 36.3529 L129.316 31.6308 Q132.14 30.4965 134.594 29.9178 Q137.048 29.3391 139.085 29.3391 Q144.455 29.3391 147.649 32.0243 Q150.844 34.7094 150.844 39.2002 Q150.844 41.3298 150.034 43.2511 Q149.247 45.1492 147.14 47.7418 Q146.561 48.4131 143.46 51.6306 Q140.358 54.8251 134.71 60.5889 Z\" fill=\"#000000\" fill-rule=\"evenodd\" fill-opacity=\"1\" /><path clip-path=\"url(#clip180)\" d=\"M 0 0 M156.098 58.6445 L160.983 58.6445 L160.983 64.5241 L156.098 64.5241 L156.098 58.6445 Z\" fill=\"#000000\" fill-rule=\"evenodd\" fill-opacity=\"1\" /><path clip-path=\"url(#clip180)\" d=\"M 0 0 M176.052 33.0428 Q172.441 33.0428 170.612 36.6076 Q168.807 40.1492 168.807 47.2788 Q168.807 54.3853 170.612 57.9501 Q172.441 61.4917 176.052 61.4917 Q179.686 61.4917 181.492 57.9501 Q183.32 54.3853 183.32 47.2788 Q183.32 40.1492 181.492 36.6076 Q179.686 33.0428 176.052 33.0428 M176.052 29.3391 Q181.862 29.3391 184.918 33.9456 Q187.996 38.5289 187.996 47.2788 Q187.996 56.0056 184.918 60.6121 Q181.862 65.1954 176.052 65.1954 Q170.242 65.1954 167.163 60.6121 Q164.108 56.0056 164.108 47.2788 Q164.108 38.5289 167.163 33.9456 Q170.242 29.3391 176.052 29.3391 Z\" fill=\"#000000\" fill-rule=\"evenodd\" fill-opacity=\"1\" /><path clip-path=\"url(#clip180)\" d=\"M 0 0 M37.0914 799.119 Q37.7033 799.119 38.2186 799.247 L49.6839 801.051 Q50.5534 801.148 50.8755 801.341 Q51.1976 801.502 51.1976 802.017 Q51.1976 802.822 50.3602 802.822 Q49.8771 802.822 49.1042 802.629 Q45.4649 802.082 43.8224 802.082 Q42.7274 802.082 41.9223 802.307 Q41.0849 802.5 40.5052 802.822 Q39.9255 803.112 39.539 803.788 Q39.1526 804.465 38.9271 805.109 Q38.7017 805.753 38.6051 806.912 Q38.4762 808.072 38.444 809.07 Q38.4118 810.069 38.4118 811.711 Q38.4118 815.286 38.5407 815.866 Q38.7017 816.478 39.1848 816.8 Q39.6357 817.089 40.9883 817.411 L75.9961 826.171 L77.3809 826.429 Q78.1539 826.429 78.4115 825.946 Q78.6692 825.463 78.8302 823.981 Q78.9912 821.856 78.9912 819.763 Q78.9912 819.698 78.9912 819.569 Q78.9912 818.861 79.0234 818.571 Q79.0234 818.281 79.0878 817.991 Q79.1522 817.701 79.3133 817.637 Q79.4421 817.54 79.6997 817.54 Q80.3117 817.54 80.6337 817.798 Q80.9236 818.056 80.988 818.313 Q81.0202 818.539 81.0202 818.99 Q81.0202 819.891 80.9558 821.824 Q80.8914 823.756 80.8914 824.722 L80.8269 830.197 L80.8914 835.801 Q80.8914 836.671 80.9558 838.506 Q81.0202 840.342 81.0202 841.212 Q81.0202 842.339 80.215 842.339 Q79.3133 842.339 79.1522 841.92 Q78.9912 841.469 78.9912 839.569 Q78.9912 836.896 78.8624 835.447 Q78.7336 833.998 78.2827 833.225 Q77.8318 832.419 77.3809 832.194 Q76.8978 831.969 75.8028 831.711 L40.6018 822.854 Q39.8289 822.597 39.217 822.597 Q38.8949 822.597 38.7661 822.693 Q38.6373 822.758 38.5407 823.176 Q38.4118 823.595 38.4118 824.465 L38.4118 827.041 Q38.4118 829.682 38.5407 831.324 Q38.6373 832.935 39.1204 834.481 Q39.6034 835.994 40.2798 836.896 Q40.9561 837.766 42.3409 838.732 Q43.7258 839.698 45.4005 840.406 Q47.0752 841.083 49.8127 842.049 Q50.7145 842.371 50.9721 842.564 Q51.1976 842.725 51.1976 843.176 Q51.1976 843.498 51.0043 843.756 Q50.7789 843.981 50.489 843.981 Q49.4262 843.659 49.2974 843.595 L37.6711 839.634 Q36.7371 839.311 36.5761 839.022 Q36.3829 838.7 36.3829 837.508 L36.3829 800.922 Q36.3829 800.342 36.3829 800.149 Q36.3829 799.956 36.4473 799.634 Q36.5117 799.312 36.6727 799.215 Q36.8337 799.119 37.0914 799.119 Z\" fill=\"#000000\" fill-rule=\"evenodd\" fill-opacity=\"1\" /><path clip-path=\"url(#clip180)\" d=\"M 0 0 M84.4385 792.488 Q77.6527 792.488 73.9555 790.775 Q68.4547 788.385 68.4547 782.749 Q68.4547 781.554 68.7929 780.314 Q69.1085 779.052 70.3484 777.474 Q71.5883 775.873 73.6173 774.904 Q77.54 773.055 84.4385 773.055 Q91.1792 773.055 94.8539 774.769 Q100.219 777.271 100.219 782.794 Q100.219 784.868 99.1598 786.987 Q98.1002 789.084 95.5527 790.414 Q91.7428 792.488 84.4385 792.488 M83.8749 788.656 Q90.841 788.656 93.6139 788.16 Q96.6123 787.596 97.9199 786.063 Q99.2049 784.508 99.2049 782.794 Q99.2049 780.946 97.8297 779.413 Q96.4319 777.857 93.4336 777.384 Q90.4803 776.865 83.8749 776.888 Q77.4498 776.888 74.8798 777.339 Q71.8814 777.947 70.6866 779.57 Q69.4692 781.171 69.4692 782.794 Q69.4692 783.403 69.6496 784.057 Q69.8299 784.688 70.3484 785.612 Q70.8669 786.537 72.1519 787.258 Q73.437 787.957 75.3758 788.295 Q77.8782 788.656 83.8749 788.656 Z\" fill=\"#000000\" fill-rule=\"evenodd\" fill-opacity=\"1\" /><path clip-path=\"url(#clip180)\" d=\"M 0 0 M96.5756 766.187 Q96.2536 766.187 95.545 765.93 L33.3233 742.645 Q33.2589 742.645 32.9046 742.484 Q32.5504 742.323 32.3249 742.226 Q32.0673 742.129 31.874 741.936 Q31.6808 741.711 31.6808 741.453 Q31.6808 740.809 32.486 740.809 Q32.5504 740.809 33.3233 741.002 L95.6094 764.352 Q96.7366 764.738 97.0587 764.996 Q97.3808 765.221 97.3808 765.608 Q97.3808 766.187 96.5756 766.187 Z\" fill=\"#000000\" fill-rule=\"evenodd\" fill-opacity=\"1\" /><path clip-path=\"url(#clip180)\" d=\"M 0 0 M37.0914 688.637 Q37.7033 688.637 38.2186 688.766 L49.6839 690.569 Q50.5534 690.666 50.8755 690.859 Q51.1976 691.02 51.1976 691.536 Q51.1976 692.341 50.3602 692.341 Q49.8771 692.341 49.1042 692.147 Q45.4649 691.6 43.8224 691.6 Q42.7274 691.6 41.9223 691.825 Q41.0849 692.019 40.5052 692.341 Q39.9255 692.631 39.539 693.307 Q39.1526 693.983 38.9271 694.627 Q38.7017 695.271 38.6051 696.431 Q38.4762 697.59 38.444 698.589 Q38.4118 699.587 38.4118 701.229 Q38.4118 704.804 38.5407 705.384 Q38.7017 705.996 39.1848 706.318 Q39.6357 706.608 40.9883 706.93 L75.9961 715.69 L77.3809 715.948 Q78.1539 715.948 78.4115 715.464 Q78.6692 714.981 78.8302 713.5 Q78.9912 711.374 78.9912 709.281 Q78.9912 709.217 78.9912 709.088 Q78.9912 708.379 79.0234 708.089 Q79.0234 707.799 79.0878 707.51 Q79.1522 707.22 79.3133 707.155 Q79.4421 707.059 79.6997 707.059 Q80.3117 707.059 80.6337 707.316 Q80.9236 707.574 80.988 707.832 Q81.0202 708.057 81.0202 708.508 Q81.0202 709.41 80.9558 711.342 Q80.8914 713.274 80.8914 714.241 L80.8269 719.716 L80.8914 725.319 Q80.8914 726.189 80.9558 728.025 Q81.0202 729.861 81.0202 730.73 Q81.0202 731.857 80.215 731.857 Q79.3133 731.857 79.1522 731.439 Q78.9912 730.988 78.9912 729.088 Q78.9912 726.414 78.8624 724.965 Q78.7336 723.516 78.2827 722.743 Q77.8318 721.938 77.3809 721.712 Q76.8978 721.487 75.8028 721.229 L40.6018 712.373 Q39.8289 712.115 39.217 712.115 Q38.8949 712.115 38.7661 712.212 Q38.6373 712.276 38.5407 712.695 Q38.4118 713.113 38.4118 713.983 L38.4118 716.559 Q38.4118 719.2 38.5407 720.843 Q38.6373 722.453 39.1204 723.999 Q39.6034 725.513 40.2798 726.414 Q40.9561 727.284 42.3409 728.25 Q43.7258 729.216 45.4005 729.925 Q47.0752 730.601 49.8127 731.567 Q50.7145 731.889 50.9721 732.083 Q51.1976 732.244 51.1976 732.695 Q51.1976 733.017 51.0043 733.274 Q50.7789 733.5 50.489 733.5 Q49.4262 733.178 49.2974 733.113 L37.6711 729.152 Q36.7371 728.83 36.5761 728.54 Q36.3829 728.218 36.3829 727.026 L36.3829 690.441 Q36.3829 689.861 36.3829 689.668 Q36.3829 689.474 36.4473 689.152 Q36.5117 688.83 36.6727 688.734 Q36.8337 688.637 37.0914 688.637 Z\" fill=\"#000000\" fill-rule=\"evenodd\" fill-opacity=\"1\" /><path clip-path=\"url(#clip180)\" d=\"M 0 0 M84.4385 682.007 Q77.6527 682.007 73.9555 680.293 Q68.4547 677.904 68.4547 672.268 Q68.4547 671.073 68.7929 669.833 Q69.1085 668.57 70.3484 666.992 Q71.5883 665.392 73.6173 664.422 Q77.54 662.574 84.4385 662.574 Q91.1792 662.574 94.8539 664.287 Q100.219 666.789 100.219 672.313 Q100.219 674.387 99.1598 676.506 Q98.1002 678.602 95.5527 679.933 Q91.7428 682.007 84.4385 682.007 M83.8749 678.174 Q90.841 678.174 93.6139 677.678 Q96.6123 677.115 97.9199 675.582 Q99.2049 674.026 99.2049 672.313 Q99.2049 670.464 97.8297 668.931 Q96.4319 667.376 93.4336 666.902 Q90.4803 666.384 83.8749 666.406 Q77.4498 666.406 74.8798 666.857 Q71.8814 667.466 70.6866 669.089 Q69.4692 670.69 69.4692 672.313 Q69.4692 672.921 69.6496 673.575 Q69.8299 674.206 70.3484 675.131 Q70.8669 676.055 72.1519 676.776 Q73.437 677.475 75.3758 677.813 Q77.8782 678.174 83.8749 678.174 Z\" fill=\"#000000\" fill-rule=\"evenodd\" fill-opacity=\"1\" /><path clip-path=\"url(#clip180)\" d=\"M 0 0 M23.3678 669.185 Q22.5788 669.185 22.0603 668.126 L19.0168 661.701 L15.9734 668.216 Q15.5225 669.185 14.7334 669.185 Q14.2826 669.185 13.8768 668.825 Q13.4484 668.441 13.4484 667.945 Q13.4484 667.585 13.9444 666.931 L18.0925 661.205 Q10.4726 661.904 10.2472 661.881 Q9.79627 661.881 9.45811 661.543 Q9.09741 661.205 9.09741 660.641 Q9.09741 660.19 9.43557 659.829 Q9.75119 659.446 10.2472 659.446 L18.0925 660.123 L14.3051 655.005 Q13.4259 653.81 13.4484 653.382 Q13.4484 652.863 13.8542 652.503 Q14.26 652.142 14.7334 652.142 Q15.5225 652.142 16.0184 653.201 L19.0619 659.627 L22.1279 653.111 Q22.5788 652.142 23.3678 652.142 Q23.8187 652.142 24.247 652.525 Q24.6528 652.886 24.6528 653.382 Q24.6528 653.652 24.3823 654.126 Q24.3372 654.216 23.6158 655.185 Q22.8944 656.155 21.7897 657.665 Q20.6851 659.153 19.9862 660.123 Q27.6061 659.424 27.8316 659.446 Q28.2824 659.446 28.6431 659.784 Q29.0039 660.123 29.0039 660.686 Q29.0039 661.137 28.6882 661.52 Q28.3501 661.881 27.8316 661.881 L19.9862 661.205 L24.6528 667.652 Q24.6528 668.351 24.3147 668.734 Q23.954 669.095 23.7511 669.14 Q23.5482 669.185 23.3678 669.185 Z\" fill=\"#000000\" fill-rule=\"evenodd\" fill-opacity=\"1\" /><polyline clip-path=\"url(#clip183)\" style=\"stroke:#009af9; stroke-width:4; stroke-opacity:1; fill:none\" points=\"\n",
       "  224.262,1423.18 226.923,1422.78 229.584,1421.73 232.244,1420.02 234.905,1417.65 237.566,1414.65 240.226,1411.01 242.887,1406.75 245.547,1401.88 248.208,1396.42 \n",
       "  250.869,1390.38 253.529,1383.77 256.19,1376.63 258.85,1368.97 261.511,1360.8 264.172,1352.17 266.832,1343.08 269.493,1333.56 272.154,1323.65 274.814,1313.36 \n",
       "  277.475,1302.73 280.135,1291.78 282.796,1280.53 285.457,1269.02 288.117,1257.27 290.778,1245.32 293.438,1233.18 296.099,1220.89 298.76,1208.46 301.42,1195.94 \n",
       "  304.081,1183.34 306.742,1170.68 309.402,1158 312.063,1145.31 314.723,1132.63 317.384,1120 320.045,1107.42 322.705,1094.92 325.366,1082.52 328.026,1070.23 \n",
       "  330.687,1058.08 333.348,1046.07 336.008,1034.22 338.669,1022.54 341.33,1011.05 343.99,999.761 346.651,988.678 349.311,977.813 351.972,967.174 354.633,956.769 \n",
       "  357.293,946.605 359.954,936.687 362.615,927.021 365.275,917.61 367.936,908.459 370.596,899.569 373.257,890.943 375.918,882.583 378.578,874.489 381.239,866.661 \n",
       "  383.899,859.099 386.56,851.802 389.221,844.769 391.881,837.998 394.542,831.487 397.203,825.234 399.863,819.234 402.524,813.486 405.184,807.986 407.845,802.73 \n",
       "  410.506,797.714 413.166,792.933 415.827,788.385 418.487,784.063 421.148,779.964 423.809,776.082 426.469,772.413 429.13,768.951 431.791,765.693 434.451,762.632 \n",
       "  437.112,759.764 439.772,757.084 442.433,754.585 445.094,752.265 447.754,750.116 450.415,748.135 453.075,746.316 455.736,744.654 458.397,743.145 461.057,741.782 \n",
       "  463.718,740.563 466.379,739.481 469.039,738.533 471.7,737.714 474.36,737.018 477.021,736.442 479.682,735.982 482.342,735.633 485.003,735.391 487.663,735.252 \n",
       "  490.324,735.212 492.985,735.268 495.645,735.414 498.306,735.649 500.967,735.968 503.627,736.367 506.288,736.844 508.948,737.395 511.609,738.016 514.27,738.706 \n",
       "  516.93,739.46 519.591,740.276 522.252,741.151 524.912,742.082 527.573,743.067 530.233,744.103 532.894,745.187 535.555,746.317 538.215,747.492 540.876,748.707 \n",
       "  543.536,749.962 546.197,751.255 548.858,752.583 551.518,753.943 554.179,755.336 556.84,756.758 559.5,758.207 562.161,759.683 564.821,761.184 567.482,762.707 \n",
       "  570.143,764.251 572.803,765.816 575.464,767.399 578.124,769 580.785,770.616 583.446,772.247 586.106,773.892 588.767,775.549 591.428,777.217 594.088,778.895 \n",
       "  596.749,780.583 599.409,782.279 602.07,783.982 604.731,785.691 607.391,787.406 610.052,789.126 612.712,790.849 615.373,792.576 618.034,794.305 620.694,796.036 \n",
       "  623.355,797.768 626.016,799.501 628.676,801.233 631.337,802.965 633.997,804.695 636.658,806.424 639.319,808.151 641.979,809.874 644.64,811.595 647.301,813.312 \n",
       "  649.961,815.025 652.622,816.734 655.282,818.437 657.943,820.136 660.604,821.829 663.264,823.517 665.925,825.198 668.585,826.873 671.246,828.542 673.907,830.203 \n",
       "  676.567,831.858 679.228,833.505 681.889,835.144 684.549,836.776 687.21,838.4 689.87,840.016 692.531,841.623 695.192,843.223 697.852,844.813 700.513,846.395 \n",
       "  703.173,847.968 705.834,849.532 708.495,851.088 711.155,852.634 713.816,854.17 716.477,855.698 719.137,857.216 721.798,858.725 724.458,860.224 727.119,861.713 \n",
       "  729.78,863.193 732.44,864.664 735.101,866.124 737.761,867.575 740.422,869.016 743.083,870.448 745.743,871.869 748.404,873.281 751.065,874.683 753.725,876.075 \n",
       "  756.386,877.457 759.046,878.83 761.707,880.193 764.368,881.546 767.028,882.889 769.689,884.222 772.35,885.546 775.01,886.86 777.671,888.164 780.331,889.458 \n",
       "  782.992,890.743 785.653,892.019 788.313,893.284 790.974,894.54 793.634,895.787 796.295,897.024 798.956,898.252 801.616,899.47 804.277,900.679 806.938,901.879 \n",
       "  809.598,903.069 812.259,904.251 814.919,905.423 817.58,906.586 820.241,907.74 822.901,908.885 825.562,910.021 828.222,911.148 830.883,912.266 833.544,913.375 \n",
       "  836.204,914.476 838.865,915.568 841.526,916.652 844.186,917.726 846.847,918.793 849.507,919.851 852.168,920.9 854.829,921.941 857.489,922.974 860.15,923.999 \n",
       "  862.81,925.016 865.471,926.024 868.132,927.025 870.792,928.017 873.453,929.002 876.114,929.978 878.774,930.947 881.435,931.908 884.095,932.862 886.756,933.808 \n",
       "  889.417,934.746 892.077,935.677 894.738,936.601 897.398,937.517 900.059,938.425 902.72,939.327 905.38,940.221 908.041,941.108 910.702,941.989 913.362,942.862 \n",
       "  916.023,943.728 918.683,944.587 921.344,945.439 924.005,946.285 926.665,947.124 929.326,947.956 931.987,948.782 934.647,949.601 937.308,950.413 939.968,951.22 \n",
       "  942.629,952.019 945.29,952.813 947.95,953.6 950.611,954.381 953.271,955.155 955.932,955.924 958.593,956.687 961.253,957.443 963.914,958.194 966.575,958.939 \n",
       "  969.235,959.677 971.896,960.41 974.556,961.138 977.217,961.859 979.878,962.575 982.538,963.286 985.199,963.99 987.859,964.69 990.52,965.384 993.181,966.072 \n",
       "  995.841,966.755 998.502,967.433 1001.16,968.106 1003.82,968.773 1006.48,969.435 1009.14,970.092 1011.81,970.744 1014.47,971.391 1017.13,972.033 1019.79,972.67 \n",
       "  1022.45,973.303 1025.11,973.93 1027.77,974.552 1030.43,975.17 1033.09,975.783 1035.75,976.392 1038.41,976.995 1041.07,977.595 1043.73,978.189 1046.39,978.779 \n",
       "  1049.05,979.365 1051.71,979.946 1054.37,980.523 1057.04,981.095 1059.7,981.664 1062.36,982.228 1065.02,982.787 1067.68,983.343 1070.34,983.894 1073,984.441 \n",
       "  1075.66,984.984 1078.32,985.523 1080.98,986.058 1083.64,986.59 1086.3,987.117 1088.96,987.64 1091.62,988.159 1094.28,988.675 1096.94,989.187 1099.61,989.695 \n",
       "  1102.27,990.199 1104.93,990.7 1107.59,991.197 1110.25,991.69 1112.91,992.179 1115.57,992.666 1118.23,993.148 1120.89,993.627 1123.55,994.103 1126.21,994.575 \n",
       "  1128.87,995.044 1131.53,995.509 1134.19,995.971 1136.85,996.43 1139.51,996.885 1142.18,997.337 1144.84,997.786 1147.5,998.232 1150.16,998.675 1152.82,999.114 \n",
       "  1155.48,999.55 1158.14,999.983 1160.8,1000.41 1163.46,1000.84 1166.12,1001.26 1168.78,1001.69 1171.44,1002.1 1174.1,1002.52 1176.76,1002.93 1179.42,1003.34 \n",
       "  1182.08,1003.75 1184.75,1004.15 1187.41,1004.55 1190.07,1004.95 1192.73,1005.35 1195.39,1005.74 1198.05,1006.13 1200.71,1006.51 1203.37,1006.9 1206.03,1007.28 \n",
       "  1208.69,1007.66 1211.35,1008.04 1214.01,1008.41 1216.67,1008.78 1219.33,1009.15 1221.99,1009.52 1224.65,1009.88 1227.31,1010.24 1229.98,1010.6 1232.64,1010.96 \n",
       "  1235.3,1011.31 1237.96,1011.67 1240.62,1012.01 1243.28,1012.36 1245.94,1012.71 1248.6,1013.05 1251.26,1013.39 1253.92,1013.73 1256.58,1014.06 1259.24,1014.4 \n",
       "  1261.9,1014.73 1264.56,1015.06 1267.22,1015.38 1269.88,1015.71 1272.55,1016.03 1275.21,1016.35 1277.87,1016.67 1280.53,1016.99 1283.19,1017.3 1285.85,1017.61 \n",
       "  1288.51,1017.92 1291.17,1018.23 1293.83,1018.54 1296.49,1018.84 1299.15,1019.14 1301.81,1019.44 1304.47,1019.74 1307.13,1020.04 1309.79,1020.33 1312.45,1020.63 \n",
       "  1315.12,1020.92 1317.78,1021.21 1320.44,1021.49 1323.1,1021.78 1325.76,1022.06 1328.42,1022.34 1331.08,1022.62 1333.74,1022.9 1336.4,1023.18 1339.06,1023.45 \n",
       "  1341.72,1023.72 1344.38,1023.99 1347.04,1024.26 1349.7,1024.53 1352.36,1024.8 1355.02,1025.06 1357.69,1025.32 1360.35,1025.59 1363.01,1025.85 1365.67,1026.1 \n",
       "  1368.33,1026.36 1370.99,1026.61 1373.65,1026.87 1376.31,1027.12 1378.97,1027.37 1381.63,1027.62 1384.29,1027.86 1386.95,1028.11 1389.61,1028.35 1392.27,1028.6 \n",
       "  1394.93,1028.84 1397.59,1029.08 1400.26,1029.31 1402.92,1029.55 1405.58,1029.79 1408.24,1030.02 1410.9,1030.25 1413.56,1030.48 1416.22,1030.71 1418.88,1030.94 \n",
       "  1421.54,1031.17 1424.2,1031.39 1426.86,1031.62 1429.52,1031.84 1432.18,1032.06 1434.84,1032.28 1437.5,1032.5 1440.16,1032.72 1442.82,1032.94 1445.49,1033.15 \n",
       "  1448.15,1033.36 1450.81,1033.58 1453.47,1033.79 1456.13,1034 1458.79,1034.21 1461.45,1034.41 1464.11,1034.62 1466.77,1034.83 1469.43,1035.03 1472.09,1035.23 \n",
       "  1474.75,1035.44 1477.41,1035.64 1480.07,1035.84 1482.73,1036.03 1485.39,1036.23 1488.06,1036.43 1490.72,1036.62 1493.38,1036.81 1496.04,1037.01 1498.7,1037.2 \n",
       "  1501.36,1037.39 1504.02,1037.58 1506.68,1037.77 1509.34,1037.95 1512,1038.14 1514.66,1038.33 1517.32,1038.51 1519.98,1038.69 1522.64,1038.87 1525.3,1039.06 \n",
       "  1527.96,1039.24 1530.63,1039.41 1533.29,1039.59 1535.95,1039.77 1538.61,1039.95 1541.27,1040.12 1543.93,1040.3 1546.59,1040.47 1549.25,1040.64 1551.91,1040.81 \n",
       "  1554.57,1040.98 1557.23,1041.15 1559.89,1041.32 1562.55,1041.49 1565.21,1041.65 1567.87,1041.82 1570.53,1041.98 1573.2,1042.15 1575.86,1042.31 1578.52,1042.47 \n",
       "  1581.18,1042.63 1583.84,1042.79 1586.5,1042.95 1589.16,1043.11 1591.82,1043.27 1594.48,1043.43 1597.14,1043.58 1599.8,1043.74 1602.46,1043.89 1605.12,1044.05 \n",
       "  1607.78,1044.2 1610.44,1044.35 1613.1,1044.5 1615.77,1044.65 1618.43,1044.8 1621.09,1044.95 1623.75,1045.1 1626.41,1045.25 1629.07,1045.39 1631.73,1045.54 \n",
       "  1634.39,1045.68 1637.05,1045.83 1639.71,1045.97 1642.37,1046.11 1645.03,1046.26 1647.69,1046.4 1650.35,1046.54 1653.01,1046.68 1655.67,1046.82 1658.33,1046.96 \n",
       "  1661,1047.09 1663.66,1047.23 1666.32,1047.37 1668.98,1047.5 1671.64,1047.64 1674.3,1047.77 1676.96,1047.9 1679.62,1048.04 1682.28,1048.17 1684.94,1048.3 \n",
       "  1687.6,1048.43 1690.26,1048.56 1692.92,1048.69 1695.58,1048.82 1698.24,1048.95 1700.9,1049.07 1703.57,1049.2 1706.23,1049.33 1708.89,1049.45 1711.55,1049.58 \n",
       "  1714.21,1049.7 1716.87,1049.83 1719.53,1049.95 1722.19,1050.07 1724.85,1050.19 1727.51,1050.31 1730.17,1050.43 1732.83,1050.55 1735.49,1050.67 1738.15,1050.79 \n",
       "  1740.81,1050.91 1743.47,1051.03 1746.14,1051.15 1748.8,1051.26 1751.46,1051.38 1754.12,1051.49 1756.78,1051.61 1759.44,1051.72 1762.1,1051.84 1764.76,1051.95 \n",
       "  1767.42,1052.06 1770.08,1052.17 1772.74,1052.29 1775.4,1052.4 1778.06,1052.51 1780.72,1052.62 1783.38,1052.73 1786.04,1052.84 1788.71,1052.94 1791.37,1053.05 \n",
       "  1794.03,1053.16 1796.69,1053.27 1799.35,1053.37 1802.01,1053.48 1804.67,1053.58 1807.33,1053.69 1809.99,1053.79 1812.65,1053.9 1815.31,1054 1817.97,1054.1 \n",
       "  1820.63,1054.21 1823.29,1054.31 1825.95,1054.41 1828.61,1054.51 1831.28,1054.61 1833.94,1054.71 1836.6,1054.81 1839.26,1054.91 1841.92,1055.01 1844.58,1055.11 \n",
       "  1847.24,1055.2 1849.9,1055.3 1852.56,1055.4 1855.22,1055.49 1857.88,1055.59 1860.54,1055.68 1863.2,1055.78 1865.86,1055.87 1868.52,1055.97 1871.18,1056.06 \n",
       "  1873.84,1056.16 1876.51,1056.25 1879.17,1056.34 1881.83,1056.43 1884.49,1056.52 1887.15,1056.62 1889.81,1056.71 1892.47,1056.8 1895.13,1056.89 1897.79,1056.98 \n",
       "  1900.45,1057.06 1903.11,1057.15 1905.77,1057.24 1908.43,1057.33 1911.09,1057.42 1913.75,1057.5 1916.41,1057.59 1919.08,1057.68 1921.74,1057.76 1924.4,1057.85 \n",
       "  1927.06,1057.93 1929.72,1058.02 1932.38,1058.1 1935.04,1058.19 1937.7,1058.27 1940.36,1058.35 1943.02,1058.44 1945.68,1058.52 1948.34,1058.6 1951,1058.68 \n",
       "  1953.66,1058.77 1956.32,1058.85 1958.98,1058.93 1961.65,1059.01 1964.31,1059.09 1966.97,1059.17 1969.63,1059.25 1972.29,1059.33 1974.95,1059.41 1977.61,1059.48 \n",
       "  1980.27,1059.56 1982.93,1059.64 1985.59,1059.72 1988.25,1059.79 1990.91,1059.87 1993.57,1059.95 1996.23,1060.02 1998.89,1060.1 2001.55,1060.17 2004.22,1060.25 \n",
       "  2006.88,1060.32 2009.54,1060.4 2012.2,1060.47 2014.86,1060.55 2017.52,1060.62 2020.18,1060.69 2022.84,1060.77 2025.5,1060.84 2028.16,1060.91 2030.82,1060.98 \n",
       "  2033.48,1061.05 2036.14,1061.13 2038.8,1061.2 2041.46,1061.27 2044.12,1061.34 2046.78,1061.41 2049.45,1061.48 2052.11,1061.55 2054.77,1061.62 2057.43,1061.69 \n",
       "  2060.09,1061.76 2062.75,1061.82 2065.41,1061.89 2068.07,1061.96 2070.73,1062.03 2073.39,1062.09 2076.05,1062.16 2078.71,1062.23 2081.37,1062.29 2084.03,1062.36 \n",
       "  2086.69,1062.43 2089.35,1062.49 2092.02,1062.56 2094.68,1062.62 2097.34,1062.69 2100,1062.75 2102.66,1062.82 2105.32,1062.88 2107.98,1062.94 2110.64,1063.01 \n",
       "  2113.3,1063.07 2115.96,1063.13 2118.62,1063.2 2121.28,1063.26 2123.94,1063.32 2126.6,1063.38 2129.26,1063.45 2131.92,1063.51 2134.59,1063.57 2137.25,1063.63 \n",
       "  2139.91,1063.69 2142.57,1063.75 2145.23,1063.81 2147.89,1063.87 2150.55,1063.93 2153.21,1063.99 2155.87,1064.05 2158.53,1064.11 2161.19,1064.17 2163.85,1064.23 \n",
       "  2166.51,1064.29 2169.17,1064.34 2171.83,1064.4 2174.49,1064.46 2177.16,1064.52 2179.82,1064.57 2182.48,1064.63 2185.14,1064.69 2187.8,1064.75 2190.46,1064.8 \n",
       "  2193.12,1064.86 2195.78,1064.91 2198.44,1064.97 2201.1,1065.03 2203.76,1065.08 2206.42,1065.14 2209.08,1065.19 2211.74,1065.25 2214.4,1065.3 2217.06,1065.35 \n",
       "  2219.73,1065.41 2222.39,1065.46 2225.05,1065.52 2227.71,1065.57 2230.37,1065.62 2233.03,1065.68 2235.69,1065.73 2238.35,1065.78 2241.01,1065.83 2243.67,1065.89 \n",
       "  2246.33,1065.94 2248.99,1065.99 2251.65,1066.04 2254.31,1066.09 2256.97,1066.14 2259.63,1066.19 2262.29,1066.25 2264.96,1066.3 2267.62,1066.35 2270.28,1066.4 \n",
       "  2272.94,1066.45 2275.6,1066.5 2278.26,1066.55 2280.92,1066.6 2283.58,1066.65 2286.24,1066.69 2288.9,1066.74 2291.56,1066.79 2294.22,1066.84 2296.88,1066.89 \n",
       "  2299.54,1066.94 2302.2,1066.99 2304.86,1067.03 2307.53,1067.08 2310.19,1067.13 2312.85,1067.18 2315.51,1067.22 2318.17,1067.27 2320.83,1067.32 2323.49,1067.36 \n",
       "  2326.15,1067.41 2328.81,1067.46 2331.47,1067.5 2334.13,1067.55 2336.79,1067.59 2339.45,1067.64 2342.11,1067.69 2344.77,1067.73 2347.43,1067.78 2350.1,1067.82 \n",
       "  2352.76,1067.87 \n",
       "  \"/>\n",
       "<polyline clip-path=\"url(#clip183)\" style=\"stroke:#e26f46; stroke-width:4; stroke-opacity:1; fill:none\" stroke-dasharray=\"16, 10\" points=\"\n",
       "  224.262,907.204 226.923,907.204 229.584,907.204 232.244,907.204 234.905,907.204 237.566,907.204 240.226,907.204 242.887,907.204 245.547,907.204 248.208,907.204 \n",
       "  250.869,907.204 253.529,907.204 256.19,907.204 258.85,907.204 261.511,907.204 264.172,907.204 266.832,907.204 269.493,907.204 272.154,907.204 274.814,907.204 \n",
       "  277.475,907.204 280.135,907.204 282.796,907.204 285.457,907.204 288.117,907.204 290.778,907.204 293.438,907.204 296.099,907.204 298.76,907.204 301.42,907.204 \n",
       "  304.081,907.204 306.742,907.204 309.402,907.204 312.063,907.204 314.723,907.204 317.384,907.204 320.045,907.204 322.705,907.204 325.366,907.204 328.026,907.204 \n",
       "  330.687,907.204 333.348,907.204 336.008,907.204 338.669,907.204 341.33,907.204 343.99,907.204 346.651,907.204 349.311,907.204 351.972,907.204 354.633,907.204 \n",
       "  357.293,907.204 359.954,907.204 362.615,907.204 365.275,907.204 367.936,907.204 370.596,907.204 373.257,907.204 375.918,907.204 378.578,907.204 381.239,907.204 \n",
       "  383.899,907.204 386.56,907.204 389.221,907.204 391.881,907.204 394.542,907.204 397.203,907.204 399.863,907.204 402.524,907.204 405.184,907.204 407.845,907.204 \n",
       "  410.506,907.204 413.166,907.204 415.827,907.204 418.487,907.204 421.148,907.204 423.809,907.204 426.469,907.204 429.13,907.204 431.791,907.204 434.451,907.204 \n",
       "  437.112,907.204 439.772,907.204 442.433,907.204 445.094,907.204 447.754,907.204 450.415,907.204 453.075,907.204 455.736,907.204 458.397,907.204 461.057,907.204 \n",
       "  463.718,907.204 466.379,907.204 469.039,907.204 471.7,907.204 474.36,907.204 477.021,907.204 479.682,907.204 482.342,907.204 485.003,907.204 487.663,907.204 \n",
       "  490.324,907.204 492.985,907.204 495.645,907.204 498.306,907.204 500.967,907.204 503.627,907.204 506.288,907.204 508.948,907.204 511.609,907.204 514.27,907.204 \n",
       "  516.93,907.204 519.591,907.204 522.252,907.204 524.912,907.204 527.573,907.204 530.233,907.204 532.894,907.204 535.555,907.204 538.215,907.204 540.876,907.204 \n",
       "  543.536,907.204 546.197,907.204 548.858,907.204 551.518,907.204 554.179,907.204 556.84,907.204 559.5,907.204 562.161,907.204 564.821,907.204 567.482,907.204 \n",
       "  570.143,907.204 572.803,907.204 575.464,907.204 578.124,907.204 580.785,907.204 583.446,907.204 586.106,907.204 588.767,907.204 591.428,907.204 594.088,907.204 \n",
       "  596.749,907.204 599.409,907.204 602.07,907.204 604.731,907.204 607.391,907.204 610.052,907.204 612.712,907.204 615.373,907.204 618.034,907.204 620.694,907.204 \n",
       "  623.355,907.204 626.016,907.204 628.676,907.204 631.337,907.204 633.997,907.204 636.658,907.204 639.319,907.204 641.979,907.204 644.64,907.204 647.301,907.204 \n",
       "  649.961,907.204 652.622,907.204 655.282,907.204 657.943,907.204 660.604,907.204 663.264,907.204 665.925,907.204 668.585,907.204 671.246,907.204 673.907,907.204 \n",
       "  676.567,907.204 679.228,907.204 681.889,907.204 684.549,907.204 687.21,907.204 689.87,907.204 692.531,907.204 695.192,907.204 697.852,907.204 700.513,907.204 \n",
       "  703.173,907.204 705.834,907.204 708.495,907.204 711.155,907.204 713.816,907.204 716.477,907.204 719.137,907.204 721.798,907.204 724.458,907.204 727.119,907.204 \n",
       "  729.78,907.204 732.44,907.204 735.101,907.204 737.761,907.204 740.422,907.204 743.083,907.204 745.743,907.204 748.404,907.204 751.065,907.204 753.725,907.204 \n",
       "  756.386,907.204 759.046,907.204 761.707,907.204 764.368,907.204 767.028,907.204 769.689,907.204 772.35,907.204 775.01,907.204 777.671,907.204 780.331,907.204 \n",
       "  782.992,907.204 785.653,907.204 788.313,907.204 790.974,907.204 793.634,907.204 796.295,907.204 798.956,907.204 801.616,907.204 804.277,907.204 806.938,907.204 \n",
       "  809.598,907.204 812.259,907.204 814.919,907.204 817.58,907.204 820.241,907.204 822.901,907.204 825.562,907.204 828.222,907.204 830.883,907.204 833.544,907.204 \n",
       "  836.204,907.204 838.865,907.204 841.526,907.204 844.186,907.204 846.847,907.204 849.507,907.204 852.168,907.204 854.829,907.204 857.489,907.204 860.15,907.204 \n",
       "  862.81,907.204 865.471,907.204 868.132,907.204 870.792,907.204 873.453,907.204 876.114,907.204 878.774,907.204 881.435,907.204 884.095,907.204 886.756,907.204 \n",
       "  889.417,907.204 892.077,907.204 894.738,907.204 897.398,907.204 900.059,907.204 902.72,907.204 905.38,907.204 908.041,907.204 910.702,907.204 913.362,907.204 \n",
       "  916.023,907.204 918.683,907.204 921.344,907.204 924.005,907.204 926.665,907.204 929.326,907.204 931.987,907.204 934.647,907.204 937.308,907.204 939.968,907.204 \n",
       "  942.629,907.204 945.29,907.204 947.95,907.204 950.611,907.204 953.271,907.204 955.932,907.204 958.593,907.204 961.253,907.204 963.914,907.204 966.575,907.204 \n",
       "  969.235,907.204 971.896,907.204 974.556,907.204 977.217,907.204 979.878,907.204 982.538,907.204 985.199,907.204 987.859,907.204 990.52,907.204 993.181,907.204 \n",
       "  995.841,907.204 998.502,907.204 1001.16,907.204 1003.82,907.204 1006.48,907.204 1009.14,907.204 1011.81,907.204 1014.47,907.204 1017.13,907.204 1019.79,907.204 \n",
       "  1022.45,907.204 1025.11,907.204 1027.77,907.204 1030.43,907.204 1033.09,907.204 1035.75,907.204 1038.41,907.204 1041.07,907.204 1043.73,907.204 1046.39,907.204 \n",
       "  1049.05,907.204 1051.71,907.204 1054.37,907.204 1057.04,907.204 1059.7,907.204 1062.36,907.204 1065.02,907.204 1067.68,907.204 1070.34,907.204 1073,907.204 \n",
       "  1075.66,907.204 1078.32,907.204 1080.98,907.204 1083.64,907.204 1086.3,907.204 1088.96,907.204 1091.62,907.204 1094.28,907.204 1096.94,907.204 1099.61,907.204 \n",
       "  1102.27,907.204 1104.93,907.204 1107.59,907.204 1110.25,907.204 1112.91,907.204 1115.57,907.204 1118.23,907.204 1120.89,907.204 1123.55,907.204 1126.21,907.204 \n",
       "  1128.87,907.204 1131.53,907.204 1134.19,907.204 1136.85,907.204 1139.51,907.204 1142.18,907.204 1144.84,907.204 1147.5,907.204 1150.16,907.204 1152.82,907.204 \n",
       "  1155.48,907.204 1158.14,907.204 1160.8,907.204 1163.46,907.204 1166.12,907.204 1168.78,907.204 1171.44,907.204 1174.1,907.204 1176.76,907.204 1179.42,907.204 \n",
       "  1182.08,907.204 1184.75,907.204 1187.41,907.204 1190.07,907.204 1192.73,907.204 1195.39,907.204 1198.05,907.204 1200.71,907.204 1203.37,907.204 1206.03,907.204 \n",
       "  1208.69,907.204 1211.35,907.204 1214.01,907.204 1216.67,907.204 1219.33,907.204 1221.99,907.204 1224.65,907.204 1227.31,907.204 1229.98,907.204 1232.64,907.204 \n",
       "  1235.3,907.204 1237.96,907.204 1240.62,907.204 1243.28,907.204 1245.94,907.204 1248.6,907.204 1251.26,907.204 1253.92,907.204 1256.58,907.204 1259.24,907.204 \n",
       "  1261.9,907.204 1264.56,907.204 1267.22,907.204 1269.88,907.204 1272.55,907.204 1275.21,907.204 1277.87,907.204 1280.53,907.204 1283.19,907.204 1285.85,907.204 \n",
       "  1288.51,907.204 1291.17,907.204 1293.83,907.204 1296.49,907.204 1299.15,907.204 1301.81,907.204 1304.47,907.204 1307.13,907.204 1309.79,907.204 1312.45,907.204 \n",
       "  1315.12,907.204 1317.78,907.204 1320.44,907.204 1323.1,907.204 1325.76,907.204 1328.42,907.204 1331.08,907.204 1333.74,907.204 1336.4,907.204 1339.06,907.204 \n",
       "  1341.72,907.204 1344.38,907.204 1347.04,907.204 1349.7,907.204 1352.36,907.204 1355.02,907.204 1357.69,907.204 1360.35,907.204 1363.01,907.204 1365.67,907.204 \n",
       "  1368.33,907.204 1370.99,907.204 1373.65,907.204 1376.31,907.204 1378.97,907.204 1381.63,907.204 1384.29,907.204 1386.95,907.204 1389.61,907.204 1392.27,907.204 \n",
       "  1394.93,907.204 1397.59,907.204 1400.26,907.204 1402.92,907.204 1405.58,907.204 1408.24,907.204 1410.9,907.204 1413.56,907.204 1416.22,907.204 1418.88,907.204 \n",
       "  1421.54,907.204 1424.2,907.204 1426.86,907.204 1429.52,907.204 1432.18,907.204 1434.84,907.204 1437.5,907.204 1440.16,907.204 1442.82,907.204 1445.49,907.204 \n",
       "  1448.15,907.204 1450.81,907.204 1453.47,907.204 1456.13,907.204 1458.79,907.204 1461.45,907.204 1464.11,907.204 1466.77,907.204 1469.43,907.204 1472.09,907.204 \n",
       "  1474.75,907.204 1477.41,907.204 1480.07,907.204 1482.73,907.204 1485.39,907.204 1488.06,907.204 1490.72,907.204 1493.38,907.204 1496.04,907.204 1498.7,907.204 \n",
       "  1501.36,907.204 1504.02,907.204 1506.68,907.204 1509.34,907.204 1512,907.204 1514.66,907.204 1517.32,907.204 1519.98,907.204 1522.64,907.204 1525.3,907.204 \n",
       "  1527.96,907.204 1530.63,907.204 1533.29,907.204 1535.95,907.204 1538.61,907.204 1541.27,907.204 1543.93,907.204 1546.59,907.204 1549.25,907.204 1551.91,907.204 \n",
       "  1554.57,907.204 1557.23,907.204 1559.89,907.204 1562.55,907.204 1565.21,907.204 1567.87,907.204 1570.53,907.204 1573.2,907.204 1575.86,907.204 1578.52,907.204 \n",
       "  1581.18,907.204 1583.84,907.204 1586.5,907.204 1589.16,907.204 1591.82,907.204 1594.48,907.204 1597.14,907.204 1599.8,907.204 1602.46,907.204 1605.12,907.204 \n",
       "  1607.78,907.204 1610.44,907.204 1613.1,907.204 1615.77,907.204 1618.43,907.204 1621.09,907.204 1623.75,907.204 1626.41,907.204 1629.07,907.204 1631.73,907.204 \n",
       "  1634.39,907.204 1637.05,907.204 1639.71,907.204 1642.37,907.204 1645.03,907.204 1647.69,907.204 1650.35,907.204 1653.01,907.204 1655.67,907.204 1658.33,907.204 \n",
       "  1661,907.204 1663.66,907.204 1666.32,907.204 1668.98,907.204 1671.64,907.204 1674.3,907.204 1676.96,907.204 1679.62,907.204 1682.28,907.204 1684.94,907.204 \n",
       "  1687.6,907.204 1690.26,907.204 1692.92,907.204 1695.58,907.204 1698.24,907.204 1700.9,907.204 1703.57,907.204 1706.23,907.204 1708.89,907.204 1711.55,907.204 \n",
       "  1714.21,907.204 1716.87,907.204 1719.53,907.204 1722.19,907.204 1724.85,907.204 1727.51,907.204 1730.17,907.204 1732.83,907.204 1735.49,907.204 1738.15,907.204 \n",
       "  1740.81,907.204 1743.47,907.204 1746.14,907.204 1748.8,907.204 1751.46,907.204 1754.12,907.204 1756.78,907.204 1759.44,907.204 1762.1,907.204 1764.76,907.204 \n",
       "  1767.42,907.204 1770.08,907.204 1772.74,907.204 1775.4,907.204 1778.06,907.204 1780.72,907.204 1783.38,907.204 1786.04,907.204 1788.71,907.204 1791.37,907.204 \n",
       "  1794.03,907.204 1796.69,907.204 1799.35,907.204 1802.01,907.204 1804.67,907.204 1807.33,907.204 1809.99,907.204 1812.65,907.204 1815.31,907.204 1817.97,907.204 \n",
       "  1820.63,907.204 1823.29,907.204 1825.95,907.204 1828.61,907.204 1831.28,907.204 1833.94,907.204 1836.6,907.204 1839.26,907.204 1841.92,907.204 1844.58,907.204 \n",
       "  1847.24,907.204 1849.9,907.204 1852.56,907.204 1855.22,907.204 1857.88,907.204 1860.54,907.204 1863.2,907.204 1865.86,907.204 1868.52,907.204 1871.18,907.204 \n",
       "  1873.84,907.204 1876.51,907.204 1879.17,907.204 1881.83,907.204 1884.49,907.204 1887.15,907.204 1889.81,907.204 1892.47,907.204 1895.13,907.204 1897.79,907.204 \n",
       "  1900.45,907.204 1903.11,907.204 1905.77,907.204 1908.43,907.204 1911.09,907.204 1913.75,907.204 1916.41,907.204 1919.08,907.204 1921.74,907.204 1924.4,907.204 \n",
       "  1927.06,907.204 1929.72,907.204 1932.38,907.204 1935.04,907.204 1937.7,907.204 1940.36,907.204 1943.02,907.204 1945.68,907.204 1948.34,907.204 1951,907.204 \n",
       "  1953.66,907.204 1956.32,907.204 1958.98,907.204 1961.65,907.204 1964.31,907.204 1966.97,907.204 1969.63,907.204 1972.29,907.204 1974.95,907.204 1977.61,907.204 \n",
       "  1980.27,907.204 1982.93,907.204 1985.59,907.204 1988.25,907.204 1990.91,907.204 1993.57,907.204 1996.23,907.204 1998.89,907.204 2001.55,907.204 2004.22,907.204 \n",
       "  2006.88,907.204 2009.54,907.204 2012.2,907.204 2014.86,907.204 2017.52,907.204 2020.18,907.204 2022.84,907.204 2025.5,907.204 2028.16,907.204 2030.82,907.204 \n",
       "  2033.48,907.204 2036.14,907.204 2038.8,907.204 2041.46,907.204 2044.12,907.204 2046.78,907.204 2049.45,907.204 2052.11,907.204 2054.77,907.204 2057.43,907.204 \n",
       "  2060.09,907.204 2062.75,907.204 2065.41,907.204 2068.07,907.204 2070.73,907.204 2073.39,907.204 2076.05,907.204 2078.71,907.204 2081.37,907.204 2084.03,907.204 \n",
       "  2086.69,907.204 2089.35,907.204 2092.02,907.204 2094.68,907.204 2097.34,907.204 2100,907.204 2102.66,907.204 2105.32,907.204 2107.98,907.204 2110.64,907.204 \n",
       "  2113.3,907.204 2115.96,907.204 2118.62,907.204 2121.28,907.204 2123.94,907.204 2126.6,907.204 2129.26,907.204 2131.92,907.204 2134.59,907.204 2137.25,907.204 \n",
       "  2139.91,907.204 2142.57,907.204 2145.23,907.204 2147.89,907.204 2150.55,907.204 2153.21,907.204 2155.87,907.204 2158.53,907.204 2161.19,907.204 2163.85,907.204 \n",
       "  2166.51,907.204 2169.17,907.204 2171.83,907.204 2174.49,907.204 2177.16,907.204 2179.82,907.204 2182.48,907.204 2185.14,907.204 2187.8,907.204 2190.46,907.204 \n",
       "  2193.12,907.204 2195.78,907.204 2198.44,907.204 2201.1,907.204 2203.76,907.204 2206.42,907.204 2209.08,907.204 2211.74,907.204 2214.4,907.204 2217.06,907.204 \n",
       "  2219.73,907.204 2222.39,907.204 2225.05,907.204 2227.71,907.204 2230.37,907.204 2233.03,907.204 2235.69,907.204 2238.35,907.204 2241.01,907.204 2243.67,907.204 \n",
       "  2246.33,907.204 2248.99,907.204 2251.65,907.204 2254.31,907.204 2256.97,907.204 2259.63,907.204 2262.29,907.204 2264.96,907.204 2267.62,907.204 2270.28,907.204 \n",
       "  2272.94,907.204 2275.6,907.204 2278.26,907.204 2280.92,907.204 2283.58,907.204 2286.24,907.204 2288.9,907.204 2291.56,907.204 2294.22,907.204 2296.88,907.204 \n",
       "  2299.54,907.204 2302.2,907.204 2304.86,907.204 2307.53,907.204 2310.19,907.204 2312.85,907.204 2315.51,907.204 2318.17,907.204 2320.83,907.204 2323.49,907.204 \n",
       "  2326.15,907.204 2328.81,907.204 2331.47,907.204 2334.13,907.204 2336.79,907.204 2339.45,907.204 2342.11,907.204 2344.77,907.204 2347.43,907.204 2350.1,907.204 \n",
       "  2352.76,907.204 \n",
       "  \"/>\n",
       "</svg>\n"
      ]
     },
     "metadata": {},
     "execution_count": 11
    }
   ],
   "cell_type": "code",
   "source": [
    "plot(Mrange,T0_over_T0star,xlim=(0,8),ylim=(0,2),xticks=0:1:8,xlabel=\"Mach number\",ylabel=L\"T_0/T_0^*\",legend=false)\n",
    "plot!(Mrange,0.75*ones(length(Mrange)),style=:dash)"
   ],
   "metadata": {},
   "execution_count": 11
  },
  {
   "cell_type": "markdown",
   "source": [
    "For example, if $T_0/T_0^* = 0.75$, there are two possible Mach numbers, one subsonic\n",
    "and one supersonic. The correct one depends on the circumstances."
   ],
   "metadata": {}
  },
  {
   "outputs": [
    {
     "output_type": "execute_result",
     "data": {
      "text/plain": "(MachNumber{Dimensionless}(0.5423261445466405, \"MachNumber\"), MachNumber{Dimensionless}(2.2360679774997907, \"MachNumber\"))"
     },
     "metadata": {},
     "execution_count": 12
    }
   ],
   "cell_type": "code",
   "source": [
    "Msub, Msup = MachNumber(TemperatureRatio(0.75),RayleighFlow,gas=Air)"
   ],
   "metadata": {},
   "execution_count": 12
  },
  {
   "outputs": [
    {
     "output_type": "execute_result",
     "data": {
      "text/plain": "MachNumber = 0.542326 "
     },
     "metadata": {},
     "execution_count": 13
    }
   ],
   "cell_type": "code",
   "source": [
    "Msub"
   ],
   "metadata": {},
   "execution_count": 13
  },
  {
   "outputs": [
    {
     "output_type": "execute_result",
     "data": {
      "text/plain": "MachNumber = 2.23607 "
     },
     "metadata": {},
     "execution_count": 14
    }
   ],
   "cell_type": "code",
   "source": [
    "Msup"
   ],
   "metadata": {},
   "execution_count": 14
  },
  {
   "cell_type": "markdown",
   "source": [
    "### Example\n",
    "Suppose the flow of air in a duct enters with velocity 75 m/s at a pressure of\n",
    "150 kPa and temperature 300 K. We add heat 900 kJ/kg. Find\n",
    "\n",
    "(a) The value of the Mach number at the entrance and exit\n",
    "\n",
    "(b) The velocity, pressure, and temperature at the exit\n",
    "\n",
    "(c) The maximum amount of heat we can add so that the flow is just choked"
   ],
   "metadata": {}
  },
  {
   "cell_type": "markdown",
   "source": [
    "Set the given values"
   ],
   "metadata": {}
  },
  {
   "outputs": [
    {
     "output_type": "execute_result",
     "data": {
      "text/plain": "HeatFlux = 900000.0 JPerKG"
     },
     "metadata": {},
     "execution_count": 15
    }
   ],
   "cell_type": "code",
   "source": [
    "u1 = Velocity(75)\n",
    "p1 = Pressure(150,units=KPa)\n",
    "T1 = Temperature(300)\n",
    "q = HeatFlux(900,units=KJPerKG)"
   ],
   "metadata": {},
   "execution_count": 15
  },
  {
   "cell_type": "markdown",
   "source": [
    "We can immediately find the Mach number at the location 1, by finding $c_1$:"
   ],
   "metadata": {}
  },
  {
   "outputs": [
    {
     "output_type": "execute_result",
     "data": {
      "text/plain": "MachNumber = 0.216021 "
     },
     "metadata": {},
     "execution_count": 16
    }
   ],
   "cell_type": "code",
   "source": [
    "c1 = SoundSpeed(T1,gas=Air)\n",
    "M1 = MachNumber(u1/c1)"
   ],
   "metadata": {},
   "execution_count": 16
  },
  {
   "cell_type": "markdown",
   "source": [
    "Now, use $M_1$ and $T_1$ to find $T_{01}$."
   ],
   "metadata": {}
  },
  {
   "outputs": [
    {
     "output_type": "execute_result",
     "data": {
      "text/plain": "StagnationTemperature = 302.8 Kelvin"
     },
     "metadata": {},
     "execution_count": 17
    }
   ],
   "cell_type": "code",
   "source": [
    "T01 = StagnationTemperature(T1,M1,Isentropic,gas=Air)"
   ],
   "metadata": {},
   "execution_count": 17
  },
  {
   "cell_type": "markdown",
   "source": [
    "Now let's focus on state 2. We will use the basic relation $h_{02} = h_{01} + q$\n",
    "to determine $T_{02}$."
   ],
   "metadata": {}
  },
  {
   "outputs": [
    {
     "output_type": "execute_result",
     "data": {
      "text/plain": "StagnationTemperature = 1198.77 Kelvin"
     },
     "metadata": {},
     "execution_count": 18
    }
   ],
   "cell_type": "code",
   "source": [
    "h01 = StagnationEnthalpy(T01,gas=Air)\n",
    "h02 = StagnationEnthalpy(h01+q)\n",
    "T02 = StagnationTemperature(h02,gas=Air)"
   ],
   "metadata": {},
   "execution_count": 18
  },
  {
   "cell_type": "markdown",
   "source": [
    "To get the other states at location 2, we need the sonic reference conditions.\n",
    "For example, we will find\n",
    "\n",
    "$$T_{02}/T_{0}^*$$\n",
    "to determine $M_2$. We get this by calculating\n",
    "\n",
    "$$T_{0}^* = T_{01}/(T_{01}/T_{0}^*)$$"
   ],
   "metadata": {}
  },
  {
   "outputs": [
    {
     "output_type": "execute_result",
     "data": {
      "text/plain": "StagnationTemperature = 1520.05 Kelvin"
     },
     "metadata": {},
     "execution_count": 19
    }
   ],
   "cell_type": "code",
   "source": [
    "T0star = StagnationTemperature(T01/T0OverT0Star(M1,RayleighFlow,gas=Air))"
   ],
   "metadata": {},
   "execution_count": 19
  },
  {
   "outputs": [
    {
     "output_type": "execute_result",
     "data": {
      "text/plain": "TemperatureRatio = 0.788637 "
     },
     "metadata": {},
     "execution_count": 20
    }
   ],
   "cell_type": "code",
   "source": [
    "T02_over_T0star = TemperatureRatio(T02/T0star)"
   ],
   "metadata": {},
   "execution_count": 20
  },
  {
   "outputs": [
    {
     "output_type": "execute_result",
     "data": {
      "text/plain": "(MachNumber{Dimensionless}(0.5733204685023363, \"MachNumber\"), MachNumber{Dimensionless}(2.0239173983089978, \"MachNumber\"))"
     },
     "metadata": {},
     "execution_count": 21
    }
   ],
   "cell_type": "code",
   "source": [
    "M2sub, M2sup = MachNumber(T02_over_T0star,RayleighFlow,gas=Air)"
   ],
   "metadata": {},
   "execution_count": 21
  },
  {
   "cell_type": "markdown",
   "source": [
    "The subsonic one is the only possible candidate, because the flow came in at\n",
    "subsonic speed and can't have passed through Mach number 1. Thus"
   ],
   "metadata": {}
  },
  {
   "outputs": [
    {
     "output_type": "execute_result",
     "data": {
      "text/plain": "MachNumber = 0.57332 "
     },
     "metadata": {},
     "execution_count": 22
    }
   ],
   "cell_type": "code",
   "source": [
    "M2 = M2sub"
   ],
   "metadata": {},
   "execution_count": 22
  },
  {
   "cell_type": "markdown",
   "source": [
    "We have increased the Mach number from 0.216 to 0.573 by adding heat."
   ],
   "metadata": {}
  },
  {
   "cell_type": "markdown",
   "source": [
    "Now find the other reference states that we will use:"
   ],
   "metadata": {}
  },
  {
   "outputs": [
    {
     "output_type": "execute_result",
     "data": {
      "text/plain": "Temperature = 1266.71 Kelvin"
     },
     "metadata": {},
     "execution_count": 23
    }
   ],
   "cell_type": "code",
   "source": [
    "pstar = Pressure(p1/POverPStar(M1,RayleighFlow,gas=Air))\n",
    "ustar = Velocity(u1/VOverVStar(M1,RayleighFlow,gas=Air))\n",
    "Tstar = Temperature(T1/TOverTStar(M1,RayleighFlow,gas=Air))"
   ],
   "metadata": {},
   "execution_count": 23
  },
  {
   "cell_type": "markdown",
   "source": [
    "and now the values themselves. For example, we use $M_2$ to calculate $p_2/p^*$\n",
    "and then calculate $p_2 = p^*(p_2/p^*)$."
   ],
   "metadata": {}
  },
  {
   "outputs": [
    {
     "output_type": "execute_result",
     "data": {
      "text/plain": "Pressure = 109439.0 Pascals"
     },
     "metadata": {},
     "execution_count": 24
    }
   ],
   "cell_type": "code",
   "source": [
    "p2 = Pressure(pstar*POverPStar(M2,RayleighFlow,gas=Air))"
   ],
   "metadata": {},
   "execution_count": 24
  },
  {
   "outputs": [
    {
     "output_type": "execute_result",
     "data": {
      "text/plain": "Velocity = 385.429 MPerSec"
     },
     "metadata": {},
     "execution_count": 25
    }
   ],
   "cell_type": "code",
   "source": [
    "u2 = Velocity(ustar*VOverVStar(M2,RayleighFlow,gas=Air))"
   ],
   "metadata": {},
   "execution_count": 25
  },
  {
   "outputs": [
    {
     "output_type": "execute_result",
     "data": {
      "text/plain": "Temperature = 1124.82 Kelvin"
     },
     "metadata": {},
     "execution_count": 26
    }
   ],
   "cell_type": "code",
   "source": [
    "T2 = Temperature(Tstar*TOverTStar(M2,RayleighFlow,gas=Air))"
   ],
   "metadata": {},
   "execution_count": 26
  },
  {
   "cell_type": "markdown",
   "source": [
    "Finally, let us calculate the maximum heat flux -- the heat flux that brings the\n",
    "flow just to sonic conditions when starting at the given conditions at location 1.\n",
    "This comes from\n",
    "\n",
    "$$ q_{max} = h_{0}^* - h_{01} = c_p (T_0^* - T_{01})$$\n",
    "\n",
    "We have a convenience function for that, based on stagnation temperature:"
   ],
   "metadata": {}
  },
  {
   "outputs": [
    {
     "output_type": "execute_result",
     "data": {
      "text/plain": "HeatFlux = 1.22273e6 JPerKG"
     },
     "metadata": {},
     "execution_count": 27
    }
   ],
   "cell_type": "code",
   "source": [
    "qmax = HeatFlux(T01,T0star,gas=Air)"
   ],
   "metadata": {},
   "execution_count": 27
  },
  {
   "outputs": [
    {
     "output_type": "execute_result",
     "data": {
      "text/plain": "1222.7275208333333"
     },
     "metadata": {},
     "execution_count": 28
    }
   ],
   "cell_type": "code",
   "source": [
    "value(qmax,KJPerKG)"
   ],
   "metadata": {},
   "execution_count": 28
  },
  {
   "cell_type": "markdown",
   "source": [
    "Thus, we can add up to 1223 kJ/kg before the flow gets choked. Any more than that\n",
    "will cause the entrance conditions to change."
   ],
   "metadata": {}
  },
  {
   "cell_type": "markdown",
   "source": [
    "---\n",
    "\n",
    "*This notebook was generated using [Literate.jl](https://github.com/fredrikekre/Literate.jl).*"
   ],
   "metadata": {}
  }
 ],
 "nbformat_minor": 3,
 "metadata": {
  "language_info": {
   "file_extension": ".jl",
   "mimetype": "application/julia",
   "name": "julia",
   "version": "1.5.3"
  },
  "kernelspec": {
   "name": "julia-1.5",
   "display_name": "Julia 1.5.3",
   "language": "julia"
  }
 },
 "nbformat": 4
}
