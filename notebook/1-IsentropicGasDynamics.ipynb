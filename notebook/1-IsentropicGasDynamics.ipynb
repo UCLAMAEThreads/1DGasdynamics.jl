{
 "cells": [
  {
   "cell_type": "markdown",
   "source": [
    "# Isentropic quasi-1D steady compressible flow\n",
    "This notebook demonstrates the use of the compressible flow tools for computing\n",
    "states and processes in isentropic quasi-1d steady compressible flow."
   ],
   "metadata": {}
  },
  {
   "cell_type": "markdown",
   "source": [
    "### Set up the module"
   ],
   "metadata": {}
  },
  {
   "outputs": [],
   "cell_type": "code",
   "source": [
    "using Gasdynamics1D"
   ],
   "metadata": {},
   "execution_count": 1
  },
  {
   "outputs": [],
   "cell_type": "code",
   "source": [
    "using Plots\n",
    "using LaTeXStrings"
   ],
   "metadata": {},
   "execution_count": 2
  },
  {
   "cell_type": "markdown",
   "source": [
    "### Using isentropic relations\n",
    "Let us apply some basic isentropic relations."
   ],
   "metadata": {}
  },
  {
   "cell_type": "markdown",
   "source": [
    "#### Example 1\n",
    "Let's suppose two states of the flow in air, 1 and 2, are connected with each\n",
    "other by an isentropic process. We know the pressure p1 is 101 kPa, the temperature\n",
    "T1 is 20 degrees C, and the pressure p2 is 80 kPa. What is temperature T2?\n",
    "\n",
    "To answer this, we will use the relationship\n",
    "\n",
    "$$ \\dfrac{T_2}{T_1} = \\left( \\dfrac{p_2}{p_1}\\right)^{(\\gamma-1)/\\gamma} $$"
   ],
   "metadata": {}
  },
  {
   "outputs": [
    {
     "output_type": "execute_result",
     "data": {
      "text/plain": "Pressure = 80000.0 Pascals"
     },
     "metadata": {},
     "execution_count": 3
    }
   ],
   "cell_type": "code",
   "source": [
    "p1 = Pressure(101,units=KPa)\n",
    "T1 = Temperature(20,units=C)\n",
    "p2 = Pressure(80,units=KPa)"
   ],
   "metadata": {},
   "execution_count": 3
  },
  {
   "cell_type": "markdown",
   "source": [
    "First, let's set the pressure ratio:"
   ],
   "metadata": {}
  },
  {
   "outputs": [
    {
     "output_type": "execute_result",
     "data": {
      "text/plain": "PressureRatio = 0.792079 "
     },
     "metadata": {},
     "execution_count": 4
    }
   ],
   "cell_type": "code",
   "source": [
    "p2_over_p1 = PressureRatio(p2/p1)"
   ],
   "metadata": {},
   "execution_count": 4
  },
  {
   "cell_type": "markdown",
   "source": [
    "Now find the temperature ratio. Note below that we specify the argument\n",
    "`Isentropic` to make sure it is clear that we are using the isentropic relation.\n",
    "We only need this argument when it is needed for clarity."
   ],
   "metadata": {}
  },
  {
   "outputs": [
    {
     "output_type": "execute_result",
     "data": {
      "text/plain": "TemperatureRatio = 0.935571 "
     },
     "metadata": {},
     "execution_count": 5
    }
   ],
   "cell_type": "code",
   "source": [
    "T2_over_T1 = TemperatureRatio(p2_over_p1,Isentropic)"
   ],
   "metadata": {},
   "execution_count": 5
  },
  {
   "cell_type": "markdown",
   "source": [
    "It is important to understand that the tools \"know\" what formula you want to use\n",
    "(the one listed above), based on the fact that (a) you supplied it with a pressure\n",
    "ratio (the purpose of the `PressureRatio` line above), and (b) you told it that\n",
    "the process is `Isentropic`. It figures out the rest.\n",
    "Finally, calculate $T_2 = T_1 (T_2/T_1)$:"
   ],
   "metadata": {}
  },
  {
   "outputs": [
    {
     "output_type": "execute_result",
     "data": {
      "text/plain": "Temperature = 274.263 Kelvin"
     },
     "metadata": {},
     "execution_count": 6
    }
   ],
   "cell_type": "code",
   "source": [
    "T2 = Temperature(T1*T2_over_T1)"
   ],
   "metadata": {},
   "execution_count": 6
  },
  {
   "cell_type": "markdown",
   "source": [
    "or, in Celsius, if desired"
   ],
   "metadata": {}
  },
  {
   "outputs": [
    {
     "output_type": "execute_result",
     "data": {
      "text/plain": "1.1126355938594088"
     },
     "metadata": {},
     "execution_count": 7
    }
   ],
   "cell_type": "code",
   "source": [
    "value(T2,Celsius)"
   ],
   "metadata": {},
   "execution_count": 7
  },
  {
   "cell_type": "markdown",
   "source": [
    "We could also do all of this in one line, though it is a bit harder to debug\n",
    "if something goes wrong:"
   ],
   "metadata": {}
  },
  {
   "outputs": [
    {
     "output_type": "execute_result",
     "data": {
      "text/plain": "Temperature = 274.263 Kelvin"
     },
     "metadata": {},
     "execution_count": 8
    }
   ],
   "cell_type": "code",
   "source": [
    "T2 = Temperature(T1*TemperatureRatio(PressureRatio(p2/p1),Isentropic))"
   ],
   "metadata": {},
   "execution_count": 8
  },
  {
   "cell_type": "markdown",
   "source": [
    "#### Example 2\n",
    "If the temperature ratio $T/T_0$ is 0.2381, what is the Mach number?"
   ],
   "metadata": {}
  },
  {
   "outputs": [
    {
     "output_type": "execute_result",
     "data": {
      "text/plain": "MachNumber = 3.99995 "
     },
     "metadata": {},
     "execution_count": 9
    }
   ],
   "cell_type": "code",
   "source": [
    "MachNumber(TemperatureRatio(0.2381),Isentropic)"
   ],
   "metadata": {},
   "execution_count": 9
  },
  {
   "cell_type": "markdown",
   "source": [
    "#### Example 3\n",
    "If the Mach number is 4.4 and stagnation pressure is 800 KPa, what is the pressure?"
   ],
   "metadata": {}
  },
  {
   "outputs": [
    {
     "output_type": "execute_result",
     "data": {
      "text/plain": "Pressure = 3134.11 Pascals"
     },
     "metadata": {},
     "execution_count": 10
    }
   ],
   "cell_type": "code",
   "source": [
    "Pressure(StagnationPressure(800,units=KPa),MachNumber(4.4),Isentropic)"
   ],
   "metadata": {},
   "execution_count": 10
  },
  {
   "cell_type": "markdown",
   "source": [
    "### Mach - area relations\n",
    "A big part of isentropic quasi-1D flow deals with changes of the flow in variable-area\n",
    "ducts. For these calculations, we make use of the *sonic area* $A_*$ as a reference area.\n",
    "Remember that, for any ratio of $A/A_*$, there are two possible Mach numbers,\n",
    "corresponding to a **subsonic flow** and a **supersonic flow**. Let us see that by\n",
    "plotting $A/A_*$ versus Mach number $M$. If, for example, $A/A_* = 2$, then\n",
    "note where the dashed line crosses the plot:"
   ],
   "metadata": {}
  },
  {
   "outputs": [
    {
     "output_type": "execute_result",
     "data": {
      "text/plain": "Plot{Plots.GRBackend() n=3}",
      "image/png": "[encoded data removed]",
      "text/html": [
       "<?xml version=\"1.0\" encoding=\"utf-8\"?>\n",
       "<svg xmlns=\"http://www.w3.org/2000/svg\" xmlns:xlink=\"http://www.w3.org/1999/xlink\" width=\"600\" height=\"400\" viewBox=\"0 0 2400 1600\">\n",
       "<defs>\n",
       "  <clipPath id=\"clip850\">\n",
       "    <rect x=\"0\" y=\"0\" width=\"2400\" height=\"1600\"/>\n",
       "  </clipPath>\n",
       "</defs>\n",
       "<path clip-path=\"url(#clip850)\" d=\"\n",
       "M0 1600 L2400 1600 L2400 0 L0 0  Z\n",
       "  \" fill=\"#ffffff\" fill-rule=\"evenodd\" fill-opacity=\"1\"/>\n",
       "<defs>\n",
       "  <clipPath id=\"clip851\">\n",
       "    <rect x=\"480\" y=\"0\" width=\"1681\" height=\"1600\"/>\n",
       "  </clipPath>\n",
       "</defs>\n",
       "<defs>\n",
       "  <clipPath id=\"clip852\">\n",
       "    <rect x=\"199\" y=\"47\" width=\"2154\" height=\"1377\"/>\n",
       "  </clipPath>\n",
       "</defs>\n",
       "<path clip-path=\"url(#clip850)\" d=\"\n",
       "M199.553 1423.18 L2352.76 1423.18 L2352.76 47.2441 L199.553 47.2441  Z\n",
       "  \" fill=\"#ffffff\" fill-rule=\"evenodd\" fill-opacity=\"1\"/>\n",
       "<polyline clip-path=\"url(#clip852)\" style=\"stroke:#000000; stroke-width:2; stroke-opacity:0.1; fill:none\" points=\"\n",
       "  199.553,1423.18 199.553,47.2441 \n",
       "  \"/>\n",
       "<polyline clip-path=\"url(#clip852)\" style=\"stroke:#000000; stroke-width:2; stroke-opacity:0.1; fill:none\" points=\"\n",
       "  737.854,1423.18 737.854,47.2441 \n",
       "  \"/>\n",
       "<polyline clip-path=\"url(#clip852)\" style=\"stroke:#000000; stroke-width:2; stroke-opacity:0.1; fill:none\" points=\"\n",
       "  1276.15,1423.18 1276.15,47.2441 \n",
       "  \"/>\n",
       "<polyline clip-path=\"url(#clip852)\" style=\"stroke:#000000; stroke-width:2; stroke-opacity:0.1; fill:none\" points=\"\n",
       "  1814.46,1423.18 1814.46,47.2441 \n",
       "  \"/>\n",
       "<polyline clip-path=\"url(#clip852)\" style=\"stroke:#000000; stroke-width:2; stroke-opacity:0.1; fill:none\" points=\"\n",
       "  2352.76,1423.18 2352.76,47.2441 \n",
       "  \"/>\n",
       "<polyline clip-path=\"url(#clip850)\" style=\"stroke:#000000; stroke-width:4; stroke-opacity:1; fill:none\" points=\"\n",
       "  199.553,1423.18 2352.76,1423.18 \n",
       "  \"/>\n",
       "<polyline clip-path=\"url(#clip850)\" style=\"stroke:#000000; stroke-width:4; stroke-opacity:1; fill:none\" points=\"\n",
       "  199.553,1423.18 199.553,1406.67 \n",
       "  \"/>\n",
       "<polyline clip-path=\"url(#clip850)\" style=\"stroke:#000000; stroke-width:4; stroke-opacity:1; fill:none\" points=\"\n",
       "  737.854,1423.18 737.854,1406.67 \n",
       "  \"/>\n",
       "<polyline clip-path=\"url(#clip850)\" style=\"stroke:#000000; stroke-width:4; stroke-opacity:1; fill:none\" points=\"\n",
       "  1276.15,1423.18 1276.15,1406.67 \n",
       "  \"/>\n",
       "<polyline clip-path=\"url(#clip850)\" style=\"stroke:#000000; stroke-width:4; stroke-opacity:1; fill:none\" points=\"\n",
       "  1814.46,1423.18 1814.46,1406.67 \n",
       "  \"/>\n",
       "<polyline clip-path=\"url(#clip850)\" style=\"stroke:#000000; stroke-width:4; stroke-opacity:1; fill:none\" points=\"\n",
       "  2352.76,1423.18 2352.76,1406.67 \n",
       "  \"/>\n",
       "<path clip-path=\"url(#clip850)\" d=\"M 0 0 M199.553 1452.37 Q195.942 1452.37 194.113 1455.94 Q192.308 1459.48 192.308 1466.61 Q192.308 1473.71 194.113 1477.28 Q195.942 1480.82 199.553 1480.82 Q203.187 1480.82 204.993 1477.28 Q206.822 1473.71 206.822 1466.61 Q206.822 1459.48 204.993 1455.94 Q203.187 1452.37 199.553 1452.37 M199.553 1448.67 Q205.363 1448.67 208.419 1453.27 Q211.497 1457.86 211.497 1466.61 Q211.497 1475.33 208.419 1479.94 Q205.363 1484.52 199.553 1484.52 Q193.743 1484.52 190.664 1479.94 Q187.609 1475.33 187.609 1466.61 Q187.609 1457.86 190.664 1453.27 Q193.743 1448.67 199.553 1448.67 Z\" fill=\"#000000\" fill-rule=\"evenodd\" fill-opacity=\"1\" /><path clip-path=\"url(#clip850)\" d=\"M 0 0 M728.236 1479.92 L735.875 1479.92 L735.875 1453.55 L727.564 1455.22 L727.564 1450.96 L735.828 1449.29 L740.504 1449.29 L740.504 1479.92 L748.143 1479.92 L748.143 1483.85 L728.236 1483.85 L728.236 1479.92 Z\" fill=\"#000000\" fill-rule=\"evenodd\" fill-opacity=\"1\" /><path clip-path=\"url(#clip850)\" d=\"M 0 0 M1270.81 1479.92 L1287.13 1479.92 L1287.13 1483.85 L1265.18 1483.85 L1265.18 1479.92 Q1267.84 1477.16 1272.43 1472.53 Q1277.03 1467.88 1278.21 1466.54 Q1280.46 1464.01 1281.34 1462.28 Q1282.24 1460.52 1282.24 1458.83 Q1282.24 1456.07 1280.3 1454.34 Q1278.38 1452.6 1275.27 1452.6 Q1273.08 1452.6 1270.62 1453.37 Q1268.19 1454.13 1265.41 1455.68 L1265.41 1450.96 Q1268.24 1449.82 1270.69 1449.25 Q1273.15 1448.67 1275.18 1448.67 Q1280.55 1448.67 1283.75 1451.35 Q1286.94 1454.04 1286.94 1458.53 Q1286.94 1460.66 1286.13 1462.58 Q1285.34 1464.48 1283.24 1467.07 Q1282.66 1467.74 1279.56 1470.96 Q1276.46 1474.15 1270.81 1479.92 Z\" fill=\"#000000\" fill-rule=\"evenodd\" fill-opacity=\"1\" /><path clip-path=\"url(#clip850)\" d=\"M 0 0 M1818.7 1465.22 Q1822.06 1465.94 1823.93 1468.2 Q1825.83 1470.47 1825.83 1473.81 Q1825.83 1478.92 1822.31 1481.72 Q1818.8 1484.52 1812.31 1484.52 Q1810.14 1484.52 1807.82 1484.08 Q1805.53 1483.67 1803.08 1482.81 L1803.08 1478.3 Q1805.02 1479.43 1807.34 1480.01 Q1809.65 1480.59 1812.18 1480.59 Q1816.57 1480.59 1818.86 1478.85 Q1821.18 1477.12 1821.18 1473.81 Q1821.18 1470.75 1819.03 1469.04 Q1816.9 1467.3 1813.08 1467.3 L1809.05 1467.3 L1809.05 1463.46 L1813.26 1463.46 Q1816.71 1463.46 1818.54 1462.09 Q1820.37 1460.7 1820.37 1458.11 Q1820.37 1455.45 1818.47 1454.04 Q1816.6 1452.6 1813.08 1452.6 Q1811.16 1452.6 1808.96 1453.02 Q1806.76 1453.44 1804.12 1454.31 L1804.12 1450.15 Q1806.78 1449.41 1809.1 1449.04 Q1811.43 1448.67 1813.49 1448.67 Q1818.82 1448.67 1821.92 1451.1 Q1825.02 1453.5 1825.02 1457.63 Q1825.02 1460.5 1823.38 1462.49 Q1821.74 1464.45 1818.7 1465.22 Z\" fill=\"#000000\" fill-rule=\"evenodd\" fill-opacity=\"1\" /><path clip-path=\"url(#clip850)\" d=\"M 0 0 M2355.77 1453.37 L2343.96 1471.81 L2355.77 1471.81 L2355.77 1453.37 M2354.54 1449.29 L2360.42 1449.29 L2360.42 1471.81 L2365.35 1471.81 L2365.35 1475.7 L2360.42 1475.7 L2360.42 1483.85 L2355.77 1483.85 L2355.77 1475.7 L2340.16 1475.7 L2340.16 1471.19 L2354.54 1449.29 Z\" fill=\"#000000\" fill-rule=\"evenodd\" fill-opacity=\"1\" /><path clip-path=\"url(#clip850)\" d=\"M 0 0 M1078.07 1520.52 L1087.65 1520.52 L1099.78 1552.86 L1111.97 1520.52 L1121.55 1520.52 L1121.55 1568.04 L1115.28 1568.04 L1115.28 1526.32 L1103.02 1558.91 L1096.56 1558.91 L1084.31 1526.32 L1084.31 1568.04 L1078.07 1568.04 L1078.07 1520.52 Z\" fill=\"#000000\" fill-rule=\"evenodd\" fill-opacity=\"1\" /><path clip-path=\"url(#clip850)\" d=\"M 0 0 M1143.89 1550.12 Q1136.79 1550.12 1134.06 1551.75 Q1131.32 1553.37 1131.32 1557.29 Q1131.32 1560.4 1133.36 1562.25 Q1135.42 1564.07 1138.96 1564.07 Q1143.83 1564.07 1146.76 1560.63 Q1149.72 1557.16 1149.72 1551.43 L1149.72 1550.12 L1143.89 1550.12 M1155.57 1547.71 L1155.57 1568.04 L1149.72 1568.04 L1149.72 1562.63 Q1147.71 1565.88 1144.72 1567.44 Q1141.73 1568.97 1137.4 1568.97 Q1131.92 1568.97 1128.68 1565.91 Q1125.46 1562.82 1125.46 1557.67 Q1125.46 1551.65 1129.47 1548.6 Q1133.51 1545.54 1141.5 1545.54 L1149.72 1545.54 L1149.72 1544.97 Q1149.72 1540.93 1147.04 1538.73 Q1144.4 1536.5 1139.59 1536.5 Q1136.54 1536.5 1133.64 1537.23 Q1130.75 1537.97 1128.07 1539.43 L1128.07 1534.02 Q1131.29 1532.78 1134.31 1532.17 Q1137.33 1531.54 1140.2 1531.54 Q1147.93 1531.54 1151.75 1535.55 Q1155.57 1539.56 1155.57 1547.71 Z\" fill=\"#000000\" fill-rule=\"evenodd\" fill-opacity=\"1\" /><path clip-path=\"url(#clip850)\" d=\"M 0 0 M1187.37 1533.76 L1187.37 1539.24 Q1184.89 1537.87 1182.37 1537.2 Q1179.89 1536.5 1177.34 1536.5 Q1171.65 1536.5 1168.49 1540.13 Q1165.34 1543.73 1165.34 1550.25 Q1165.34 1556.78 1168.49 1560.4 Q1171.65 1564 1177.34 1564 Q1179.89 1564 1182.37 1563.33 Q1184.89 1562.63 1187.37 1561.26 L1187.37 1566.68 Q1184.92 1567.82 1182.28 1568.39 Q1179.67 1568.97 1176.71 1568.97 Q1168.65 1568.97 1163.91 1563.91 Q1159.17 1558.85 1159.17 1550.25 Q1159.17 1541.53 1163.94 1536.53 Q1168.75 1531.54 1177.09 1531.54 Q1179.79 1531.54 1182.37 1532.11 Q1184.95 1532.65 1187.37 1533.76 Z\" fill=\"#000000\" fill-rule=\"evenodd\" fill-opacity=\"1\" /><path clip-path=\"url(#clip850)\" d=\"M 0 0 M1223.14 1546.53 L1223.14 1568.04 L1217.29 1568.04 L1217.29 1546.72 Q1217.29 1541.66 1215.31 1539.14 Q1213.34 1536.63 1209.39 1536.63 Q1204.65 1536.63 1201.91 1539.65 Q1199.18 1542.68 1199.18 1547.9 L1199.18 1568.04 L1193.29 1568.04 L1193.29 1518.52 L1199.18 1518.52 L1199.18 1537.93 Q1201.28 1534.72 1204.11 1533.13 Q1206.98 1531.54 1210.7 1531.54 Q1216.84 1531.54 1219.99 1535.36 Q1223.14 1539.14 1223.14 1546.53 Z\" fill=\"#000000\" fill-rule=\"evenodd\" fill-opacity=\"1\" /><path clip-path=\"url(#clip850)\" d=\"M 0 0 M1279.64 1546.53 L1279.64 1568.04 L1273.78 1568.04 L1273.78 1546.72 Q1273.78 1541.66 1271.81 1539.14 Q1269.84 1536.63 1265.89 1536.63 Q1261.15 1536.63 1258.41 1539.65 Q1255.67 1542.68 1255.67 1547.9 L1255.67 1568.04 L1249.78 1568.04 L1249.78 1532.4 L1255.67 1532.4 L1255.67 1537.93 Q1257.77 1534.72 1260.61 1533.13 Q1263.47 1531.54 1267.19 1531.54 Q1273.34 1531.54 1276.49 1535.36 Q1279.64 1539.14 1279.64 1546.53 Z\" fill=\"#000000\" fill-rule=\"evenodd\" fill-opacity=\"1\" /><path clip-path=\"url(#clip850)\" d=\"M 0 0 M1285.18 1553.98 L1285.18 1532.4 L1291.03 1532.4 L1291.03 1553.75 Q1291.03 1558.81 1293.01 1561.36 Q1294.98 1563.87 1298.93 1563.87 Q1303.67 1563.87 1306.41 1560.85 Q1309.18 1557.83 1309.18 1552.61 L1309.18 1532.4 L1315.03 1532.4 L1315.03 1568.04 L1309.18 1568.04 L1309.18 1562.57 Q1307.04 1565.82 1304.21 1567.41 Q1301.41 1568.97 1297.69 1568.97 Q1291.54 1568.97 1288.36 1565.15 Q1285.18 1561.33 1285.18 1553.98 M1299.91 1531.54 L1299.91 1531.54 Z\" fill=\"#000000\" fill-rule=\"evenodd\" fill-opacity=\"1\" /><path clip-path=\"url(#clip850)\" d=\"M 0 0 M1348.93 1539.24 Q1351.13 1535.29 1354.18 1533.41 Q1357.24 1531.54 1361.38 1531.54 Q1366.95 1531.54 1369.97 1535.45 Q1372.99 1539.33 1372.99 1546.53 L1372.99 1568.04 L1367.1 1568.04 L1367.1 1546.72 Q1367.1 1541.59 1365.29 1539.11 Q1363.48 1536.63 1359.75 1536.63 Q1355.2 1536.63 1352.56 1539.65 Q1349.92 1542.68 1349.92 1547.9 L1349.92 1568.04 L1344.03 1568.04 L1344.03 1546.72 Q1344.03 1541.56 1342.21 1539.11 Q1340.4 1536.63 1336.61 1536.63 Q1332.12 1536.63 1329.48 1539.68 Q1326.84 1542.71 1326.84 1547.9 L1326.84 1568.04 L1320.95 1568.04 L1320.95 1532.4 L1326.84 1532.4 L1326.84 1537.93 Q1328.85 1534.66 1331.65 1533.1 Q1334.45 1531.54 1338.3 1531.54 Q1342.18 1531.54 1344.89 1533.51 Q1347.63 1535.48 1348.93 1539.24 Z\" fill=\"#000000\" fill-rule=\"evenodd\" fill-opacity=\"1\" /><path clip-path=\"url(#clip850)\" d=\"M 0 0 M1404.73 1550.25 Q1404.73 1543.79 1402.05 1540.13 Q1399.41 1536.44 1394.76 1536.44 Q1390.12 1536.44 1387.44 1540.13 Q1384.8 1543.79 1384.8 1550.25 Q1384.8 1556.71 1387.44 1560.4 Q1390.12 1564.07 1394.76 1564.07 Q1399.41 1564.07 1402.05 1560.4 Q1404.73 1556.71 1404.73 1550.25 M1384.8 1537.81 Q1386.65 1534.62 1389.45 1533.1 Q1392.28 1531.54 1396.2 1531.54 Q1402.69 1531.54 1406.73 1536.69 Q1410.81 1541.85 1410.81 1550.25 Q1410.81 1558.65 1406.73 1563.81 Q1402.69 1568.97 1396.2 1568.97 Q1392.28 1568.97 1389.45 1567.44 Q1386.65 1565.88 1384.8 1562.7 L1384.8 1568.04 L1378.91 1568.04 L1378.91 1518.52 L1384.8 1518.52 L1384.8 1537.81 Z\" fill=\"#000000\" fill-rule=\"evenodd\" fill-opacity=\"1\" /><path clip-path=\"url(#clip850)\" d=\"M 0 0 M1447.44 1548.76 L1447.44 1551.62 L1420.51 1551.62 Q1420.89 1557.67 1424.14 1560.85 Q1427.42 1564 1433.24 1564 Q1436.62 1564 1439.77 1563.17 Q1442.95 1562.35 1446.07 1560.69 L1446.07 1566.23 Q1442.92 1567.57 1439.61 1568.27 Q1436.3 1568.97 1432.89 1568.97 Q1424.36 1568.97 1419.37 1564 Q1414.4 1559.04 1414.4 1550.57 Q1414.4 1541.82 1419.11 1536.69 Q1423.85 1531.54 1431.88 1531.54 Q1439.07 1531.54 1443.24 1536.18 Q1447.44 1540.8 1447.44 1548.76 M1441.58 1547.04 Q1441.52 1542.23 1438.88 1539.37 Q1436.27 1536.5 1431.94 1536.5 Q1427.04 1536.5 1424.08 1539.27 Q1421.15 1542.04 1420.7 1547.07 L1441.58 1547.04 Z\" fill=\"#000000\" fill-rule=\"evenodd\" fill-opacity=\"1\" /><path clip-path=\"url(#clip850)\" d=\"M 0 0 M1474.24 1537.87 Q1473.25 1537.3 1472.08 1537.04 Q1470.93 1536.76 1469.53 1536.76 Q1464.56 1536.76 1461.89 1540 Q1459.25 1543.22 1459.25 1549.27 L1459.25 1568.04 L1453.36 1568.04 L1453.36 1532.4 L1459.25 1532.4 L1459.25 1537.93 Q1461.09 1534.69 1464.05 1533.13 Q1467.01 1531.54 1471.25 1531.54 Q1471.85 1531.54 1472.58 1531.63 Q1473.32 1531.7 1474.21 1531.85 L1474.24 1537.87 Z\" fill=\"#000000\" fill-rule=\"evenodd\" fill-opacity=\"1\" /><polyline clip-path=\"url(#clip852)\" style=\"stroke:#000000; stroke-width:2; stroke-opacity:0.1; fill:none\" points=\"\n",
       "  199.553,1423.18 2352.76,1423.18 \n",
       "  \"/>\n",
       "<polyline clip-path=\"url(#clip852)\" style=\"stroke:#000000; stroke-width:2; stroke-opacity:0.1; fill:none\" points=\"\n",
       "  199.553,1308.52 2352.76,1308.52 \n",
       "  \"/>\n",
       "<polyline clip-path=\"url(#clip852)\" style=\"stroke:#000000; stroke-width:2; stroke-opacity:0.1; fill:none\" points=\"\n",
       "  199.553,1193.86 2352.76,1193.86 \n",
       "  \"/>\n",
       "<polyline clip-path=\"url(#clip852)\" style=\"stroke:#000000; stroke-width:2; stroke-opacity:0.1; fill:none\" points=\"\n",
       "  199.553,1079.2 2352.76,1079.2 \n",
       "  \"/>\n",
       "<polyline clip-path=\"url(#clip852)\" style=\"stroke:#000000; stroke-width:2; stroke-opacity:0.1; fill:none\" points=\"\n",
       "  199.553,964.535 2352.76,964.535 \n",
       "  \"/>\n",
       "<polyline clip-path=\"url(#clip852)\" style=\"stroke:#000000; stroke-width:2; stroke-opacity:0.1; fill:none\" points=\"\n",
       "  199.553,849.873 2352.76,849.873 \n",
       "  \"/>\n",
       "<polyline clip-path=\"url(#clip852)\" style=\"stroke:#000000; stroke-width:2; stroke-opacity:0.1; fill:none\" points=\"\n",
       "  199.553,735.212 2352.76,735.212 \n",
       "  \"/>\n",
       "<polyline clip-path=\"url(#clip852)\" style=\"stroke:#000000; stroke-width:2; stroke-opacity:0.1; fill:none\" points=\"\n",
       "  199.553,620.551 2352.76,620.551 \n",
       "  \"/>\n",
       "<polyline clip-path=\"url(#clip852)\" style=\"stroke:#000000; stroke-width:2; stroke-opacity:0.1; fill:none\" points=\"\n",
       "  199.553,505.889 2352.76,505.889 \n",
       "  \"/>\n",
       "<polyline clip-path=\"url(#clip852)\" style=\"stroke:#000000; stroke-width:2; stroke-opacity:0.1; fill:none\" points=\"\n",
       "  199.553,391.228 2352.76,391.228 \n",
       "  \"/>\n",
       "<polyline clip-path=\"url(#clip852)\" style=\"stroke:#000000; stroke-width:2; stroke-opacity:0.1; fill:none\" points=\"\n",
       "  199.553,276.567 2352.76,276.567 \n",
       "  \"/>\n",
       "<polyline clip-path=\"url(#clip852)\" style=\"stroke:#000000; stroke-width:2; stroke-opacity:0.1; fill:none\" points=\"\n",
       "  199.553,161.905 2352.76,161.905 \n",
       "  \"/>\n",
       "<polyline clip-path=\"url(#clip852)\" style=\"stroke:#000000; stroke-width:2; stroke-opacity:0.1; fill:none\" points=\"\n",
       "  199.553,47.2441 2352.76,47.2441 \n",
       "  \"/>\n",
       "<polyline clip-path=\"url(#clip850)\" style=\"stroke:#000000; stroke-width:4; stroke-opacity:1; fill:none\" points=\"\n",
       "  199.553,1423.18 199.553,47.2441 \n",
       "  \"/>\n",
       "<polyline clip-path=\"url(#clip850)\" style=\"stroke:#000000; stroke-width:4; stroke-opacity:1; fill:none\" points=\"\n",
       "  199.553,1423.18 225.392,1423.18 \n",
       "  \"/>\n",
       "<polyline clip-path=\"url(#clip850)\" style=\"stroke:#000000; stroke-width:4; stroke-opacity:1; fill:none\" points=\"\n",
       "  199.553,1308.52 225.392,1308.52 \n",
       "  \"/>\n",
       "<polyline clip-path=\"url(#clip850)\" style=\"stroke:#000000; stroke-width:4; stroke-opacity:1; fill:none\" points=\"\n",
       "  199.553,1193.86 225.392,1193.86 \n",
       "  \"/>\n",
       "<polyline clip-path=\"url(#clip850)\" style=\"stroke:#000000; stroke-width:4; stroke-opacity:1; fill:none\" points=\"\n",
       "  199.553,1079.2 225.392,1079.2 \n",
       "  \"/>\n",
       "<polyline clip-path=\"url(#clip850)\" style=\"stroke:#000000; stroke-width:4; stroke-opacity:1; fill:none\" points=\"\n",
       "  199.553,964.535 225.392,964.535 \n",
       "  \"/>\n",
       "<polyline clip-path=\"url(#clip850)\" style=\"stroke:#000000; stroke-width:4; stroke-opacity:1; fill:none\" points=\"\n",
       "  199.553,849.873 225.392,849.873 \n",
       "  \"/>\n",
       "<polyline clip-path=\"url(#clip850)\" style=\"stroke:#000000; stroke-width:4; stroke-opacity:1; fill:none\" points=\"\n",
       "  199.553,735.212 225.392,735.212 \n",
       "  \"/>\n",
       "<polyline clip-path=\"url(#clip850)\" style=\"stroke:#000000; stroke-width:4; stroke-opacity:1; fill:none\" points=\"\n",
       "  199.553,620.551 225.392,620.551 \n",
       "  \"/>\n",
       "<polyline clip-path=\"url(#clip850)\" style=\"stroke:#000000; stroke-width:4; stroke-opacity:1; fill:none\" points=\"\n",
       "  199.553,505.889 225.392,505.889 \n",
       "  \"/>\n",
       "<polyline clip-path=\"url(#clip850)\" style=\"stroke:#000000; stroke-width:4; stroke-opacity:1; fill:none\" points=\"\n",
       "  199.553,391.228 225.392,391.228 \n",
       "  \"/>\n",
       "<polyline clip-path=\"url(#clip850)\" style=\"stroke:#000000; stroke-width:4; stroke-opacity:1; fill:none\" points=\"\n",
       "  199.553,276.567 225.392,276.567 \n",
       "  \"/>\n",
       "<polyline clip-path=\"url(#clip850)\" style=\"stroke:#000000; stroke-width:4; stroke-opacity:1; fill:none\" points=\"\n",
       "  199.553,161.905 225.392,161.905 \n",
       "  \"/>\n",
       "<polyline clip-path=\"url(#clip850)\" style=\"stroke:#000000; stroke-width:4; stroke-opacity:1; fill:none\" points=\"\n",
       "  199.553,47.2441 225.392,47.2441 \n",
       "  \"/>\n",
       "<path clip-path=\"url(#clip850)\" d=\"M 0 0 M151.609 1408.98 Q147.998 1408.98 146.169 1412.54 Q144.363 1416.08 144.363 1423.21 Q144.363 1430.32 146.169 1433.89 Q147.998 1437.43 151.609 1437.43 Q155.243 1437.43 157.048 1433.89 Q158.877 1430.32 158.877 1423.21 Q158.877 1416.08 157.048 1412.54 Q155.243 1408.98 151.609 1408.98 M151.609 1405.27 Q157.419 1405.27 160.474 1409.88 Q163.553 1414.46 163.553 1423.21 Q163.553 1431.94 160.474 1436.55 Q157.419 1441.13 151.609 1441.13 Q145.799 1441.13 142.72 1436.55 Q139.664 1431.94 139.664 1423.21 Q139.664 1414.46 142.72 1409.88 Q145.799 1405.27 151.609 1405.27 Z\" fill=\"#000000\" fill-rule=\"evenodd\" fill-opacity=\"1\" /><path clip-path=\"url(#clip850)\" d=\"M 0 0 M143.646 1321.86 L151.285 1321.86 L151.285 1295.5 L142.974 1297.16 L142.974 1292.91 L151.238 1291.24 L155.914 1291.24 L155.914 1321.86 L163.553 1321.86 L163.553 1325.8 L143.646 1325.8 L143.646 1321.86 Z\" fill=\"#000000\" fill-rule=\"evenodd\" fill-opacity=\"1\" /><path clip-path=\"url(#clip850)\" d=\"M 0 0 M147.234 1207.2 L163.553 1207.2 L163.553 1211.14 L141.609 1211.14 L141.609 1207.2 Q144.271 1204.45 148.854 1199.82 Q153.461 1195.17 154.641 1193.82 Q156.886 1191.3 157.766 1189.56 Q158.669 1187.8 158.669 1186.11 Q158.669 1183.36 156.724 1181.62 Q154.803 1179.89 151.701 1179.89 Q149.502 1179.89 147.049 1180.65 Q144.618 1181.42 141.84 1182.97 L141.84 1178.24 Q144.664 1177.11 147.118 1176.53 Q149.572 1175.95 151.609 1175.95 Q156.979 1175.95 160.173 1178.64 Q163.368 1181.32 163.368 1185.81 Q163.368 1187.94 162.558 1189.86 Q161.771 1191.76 159.664 1194.35 Q159.086 1195.03 155.984 1198.24 Q152.882 1201.44 147.234 1207.2 Z\" fill=\"#000000\" fill-rule=\"evenodd\" fill-opacity=\"1\" /><path clip-path=\"url(#clip850)\" d=\"M 0 0 M156.423 1077.84 Q159.78 1078.56 161.655 1080.83 Q163.553 1083.1 163.553 1086.43 Q163.553 1091.55 160.035 1094.35 Q156.516 1097.15 150.035 1097.15 Q147.859 1097.15 145.544 1096.71 Q143.252 1096.29 140.799 1095.43 L140.799 1090.92 Q142.743 1092.05 145.058 1092.63 Q147.373 1093.21 149.896 1093.21 Q154.294 1093.21 156.586 1091.48 Q158.9 1089.74 158.9 1086.43 Q158.9 1083.37 156.748 1081.66 Q154.618 1079.93 150.799 1079.93 L146.771 1079.93 L146.771 1076.08 L150.984 1076.08 Q154.433 1076.08 156.261 1074.72 Q158.09 1073.33 158.09 1070.74 Q158.09 1068.07 156.192 1066.66 Q154.317 1065.23 150.799 1065.23 Q148.877 1065.23 146.678 1065.64 Q144.479 1066.06 141.84 1066.94 L141.84 1062.77 Q144.502 1062.03 146.817 1061.66 Q149.155 1061.29 151.215 1061.29 Q156.539 1061.29 159.641 1063.72 Q162.743 1066.13 162.743 1070.25 Q162.743 1073.12 161.099 1075.11 Q159.456 1077.08 156.423 1077.84 Z\" fill=\"#000000\" fill-rule=\"evenodd\" fill-opacity=\"1\" /><path clip-path=\"url(#clip850)\" d=\"M 0 0 M153.97 951.329 L142.164 969.778 L153.97 969.778 L153.97 951.329 M152.743 947.255 L158.623 947.255 L158.623 969.778 L163.553 969.778 L163.553 973.666 L158.623 973.666 L158.623 981.815 L153.97 981.815 L153.97 973.666 L138.368 973.666 L138.368 969.153 L152.743 947.255 Z\" fill=\"#000000\" fill-rule=\"evenodd\" fill-opacity=\"1\" /><path clip-path=\"url(#clip850)\" d=\"M 0 0 M142.65 832.593 L161.007 832.593 L161.007 836.528 L146.933 836.528 L146.933 845.001 Q147.951 844.653 148.97 844.491 Q149.988 844.306 151.007 844.306 Q156.794 844.306 160.173 847.477 Q163.553 850.649 163.553 856.065 Q163.553 861.644 160.081 864.746 Q156.609 867.825 150.289 867.825 Q148.113 867.825 145.845 867.454 Q143.599 867.084 141.192 866.343 L141.192 861.644 Q143.275 862.778 145.498 863.334 Q147.72 863.889 150.197 863.889 Q154.201 863.889 156.539 861.783 Q158.877 859.676 158.877 856.065 Q158.877 852.454 156.539 850.348 Q154.201 848.241 150.197 848.241 Q148.322 848.241 146.447 848.658 Q144.595 849.075 142.65 849.954 L142.65 832.593 Z\" fill=\"#000000\" fill-rule=\"evenodd\" fill-opacity=\"1\" /><path clip-path=\"url(#clip850)\" d=\"M 0 0 M152.025 733.349 Q148.877 733.349 147.025 735.501 Q145.197 737.654 145.197 741.404 Q145.197 745.131 147.025 747.307 Q148.877 749.46 152.025 749.46 Q155.173 749.46 157.002 747.307 Q158.854 745.131 158.854 741.404 Q158.854 737.654 157.002 735.501 Q155.173 733.349 152.025 733.349 M161.308 718.696 L161.308 722.955 Q159.548 722.122 157.743 721.682 Q155.961 721.242 154.201 721.242 Q149.572 721.242 147.118 724.367 Q144.687 727.492 144.34 733.812 Q145.706 731.798 147.766 730.733 Q149.826 729.645 152.303 729.645 Q157.511 729.645 160.521 732.816 Q163.553 735.964 163.553 741.404 Q163.553 746.728 160.405 749.946 Q157.257 753.163 152.025 753.163 Q146.03 753.163 142.859 748.58 Q139.687 743.973 139.687 735.247 Q139.687 727.052 143.576 722.191 Q147.465 717.307 154.016 717.307 Q155.775 717.307 157.558 717.654 Q159.363 718.001 161.308 718.696 Z\" fill=\"#000000\" fill-rule=\"evenodd\" fill-opacity=\"1\" /><path clip-path=\"url(#clip850)\" d=\"M 0 0 M141.331 603.271 L163.553 603.271 L163.553 605.261 L151.007 637.831 L146.123 637.831 L157.928 607.206 L141.331 607.206 L141.331 603.271 Z\" fill=\"#000000\" fill-rule=\"evenodd\" fill-opacity=\"1\" /><path clip-path=\"url(#clip850)\" d=\"M 0 0 M151.701 506.757 Q148.368 506.757 146.447 508.54 Q144.549 510.322 144.549 513.447 Q144.549 516.572 146.447 518.355 Q148.368 520.137 151.701 520.137 Q155.035 520.137 156.956 518.355 Q158.877 516.549 158.877 513.447 Q158.877 510.322 156.956 508.54 Q155.058 506.757 151.701 506.757 M147.025 504.767 Q144.016 504.026 142.326 501.966 Q140.66 499.906 140.66 496.943 Q140.66 492.799 143.599 490.392 Q146.562 487.984 151.701 487.984 Q156.863 487.984 159.803 490.392 Q162.743 492.799 162.743 496.943 Q162.743 499.906 161.053 501.966 Q159.386 504.026 156.4 504.767 Q159.78 505.554 161.655 507.845 Q163.553 510.137 163.553 513.447 Q163.553 518.47 160.474 521.155 Q157.419 523.841 151.701 523.841 Q145.984 523.841 142.905 521.155 Q139.85 518.47 139.85 513.447 Q139.85 510.137 141.748 507.845 Q143.646 505.554 147.025 504.767 M145.312 497.382 Q145.312 500.068 146.979 501.572 Q148.669 503.077 151.701 503.077 Q154.711 503.077 156.4 501.572 Q158.113 500.068 158.113 497.382 Q158.113 494.697 156.4 493.193 Q154.711 491.688 151.701 491.688 Q148.669 491.688 146.979 493.193 Q145.312 494.697 145.312 497.382 Z\" fill=\"#000000\" fill-rule=\"evenodd\" fill-opacity=\"1\" /><path clip-path=\"url(#clip850)\" d=\"M 0 0 M141.933 407.79 L141.933 403.531 Q143.692 404.365 145.498 404.804 Q147.303 405.244 149.039 405.244 Q153.669 405.244 156.099 402.142 Q158.553 399.017 158.9 392.675 Q157.558 394.666 155.498 395.73 Q153.437 396.795 150.937 396.795 Q145.752 396.795 142.72 393.67 Q139.711 390.522 139.711 385.082 Q139.711 379.758 142.859 376.541 Q146.007 373.323 151.238 373.323 Q157.234 373.323 160.382 377.929 Q163.553 382.513 163.553 391.263 Q163.553 399.434 159.664 404.318 Q155.798 409.179 149.248 409.179 Q147.488 409.179 145.683 408.832 Q143.877 408.485 141.933 407.79 M151.238 393.138 Q154.386 393.138 156.215 390.985 Q158.067 388.832 158.067 385.082 Q158.067 381.355 156.215 379.203 Q154.386 377.027 151.238 377.027 Q148.09 377.027 146.238 379.203 Q144.41 381.355 144.41 385.082 Q144.41 388.832 146.238 390.985 Q148.09 393.138 151.238 393.138 Z\" fill=\"#000000\" fill-rule=\"evenodd\" fill-opacity=\"1\" /><path clip-path=\"url(#clip850)\" d=\"M 0 0 M116.632 289.912 L124.271 289.912 L124.271 263.546 L115.961 265.213 L115.961 260.953 L124.225 259.287 L128.9 259.287 L128.9 289.912 L136.539 289.912 L136.539 293.847 L116.632 293.847 L116.632 289.912 Z\" fill=\"#000000\" fill-rule=\"evenodd\" fill-opacity=\"1\" /><path clip-path=\"url(#clip850)\" d=\"M 0 0 M151.609 262.365 Q147.998 262.365 146.169 265.93 Q144.363 269.472 144.363 276.601 Q144.363 283.708 146.169 287.273 Q147.998 290.814 151.609 290.814 Q155.243 290.814 157.048 287.273 Q158.877 283.708 158.877 276.601 Q158.877 269.472 157.048 265.93 Q155.243 262.365 151.609 262.365 M151.609 258.662 Q157.419 258.662 160.474 263.268 Q163.553 267.851 163.553 276.601 Q163.553 285.328 160.474 289.935 Q157.419 294.518 151.609 294.518 Q145.799 294.518 142.72 289.935 Q139.664 285.328 139.664 276.601 Q139.664 267.851 142.72 263.268 Q145.799 258.662 151.609 258.662 Z\" fill=\"#000000\" fill-rule=\"evenodd\" fill-opacity=\"1\" /><path clip-path=\"url(#clip850)\" d=\"M 0 0 M117.859 175.25 L125.498 175.25 L125.498 148.885 L117.188 150.551 L117.188 146.292 L125.451 144.625 L130.127 144.625 L130.127 175.25 L137.766 175.25 L137.766 179.185 L117.859 179.185 L117.859 175.25 Z\" fill=\"#000000\" fill-rule=\"evenodd\" fill-opacity=\"1\" /><path clip-path=\"url(#clip850)\" d=\"M 0 0 M143.646 175.25 L151.285 175.25 L151.285 148.885 L142.974 150.551 L142.974 146.292 L151.238 144.625 L155.914 144.625 L155.914 175.25 L163.553 175.25 L163.553 179.185 L143.646 179.185 L143.646 175.25 Z\" fill=\"#000000\" fill-rule=\"evenodd\" fill-opacity=\"1\" /><path clip-path=\"url(#clip850)\" d=\"M 0 0 M118.229 60.5889 L125.868 60.5889 L125.868 34.2233 L117.558 35.89 L117.558 31.6308 L125.822 29.9641 L130.498 29.9641 L130.498 60.5889 L138.137 60.5889 L138.137 64.5241 L118.229 64.5241 L118.229 60.5889 Z\" fill=\"#000000\" fill-rule=\"evenodd\" fill-opacity=\"1\" /><path clip-path=\"url(#clip850)\" d=\"M 0 0 M147.234 60.5889 L163.553 60.5889 L163.553 64.5241 L141.609 64.5241 L141.609 60.5889 Q144.271 57.8343 148.854 53.2047 Q153.461 48.552 154.641 47.2094 Q156.886 44.6862 157.766 42.9501 Q158.669 41.1909 158.669 39.5011 Q158.669 36.7465 156.724 35.0104 Q154.803 33.2743 151.701 33.2743 Q149.502 33.2743 147.049 34.0381 Q144.618 34.802 141.84 36.3529 L141.84 31.6308 Q144.664 30.4965 147.118 29.9178 Q149.572 29.3391 151.609 29.3391 Q156.979 29.3391 160.173 32.0243 Q163.368 34.7094 163.368 39.2002 Q163.368 41.3298 162.558 43.2511 Q161.771 45.1492 159.664 47.7418 Q159.086 48.4131 155.984 51.6306 Q152.882 54.8251 147.234 60.5889 Z\" fill=\"#000000\" fill-rule=\"evenodd\" fill-opacity=\"1\" /><path clip-path=\"url(#clip850)\" d=\"M 0 0 M60.8175 784.546 Q61.4294 784.546 61.7515 784.804 Q62.0413 785.029 62.1057 785.255 Q62.138 785.448 62.138 785.738 Q62.138 786.575 62.0413 789.473 Q61.9447 792.372 61.9447 793.209 Q61.9447 794.562 62.0413 797.332 Q62.138 800.101 62.138 801.454 Q62.138 802.356 61.3972 802.356 Q60.9141 802.356 60.6565 802.259 Q60.3666 802.163 60.27 801.905 Q60.1412 801.615 60.1412 801.454 Q60.109 801.261 60.109 800.778 Q60.109 800.134 60.0446 799.457 Q59.948 798.781 59.7547 797.944 Q59.5615 797.106 59.0784 796.591 Q58.5953 796.043 57.919 796.043 Q57.6291 796.043 55.2459 796.269 Q52.8627 796.494 50.093 796.784 Q47.2911 797.074 46.9046 797.106 L46.9046 813.66 Q49.5133 815.174 51.3168 816.237 Q53.1203 817.299 53.7322 817.686 Q54.3441 818.072 54.7306 818.298 Q55.1171 818.523 55.3425 818.652 Q57.0494 819.586 57.7902 819.586 Q59.8513 819.586 60.109 816.494 Q60.109 815.431 60.8819 815.431 Q61.4616 815.431 61.7837 815.689 Q62.0735 815.947 62.1057 816.172 Q62.138 816.365 62.138 816.687 Q62.138 817.75 62.0413 819.972 Q61.9447 822.195 61.9447 823.29 Q61.9447 824.224 62.0413 826.156 Q62.138 828.088 62.138 828.958 Q62.138 829.344 61.9125 829.57 Q61.6871 829.795 61.3972 829.795 Q60.9463 829.795 60.6887 829.731 Q60.431 829.634 60.3022 829.377 Q60.1734 829.119 60.1734 828.99 Q60.1412 828.861 60.109 828.41 Q59.948 825.963 58.7885 824.063 Q57.5969 822.13 54.5374 820.295 L16.0192 797.364 Q15.6327 797.138 15.4395 796.977 Q15.2462 796.816 15.0852 796.494 Q14.9242 796.14 14.9242 795.625 Q14.9242 794.82 15.1818 794.659 Q15.4072 794.498 16.5022 794.401 L57.7257 790.375 Q58.5953 790.279 58.9496 790.214 Q59.2716 790.118 59.6259 789.699 Q59.948 789.248 60.0446 788.443 Q60.109 787.606 60.109 786.06 Q60.109 785.48 60.1412 785.255 Q60.1412 785.029 60.3022 784.804 Q60.4632 784.546 60.8175 784.546 M44.8434 797.3 L23.1044 799.393 L44.8434 812.404 L44.8434 797.3 Z\" fill=\"#000000\" fill-rule=\"evenodd\" fill-opacity=\"1\" /><path clip-path=\"url(#clip850)\" d=\"M 0 0 M77.6934 780.764 Q77.3713 780.764 76.6628 780.506 L14.4411 757.222 Q14.3767 757.222 14.0224 757.06 Q13.6681 756.899 13.4427 756.803 Q13.185 756.706 12.9918 756.513 Q12.7986 756.288 12.7986 756.03 Q12.7986 755.386 13.6037 755.386 Q13.6681 755.386 14.4411 755.579 L76.7272 778.928 Q77.8544 779.315 78.1765 779.572 Q78.4985 779.798 78.4985 780.184 Q78.4985 780.764 77.6934 780.764 Z\" fill=\"#000000\" fill-rule=\"evenodd\" fill-opacity=\"1\" /><path clip-path=\"url(#clip850)\" d=\"M 0 0 M60.8175 702.827 Q61.4294 702.827 61.7515 703.085 Q62.0413 703.31 62.1057 703.536 Q62.138 703.729 62.138 704.019 Q62.138 704.856 62.0413 707.755 Q61.9447 710.653 61.9447 711.491 Q61.9447 712.843 62.0413 715.613 Q62.138 718.383 62.138 719.735 Q62.138 720.637 61.3972 720.637 Q60.9141 720.637 60.6565 720.54 Q60.3666 720.444 60.27 720.186 Q60.1412 719.896 60.1412 719.735 Q60.109 719.542 60.109 719.059 Q60.109 718.415 60.0446 717.739 Q59.948 717.062 59.7547 716.225 Q59.5615 715.388 59.0784 714.872 Q58.5953 714.325 57.919 714.325 Q57.6291 714.325 55.2459 714.55 Q52.8627 714.776 50.093 715.065 Q47.2911 715.355 46.9046 715.388 L46.9046 731.941 Q49.5133 733.455 51.3168 734.518 Q53.1203 735.581 53.7322 735.967 Q54.3441 736.354 54.7306 736.579 Q55.1171 736.804 55.3425 736.933 Q57.0494 737.867 57.7902 737.867 Q59.8513 737.867 60.109 734.775 Q60.109 733.713 60.8819 733.713 Q61.4616 733.713 61.7837 733.97 Q62.0735 734.228 62.1057 734.453 Q62.138 734.647 62.138 734.969 Q62.138 736.031 62.0413 738.254 Q61.9447 740.476 61.9447 741.571 Q61.9447 742.505 62.0413 744.437 Q62.138 746.37 62.138 747.239 Q62.138 747.626 61.9125 747.851 Q61.6871 748.076 61.3972 748.076 Q60.9463 748.076 60.6887 748.012 Q60.431 747.915 60.3022 747.658 Q60.1734 747.4 60.1734 747.271 Q60.1412 747.143 60.109 746.692 Q59.948 744.244 58.7885 742.344 Q57.5969 740.411 54.5374 738.576 L16.0192 715.645 Q15.6327 715.42 15.4395 715.259 Q15.2462 715.098 15.0852 714.776 Q14.9242 714.421 14.9242 713.906 Q14.9242 713.101 15.1818 712.94 Q15.4072 712.779 16.5022 712.682 L57.7257 708.657 Q58.5953 708.56 58.9496 708.495 Q59.2716 708.399 59.6259 707.98 Q59.948 707.529 60.0446 706.724 Q60.109 705.887 60.109 704.341 Q60.109 703.761 60.1412 703.536 Q60.1412 703.31 60.3022 703.085 Q60.4632 702.827 60.8175 702.827 M44.8434 715.581 L23.1044 717.674 L44.8434 730.685 L44.8434 715.581 Z\" fill=\"#000000\" fill-rule=\"evenodd\" fill-opacity=\"1\" /><path clip-path=\"url(#clip850)\" d=\"M 0 0 M66.9865 683.371 Q66.1975 683.371 65.6789 682.312 L62.6355 675.887 L59.592 682.402 Q59.1412 683.371 58.3521 683.371 Q57.9012 683.371 57.4954 683.011 Q57.0671 682.627 57.0671 682.131 Q57.0671 681.771 57.5631 681.117 L61.7112 675.391 Q54.0913 676.09 53.8658 676.067 Q53.415 676.067 53.0768 675.729 Q52.7161 675.391 52.7161 674.827 Q52.7161 674.376 53.0543 674.016 Q53.3699 673.632 53.8658 673.632 L61.7112 674.309 L57.9238 669.191 Q57.0446 667.996 57.0671 667.568 Q57.0671 667.049 57.4729 666.689 Q57.8787 666.328 58.3521 666.328 Q59.1412 666.328 59.6371 667.388 L62.6806 673.813 L65.7466 667.297 Q66.1975 666.328 66.9865 666.328 Q67.4374 666.328 67.8657 666.711 Q68.2715 667.072 68.2715 667.568 Q68.2715 667.838 68.001 668.312 Q67.9559 668.402 67.2345 669.371 Q66.5131 670.341 65.4084 671.851 Q64.3038 673.339 63.6049 674.309 Q71.2248 673.61 71.4502 673.632 Q71.9011 673.632 72.2618 673.97 Q72.6225 674.309 72.6225 674.872 Q72.6225 675.323 72.3069 675.706 Q71.9688 676.067 71.4502 676.067 L63.6049 675.391 L68.2715 681.838 Q68.2715 682.537 67.9334 682.92 Q67.5727 683.281 67.3698 683.326 Q67.1669 683.371 66.9865 683.371 Z\" fill=\"#000000\" fill-rule=\"evenodd\" fill-opacity=\"1\" /><polyline clip-path=\"url(#clip852)\" style=\"stroke:#009af9; stroke-width:4; stroke-opacity:1; fill:none\" points=\"\n",
       "  204.936,-5212.71 210.319,-1895.36 215.702,-789.846 221.085,-237.286 226.468,94.0897 231.851,314.874 237.234,472.463 242.617,590.554 248,682.314 253.383,755.641 \n",
       "  258.766,815.563 264.149,865.431 269.532,907.564 274.915,943.62 280.298,974.815 285.681,1002.06 291.064,1026.05 296.447,1047.33 301.83,1066.32 307.213,1083.38 \n",
       "  312.596,1098.77 317.979,1112.72 323.362,1125.43 328.745,1137.04 334.128,1147.68 339.511,1157.48 344.894,1166.51 350.277,1174.87 355.66,1182.63 361.043,1189.84 \n",
       "  366.426,1196.55 371.809,1202.82 377.192,1208.68 382.575,1214.17 387.958,1219.32 393.341,1224.15 398.724,1228.7 404.107,1232.99 409.49,1237.03 414.873,1240.85 \n",
       "  420.256,1244.46 425.639,1247.87 431.022,1251.11 436.405,1254.17 441.788,1257.07 447.171,1259.83 452.554,1262.45 457.937,1264.94 463.32,1267.3 468.703,1269.55 \n",
       "  474.086,1271.69 479.469,1273.73 484.852,1275.67 490.235,1277.52 495.618,1279.29 501.001,1280.97 506.384,1282.57 511.767,1284.09 517.15,1285.55 522.534,1286.94 \n",
       "  527.917,1288.26 533.3,1289.53 538.683,1290.73 544.066,1291.88 549.449,1292.97 554.832,1294.01 560.215,1295 565.598,1295.95 570.981,1296.84 576.364,1297.7 \n",
       "  581.747,1298.51 587.13,1299.28 592.513,1300.01 597.896,1300.71 603.279,1301.36 608.662,1301.98 614.045,1302.57 619.428,1303.12 624.811,1303.64 630.194,1304.14 \n",
       "  635.577,1304.59 640.96,1305.03 646.343,1305.43 651.726,1305.8 657.109,1306.15 662.492,1306.47 667.875,1306.76 673.258,1307.03 678.641,1307.28 684.024,1307.5 \n",
       "  689.407,1307.7 694.79,1307.88 700.173,1308.03 705.556,1308.16 710.939,1308.27 716.322,1308.36 721.705,1308.43 727.088,1308.48 732.471,1308.51 737.854,1308.52 \n",
       "  743.237,1308.51 748.62,1308.48 754.003,1308.43 759.386,1308.37 764.769,1308.29 770.152,1308.19 775.535,1308.07 780.918,1307.93 786.301,1307.78 791.684,1307.61 \n",
       "  797.067,1307.42 802.45,1307.22 807.833,1307 813.216,1306.77 818.599,1306.52 823.982,1306.25 829.365,1305.97 834.748,1305.67 840.131,1305.36 845.514,1305.03 \n",
       "  850.897,1304.68 856.28,1304.33 861.663,1303.95 867.046,1303.56 872.429,1303.16 877.812,1302.74 883.195,1302.31 888.578,1301.86 893.961,1301.39 899.344,1300.92 \n",
       "  904.727,1300.42 910.11,1299.92 915.493,1299.4 920.876,1298.86 926.259,1298.31 931.642,1297.74 937.025,1297.17 942.408,1296.57 947.791,1295.96 953.174,1295.34 \n",
       "  958.557,1294.7 963.94,1294.05 969.323,1293.39 974.706,1292.71 980.089,1292.01 985.472,1291.3 990.855,1290.58 996.238,1289.84 1001.62,1289.09 1007,1288.32 \n",
       "  1012.39,1287.54 1017.77,1286.74 1023.15,1285.93 1028.54,1285.1 1033.92,1284.26 1039.3,1283.4 1044.69,1282.53 1050.07,1281.64 1055.45,1280.74 1060.83,1279.83 \n",
       "  1066.22,1278.89 1071.6,1277.95 1076.98,1276.98 1082.37,1276.01 1087.75,1275.01 1093.13,1274 1098.52,1272.98 1103.9,1271.94 1109.28,1270.88 1114.66,1269.81 \n",
       "  1120.05,1268.72 1125.43,1267.61 1130.81,1266.49 1136.2,1265.36 1141.58,1264.2 1146.96,1263.03 1152.35,1261.85 1157.73,1260.64 1163.11,1259.42 1168.49,1258.18 \n",
       "  1173.88,1256.93 1179.26,1255.66 1184.64,1254.37 1190.03,1253.06 1195.41,1251.74 1200.79,1250.4 1206.18,1249.04 1211.56,1247.66 1216.94,1246.27 1222.32,1244.85 \n",
       "  1227.71,1243.42 1233.09,1241.97 1238.47,1240.5 1243.86,1239.01 1249.24,1237.51 1254.62,1235.98 1260.01,1234.44 1265.39,1232.87 1270.77,1231.29 1276.15,1229.69 \n",
       "  1281.54,1228.07 1286.92,1226.42 1292.3,1224.76 1297.69,1223.08 1303.07,1221.38 1308.45,1219.65 1313.84,1217.91 1319.22,1216.15 1324.6,1214.36 1329.98,1212.55 \n",
       "  1335.37,1210.73 1340.75,1208.88 1346.13,1207 1351.52,1205.11 1356.9,1203.2 1362.28,1201.26 1367.67,1199.3 1373.05,1197.32 1378.43,1195.31 1383.81,1193.29 \n",
       "  1389.2,1191.24 1394.58,1189.16 1399.96,1187.07 1405.35,1184.94 1410.73,1182.8 1416.11,1180.63 1421.5,1178.44 1426.88,1176.22 1432.26,1173.98 1437.64,1171.71 \n",
       "  1443.03,1169.42 1448.41,1167.1 1453.79,1164.76 1459.18,1162.39 1464.56,1160 1469.94,1157.58 1475.33,1155.13 1480.71,1152.66 1486.09,1150.16 1491.47,1147.64 \n",
       "  1496.86,1145.08 1502.24,1142.5 1507.62,1139.9 1513.01,1137.26 1518.39,1134.6 1523.77,1131.9 1529.16,1129.18 1534.54,1126.44 1539.92,1123.66 1545.3,1120.85 \n",
       "  1550.69,1118.01 1556.07,1115.15 1561.45,1112.25 1566.84,1109.33 1572.22,1106.37 1577.6,1103.38 1582.99,1100.36 1588.37,1097.32 1593.75,1094.24 1599.13,1091.12 \n",
       "  1604.52,1087.98 1609.9,1084.8 1615.28,1081.6 1620.67,1078.36 1626.05,1075.08 1631.43,1071.78 1636.82,1068.43 1642.2,1065.06 1647.58,1061.65 1652.96,1058.21 \n",
       "  1658.35,1054.74 1663.73,1051.22 1669.11,1047.68 1674.5,1044.1 1679.88,1040.48 1685.26,1036.83 1690.65,1033.14 1696.03,1029.41 1701.41,1025.65 1706.8,1021.85 \n",
       "  1712.18,1018.01 1717.56,1014.14 1722.94,1010.23 1728.33,1006.28 1733.71,1002.29 1739.09,998.263 1744.48,994.197 1749.86,990.091 1755.24,985.946 1760.63,981.76 \n",
       "  1766.01,977.535 1771.39,973.268 1776.77,968.961 1782.16,964.613 1787.54,960.223 1792.92,955.791 1798.31,951.317 1803.69,946.801 1809.07,942.241 1814.46,937.639 \n",
       "  1819.84,932.993 1825.22,928.303 1830.6,923.569 1835.99,918.79 1841.37,913.967 1846.75,909.099 1852.14,904.185 1857.52,899.225 1862.9,894.219 1868.29,889.166 \n",
       "  1873.67,884.067 1879.05,878.92 1884.43,873.726 1889.82,868.484 1895.2,863.194 1900.58,857.854 1905.97,852.466 1911.35,847.029 1916.73,841.542 1922.12,836.004 \n",
       "  1927.5,830.416 1932.88,824.778 1938.26,819.088 1943.65,813.346 1949.03,807.553 1954.41,801.707 1959.8,795.808 1965.18,789.856 1970.56,783.851 1975.95,777.792 \n",
       "  1981.33,771.678 1986.71,765.51 1992.09,759.287 1997.48,753.008 2002.86,746.674 2008.24,740.283 2013.63,733.835 2019.01,727.331 2024.39,720.769 2029.78,714.149 \n",
       "  2035.16,707.471 2040.54,700.734 2045.92,693.937 2051.31,687.082 2056.69,680.166 2062.07,673.19 2067.46,666.153 2072.84,659.055 2078.22,651.895 2083.61,644.673 \n",
       "  2088.99,637.389 2094.37,630.041 2099.75,622.63 2105.14,615.155 2110.52,607.616 2115.9,600.012 2121.29,592.343 2126.67,584.609 2132.05,576.808 2137.44,568.94 \n",
       "  2142.82,561.006 2148.2,553.004 2153.58,544.934 2158.97,536.796 2164.35,528.589 2169.73,520.313 2175.12,511.966 2180.5,503.55 2185.88,495.062 2191.27,486.504 \n",
       "  2196.65,477.874 2202.03,469.171 2207.41,460.396 2212.8,451.548 2218.18,442.626 2223.56,433.63 2228.95,424.559 2234.33,415.413 2239.71,406.192 2245.1,396.894 \n",
       "  2250.48,387.52 2255.86,378.068 2261.24,368.539 2266.63,358.932 2272.01,349.246 2277.39,339.48 2282.78,329.635 2288.16,319.71 2293.54,309.704 2298.93,299.617 \n",
       "  2304.31,289.448 2309.69,279.196 2315.07,268.862 2320.46,258.444 2325.84,247.942 2331.22,237.355 2336.61,226.684 2341.99,215.927 2347.37,205.084 2352.76,194.154 \n",
       "  2358.14,183.137 2363.52,172.032 2368.9,160.838 2374.29,149.556 2379.67,138.184 2385.05,126.722 2390.44,115.17 2395.82,103.526 2401.2,91.7904 2406.59,79.9625 \n",
       "  2411.97,68.0416 2417.35,56.0272 2422.73,43.9186 2428.12,31.7154 2433.5,19.4168 2438.88,7.02235 2444.27,-5.4686 2449.65,-18.0566 2455.03,-30.7424 2460.42,-43.5264 \n",
       "  2465.8,-56.4093 2471.18,-69.3917 2476.57,-82.4743 2481.95,-95.6576 2487.33,-108.942 2492.71,-122.329 2498.1,-135.818 2503.48,-149.411 2508.86,-163.107 2514.25,-176.908 \n",
       "  2519.63,-190.814 2525.01,-204.825 2530.4,-218.943 2535.78,-233.169 2541.16,-247.501 2546.54,-261.943 2551.93,-276.493 2557.31,-291.152 2562.69,-305.922 2568.08,-320.803 \n",
       "  2573.46,-335.796 2578.84,-350.901 2584.23,-366.119 2589.61,-381.45 2594.99,-396.896 2600.37,-412.457 2605.76,-428.133 2611.14,-443.926 2616.52,-459.836 2621.91,-475.863 \n",
       "  2627.29,-492.009 2632.67,-508.274 2638.06,-524.659 2643.44,-541.164 2648.82,-557.79 2654.2,-574.538 2659.59,-591.409 2664.97,-608.403 2670.35,-625.521 2675.74,-642.764 \n",
       "  2681.12,-660.132 2686.5,-677.627 2691.89,-695.248 2697.27,-712.997 2702.65,-730.875 2708.03,-748.881 2713.42,-767.018 2718.8,-785.284 2724.18,-803.683 2729.57,-822.213 \n",
       "  2734.95,-840.876 2740.33,-859.673 2745.72,-878.604 2751.1,-897.67 2756.48,-916.871 2761.86,-936.21 2767.25,-955.686 2772.63,-975.3 2778.01,-995.052 2783.4,-1014.95 \n",
       "  2788.78,-1034.98 2794.16,-1055.15 2799.55,-1075.47 2804.93,-1095.93 2810.31,-1116.53 2815.69,-1137.28 2821.08,-1158.17 2826.46,-1179.21 2831.84,-1200.39 2837.23,-1221.73 \n",
       "  2842.61,-1243.21 2847.99,-1264.84 2853.38,-1286.62 2858.76,-1308.55 2864.14,-1330.63 2869.52,-1352.87 2874.91,-1375.26 2880.29,-1397.8 2885.67,-1420.5 2891.06,-1443.35 \n",
       "  2896.44,-1466.36 2901.82,-1489.53 2907.21,-1512.86 2912.59,-1536.34 2917.97,-1559.99 2923.35,-1583.8 2928.74,-1607.77 2934.12,-1631.9 2939.5,-1656.19 2944.89,-1680.65 \n",
       "  2950.27,-1705.28 2955.65,-1730.07 2961.04,-1755.03 2966.42,-1780.15 2971.8,-1805.45 2977.18,-1830.91 2982.57,-1856.55 2987.95,-1882.35 2993.33,-1908.33 2998.72,-1934.48 \n",
       "  3004.1,-1960.81 3009.48,-1987.31 3014.87,-2013.99 3020.25,-2040.85 3025.63,-2067.88 3031.01,-2095.09 3036.4,-2122.48 3041.78,-2150.05 3047.16,-2177.81 3052.55,-2205.74 \n",
       "  3057.93,-2233.86 3063.31,-2262.16 3068.7,-2290.65 3074.08,-2319.33 3079.46,-2348.19 3084.84,-2377.24 3090.23,-2406.48 3095.61,-2435.91 3100.99,-2465.53 3106.38,-2495.35 \n",
       "  3111.76,-2525.35 3117.14,-2555.56 3122.53,-2585.95 3127.91,-2616.54 3133.29,-2647.33 3138.67,-2678.32 3144.06,-2709.5 3149.44,-2740.89 3154.82,-2772.48 3160.21,-2804.26 \n",
       "  3165.59,-2836.26 3170.97,-2868.45 3176.36,-2900.85 3181.74,-2933.46 3187.12,-2966.27 3192.51,-2999.29 3197.89,-3032.52 3203.27,-3065.96 3208.65,-3099.62 3214.04,-3133.48 \n",
       "  3219.42,-3167.56 3224.8,-3201.85 3230.19,-3236.36 3235.57,-3271.08 3240.95,-3306.02 3246.34,-3341.18 3251.72,-3376.56 3257.1,-3412.16 3262.48,-3447.99 3267.87,-3484.03 \n",
       "  3273.25,-3520.3 3278.63,-3556.79 3284.02,-3593.51 3289.4,-3630.46 3294.78,-3667.63 3300.17,-3705.04 3305.55,-3742.67 3310.93,-3780.54 3316.31,-3818.64 3321.7,-3856.97 \n",
       "  3327.08,-3895.54 3332.46,-3934.35 3337.85,-3973.39 3343.23,-4012.67 3348.61,-4052.19 3354,-4091.95 3359.38,-4131.95 3364.76,-4172.19 3370.14,-4212.68 3375.53,-4253.41 \n",
       "  3380.91,-4294.39 3386.29,-4335.62 3391.68,-4377.09 3397.06,-4418.82 3402.44,-4460.8 3407.83,-4503.02 3413.21,-4545.51 3418.59,-4588.24 3423.97,-4631.24 3429.36,-4674.48 \n",
       "  \n",
       "  \"/>\n",
       "<circle clip-path=\"url(#clip852)\" cx=\"737.854\" cy=\"1308.52\" r=\"14\" fill=\"#e26f46\" fill-rule=\"evenodd\" fill-opacity=\"1\" stroke=\"#000000\" stroke-opacity=\"1\" stroke-width=\"3.2\"/>\n",
       "<polyline clip-path=\"url(#clip852)\" style=\"stroke:#3da44d; stroke-width:4; stroke-opacity:1; fill:none\" stroke-dasharray=\"16, 10\" points=\"\n",
       "  199.553,1193.86 204.936,1193.86 210.319,1193.86 215.702,1193.86 221.085,1193.86 226.468,1193.86 231.851,1193.86 237.234,1193.86 242.617,1193.86 248,1193.86 \n",
       "  253.383,1193.86 258.766,1193.86 264.149,1193.86 269.532,1193.86 274.915,1193.86 280.298,1193.86 285.681,1193.86 291.064,1193.86 296.447,1193.86 301.83,1193.86 \n",
       "  307.213,1193.86 312.596,1193.86 317.979,1193.86 323.362,1193.86 328.745,1193.86 334.128,1193.86 339.511,1193.86 344.894,1193.86 350.277,1193.86 355.66,1193.86 \n",
       "  361.043,1193.86 366.426,1193.86 371.809,1193.86 377.192,1193.86 382.575,1193.86 387.958,1193.86 393.341,1193.86 398.724,1193.86 404.107,1193.86 409.49,1193.86 \n",
       "  414.873,1193.86 420.256,1193.86 425.639,1193.86 431.022,1193.86 436.405,1193.86 441.788,1193.86 447.171,1193.86 452.554,1193.86 457.937,1193.86 463.32,1193.86 \n",
       "  468.703,1193.86 474.086,1193.86 479.469,1193.86 484.852,1193.86 490.235,1193.86 495.618,1193.86 501.001,1193.86 506.384,1193.86 511.767,1193.86 517.15,1193.86 \n",
       "  522.534,1193.86 527.917,1193.86 533.3,1193.86 538.683,1193.86 544.066,1193.86 549.449,1193.86 554.832,1193.86 560.215,1193.86 565.598,1193.86 570.981,1193.86 \n",
       "  576.364,1193.86 581.747,1193.86 587.13,1193.86 592.513,1193.86 597.896,1193.86 603.279,1193.86 608.662,1193.86 614.045,1193.86 619.428,1193.86 624.811,1193.86 \n",
       "  630.194,1193.86 635.577,1193.86 640.96,1193.86 646.343,1193.86 651.726,1193.86 657.109,1193.86 662.492,1193.86 667.875,1193.86 673.258,1193.86 678.641,1193.86 \n",
       "  684.024,1193.86 689.407,1193.86 694.79,1193.86 700.173,1193.86 705.556,1193.86 710.939,1193.86 716.322,1193.86 721.705,1193.86 727.088,1193.86 732.471,1193.86 \n",
       "  737.854,1193.86 743.237,1193.86 748.62,1193.86 754.003,1193.86 759.386,1193.86 764.769,1193.86 770.152,1193.86 775.535,1193.86 780.918,1193.86 786.301,1193.86 \n",
       "  791.684,1193.86 797.067,1193.86 802.45,1193.86 807.833,1193.86 813.216,1193.86 818.599,1193.86 823.982,1193.86 829.365,1193.86 834.748,1193.86 840.131,1193.86 \n",
       "  845.514,1193.86 850.897,1193.86 856.28,1193.86 861.663,1193.86 867.046,1193.86 872.429,1193.86 877.812,1193.86 883.195,1193.86 888.578,1193.86 893.961,1193.86 \n",
       "  899.344,1193.86 904.727,1193.86 910.11,1193.86 915.493,1193.86 920.876,1193.86 926.259,1193.86 931.642,1193.86 937.025,1193.86 942.408,1193.86 947.791,1193.86 \n",
       "  953.174,1193.86 958.557,1193.86 963.94,1193.86 969.323,1193.86 974.706,1193.86 980.089,1193.86 985.472,1193.86 990.855,1193.86 996.238,1193.86 1001.62,1193.86 \n",
       "  1007,1193.86 1012.39,1193.86 1017.77,1193.86 1023.15,1193.86 1028.54,1193.86 1033.92,1193.86 1039.3,1193.86 1044.69,1193.86 1050.07,1193.86 1055.45,1193.86 \n",
       "  1060.83,1193.86 1066.22,1193.86 1071.6,1193.86 1076.98,1193.86 1082.37,1193.86 1087.75,1193.86 1093.13,1193.86 1098.52,1193.86 1103.9,1193.86 1109.28,1193.86 \n",
       "  1114.66,1193.86 1120.05,1193.86 1125.43,1193.86 1130.81,1193.86 1136.2,1193.86 1141.58,1193.86 1146.96,1193.86 1152.35,1193.86 1157.73,1193.86 1163.11,1193.86 \n",
       "  1168.49,1193.86 1173.88,1193.86 1179.26,1193.86 1184.64,1193.86 1190.03,1193.86 1195.41,1193.86 1200.79,1193.86 1206.18,1193.86 1211.56,1193.86 1216.94,1193.86 \n",
       "  1222.32,1193.86 1227.71,1193.86 1233.09,1193.86 1238.47,1193.86 1243.86,1193.86 1249.24,1193.86 1254.62,1193.86 1260.01,1193.86 1265.39,1193.86 1270.77,1193.86 \n",
       "  1276.15,1193.86 1281.54,1193.86 1286.92,1193.86 1292.3,1193.86 1297.69,1193.86 1303.07,1193.86 1308.45,1193.86 1313.84,1193.86 1319.22,1193.86 1324.6,1193.86 \n",
       "  1329.98,1193.86 1335.37,1193.86 1340.75,1193.86 1346.13,1193.86 1351.52,1193.86 1356.9,1193.86 1362.28,1193.86 1367.67,1193.86 1373.05,1193.86 1378.43,1193.86 \n",
       "  1383.81,1193.86 1389.2,1193.86 1394.58,1193.86 1399.96,1193.86 1405.35,1193.86 1410.73,1193.86 1416.11,1193.86 1421.5,1193.86 1426.88,1193.86 1432.26,1193.86 \n",
       "  1437.64,1193.86 1443.03,1193.86 1448.41,1193.86 1453.79,1193.86 1459.18,1193.86 1464.56,1193.86 1469.94,1193.86 1475.33,1193.86 1480.71,1193.86 1486.09,1193.86 \n",
       "  1491.47,1193.86 1496.86,1193.86 1502.24,1193.86 1507.62,1193.86 1513.01,1193.86 1518.39,1193.86 1523.77,1193.86 1529.16,1193.86 1534.54,1193.86 1539.92,1193.86 \n",
       "  1545.3,1193.86 1550.69,1193.86 1556.07,1193.86 1561.45,1193.86 1566.84,1193.86 1572.22,1193.86 1577.6,1193.86 1582.99,1193.86 1588.37,1193.86 1593.75,1193.86 \n",
       "  1599.13,1193.86 1604.52,1193.86 1609.9,1193.86 1615.28,1193.86 1620.67,1193.86 1626.05,1193.86 1631.43,1193.86 1636.82,1193.86 1642.2,1193.86 1647.58,1193.86 \n",
       "  1652.96,1193.86 1658.35,1193.86 1663.73,1193.86 1669.11,1193.86 1674.5,1193.86 1679.88,1193.86 1685.26,1193.86 1690.65,1193.86 1696.03,1193.86 1701.41,1193.86 \n",
       "  1706.8,1193.86 1712.18,1193.86 1717.56,1193.86 1722.94,1193.86 1728.33,1193.86 1733.71,1193.86 1739.09,1193.86 1744.48,1193.86 1749.86,1193.86 1755.24,1193.86 \n",
       "  1760.63,1193.86 1766.01,1193.86 1771.39,1193.86 1776.77,1193.86 1782.16,1193.86 1787.54,1193.86 1792.92,1193.86 1798.31,1193.86 1803.69,1193.86 1809.07,1193.86 \n",
       "  1814.46,1193.86 1819.84,1193.86 1825.22,1193.86 1830.6,1193.86 1835.99,1193.86 1841.37,1193.86 1846.75,1193.86 1852.14,1193.86 1857.52,1193.86 1862.9,1193.86 \n",
       "  1868.29,1193.86 1873.67,1193.86 1879.05,1193.86 1884.43,1193.86 1889.82,1193.86 1895.2,1193.86 1900.58,1193.86 1905.97,1193.86 1911.35,1193.86 1916.73,1193.86 \n",
       "  1922.12,1193.86 1927.5,1193.86 1932.88,1193.86 1938.26,1193.86 1943.65,1193.86 1949.03,1193.86 1954.41,1193.86 1959.8,1193.86 1965.18,1193.86 1970.56,1193.86 \n",
       "  1975.95,1193.86 1981.33,1193.86 1986.71,1193.86 1992.09,1193.86 1997.48,1193.86 2002.86,1193.86 2008.24,1193.86 2013.63,1193.86 2019.01,1193.86 2024.39,1193.86 \n",
       "  2029.78,1193.86 2035.16,1193.86 2040.54,1193.86 2045.92,1193.86 2051.31,1193.86 2056.69,1193.86 2062.07,1193.86 2067.46,1193.86 2072.84,1193.86 2078.22,1193.86 \n",
       "  2083.61,1193.86 2088.99,1193.86 2094.37,1193.86 2099.75,1193.86 2105.14,1193.86 2110.52,1193.86 2115.9,1193.86 2121.29,1193.86 2126.67,1193.86 2132.05,1193.86 \n",
       "  2137.44,1193.86 2142.82,1193.86 2148.2,1193.86 2153.58,1193.86 2158.97,1193.86 2164.35,1193.86 2169.73,1193.86 2175.12,1193.86 2180.5,1193.86 2185.88,1193.86 \n",
       "  2191.27,1193.86 2196.65,1193.86 2202.03,1193.86 2207.41,1193.86 2212.8,1193.86 2218.18,1193.86 2223.56,1193.86 2228.95,1193.86 2234.33,1193.86 2239.71,1193.86 \n",
       "  2245.1,1193.86 2250.48,1193.86 2255.86,1193.86 2261.24,1193.86 2266.63,1193.86 2272.01,1193.86 2277.39,1193.86 2282.78,1193.86 2288.16,1193.86 2293.54,1193.86 \n",
       "  2298.93,1193.86 2304.31,1193.86 2309.69,1193.86 2315.07,1193.86 2320.46,1193.86 2325.84,1193.86 2331.22,1193.86 2336.61,1193.86 2341.99,1193.86 2347.37,1193.86 \n",
       "  2352.76,1193.86 2358.14,1193.86 2363.52,1193.86 2368.9,1193.86 2374.29,1193.86 2379.67,1193.86 2385.05,1193.86 2390.44,1193.86 2395.82,1193.86 2401.2,1193.86 \n",
       "  2406.59,1193.86 2411.97,1193.86 2417.35,1193.86 2422.73,1193.86 2428.12,1193.86 2433.5,1193.86 2438.88,1193.86 2444.27,1193.86 2449.65,1193.86 2455.03,1193.86 \n",
       "  2460.42,1193.86 2465.8,1193.86 2471.18,1193.86 2476.57,1193.86 2481.95,1193.86 2487.33,1193.86 2492.71,1193.86 2498.1,1193.86 2503.48,1193.86 2508.86,1193.86 \n",
       "  2514.25,1193.86 2519.63,1193.86 2525.01,1193.86 2530.4,1193.86 2535.78,1193.86 2541.16,1193.86 2546.54,1193.86 2551.93,1193.86 2557.31,1193.86 2562.69,1193.86 \n",
       "  2568.08,1193.86 2573.46,1193.86 2578.84,1193.86 2584.23,1193.86 2589.61,1193.86 2594.99,1193.86 2600.37,1193.86 2605.76,1193.86 2611.14,1193.86 2616.52,1193.86 \n",
       "  2621.91,1193.86 2627.29,1193.86 2632.67,1193.86 2638.06,1193.86 2643.44,1193.86 2648.82,1193.86 2654.2,1193.86 2659.59,1193.86 2664.97,1193.86 2670.35,1193.86 \n",
       "  2675.74,1193.86 2681.12,1193.86 2686.5,1193.86 2691.89,1193.86 2697.27,1193.86 2702.65,1193.86 2708.03,1193.86 2713.42,1193.86 2718.8,1193.86 2724.18,1193.86 \n",
       "  2729.57,1193.86 2734.95,1193.86 2740.33,1193.86 2745.72,1193.86 2751.1,1193.86 2756.48,1193.86 2761.86,1193.86 2767.25,1193.86 2772.63,1193.86 2778.01,1193.86 \n",
       "  2783.4,1193.86 2788.78,1193.86 2794.16,1193.86 2799.55,1193.86 2804.93,1193.86 2810.31,1193.86 2815.69,1193.86 2821.08,1193.86 2826.46,1193.86 2831.84,1193.86 \n",
       "  2837.23,1193.86 2842.61,1193.86 2847.99,1193.86 2853.38,1193.86 2858.76,1193.86 2864.14,1193.86 2869.52,1193.86 2874.91,1193.86 2880.29,1193.86 2885.67,1193.86 \n",
       "  2891.06,1193.86 2896.44,1193.86 2901.82,1193.86 2907.21,1193.86 2912.59,1193.86 2917.97,1193.86 2923.35,1193.86 2928.74,1193.86 2934.12,1193.86 2939.5,1193.86 \n",
       "  2944.89,1193.86 2950.27,1193.86 2955.65,1193.86 2961.04,1193.86 2966.42,1193.86 2971.8,1193.86 2977.18,1193.86 2982.57,1193.86 2987.95,1193.86 2993.33,1193.86 \n",
       "  2998.72,1193.86 3004.1,1193.86 3009.48,1193.86 3014.87,1193.86 3020.25,1193.86 3025.63,1193.86 3031.01,1193.86 3036.4,1193.86 3041.78,1193.86 3047.16,1193.86 \n",
       "  3052.55,1193.86 3057.93,1193.86 3063.31,1193.86 3068.7,1193.86 3074.08,1193.86 3079.46,1193.86 3084.84,1193.86 3090.23,1193.86 3095.61,1193.86 3100.99,1193.86 \n",
       "  3106.38,1193.86 3111.76,1193.86 3117.14,1193.86 3122.53,1193.86 3127.91,1193.86 3133.29,1193.86 3138.67,1193.86 3144.06,1193.86 3149.44,1193.86 3154.82,1193.86 \n",
       "  3160.21,1193.86 3165.59,1193.86 3170.97,1193.86 3176.36,1193.86 3181.74,1193.86 3187.12,1193.86 3192.51,1193.86 3197.89,1193.86 3203.27,1193.86 3208.65,1193.86 \n",
       "  3214.04,1193.86 3219.42,1193.86 3224.8,1193.86 3230.19,1193.86 3235.57,1193.86 3240.95,1193.86 3246.34,1193.86 3251.72,1193.86 3257.1,1193.86 3262.48,1193.86 \n",
       "  3267.87,1193.86 3273.25,1193.86 3278.63,1193.86 3284.02,1193.86 3289.4,1193.86 3294.78,1193.86 3300.17,1193.86 3305.55,1193.86 3310.93,1193.86 3316.31,1193.86 \n",
       "  3321.7,1193.86 3327.08,1193.86 3332.46,1193.86 3337.85,1193.86 3343.23,1193.86 3348.61,1193.86 3354,1193.86 3359.38,1193.86 3364.76,1193.86 3370.14,1193.86 \n",
       "  3375.53,1193.86 3380.91,1193.86 3386.29,1193.86 3391.68,1193.86 3397.06,1193.86 3402.44,1193.86 3407.83,1193.86 3413.21,1193.86 3418.59,1193.86 3423.97,1193.86 \n",
       "  3429.36,1193.86 \n",
       "  \"/>\n",
       "</svg>\n"
      ],
      "image/svg+xml": [
       "<?xml version=\"1.0\" encoding=\"utf-8\"?>\n",
       "<svg xmlns=\"http://www.w3.org/2000/svg\" xmlns:xlink=\"http://www.w3.org/1999/xlink\" width=\"600\" height=\"400\" viewBox=\"0 0 2400 1600\">\n",
       "<defs>\n",
       "  <clipPath id=\"clip820\">\n",
       "    <rect x=\"0\" y=\"0\" width=\"2400\" height=\"1600\"/>\n",
       "  </clipPath>\n",
       "</defs>\n",
       "<path clip-path=\"url(#clip820)\" d=\"\n",
       "M0 1600 L2400 1600 L2400 0 L0 0  Z\n",
       "  \" fill=\"#ffffff\" fill-rule=\"evenodd\" fill-opacity=\"1\"/>\n",
       "<defs>\n",
       "  <clipPath id=\"clip821\">\n",
       "    <rect x=\"480\" y=\"0\" width=\"1681\" height=\"1600\"/>\n",
       "  </clipPath>\n",
       "</defs>\n",
       "<path clip-path=\"url(#clip820)\" d=\"\n",
       "M199.553 1423.18 L2352.76 1423.18 L2352.76 47.2441 L199.553 47.2441  Z\n",
       "  \" fill=\"#ffffff\" fill-rule=\"evenodd\" fill-opacity=\"1\"/>\n",
       "<defs>\n",
       "  <clipPath id=\"clip822\">\n",
       "    <rect x=\"199\" y=\"47\" width=\"2154\" height=\"1377\"/>\n",
       "  </clipPath>\n",
       "</defs>\n",
       "<polyline clip-path=\"url(#clip822)\" style=\"stroke:#000000; stroke-width:2; stroke-opacity:0.1; fill:none\" points=\"\n",
       "  199.553,1423.18 199.553,47.2441 \n",
       "  \"/>\n",
       "<polyline clip-path=\"url(#clip822)\" style=\"stroke:#000000; stroke-width:2; stroke-opacity:0.1; fill:none\" points=\"\n",
       "  737.854,1423.18 737.854,47.2441 \n",
       "  \"/>\n",
       "<polyline clip-path=\"url(#clip822)\" style=\"stroke:#000000; stroke-width:2; stroke-opacity:0.1; fill:none\" points=\"\n",
       "  1276.15,1423.18 1276.15,47.2441 \n",
       "  \"/>\n",
       "<polyline clip-path=\"url(#clip822)\" style=\"stroke:#000000; stroke-width:2; stroke-opacity:0.1; fill:none\" points=\"\n",
       "  1814.46,1423.18 1814.46,47.2441 \n",
       "  \"/>\n",
       "<polyline clip-path=\"url(#clip822)\" style=\"stroke:#000000; stroke-width:2; stroke-opacity:0.1; fill:none\" points=\"\n",
       "  2352.76,1423.18 2352.76,47.2441 \n",
       "  \"/>\n",
       "<polyline clip-path=\"url(#clip820)\" style=\"stroke:#000000; stroke-width:4; stroke-opacity:1; fill:none\" points=\"\n",
       "  199.553,1423.18 2352.76,1423.18 \n",
       "  \"/>\n",
       "<polyline clip-path=\"url(#clip820)\" style=\"stroke:#000000; stroke-width:4; stroke-opacity:1; fill:none\" points=\"\n",
       "  199.553,1423.18 199.553,1406.67 \n",
       "  \"/>\n",
       "<polyline clip-path=\"url(#clip820)\" style=\"stroke:#000000; stroke-width:4; stroke-opacity:1; fill:none\" points=\"\n",
       "  737.854,1423.18 737.854,1406.67 \n",
       "  \"/>\n",
       "<polyline clip-path=\"url(#clip820)\" style=\"stroke:#000000; stroke-width:4; stroke-opacity:1; fill:none\" points=\"\n",
       "  1276.15,1423.18 1276.15,1406.67 \n",
       "  \"/>\n",
       "<polyline clip-path=\"url(#clip820)\" style=\"stroke:#000000; stroke-width:4; stroke-opacity:1; fill:none\" points=\"\n",
       "  1814.46,1423.18 1814.46,1406.67 \n",
       "  \"/>\n",
       "<polyline clip-path=\"url(#clip820)\" style=\"stroke:#000000; stroke-width:4; stroke-opacity:1; fill:none\" points=\"\n",
       "  2352.76,1423.18 2352.76,1406.67 \n",
       "  \"/>\n",
       "<path clip-path=\"url(#clip820)\" d=\"M 0 0 M199.553 1452.37 Q195.942 1452.37 194.113 1455.94 Q192.308 1459.48 192.308 1466.61 Q192.308 1473.71 194.113 1477.28 Q195.942 1480.82 199.553 1480.82 Q203.187 1480.82 204.993 1477.28 Q206.822 1473.71 206.822 1466.61 Q206.822 1459.48 204.993 1455.94 Q203.187 1452.37 199.553 1452.37 M199.553 1448.67 Q205.363 1448.67 208.419 1453.27 Q211.497 1457.86 211.497 1466.61 Q211.497 1475.33 208.419 1479.94 Q205.363 1484.52 199.553 1484.52 Q193.743 1484.52 190.664 1479.94 Q187.609 1475.33 187.609 1466.61 Q187.609 1457.86 190.664 1453.27 Q193.743 1448.67 199.553 1448.67 Z\" fill=\"#000000\" fill-rule=\"evenodd\" fill-opacity=\"1\" /><path clip-path=\"url(#clip820)\" d=\"M 0 0 M728.236 1479.92 L735.875 1479.92 L735.875 1453.55 L727.564 1455.22 L727.564 1450.96 L735.828 1449.29 L740.504 1449.29 L740.504 1479.92 L748.143 1479.92 L748.143 1483.85 L728.236 1483.85 L728.236 1479.92 Z\" fill=\"#000000\" fill-rule=\"evenodd\" fill-opacity=\"1\" /><path clip-path=\"url(#clip820)\" d=\"M 0 0 M1270.81 1479.92 L1287.13 1479.92 L1287.13 1483.85 L1265.18 1483.85 L1265.18 1479.92 Q1267.84 1477.16 1272.43 1472.53 Q1277.03 1467.88 1278.21 1466.54 Q1280.46 1464.01 1281.34 1462.28 Q1282.24 1460.52 1282.24 1458.83 Q1282.24 1456.07 1280.3 1454.34 Q1278.38 1452.6 1275.27 1452.6 Q1273.08 1452.6 1270.62 1453.37 Q1268.19 1454.13 1265.41 1455.68 L1265.41 1450.96 Q1268.24 1449.82 1270.69 1449.25 Q1273.15 1448.67 1275.18 1448.67 Q1280.55 1448.67 1283.75 1451.35 Q1286.94 1454.04 1286.94 1458.53 Q1286.94 1460.66 1286.13 1462.58 Q1285.34 1464.48 1283.24 1467.07 Q1282.66 1467.74 1279.56 1470.96 Q1276.46 1474.15 1270.81 1479.92 Z\" fill=\"#000000\" fill-rule=\"evenodd\" fill-opacity=\"1\" /><path clip-path=\"url(#clip820)\" d=\"M 0 0 M1818.7 1465.22 Q1822.06 1465.94 1823.93 1468.2 Q1825.83 1470.47 1825.83 1473.81 Q1825.83 1478.92 1822.31 1481.72 Q1818.8 1484.52 1812.31 1484.52 Q1810.14 1484.52 1807.82 1484.08 Q1805.53 1483.67 1803.08 1482.81 L1803.08 1478.3 Q1805.02 1479.43 1807.34 1480.01 Q1809.65 1480.59 1812.18 1480.59 Q1816.57 1480.59 1818.86 1478.85 Q1821.18 1477.12 1821.18 1473.81 Q1821.18 1470.75 1819.03 1469.04 Q1816.9 1467.3 1813.08 1467.3 L1809.05 1467.3 L1809.05 1463.46 L1813.26 1463.46 Q1816.71 1463.46 1818.54 1462.09 Q1820.37 1460.7 1820.37 1458.11 Q1820.37 1455.45 1818.47 1454.04 Q1816.6 1452.6 1813.08 1452.6 Q1811.16 1452.6 1808.96 1453.02 Q1806.76 1453.44 1804.12 1454.31 L1804.12 1450.15 Q1806.78 1449.41 1809.1 1449.04 Q1811.43 1448.67 1813.49 1448.67 Q1818.82 1448.67 1821.92 1451.1 Q1825.02 1453.5 1825.02 1457.63 Q1825.02 1460.5 1823.38 1462.49 Q1821.74 1464.45 1818.7 1465.22 Z\" fill=\"#000000\" fill-rule=\"evenodd\" fill-opacity=\"1\" /><path clip-path=\"url(#clip820)\" d=\"M 0 0 M2355.77 1453.37 L2343.96 1471.81 L2355.77 1471.81 L2355.77 1453.37 M2354.54 1449.29 L2360.42 1449.29 L2360.42 1471.81 L2365.35 1471.81 L2365.35 1475.7 L2360.42 1475.7 L2360.42 1483.85 L2355.77 1483.85 L2355.77 1475.7 L2340.16 1475.7 L2340.16 1471.19 L2354.54 1449.29 Z\" fill=\"#000000\" fill-rule=\"evenodd\" fill-opacity=\"1\" /><path clip-path=\"url(#clip820)\" d=\"M 0 0 M1078.07 1520.52 L1087.65 1520.52 L1099.78 1552.86 L1111.97 1520.52 L1121.55 1520.52 L1121.55 1568.04 L1115.28 1568.04 L1115.28 1526.32 L1103.02 1558.91 L1096.56 1558.91 L1084.31 1526.32 L1084.31 1568.04 L1078.07 1568.04 L1078.07 1520.52 Z\" fill=\"#000000\" fill-rule=\"evenodd\" fill-opacity=\"1\" /><path clip-path=\"url(#clip820)\" d=\"M 0 0 M1143.89 1550.12 Q1136.79 1550.12 1134.06 1551.75 Q1131.32 1553.37 1131.32 1557.29 Q1131.32 1560.4 1133.36 1562.25 Q1135.42 1564.07 1138.96 1564.07 Q1143.83 1564.07 1146.76 1560.63 Q1149.72 1557.16 1149.72 1551.43 L1149.72 1550.12 L1143.89 1550.12 M1155.57 1547.71 L1155.57 1568.04 L1149.72 1568.04 L1149.72 1562.63 Q1147.71 1565.88 1144.72 1567.44 Q1141.73 1568.97 1137.4 1568.97 Q1131.92 1568.97 1128.68 1565.91 Q1125.46 1562.82 1125.46 1557.67 Q1125.46 1551.65 1129.47 1548.6 Q1133.51 1545.54 1141.5 1545.54 L1149.72 1545.54 L1149.72 1544.97 Q1149.72 1540.93 1147.04 1538.73 Q1144.4 1536.5 1139.59 1536.5 Q1136.54 1536.5 1133.64 1537.23 Q1130.75 1537.97 1128.07 1539.43 L1128.07 1534.02 Q1131.29 1532.78 1134.31 1532.17 Q1137.33 1531.54 1140.2 1531.54 Q1147.93 1531.54 1151.75 1535.55 Q1155.57 1539.56 1155.57 1547.71 Z\" fill=\"#000000\" fill-rule=\"evenodd\" fill-opacity=\"1\" /><path clip-path=\"url(#clip820)\" d=\"M 0 0 M1187.37 1533.76 L1187.37 1539.24 Q1184.89 1537.87 1182.37 1537.2 Q1179.89 1536.5 1177.34 1536.5 Q1171.65 1536.5 1168.49 1540.13 Q1165.34 1543.73 1165.34 1550.25 Q1165.34 1556.78 1168.49 1560.4 Q1171.65 1564 1177.34 1564 Q1179.89 1564 1182.37 1563.33 Q1184.89 1562.63 1187.37 1561.26 L1187.37 1566.68 Q1184.92 1567.82 1182.28 1568.39 Q1179.67 1568.97 1176.71 1568.97 Q1168.65 1568.97 1163.91 1563.91 Q1159.17 1558.85 1159.17 1550.25 Q1159.17 1541.53 1163.94 1536.53 Q1168.75 1531.54 1177.09 1531.54 Q1179.79 1531.54 1182.37 1532.11 Q1184.95 1532.65 1187.37 1533.76 Z\" fill=\"#000000\" fill-rule=\"evenodd\" fill-opacity=\"1\" /><path clip-path=\"url(#clip820)\" d=\"M 0 0 M1223.14 1546.53 L1223.14 1568.04 L1217.29 1568.04 L1217.29 1546.72 Q1217.29 1541.66 1215.31 1539.14 Q1213.34 1536.63 1209.39 1536.63 Q1204.65 1536.63 1201.91 1539.65 Q1199.18 1542.68 1199.18 1547.9 L1199.18 1568.04 L1193.29 1568.04 L1193.29 1518.52 L1199.18 1518.52 L1199.18 1537.93 Q1201.28 1534.72 1204.11 1533.13 Q1206.98 1531.54 1210.7 1531.54 Q1216.84 1531.54 1219.99 1535.36 Q1223.14 1539.14 1223.14 1546.53 Z\" fill=\"#000000\" fill-rule=\"evenodd\" fill-opacity=\"1\" /><path clip-path=\"url(#clip820)\" d=\"M 0 0 M1279.64 1546.53 L1279.64 1568.04 L1273.78 1568.04 L1273.78 1546.72 Q1273.78 1541.66 1271.81 1539.14 Q1269.84 1536.63 1265.89 1536.63 Q1261.15 1536.63 1258.41 1539.65 Q1255.67 1542.68 1255.67 1547.9 L1255.67 1568.04 L1249.78 1568.04 L1249.78 1532.4 L1255.67 1532.4 L1255.67 1537.93 Q1257.77 1534.72 1260.61 1533.13 Q1263.47 1531.54 1267.19 1531.54 Q1273.34 1531.54 1276.49 1535.36 Q1279.64 1539.14 1279.64 1546.53 Z\" fill=\"#000000\" fill-rule=\"evenodd\" fill-opacity=\"1\" /><path clip-path=\"url(#clip820)\" d=\"M 0 0 M1285.18 1553.98 L1285.18 1532.4 L1291.03 1532.4 L1291.03 1553.75 Q1291.03 1558.81 1293.01 1561.36 Q1294.98 1563.87 1298.93 1563.87 Q1303.67 1563.87 1306.41 1560.85 Q1309.18 1557.83 1309.18 1552.61 L1309.18 1532.4 L1315.03 1532.4 L1315.03 1568.04 L1309.18 1568.04 L1309.18 1562.57 Q1307.04 1565.82 1304.21 1567.41 Q1301.41 1568.97 1297.69 1568.97 Q1291.54 1568.97 1288.36 1565.15 Q1285.18 1561.33 1285.18 1553.98 M1299.91 1531.54 L1299.91 1531.54 Z\" fill=\"#000000\" fill-rule=\"evenodd\" fill-opacity=\"1\" /><path clip-path=\"url(#clip820)\" d=\"M 0 0 M1348.93 1539.24 Q1351.13 1535.29 1354.18 1533.41 Q1357.24 1531.54 1361.38 1531.54 Q1366.95 1531.54 1369.97 1535.45 Q1372.99 1539.33 1372.99 1546.53 L1372.99 1568.04 L1367.1 1568.04 L1367.1 1546.72 Q1367.1 1541.59 1365.29 1539.11 Q1363.48 1536.63 1359.75 1536.63 Q1355.2 1536.63 1352.56 1539.65 Q1349.92 1542.68 1349.92 1547.9 L1349.92 1568.04 L1344.03 1568.04 L1344.03 1546.72 Q1344.03 1541.56 1342.21 1539.11 Q1340.4 1536.63 1336.61 1536.63 Q1332.12 1536.63 1329.48 1539.68 Q1326.84 1542.71 1326.84 1547.9 L1326.84 1568.04 L1320.95 1568.04 L1320.95 1532.4 L1326.84 1532.4 L1326.84 1537.93 Q1328.85 1534.66 1331.65 1533.1 Q1334.45 1531.54 1338.3 1531.54 Q1342.18 1531.54 1344.89 1533.51 Q1347.63 1535.48 1348.93 1539.24 Z\" fill=\"#000000\" fill-rule=\"evenodd\" fill-opacity=\"1\" /><path clip-path=\"url(#clip820)\" d=\"M 0 0 M1404.73 1550.25 Q1404.73 1543.79 1402.05 1540.13 Q1399.41 1536.44 1394.76 1536.44 Q1390.12 1536.44 1387.44 1540.13 Q1384.8 1543.79 1384.8 1550.25 Q1384.8 1556.71 1387.44 1560.4 Q1390.12 1564.07 1394.76 1564.07 Q1399.41 1564.07 1402.05 1560.4 Q1404.73 1556.71 1404.73 1550.25 M1384.8 1537.81 Q1386.65 1534.62 1389.45 1533.1 Q1392.28 1531.54 1396.2 1531.54 Q1402.69 1531.54 1406.73 1536.69 Q1410.81 1541.85 1410.81 1550.25 Q1410.81 1558.65 1406.73 1563.81 Q1402.69 1568.97 1396.2 1568.97 Q1392.28 1568.97 1389.45 1567.44 Q1386.65 1565.88 1384.8 1562.7 L1384.8 1568.04 L1378.91 1568.04 L1378.91 1518.52 L1384.8 1518.52 L1384.8 1537.81 Z\" fill=\"#000000\" fill-rule=\"evenodd\" fill-opacity=\"1\" /><path clip-path=\"url(#clip820)\" d=\"M 0 0 M1447.44 1548.76 L1447.44 1551.62 L1420.51 1551.62 Q1420.89 1557.67 1424.14 1560.85 Q1427.42 1564 1433.24 1564 Q1436.62 1564 1439.77 1563.17 Q1442.95 1562.35 1446.07 1560.69 L1446.07 1566.23 Q1442.92 1567.57 1439.61 1568.27 Q1436.3 1568.97 1432.89 1568.97 Q1424.36 1568.97 1419.37 1564 Q1414.4 1559.04 1414.4 1550.57 Q1414.4 1541.82 1419.11 1536.69 Q1423.85 1531.54 1431.88 1531.54 Q1439.07 1531.54 1443.24 1536.18 Q1447.44 1540.8 1447.44 1548.76 M1441.58 1547.04 Q1441.52 1542.23 1438.88 1539.37 Q1436.27 1536.5 1431.94 1536.5 Q1427.04 1536.5 1424.08 1539.27 Q1421.15 1542.04 1420.7 1547.07 L1441.58 1547.04 Z\" fill=\"#000000\" fill-rule=\"evenodd\" fill-opacity=\"1\" /><path clip-path=\"url(#clip820)\" d=\"M 0 0 M1474.24 1537.87 Q1473.25 1537.3 1472.08 1537.04 Q1470.93 1536.76 1469.53 1536.76 Q1464.56 1536.76 1461.89 1540 Q1459.25 1543.22 1459.25 1549.27 L1459.25 1568.04 L1453.36 1568.04 L1453.36 1532.4 L1459.25 1532.4 L1459.25 1537.93 Q1461.09 1534.69 1464.05 1533.13 Q1467.01 1531.54 1471.25 1531.54 Q1471.85 1531.54 1472.58 1531.63 Q1473.32 1531.7 1474.21 1531.85 L1474.24 1537.87 Z\" fill=\"#000000\" fill-rule=\"evenodd\" fill-opacity=\"1\" /><polyline clip-path=\"url(#clip822)\" style=\"stroke:#000000; stroke-width:2; stroke-opacity:0.1; fill:none\" points=\"\n",
       "  199.553,1423.18 2352.76,1423.18 \n",
       "  \"/>\n",
       "<polyline clip-path=\"url(#clip822)\" style=\"stroke:#000000; stroke-width:2; stroke-opacity:0.1; fill:none\" points=\"\n",
       "  199.553,1308.52 2352.76,1308.52 \n",
       "  \"/>\n",
       "<polyline clip-path=\"url(#clip822)\" style=\"stroke:#000000; stroke-width:2; stroke-opacity:0.1; fill:none\" points=\"\n",
       "  199.553,1193.86 2352.76,1193.86 \n",
       "  \"/>\n",
       "<polyline clip-path=\"url(#clip822)\" style=\"stroke:#000000; stroke-width:2; stroke-opacity:0.1; fill:none\" points=\"\n",
       "  199.553,1079.2 2352.76,1079.2 \n",
       "  \"/>\n",
       "<polyline clip-path=\"url(#clip822)\" style=\"stroke:#000000; stroke-width:2; stroke-opacity:0.1; fill:none\" points=\"\n",
       "  199.553,964.535 2352.76,964.535 \n",
       "  \"/>\n",
       "<polyline clip-path=\"url(#clip822)\" style=\"stroke:#000000; stroke-width:2; stroke-opacity:0.1; fill:none\" points=\"\n",
       "  199.553,849.873 2352.76,849.873 \n",
       "  \"/>\n",
       "<polyline clip-path=\"url(#clip822)\" style=\"stroke:#000000; stroke-width:2; stroke-opacity:0.1; fill:none\" points=\"\n",
       "  199.553,735.212 2352.76,735.212 \n",
       "  \"/>\n",
       "<polyline clip-path=\"url(#clip822)\" style=\"stroke:#000000; stroke-width:2; stroke-opacity:0.1; fill:none\" points=\"\n",
       "  199.553,620.551 2352.76,620.551 \n",
       "  \"/>\n",
       "<polyline clip-path=\"url(#clip822)\" style=\"stroke:#000000; stroke-width:2; stroke-opacity:0.1; fill:none\" points=\"\n",
       "  199.553,505.889 2352.76,505.889 \n",
       "  \"/>\n",
       "<polyline clip-path=\"url(#clip822)\" style=\"stroke:#000000; stroke-width:2; stroke-opacity:0.1; fill:none\" points=\"\n",
       "  199.553,391.228 2352.76,391.228 \n",
       "  \"/>\n",
       "<polyline clip-path=\"url(#clip822)\" style=\"stroke:#000000; stroke-width:2; stroke-opacity:0.1; fill:none\" points=\"\n",
       "  199.553,276.567 2352.76,276.567 \n",
       "  \"/>\n",
       "<polyline clip-path=\"url(#clip822)\" style=\"stroke:#000000; stroke-width:2; stroke-opacity:0.1; fill:none\" points=\"\n",
       "  199.553,161.905 2352.76,161.905 \n",
       "  \"/>\n",
       "<polyline clip-path=\"url(#clip822)\" style=\"stroke:#000000; stroke-width:2; stroke-opacity:0.1; fill:none\" points=\"\n",
       "  199.553,47.2441 2352.76,47.2441 \n",
       "  \"/>\n",
       "<polyline clip-path=\"url(#clip820)\" style=\"stroke:#000000; stroke-width:4; stroke-opacity:1; fill:none\" points=\"\n",
       "  199.553,1423.18 199.553,47.2441 \n",
       "  \"/>\n",
       "<polyline clip-path=\"url(#clip820)\" style=\"stroke:#000000; stroke-width:4; stroke-opacity:1; fill:none\" points=\"\n",
       "  199.553,1423.18 225.392,1423.18 \n",
       "  \"/>\n",
       "<polyline clip-path=\"url(#clip820)\" style=\"stroke:#000000; stroke-width:4; stroke-opacity:1; fill:none\" points=\"\n",
       "  199.553,1308.52 225.392,1308.52 \n",
       "  \"/>\n",
       "<polyline clip-path=\"url(#clip820)\" style=\"stroke:#000000; stroke-width:4; stroke-opacity:1; fill:none\" points=\"\n",
       "  199.553,1193.86 225.392,1193.86 \n",
       "  \"/>\n",
       "<polyline clip-path=\"url(#clip820)\" style=\"stroke:#000000; stroke-width:4; stroke-opacity:1; fill:none\" points=\"\n",
       "  199.553,1079.2 225.392,1079.2 \n",
       "  \"/>\n",
       "<polyline clip-path=\"url(#clip820)\" style=\"stroke:#000000; stroke-width:4; stroke-opacity:1; fill:none\" points=\"\n",
       "  199.553,964.535 225.392,964.535 \n",
       "  \"/>\n",
       "<polyline clip-path=\"url(#clip820)\" style=\"stroke:#000000; stroke-width:4; stroke-opacity:1; fill:none\" points=\"\n",
       "  199.553,849.873 225.392,849.873 \n",
       "  \"/>\n",
       "<polyline clip-path=\"url(#clip820)\" style=\"stroke:#000000; stroke-width:4; stroke-opacity:1; fill:none\" points=\"\n",
       "  199.553,735.212 225.392,735.212 \n",
       "  \"/>\n",
       "<polyline clip-path=\"url(#clip820)\" style=\"stroke:#000000; stroke-width:4; stroke-opacity:1; fill:none\" points=\"\n",
       "  199.553,620.551 225.392,620.551 \n",
       "  \"/>\n",
       "<polyline clip-path=\"url(#clip820)\" style=\"stroke:#000000; stroke-width:4; stroke-opacity:1; fill:none\" points=\"\n",
       "  199.553,505.889 225.392,505.889 \n",
       "  \"/>\n",
       "<polyline clip-path=\"url(#clip820)\" style=\"stroke:#000000; stroke-width:4; stroke-opacity:1; fill:none\" points=\"\n",
       "  199.553,391.228 225.392,391.228 \n",
       "  \"/>\n",
       "<polyline clip-path=\"url(#clip820)\" style=\"stroke:#000000; stroke-width:4; stroke-opacity:1; fill:none\" points=\"\n",
       "  199.553,276.567 225.392,276.567 \n",
       "  \"/>\n",
       "<polyline clip-path=\"url(#clip820)\" style=\"stroke:#000000; stroke-width:4; stroke-opacity:1; fill:none\" points=\"\n",
       "  199.553,161.905 225.392,161.905 \n",
       "  \"/>\n",
       "<polyline clip-path=\"url(#clip820)\" style=\"stroke:#000000; stroke-width:4; stroke-opacity:1; fill:none\" points=\"\n",
       "  199.553,47.2441 225.392,47.2441 \n",
       "  \"/>\n",
       "<path clip-path=\"url(#clip820)\" d=\"M 0 0 M151.609 1408.98 Q147.998 1408.98 146.169 1412.54 Q144.363 1416.08 144.363 1423.21 Q144.363 1430.32 146.169 1433.89 Q147.998 1437.43 151.609 1437.43 Q155.243 1437.43 157.048 1433.89 Q158.877 1430.32 158.877 1423.21 Q158.877 1416.08 157.048 1412.54 Q155.243 1408.98 151.609 1408.98 M151.609 1405.27 Q157.419 1405.27 160.474 1409.88 Q163.553 1414.46 163.553 1423.21 Q163.553 1431.94 160.474 1436.55 Q157.419 1441.13 151.609 1441.13 Q145.799 1441.13 142.72 1436.55 Q139.664 1431.94 139.664 1423.21 Q139.664 1414.46 142.72 1409.88 Q145.799 1405.27 151.609 1405.27 Z\" fill=\"#000000\" fill-rule=\"evenodd\" fill-opacity=\"1\" /><path clip-path=\"url(#clip820)\" d=\"M 0 0 M143.646 1321.86 L151.285 1321.86 L151.285 1295.5 L142.974 1297.16 L142.974 1292.91 L151.238 1291.24 L155.914 1291.24 L155.914 1321.86 L163.553 1321.86 L163.553 1325.8 L143.646 1325.8 L143.646 1321.86 Z\" fill=\"#000000\" fill-rule=\"evenodd\" fill-opacity=\"1\" /><path clip-path=\"url(#clip820)\" d=\"M 0 0 M147.234 1207.2 L163.553 1207.2 L163.553 1211.14 L141.609 1211.14 L141.609 1207.2 Q144.271 1204.45 148.854 1199.82 Q153.461 1195.17 154.641 1193.82 Q156.886 1191.3 157.766 1189.56 Q158.669 1187.8 158.669 1186.11 Q158.669 1183.36 156.724 1181.62 Q154.803 1179.89 151.701 1179.89 Q149.502 1179.89 147.049 1180.65 Q144.618 1181.42 141.84 1182.97 L141.84 1178.24 Q144.664 1177.11 147.118 1176.53 Q149.572 1175.95 151.609 1175.95 Q156.979 1175.95 160.173 1178.64 Q163.368 1181.32 163.368 1185.81 Q163.368 1187.94 162.558 1189.86 Q161.771 1191.76 159.664 1194.35 Q159.086 1195.03 155.984 1198.24 Q152.882 1201.44 147.234 1207.2 Z\" fill=\"#000000\" fill-rule=\"evenodd\" fill-opacity=\"1\" /><path clip-path=\"url(#clip820)\" d=\"M 0 0 M156.423 1077.84 Q159.78 1078.56 161.655 1080.83 Q163.553 1083.1 163.553 1086.43 Q163.553 1091.55 160.035 1094.35 Q156.516 1097.15 150.035 1097.15 Q147.859 1097.15 145.544 1096.71 Q143.252 1096.29 140.799 1095.43 L140.799 1090.92 Q142.743 1092.05 145.058 1092.63 Q147.373 1093.21 149.896 1093.21 Q154.294 1093.21 156.586 1091.48 Q158.9 1089.74 158.9 1086.43 Q158.9 1083.37 156.748 1081.66 Q154.618 1079.93 150.799 1079.93 L146.771 1079.93 L146.771 1076.08 L150.984 1076.08 Q154.433 1076.08 156.261 1074.72 Q158.09 1073.33 158.09 1070.74 Q158.09 1068.07 156.192 1066.66 Q154.317 1065.23 150.799 1065.23 Q148.877 1065.23 146.678 1065.64 Q144.479 1066.06 141.84 1066.94 L141.84 1062.77 Q144.502 1062.03 146.817 1061.66 Q149.155 1061.29 151.215 1061.29 Q156.539 1061.29 159.641 1063.72 Q162.743 1066.13 162.743 1070.25 Q162.743 1073.12 161.099 1075.11 Q159.456 1077.08 156.423 1077.84 Z\" fill=\"#000000\" fill-rule=\"evenodd\" fill-opacity=\"1\" /><path clip-path=\"url(#clip820)\" d=\"M 0 0 M153.97 951.329 L142.164 969.778 L153.97 969.778 L153.97 951.329 M152.743 947.255 L158.623 947.255 L158.623 969.778 L163.553 969.778 L163.553 973.666 L158.623 973.666 L158.623 981.815 L153.97 981.815 L153.97 973.666 L138.368 973.666 L138.368 969.153 L152.743 947.255 Z\" fill=\"#000000\" fill-rule=\"evenodd\" fill-opacity=\"1\" /><path clip-path=\"url(#clip820)\" d=\"M 0 0 M142.65 832.593 L161.007 832.593 L161.007 836.528 L146.933 836.528 L146.933 845.001 Q147.951 844.653 148.97 844.491 Q149.988 844.306 151.007 844.306 Q156.794 844.306 160.173 847.477 Q163.553 850.649 163.553 856.065 Q163.553 861.644 160.081 864.746 Q156.609 867.825 150.289 867.825 Q148.113 867.825 145.845 867.454 Q143.599 867.084 141.192 866.343 L141.192 861.644 Q143.275 862.778 145.498 863.334 Q147.72 863.889 150.197 863.889 Q154.201 863.889 156.539 861.783 Q158.877 859.676 158.877 856.065 Q158.877 852.454 156.539 850.348 Q154.201 848.241 150.197 848.241 Q148.322 848.241 146.447 848.658 Q144.595 849.075 142.65 849.954 L142.65 832.593 Z\" fill=\"#000000\" fill-rule=\"evenodd\" fill-opacity=\"1\" /><path clip-path=\"url(#clip820)\" d=\"M 0 0 M152.025 733.349 Q148.877 733.349 147.025 735.501 Q145.197 737.654 145.197 741.404 Q145.197 745.131 147.025 747.307 Q148.877 749.46 152.025 749.46 Q155.173 749.46 157.002 747.307 Q158.854 745.131 158.854 741.404 Q158.854 737.654 157.002 735.501 Q155.173 733.349 152.025 733.349 M161.308 718.696 L161.308 722.955 Q159.548 722.122 157.743 721.682 Q155.961 721.242 154.201 721.242 Q149.572 721.242 147.118 724.367 Q144.687 727.492 144.34 733.812 Q145.706 731.798 147.766 730.733 Q149.826 729.645 152.303 729.645 Q157.511 729.645 160.521 732.816 Q163.553 735.964 163.553 741.404 Q163.553 746.728 160.405 749.946 Q157.257 753.163 152.025 753.163 Q146.03 753.163 142.859 748.58 Q139.687 743.973 139.687 735.247 Q139.687 727.052 143.576 722.191 Q147.465 717.307 154.016 717.307 Q155.775 717.307 157.558 717.654 Q159.363 718.001 161.308 718.696 Z\" fill=\"#000000\" fill-rule=\"evenodd\" fill-opacity=\"1\" /><path clip-path=\"url(#clip820)\" d=\"M 0 0 M141.331 603.271 L163.553 603.271 L163.553 605.261 L151.007 637.831 L146.123 637.831 L157.928 607.206 L141.331 607.206 L141.331 603.271 Z\" fill=\"#000000\" fill-rule=\"evenodd\" fill-opacity=\"1\" /><path clip-path=\"url(#clip820)\" d=\"M 0 0 M151.701 506.757 Q148.368 506.757 146.447 508.54 Q144.549 510.322 144.549 513.447 Q144.549 516.572 146.447 518.355 Q148.368 520.137 151.701 520.137 Q155.035 520.137 156.956 518.355 Q158.877 516.549 158.877 513.447 Q158.877 510.322 156.956 508.54 Q155.058 506.757 151.701 506.757 M147.025 504.767 Q144.016 504.026 142.326 501.966 Q140.66 499.906 140.66 496.943 Q140.66 492.799 143.599 490.392 Q146.562 487.984 151.701 487.984 Q156.863 487.984 159.803 490.392 Q162.743 492.799 162.743 496.943 Q162.743 499.906 161.053 501.966 Q159.386 504.026 156.4 504.767 Q159.78 505.554 161.655 507.845 Q163.553 510.137 163.553 513.447 Q163.553 518.47 160.474 521.155 Q157.419 523.841 151.701 523.841 Q145.984 523.841 142.905 521.155 Q139.85 518.47 139.85 513.447 Q139.85 510.137 141.748 507.845 Q143.646 505.554 147.025 504.767 M145.312 497.382 Q145.312 500.068 146.979 501.572 Q148.669 503.077 151.701 503.077 Q154.711 503.077 156.4 501.572 Q158.113 500.068 158.113 497.382 Q158.113 494.697 156.4 493.193 Q154.711 491.688 151.701 491.688 Q148.669 491.688 146.979 493.193 Q145.312 494.697 145.312 497.382 Z\" fill=\"#000000\" fill-rule=\"evenodd\" fill-opacity=\"1\" /><path clip-path=\"url(#clip820)\" d=\"M 0 0 M141.933 407.79 L141.933 403.531 Q143.692 404.365 145.498 404.804 Q147.303 405.244 149.039 405.244 Q153.669 405.244 156.099 402.142 Q158.553 399.017 158.9 392.675 Q157.558 394.666 155.498 395.73 Q153.437 396.795 150.937 396.795 Q145.752 396.795 142.72 393.67 Q139.711 390.522 139.711 385.082 Q139.711 379.758 142.859 376.541 Q146.007 373.323 151.238 373.323 Q157.234 373.323 160.382 377.929 Q163.553 382.513 163.553 391.263 Q163.553 399.434 159.664 404.318 Q155.798 409.179 149.248 409.179 Q147.488 409.179 145.683 408.832 Q143.877 408.485 141.933 407.79 M151.238 393.138 Q154.386 393.138 156.215 390.985 Q158.067 388.832 158.067 385.082 Q158.067 381.355 156.215 379.203 Q154.386 377.027 151.238 377.027 Q148.09 377.027 146.238 379.203 Q144.41 381.355 144.41 385.082 Q144.41 388.832 146.238 390.985 Q148.09 393.138 151.238 393.138 Z\" fill=\"#000000\" fill-rule=\"evenodd\" fill-opacity=\"1\" /><path clip-path=\"url(#clip820)\" d=\"M 0 0 M116.632 289.912 L124.271 289.912 L124.271 263.546 L115.961 265.213 L115.961 260.953 L124.225 259.287 L128.9 259.287 L128.9 289.912 L136.539 289.912 L136.539 293.847 L116.632 293.847 L116.632 289.912 Z\" fill=\"#000000\" fill-rule=\"evenodd\" fill-opacity=\"1\" /><path clip-path=\"url(#clip820)\" d=\"M 0 0 M151.609 262.365 Q147.998 262.365 146.169 265.93 Q144.363 269.472 144.363 276.601 Q144.363 283.708 146.169 287.273 Q147.998 290.814 151.609 290.814 Q155.243 290.814 157.048 287.273 Q158.877 283.708 158.877 276.601 Q158.877 269.472 157.048 265.93 Q155.243 262.365 151.609 262.365 M151.609 258.662 Q157.419 258.662 160.474 263.268 Q163.553 267.851 163.553 276.601 Q163.553 285.328 160.474 289.935 Q157.419 294.518 151.609 294.518 Q145.799 294.518 142.72 289.935 Q139.664 285.328 139.664 276.601 Q139.664 267.851 142.72 263.268 Q145.799 258.662 151.609 258.662 Z\" fill=\"#000000\" fill-rule=\"evenodd\" fill-opacity=\"1\" /><path clip-path=\"url(#clip820)\" d=\"M 0 0 M117.859 175.25 L125.498 175.25 L125.498 148.885 L117.188 150.551 L117.188 146.292 L125.451 144.625 L130.127 144.625 L130.127 175.25 L137.766 175.25 L137.766 179.185 L117.859 179.185 L117.859 175.25 Z\" fill=\"#000000\" fill-rule=\"evenodd\" fill-opacity=\"1\" /><path clip-path=\"url(#clip820)\" d=\"M 0 0 M143.646 175.25 L151.285 175.25 L151.285 148.885 L142.974 150.551 L142.974 146.292 L151.238 144.625 L155.914 144.625 L155.914 175.25 L163.553 175.25 L163.553 179.185 L143.646 179.185 L143.646 175.25 Z\" fill=\"#000000\" fill-rule=\"evenodd\" fill-opacity=\"1\" /><path clip-path=\"url(#clip820)\" d=\"M 0 0 M118.229 60.5889 L125.868 60.5889 L125.868 34.2233 L117.558 35.89 L117.558 31.6308 L125.822 29.9641 L130.498 29.9641 L130.498 60.5889 L138.137 60.5889 L138.137 64.5241 L118.229 64.5241 L118.229 60.5889 Z\" fill=\"#000000\" fill-rule=\"evenodd\" fill-opacity=\"1\" /><path clip-path=\"url(#clip820)\" d=\"M 0 0 M147.234 60.5889 L163.553 60.5889 L163.553 64.5241 L141.609 64.5241 L141.609 60.5889 Q144.271 57.8343 148.854 53.2047 Q153.461 48.552 154.641 47.2094 Q156.886 44.6862 157.766 42.9501 Q158.669 41.1909 158.669 39.5011 Q158.669 36.7465 156.724 35.0104 Q154.803 33.2743 151.701 33.2743 Q149.502 33.2743 147.049 34.0381 Q144.618 34.802 141.84 36.3529 L141.84 31.6308 Q144.664 30.4965 147.118 29.9178 Q149.572 29.3391 151.609 29.3391 Q156.979 29.3391 160.173 32.0243 Q163.368 34.7094 163.368 39.2002 Q163.368 41.3298 162.558 43.2511 Q161.771 45.1492 159.664 47.7418 Q159.086 48.4131 155.984 51.6306 Q152.882 54.8251 147.234 60.5889 Z\" fill=\"#000000\" fill-rule=\"evenodd\" fill-opacity=\"1\" /><path clip-path=\"url(#clip820)\" d=\"M 0 0 M60.8175 784.546 Q61.4294 784.546 61.7515 784.804 Q62.0413 785.029 62.1057 785.255 Q62.138 785.448 62.138 785.738 Q62.138 786.575 62.0413 789.473 Q61.9447 792.372 61.9447 793.209 Q61.9447 794.562 62.0413 797.332 Q62.138 800.101 62.138 801.454 Q62.138 802.356 61.3972 802.356 Q60.9141 802.356 60.6565 802.259 Q60.3666 802.163 60.27 801.905 Q60.1412 801.615 60.1412 801.454 Q60.109 801.261 60.109 800.778 Q60.109 800.134 60.0446 799.457 Q59.948 798.781 59.7547 797.944 Q59.5615 797.106 59.0784 796.591 Q58.5953 796.043 57.919 796.043 Q57.6291 796.043 55.2459 796.269 Q52.8627 796.494 50.093 796.784 Q47.2911 797.074 46.9046 797.106 L46.9046 813.66 Q49.5133 815.174 51.3168 816.237 Q53.1203 817.299 53.7322 817.686 Q54.3441 818.072 54.7306 818.298 Q55.1171 818.523 55.3425 818.652 Q57.0494 819.586 57.7902 819.586 Q59.8513 819.586 60.109 816.494 Q60.109 815.431 60.8819 815.431 Q61.4616 815.431 61.7837 815.689 Q62.0735 815.947 62.1057 816.172 Q62.138 816.365 62.138 816.687 Q62.138 817.75 62.0413 819.972 Q61.9447 822.195 61.9447 823.29 Q61.9447 824.224 62.0413 826.156 Q62.138 828.088 62.138 828.958 Q62.138 829.344 61.9125 829.57 Q61.6871 829.795 61.3972 829.795 Q60.9463 829.795 60.6887 829.731 Q60.431 829.634 60.3022 829.377 Q60.1734 829.119 60.1734 828.99 Q60.1412 828.861 60.109 828.41 Q59.948 825.963 58.7885 824.063 Q57.5969 822.13 54.5374 820.295 L16.0192 797.364 Q15.6327 797.138 15.4395 796.977 Q15.2462 796.816 15.0852 796.494 Q14.9242 796.14 14.9242 795.625 Q14.9242 794.82 15.1818 794.659 Q15.4072 794.498 16.5022 794.401 L57.7257 790.375 Q58.5953 790.279 58.9496 790.214 Q59.2716 790.118 59.6259 789.699 Q59.948 789.248 60.0446 788.443 Q60.109 787.606 60.109 786.06 Q60.109 785.48 60.1412 785.255 Q60.1412 785.029 60.3022 784.804 Q60.4632 784.546 60.8175 784.546 M44.8434 797.3 L23.1044 799.393 L44.8434 812.404 L44.8434 797.3 Z\" fill=\"#000000\" fill-rule=\"evenodd\" fill-opacity=\"1\" /><path clip-path=\"url(#clip820)\" d=\"M 0 0 M77.6934 780.764 Q77.3713 780.764 76.6628 780.506 L14.4411 757.222 Q14.3767 757.222 14.0224 757.06 Q13.6681 756.899 13.4427 756.803 Q13.185 756.706 12.9918 756.513 Q12.7986 756.288 12.7986 756.03 Q12.7986 755.386 13.6037 755.386 Q13.6681 755.386 14.4411 755.579 L76.7272 778.928 Q77.8544 779.315 78.1765 779.572 Q78.4985 779.798 78.4985 780.184 Q78.4985 780.764 77.6934 780.764 Z\" fill=\"#000000\" fill-rule=\"evenodd\" fill-opacity=\"1\" /><path clip-path=\"url(#clip820)\" d=\"M 0 0 M60.8175 702.827 Q61.4294 702.827 61.7515 703.085 Q62.0413 703.31 62.1057 703.536 Q62.138 703.729 62.138 704.019 Q62.138 704.856 62.0413 707.755 Q61.9447 710.653 61.9447 711.491 Q61.9447 712.843 62.0413 715.613 Q62.138 718.383 62.138 719.735 Q62.138 720.637 61.3972 720.637 Q60.9141 720.637 60.6565 720.54 Q60.3666 720.444 60.27 720.186 Q60.1412 719.896 60.1412 719.735 Q60.109 719.542 60.109 719.059 Q60.109 718.415 60.0446 717.739 Q59.948 717.062 59.7547 716.225 Q59.5615 715.388 59.0784 714.872 Q58.5953 714.325 57.919 714.325 Q57.6291 714.325 55.2459 714.55 Q52.8627 714.776 50.093 715.065 Q47.2911 715.355 46.9046 715.388 L46.9046 731.941 Q49.5133 733.455 51.3168 734.518 Q53.1203 735.581 53.7322 735.967 Q54.3441 736.354 54.7306 736.579 Q55.1171 736.804 55.3425 736.933 Q57.0494 737.867 57.7902 737.867 Q59.8513 737.867 60.109 734.775 Q60.109 733.713 60.8819 733.713 Q61.4616 733.713 61.7837 733.97 Q62.0735 734.228 62.1057 734.453 Q62.138 734.647 62.138 734.969 Q62.138 736.031 62.0413 738.254 Q61.9447 740.476 61.9447 741.571 Q61.9447 742.505 62.0413 744.437 Q62.138 746.37 62.138 747.239 Q62.138 747.626 61.9125 747.851 Q61.6871 748.076 61.3972 748.076 Q60.9463 748.076 60.6887 748.012 Q60.431 747.915 60.3022 747.658 Q60.1734 747.4 60.1734 747.271 Q60.1412 747.143 60.109 746.692 Q59.948 744.244 58.7885 742.344 Q57.5969 740.411 54.5374 738.576 L16.0192 715.645 Q15.6327 715.42 15.4395 715.259 Q15.2462 715.098 15.0852 714.776 Q14.9242 714.421 14.9242 713.906 Q14.9242 713.101 15.1818 712.94 Q15.4072 712.779 16.5022 712.682 L57.7257 708.657 Q58.5953 708.56 58.9496 708.495 Q59.2716 708.399 59.6259 707.98 Q59.948 707.529 60.0446 706.724 Q60.109 705.887 60.109 704.341 Q60.109 703.761 60.1412 703.536 Q60.1412 703.31 60.3022 703.085 Q60.4632 702.827 60.8175 702.827 M44.8434 715.581 L23.1044 717.674 L44.8434 730.685 L44.8434 715.581 Z\" fill=\"#000000\" fill-rule=\"evenodd\" fill-opacity=\"1\" /><path clip-path=\"url(#clip820)\" d=\"M 0 0 M66.9865 683.371 Q66.1975 683.371 65.6789 682.312 L62.6355 675.887 L59.592 682.402 Q59.1412 683.371 58.3521 683.371 Q57.9012 683.371 57.4954 683.011 Q57.0671 682.627 57.0671 682.131 Q57.0671 681.771 57.5631 681.117 L61.7112 675.391 Q54.0913 676.09 53.8658 676.067 Q53.415 676.067 53.0768 675.729 Q52.7161 675.391 52.7161 674.827 Q52.7161 674.376 53.0543 674.016 Q53.3699 673.632 53.8658 673.632 L61.7112 674.309 L57.9238 669.191 Q57.0446 667.996 57.0671 667.568 Q57.0671 667.049 57.4729 666.689 Q57.8787 666.328 58.3521 666.328 Q59.1412 666.328 59.6371 667.388 L62.6806 673.813 L65.7466 667.297 Q66.1975 666.328 66.9865 666.328 Q67.4374 666.328 67.8657 666.711 Q68.2715 667.072 68.2715 667.568 Q68.2715 667.838 68.001 668.312 Q67.9559 668.402 67.2345 669.371 Q66.5131 670.341 65.4084 671.851 Q64.3038 673.339 63.6049 674.309 Q71.2248 673.61 71.4502 673.632 Q71.9011 673.632 72.2618 673.97 Q72.6225 674.309 72.6225 674.872 Q72.6225 675.323 72.3069 675.706 Q71.9688 676.067 71.4502 676.067 L63.6049 675.391 L68.2715 681.838 Q68.2715 682.537 67.9334 682.92 Q67.5727 683.281 67.3698 683.326 Q67.1669 683.371 66.9865 683.371 Z\" fill=\"#000000\" fill-rule=\"evenodd\" fill-opacity=\"1\" /><polyline clip-path=\"url(#clip822)\" style=\"stroke:#009af9; stroke-width:4; stroke-opacity:1; fill:none\" points=\"\n",
       "  204.936,-5212.71 210.319,-1895.36 215.702,-789.846 221.085,-237.286 226.468,94.0897 231.851,314.874 237.234,472.463 242.617,590.554 248,682.314 253.383,755.641 \n",
       "  258.766,815.563 264.149,865.431 269.532,907.564 274.915,943.62 280.298,974.815 285.681,1002.06 291.064,1026.05 296.447,1047.33 301.83,1066.32 307.213,1083.38 \n",
       "  312.596,1098.77 317.979,1112.72 323.362,1125.43 328.745,1137.04 334.128,1147.68 339.511,1157.48 344.894,1166.51 350.277,1174.87 355.66,1182.63 361.043,1189.84 \n",
       "  366.426,1196.55 371.809,1202.82 377.192,1208.68 382.575,1214.17 387.958,1219.32 393.341,1224.15 398.724,1228.7 404.107,1232.99 409.49,1237.03 414.873,1240.85 \n",
       "  420.256,1244.46 425.639,1247.87 431.022,1251.11 436.405,1254.17 441.788,1257.07 447.171,1259.83 452.554,1262.45 457.937,1264.94 463.32,1267.3 468.703,1269.55 \n",
       "  474.086,1271.69 479.469,1273.73 484.852,1275.67 490.235,1277.52 495.618,1279.29 501.001,1280.97 506.384,1282.57 511.767,1284.09 517.15,1285.55 522.534,1286.94 \n",
       "  527.917,1288.26 533.3,1289.53 538.683,1290.73 544.066,1291.88 549.449,1292.97 554.832,1294.01 560.215,1295 565.598,1295.95 570.981,1296.84 576.364,1297.7 \n",
       "  581.747,1298.51 587.13,1299.28 592.513,1300.01 597.896,1300.71 603.279,1301.36 608.662,1301.98 614.045,1302.57 619.428,1303.12 624.811,1303.64 630.194,1304.14 \n",
       "  635.577,1304.59 640.96,1305.03 646.343,1305.43 651.726,1305.8 657.109,1306.15 662.492,1306.47 667.875,1306.76 673.258,1307.03 678.641,1307.28 684.024,1307.5 \n",
       "  689.407,1307.7 694.79,1307.88 700.173,1308.03 705.556,1308.16 710.939,1308.27 716.322,1308.36 721.705,1308.43 727.088,1308.48 732.471,1308.51 737.854,1308.52 \n",
       "  743.237,1308.51 748.62,1308.48 754.003,1308.43 759.386,1308.37 764.769,1308.29 770.152,1308.19 775.535,1308.07 780.918,1307.93 786.301,1307.78 791.684,1307.61 \n",
       "  797.067,1307.42 802.45,1307.22 807.833,1307 813.216,1306.77 818.599,1306.52 823.982,1306.25 829.365,1305.97 834.748,1305.67 840.131,1305.36 845.514,1305.03 \n",
       "  850.897,1304.68 856.28,1304.33 861.663,1303.95 867.046,1303.56 872.429,1303.16 877.812,1302.74 883.195,1302.31 888.578,1301.86 893.961,1301.39 899.344,1300.92 \n",
       "  904.727,1300.42 910.11,1299.92 915.493,1299.4 920.876,1298.86 926.259,1298.31 931.642,1297.74 937.025,1297.17 942.408,1296.57 947.791,1295.96 953.174,1295.34 \n",
       "  958.557,1294.7 963.94,1294.05 969.323,1293.39 974.706,1292.71 980.089,1292.01 985.472,1291.3 990.855,1290.58 996.238,1289.84 1001.62,1289.09 1007,1288.32 \n",
       "  1012.39,1287.54 1017.77,1286.74 1023.15,1285.93 1028.54,1285.1 1033.92,1284.26 1039.3,1283.4 1044.69,1282.53 1050.07,1281.64 1055.45,1280.74 1060.83,1279.83 \n",
       "  1066.22,1278.89 1071.6,1277.95 1076.98,1276.98 1082.37,1276.01 1087.75,1275.01 1093.13,1274 1098.52,1272.98 1103.9,1271.94 1109.28,1270.88 1114.66,1269.81 \n",
       "  1120.05,1268.72 1125.43,1267.61 1130.81,1266.49 1136.2,1265.36 1141.58,1264.2 1146.96,1263.03 1152.35,1261.85 1157.73,1260.64 1163.11,1259.42 1168.49,1258.18 \n",
       "  1173.88,1256.93 1179.26,1255.66 1184.64,1254.37 1190.03,1253.06 1195.41,1251.74 1200.79,1250.4 1206.18,1249.04 1211.56,1247.66 1216.94,1246.27 1222.32,1244.85 \n",
       "  1227.71,1243.42 1233.09,1241.97 1238.47,1240.5 1243.86,1239.01 1249.24,1237.51 1254.62,1235.98 1260.01,1234.44 1265.39,1232.87 1270.77,1231.29 1276.15,1229.69 \n",
       "  1281.54,1228.07 1286.92,1226.42 1292.3,1224.76 1297.69,1223.08 1303.07,1221.38 1308.45,1219.65 1313.84,1217.91 1319.22,1216.15 1324.6,1214.36 1329.98,1212.55 \n",
       "  1335.37,1210.73 1340.75,1208.88 1346.13,1207 1351.52,1205.11 1356.9,1203.2 1362.28,1201.26 1367.67,1199.3 1373.05,1197.32 1378.43,1195.31 1383.81,1193.29 \n",
       "  1389.2,1191.24 1394.58,1189.16 1399.96,1187.07 1405.35,1184.94 1410.73,1182.8 1416.11,1180.63 1421.5,1178.44 1426.88,1176.22 1432.26,1173.98 1437.64,1171.71 \n",
       "  1443.03,1169.42 1448.41,1167.1 1453.79,1164.76 1459.18,1162.39 1464.56,1160 1469.94,1157.58 1475.33,1155.13 1480.71,1152.66 1486.09,1150.16 1491.47,1147.64 \n",
       "  1496.86,1145.08 1502.24,1142.5 1507.62,1139.9 1513.01,1137.26 1518.39,1134.6 1523.77,1131.9 1529.16,1129.18 1534.54,1126.44 1539.92,1123.66 1545.3,1120.85 \n",
       "  1550.69,1118.01 1556.07,1115.15 1561.45,1112.25 1566.84,1109.33 1572.22,1106.37 1577.6,1103.38 1582.99,1100.36 1588.37,1097.32 1593.75,1094.24 1599.13,1091.12 \n",
       "  1604.52,1087.98 1609.9,1084.8 1615.28,1081.6 1620.67,1078.36 1626.05,1075.08 1631.43,1071.78 1636.82,1068.43 1642.2,1065.06 1647.58,1061.65 1652.96,1058.21 \n",
       "  1658.35,1054.74 1663.73,1051.22 1669.11,1047.68 1674.5,1044.1 1679.88,1040.48 1685.26,1036.83 1690.65,1033.14 1696.03,1029.41 1701.41,1025.65 1706.8,1021.85 \n",
       "  1712.18,1018.01 1717.56,1014.14 1722.94,1010.23 1728.33,1006.28 1733.71,1002.29 1739.09,998.263 1744.48,994.197 1749.86,990.091 1755.24,985.946 1760.63,981.76 \n",
       "  1766.01,977.535 1771.39,973.268 1776.77,968.961 1782.16,964.613 1787.54,960.223 1792.92,955.791 1798.31,951.317 1803.69,946.801 1809.07,942.241 1814.46,937.639 \n",
       "  1819.84,932.993 1825.22,928.303 1830.6,923.569 1835.99,918.79 1841.37,913.967 1846.75,909.099 1852.14,904.185 1857.52,899.225 1862.9,894.219 1868.29,889.166 \n",
       "  1873.67,884.067 1879.05,878.92 1884.43,873.726 1889.82,868.484 1895.2,863.194 1900.58,857.854 1905.97,852.466 1911.35,847.029 1916.73,841.542 1922.12,836.004 \n",
       "  1927.5,830.416 1932.88,824.778 1938.26,819.088 1943.65,813.346 1949.03,807.553 1954.41,801.707 1959.8,795.808 1965.18,789.856 1970.56,783.851 1975.95,777.792 \n",
       "  1981.33,771.678 1986.71,765.51 1992.09,759.287 1997.48,753.008 2002.86,746.674 2008.24,740.283 2013.63,733.835 2019.01,727.331 2024.39,720.769 2029.78,714.149 \n",
       "  2035.16,707.471 2040.54,700.734 2045.92,693.937 2051.31,687.082 2056.69,680.166 2062.07,673.19 2067.46,666.153 2072.84,659.055 2078.22,651.895 2083.61,644.673 \n",
       "  2088.99,637.389 2094.37,630.041 2099.75,622.63 2105.14,615.155 2110.52,607.616 2115.9,600.012 2121.29,592.343 2126.67,584.609 2132.05,576.808 2137.44,568.94 \n",
       "  2142.82,561.006 2148.2,553.004 2153.58,544.934 2158.97,536.796 2164.35,528.589 2169.73,520.313 2175.12,511.966 2180.5,503.55 2185.88,495.062 2191.27,486.504 \n",
       "  2196.65,477.874 2202.03,469.171 2207.41,460.396 2212.8,451.548 2218.18,442.626 2223.56,433.63 2228.95,424.559 2234.33,415.413 2239.71,406.192 2245.1,396.894 \n",
       "  2250.48,387.52 2255.86,378.068 2261.24,368.539 2266.63,358.932 2272.01,349.246 2277.39,339.48 2282.78,329.635 2288.16,319.71 2293.54,309.704 2298.93,299.617 \n",
       "  2304.31,289.448 2309.69,279.196 2315.07,268.862 2320.46,258.444 2325.84,247.942 2331.22,237.355 2336.61,226.684 2341.99,215.927 2347.37,205.084 2352.76,194.154 \n",
       "  2358.14,183.137 2363.52,172.032 2368.9,160.838 2374.29,149.556 2379.67,138.184 2385.05,126.722 2390.44,115.17 2395.82,103.526 2401.2,91.7904 2406.59,79.9625 \n",
       "  2411.97,68.0416 2417.35,56.0272 2422.73,43.9186 2428.12,31.7154 2433.5,19.4168 2438.88,7.02235 2444.27,-5.4686 2449.65,-18.0566 2455.03,-30.7424 2460.42,-43.5264 \n",
       "  2465.8,-56.4093 2471.18,-69.3917 2476.57,-82.4743 2481.95,-95.6576 2487.33,-108.942 2492.71,-122.329 2498.1,-135.818 2503.48,-149.411 2508.86,-163.107 2514.25,-176.908 \n",
       "  2519.63,-190.814 2525.01,-204.825 2530.4,-218.943 2535.78,-233.169 2541.16,-247.501 2546.54,-261.943 2551.93,-276.493 2557.31,-291.152 2562.69,-305.922 2568.08,-320.803 \n",
       "  2573.46,-335.796 2578.84,-350.901 2584.23,-366.119 2589.61,-381.45 2594.99,-396.896 2600.37,-412.457 2605.76,-428.133 2611.14,-443.926 2616.52,-459.836 2621.91,-475.863 \n",
       "  2627.29,-492.009 2632.67,-508.274 2638.06,-524.659 2643.44,-541.164 2648.82,-557.79 2654.2,-574.538 2659.59,-591.409 2664.97,-608.403 2670.35,-625.521 2675.74,-642.764 \n",
       "  2681.12,-660.132 2686.5,-677.627 2691.89,-695.248 2697.27,-712.997 2702.65,-730.875 2708.03,-748.881 2713.42,-767.018 2718.8,-785.284 2724.18,-803.683 2729.57,-822.213 \n",
       "  2734.95,-840.876 2740.33,-859.673 2745.72,-878.604 2751.1,-897.67 2756.48,-916.871 2761.86,-936.21 2767.25,-955.686 2772.63,-975.3 2778.01,-995.052 2783.4,-1014.95 \n",
       "  2788.78,-1034.98 2794.16,-1055.15 2799.55,-1075.47 2804.93,-1095.93 2810.31,-1116.53 2815.69,-1137.28 2821.08,-1158.17 2826.46,-1179.21 2831.84,-1200.39 2837.23,-1221.73 \n",
       "  2842.61,-1243.21 2847.99,-1264.84 2853.38,-1286.62 2858.76,-1308.55 2864.14,-1330.63 2869.52,-1352.87 2874.91,-1375.26 2880.29,-1397.8 2885.67,-1420.5 2891.06,-1443.35 \n",
       "  2896.44,-1466.36 2901.82,-1489.53 2907.21,-1512.86 2912.59,-1536.34 2917.97,-1559.99 2923.35,-1583.8 2928.74,-1607.77 2934.12,-1631.9 2939.5,-1656.19 2944.89,-1680.65 \n",
       "  2950.27,-1705.28 2955.65,-1730.07 2961.04,-1755.03 2966.42,-1780.15 2971.8,-1805.45 2977.18,-1830.91 2982.57,-1856.55 2987.95,-1882.35 2993.33,-1908.33 2998.72,-1934.48 \n",
       "  3004.1,-1960.81 3009.48,-1987.31 3014.87,-2013.99 3020.25,-2040.85 3025.63,-2067.88 3031.01,-2095.09 3036.4,-2122.48 3041.78,-2150.05 3047.16,-2177.81 3052.55,-2205.74 \n",
       "  3057.93,-2233.86 3063.31,-2262.16 3068.7,-2290.65 3074.08,-2319.33 3079.46,-2348.19 3084.84,-2377.24 3090.23,-2406.48 3095.61,-2435.91 3100.99,-2465.53 3106.38,-2495.35 \n",
       "  3111.76,-2525.35 3117.14,-2555.56 3122.53,-2585.95 3127.91,-2616.54 3133.29,-2647.33 3138.67,-2678.32 3144.06,-2709.5 3149.44,-2740.89 3154.82,-2772.48 3160.21,-2804.26 \n",
       "  3165.59,-2836.26 3170.97,-2868.45 3176.36,-2900.85 3181.74,-2933.46 3187.12,-2966.27 3192.51,-2999.29 3197.89,-3032.52 3203.27,-3065.96 3208.65,-3099.62 3214.04,-3133.48 \n",
       "  3219.42,-3167.56 3224.8,-3201.85 3230.19,-3236.36 3235.57,-3271.08 3240.95,-3306.02 3246.34,-3341.18 3251.72,-3376.56 3257.1,-3412.16 3262.48,-3447.99 3267.87,-3484.03 \n",
       "  3273.25,-3520.3 3278.63,-3556.79 3284.02,-3593.51 3289.4,-3630.46 3294.78,-3667.63 3300.17,-3705.04 3305.55,-3742.67 3310.93,-3780.54 3316.31,-3818.64 3321.7,-3856.97 \n",
       "  3327.08,-3895.54 3332.46,-3934.35 3337.85,-3973.39 3343.23,-4012.67 3348.61,-4052.19 3354,-4091.95 3359.38,-4131.95 3364.76,-4172.19 3370.14,-4212.68 3375.53,-4253.41 \n",
       "  3380.91,-4294.39 3386.29,-4335.62 3391.68,-4377.09 3397.06,-4418.82 3402.44,-4460.8 3407.83,-4503.02 3413.21,-4545.51 3418.59,-4588.24 3423.97,-4631.24 3429.36,-4674.48 \n",
       "  \n",
       "  \"/>\n",
       "<circle clip-path=\"url(#clip822)\" cx=\"737.854\" cy=\"1308.52\" r=\"14\" fill=\"#e26f46\" fill-rule=\"evenodd\" fill-opacity=\"1\" stroke=\"#000000\" stroke-opacity=\"1\" stroke-width=\"3.2\"/>\n",
       "<polyline clip-path=\"url(#clip822)\" style=\"stroke:#3da44d; stroke-width:4; stroke-opacity:1; fill:none\" stroke-dasharray=\"16, 10\" points=\"\n",
       "  199.553,1193.86 204.936,1193.86 210.319,1193.86 215.702,1193.86 221.085,1193.86 226.468,1193.86 231.851,1193.86 237.234,1193.86 242.617,1193.86 248,1193.86 \n",
       "  253.383,1193.86 258.766,1193.86 264.149,1193.86 269.532,1193.86 274.915,1193.86 280.298,1193.86 285.681,1193.86 291.064,1193.86 296.447,1193.86 301.83,1193.86 \n",
       "  307.213,1193.86 312.596,1193.86 317.979,1193.86 323.362,1193.86 328.745,1193.86 334.128,1193.86 339.511,1193.86 344.894,1193.86 350.277,1193.86 355.66,1193.86 \n",
       "  361.043,1193.86 366.426,1193.86 371.809,1193.86 377.192,1193.86 382.575,1193.86 387.958,1193.86 393.341,1193.86 398.724,1193.86 404.107,1193.86 409.49,1193.86 \n",
       "  414.873,1193.86 420.256,1193.86 425.639,1193.86 431.022,1193.86 436.405,1193.86 441.788,1193.86 447.171,1193.86 452.554,1193.86 457.937,1193.86 463.32,1193.86 \n",
       "  468.703,1193.86 474.086,1193.86 479.469,1193.86 484.852,1193.86 490.235,1193.86 495.618,1193.86 501.001,1193.86 506.384,1193.86 511.767,1193.86 517.15,1193.86 \n",
       "  522.534,1193.86 527.917,1193.86 533.3,1193.86 538.683,1193.86 544.066,1193.86 549.449,1193.86 554.832,1193.86 560.215,1193.86 565.598,1193.86 570.981,1193.86 \n",
       "  576.364,1193.86 581.747,1193.86 587.13,1193.86 592.513,1193.86 597.896,1193.86 603.279,1193.86 608.662,1193.86 614.045,1193.86 619.428,1193.86 624.811,1193.86 \n",
       "  630.194,1193.86 635.577,1193.86 640.96,1193.86 646.343,1193.86 651.726,1193.86 657.109,1193.86 662.492,1193.86 667.875,1193.86 673.258,1193.86 678.641,1193.86 \n",
       "  684.024,1193.86 689.407,1193.86 694.79,1193.86 700.173,1193.86 705.556,1193.86 710.939,1193.86 716.322,1193.86 721.705,1193.86 727.088,1193.86 732.471,1193.86 \n",
       "  737.854,1193.86 743.237,1193.86 748.62,1193.86 754.003,1193.86 759.386,1193.86 764.769,1193.86 770.152,1193.86 775.535,1193.86 780.918,1193.86 786.301,1193.86 \n",
       "  791.684,1193.86 797.067,1193.86 802.45,1193.86 807.833,1193.86 813.216,1193.86 818.599,1193.86 823.982,1193.86 829.365,1193.86 834.748,1193.86 840.131,1193.86 \n",
       "  845.514,1193.86 850.897,1193.86 856.28,1193.86 861.663,1193.86 867.046,1193.86 872.429,1193.86 877.812,1193.86 883.195,1193.86 888.578,1193.86 893.961,1193.86 \n",
       "  899.344,1193.86 904.727,1193.86 910.11,1193.86 915.493,1193.86 920.876,1193.86 926.259,1193.86 931.642,1193.86 937.025,1193.86 942.408,1193.86 947.791,1193.86 \n",
       "  953.174,1193.86 958.557,1193.86 963.94,1193.86 969.323,1193.86 974.706,1193.86 980.089,1193.86 985.472,1193.86 990.855,1193.86 996.238,1193.86 1001.62,1193.86 \n",
       "  1007,1193.86 1012.39,1193.86 1017.77,1193.86 1023.15,1193.86 1028.54,1193.86 1033.92,1193.86 1039.3,1193.86 1044.69,1193.86 1050.07,1193.86 1055.45,1193.86 \n",
       "  1060.83,1193.86 1066.22,1193.86 1071.6,1193.86 1076.98,1193.86 1082.37,1193.86 1087.75,1193.86 1093.13,1193.86 1098.52,1193.86 1103.9,1193.86 1109.28,1193.86 \n",
       "  1114.66,1193.86 1120.05,1193.86 1125.43,1193.86 1130.81,1193.86 1136.2,1193.86 1141.58,1193.86 1146.96,1193.86 1152.35,1193.86 1157.73,1193.86 1163.11,1193.86 \n",
       "  1168.49,1193.86 1173.88,1193.86 1179.26,1193.86 1184.64,1193.86 1190.03,1193.86 1195.41,1193.86 1200.79,1193.86 1206.18,1193.86 1211.56,1193.86 1216.94,1193.86 \n",
       "  1222.32,1193.86 1227.71,1193.86 1233.09,1193.86 1238.47,1193.86 1243.86,1193.86 1249.24,1193.86 1254.62,1193.86 1260.01,1193.86 1265.39,1193.86 1270.77,1193.86 \n",
       "  1276.15,1193.86 1281.54,1193.86 1286.92,1193.86 1292.3,1193.86 1297.69,1193.86 1303.07,1193.86 1308.45,1193.86 1313.84,1193.86 1319.22,1193.86 1324.6,1193.86 \n",
       "  1329.98,1193.86 1335.37,1193.86 1340.75,1193.86 1346.13,1193.86 1351.52,1193.86 1356.9,1193.86 1362.28,1193.86 1367.67,1193.86 1373.05,1193.86 1378.43,1193.86 \n",
       "  1383.81,1193.86 1389.2,1193.86 1394.58,1193.86 1399.96,1193.86 1405.35,1193.86 1410.73,1193.86 1416.11,1193.86 1421.5,1193.86 1426.88,1193.86 1432.26,1193.86 \n",
       "  1437.64,1193.86 1443.03,1193.86 1448.41,1193.86 1453.79,1193.86 1459.18,1193.86 1464.56,1193.86 1469.94,1193.86 1475.33,1193.86 1480.71,1193.86 1486.09,1193.86 \n",
       "  1491.47,1193.86 1496.86,1193.86 1502.24,1193.86 1507.62,1193.86 1513.01,1193.86 1518.39,1193.86 1523.77,1193.86 1529.16,1193.86 1534.54,1193.86 1539.92,1193.86 \n",
       "  1545.3,1193.86 1550.69,1193.86 1556.07,1193.86 1561.45,1193.86 1566.84,1193.86 1572.22,1193.86 1577.6,1193.86 1582.99,1193.86 1588.37,1193.86 1593.75,1193.86 \n",
       "  1599.13,1193.86 1604.52,1193.86 1609.9,1193.86 1615.28,1193.86 1620.67,1193.86 1626.05,1193.86 1631.43,1193.86 1636.82,1193.86 1642.2,1193.86 1647.58,1193.86 \n",
       "  1652.96,1193.86 1658.35,1193.86 1663.73,1193.86 1669.11,1193.86 1674.5,1193.86 1679.88,1193.86 1685.26,1193.86 1690.65,1193.86 1696.03,1193.86 1701.41,1193.86 \n",
       "  1706.8,1193.86 1712.18,1193.86 1717.56,1193.86 1722.94,1193.86 1728.33,1193.86 1733.71,1193.86 1739.09,1193.86 1744.48,1193.86 1749.86,1193.86 1755.24,1193.86 \n",
       "  1760.63,1193.86 1766.01,1193.86 1771.39,1193.86 1776.77,1193.86 1782.16,1193.86 1787.54,1193.86 1792.92,1193.86 1798.31,1193.86 1803.69,1193.86 1809.07,1193.86 \n",
       "  1814.46,1193.86 1819.84,1193.86 1825.22,1193.86 1830.6,1193.86 1835.99,1193.86 1841.37,1193.86 1846.75,1193.86 1852.14,1193.86 1857.52,1193.86 1862.9,1193.86 \n",
       "  1868.29,1193.86 1873.67,1193.86 1879.05,1193.86 1884.43,1193.86 1889.82,1193.86 1895.2,1193.86 1900.58,1193.86 1905.97,1193.86 1911.35,1193.86 1916.73,1193.86 \n",
       "  1922.12,1193.86 1927.5,1193.86 1932.88,1193.86 1938.26,1193.86 1943.65,1193.86 1949.03,1193.86 1954.41,1193.86 1959.8,1193.86 1965.18,1193.86 1970.56,1193.86 \n",
       "  1975.95,1193.86 1981.33,1193.86 1986.71,1193.86 1992.09,1193.86 1997.48,1193.86 2002.86,1193.86 2008.24,1193.86 2013.63,1193.86 2019.01,1193.86 2024.39,1193.86 \n",
       "  2029.78,1193.86 2035.16,1193.86 2040.54,1193.86 2045.92,1193.86 2051.31,1193.86 2056.69,1193.86 2062.07,1193.86 2067.46,1193.86 2072.84,1193.86 2078.22,1193.86 \n",
       "  2083.61,1193.86 2088.99,1193.86 2094.37,1193.86 2099.75,1193.86 2105.14,1193.86 2110.52,1193.86 2115.9,1193.86 2121.29,1193.86 2126.67,1193.86 2132.05,1193.86 \n",
       "  2137.44,1193.86 2142.82,1193.86 2148.2,1193.86 2153.58,1193.86 2158.97,1193.86 2164.35,1193.86 2169.73,1193.86 2175.12,1193.86 2180.5,1193.86 2185.88,1193.86 \n",
       "  2191.27,1193.86 2196.65,1193.86 2202.03,1193.86 2207.41,1193.86 2212.8,1193.86 2218.18,1193.86 2223.56,1193.86 2228.95,1193.86 2234.33,1193.86 2239.71,1193.86 \n",
       "  2245.1,1193.86 2250.48,1193.86 2255.86,1193.86 2261.24,1193.86 2266.63,1193.86 2272.01,1193.86 2277.39,1193.86 2282.78,1193.86 2288.16,1193.86 2293.54,1193.86 \n",
       "  2298.93,1193.86 2304.31,1193.86 2309.69,1193.86 2315.07,1193.86 2320.46,1193.86 2325.84,1193.86 2331.22,1193.86 2336.61,1193.86 2341.99,1193.86 2347.37,1193.86 \n",
       "  2352.76,1193.86 2358.14,1193.86 2363.52,1193.86 2368.9,1193.86 2374.29,1193.86 2379.67,1193.86 2385.05,1193.86 2390.44,1193.86 2395.82,1193.86 2401.2,1193.86 \n",
       "  2406.59,1193.86 2411.97,1193.86 2417.35,1193.86 2422.73,1193.86 2428.12,1193.86 2433.5,1193.86 2438.88,1193.86 2444.27,1193.86 2449.65,1193.86 2455.03,1193.86 \n",
       "  2460.42,1193.86 2465.8,1193.86 2471.18,1193.86 2476.57,1193.86 2481.95,1193.86 2487.33,1193.86 2492.71,1193.86 2498.1,1193.86 2503.48,1193.86 2508.86,1193.86 \n",
       "  2514.25,1193.86 2519.63,1193.86 2525.01,1193.86 2530.4,1193.86 2535.78,1193.86 2541.16,1193.86 2546.54,1193.86 2551.93,1193.86 2557.31,1193.86 2562.69,1193.86 \n",
       "  2568.08,1193.86 2573.46,1193.86 2578.84,1193.86 2584.23,1193.86 2589.61,1193.86 2594.99,1193.86 2600.37,1193.86 2605.76,1193.86 2611.14,1193.86 2616.52,1193.86 \n",
       "  2621.91,1193.86 2627.29,1193.86 2632.67,1193.86 2638.06,1193.86 2643.44,1193.86 2648.82,1193.86 2654.2,1193.86 2659.59,1193.86 2664.97,1193.86 2670.35,1193.86 \n",
       "  2675.74,1193.86 2681.12,1193.86 2686.5,1193.86 2691.89,1193.86 2697.27,1193.86 2702.65,1193.86 2708.03,1193.86 2713.42,1193.86 2718.8,1193.86 2724.18,1193.86 \n",
       "  2729.57,1193.86 2734.95,1193.86 2740.33,1193.86 2745.72,1193.86 2751.1,1193.86 2756.48,1193.86 2761.86,1193.86 2767.25,1193.86 2772.63,1193.86 2778.01,1193.86 \n",
       "  2783.4,1193.86 2788.78,1193.86 2794.16,1193.86 2799.55,1193.86 2804.93,1193.86 2810.31,1193.86 2815.69,1193.86 2821.08,1193.86 2826.46,1193.86 2831.84,1193.86 \n",
       "  2837.23,1193.86 2842.61,1193.86 2847.99,1193.86 2853.38,1193.86 2858.76,1193.86 2864.14,1193.86 2869.52,1193.86 2874.91,1193.86 2880.29,1193.86 2885.67,1193.86 \n",
       "  2891.06,1193.86 2896.44,1193.86 2901.82,1193.86 2907.21,1193.86 2912.59,1193.86 2917.97,1193.86 2923.35,1193.86 2928.74,1193.86 2934.12,1193.86 2939.5,1193.86 \n",
       "  2944.89,1193.86 2950.27,1193.86 2955.65,1193.86 2961.04,1193.86 2966.42,1193.86 2971.8,1193.86 2977.18,1193.86 2982.57,1193.86 2987.95,1193.86 2993.33,1193.86 \n",
       "  2998.72,1193.86 3004.1,1193.86 3009.48,1193.86 3014.87,1193.86 3020.25,1193.86 3025.63,1193.86 3031.01,1193.86 3036.4,1193.86 3041.78,1193.86 3047.16,1193.86 \n",
       "  3052.55,1193.86 3057.93,1193.86 3063.31,1193.86 3068.7,1193.86 3074.08,1193.86 3079.46,1193.86 3084.84,1193.86 3090.23,1193.86 3095.61,1193.86 3100.99,1193.86 \n",
       "  3106.38,1193.86 3111.76,1193.86 3117.14,1193.86 3122.53,1193.86 3127.91,1193.86 3133.29,1193.86 3138.67,1193.86 3144.06,1193.86 3149.44,1193.86 3154.82,1193.86 \n",
       "  3160.21,1193.86 3165.59,1193.86 3170.97,1193.86 3176.36,1193.86 3181.74,1193.86 3187.12,1193.86 3192.51,1193.86 3197.89,1193.86 3203.27,1193.86 3208.65,1193.86 \n",
       "  3214.04,1193.86 3219.42,1193.86 3224.8,1193.86 3230.19,1193.86 3235.57,1193.86 3240.95,1193.86 3246.34,1193.86 3251.72,1193.86 3257.1,1193.86 3262.48,1193.86 \n",
       "  3267.87,1193.86 3273.25,1193.86 3278.63,1193.86 3284.02,1193.86 3289.4,1193.86 3294.78,1193.86 3300.17,1193.86 3305.55,1193.86 3310.93,1193.86 3316.31,1193.86 \n",
       "  3321.7,1193.86 3327.08,1193.86 3332.46,1193.86 3337.85,1193.86 3343.23,1193.86 3348.61,1193.86 3354,1193.86 3359.38,1193.86 3364.76,1193.86 3370.14,1193.86 \n",
       "  3375.53,1193.86 3380.91,1193.86 3386.29,1193.86 3391.68,1193.86 3397.06,1193.86 3402.44,1193.86 3407.83,1193.86 3413.21,1193.86 3418.59,1193.86 3423.97,1193.86 \n",
       "  3429.36,1193.86 \n",
       "  \"/>\n",
       "</svg>\n"
      ]
     },
     "metadata": {},
     "execution_count": 11
    }
   ],
   "cell_type": "code",
   "source": [
    "Mrange = range(0,6,length=601)\n",
    "Aratio = []\n",
    "for M in Mrange\n",
    "    push!(Aratio,value(AOverAStar(MachNumber(M),Isentropic)))\n",
    "end\n",
    "\n",
    "plot(Mrange,Aratio,xlim=(0,4),ylim=(0,12),yticks=0:1:12,xlabel=\"Mach number\",ylabel=L\"A/A_*\",legend=false)\n",
    "scatter!([1],[1])\n",
    "plot!(Mrange,2*ones(length(Mrange)),style=:dash)"
   ],
   "metadata": {},
   "execution_count": 11
  },
  {
   "cell_type": "markdown",
   "source": [
    "#### Example 4\n",
    "What are the subsonic and supersonic Mach numbers associated with, for example,\n",
    "an area ratio $A/A_*$ of 2 (the dashed line in the plot above)? We simply input\n",
    "the desired area ratio and find the two solutions:"
   ],
   "metadata": {}
  },
  {
   "outputs": [],
   "cell_type": "code",
   "source": [
    "M1, M2 = MachNumber(AreaRatio(2),Isentropic);"
   ],
   "metadata": {},
   "execution_count": 12
  },
  {
   "outputs": [
    {
     "output_type": "execute_result",
     "data": {
      "text/plain": "MachNumber = 0.305904 "
     },
     "metadata": {},
     "execution_count": 13
    }
   ],
   "cell_type": "code",
   "source": [
    "M1"
   ],
   "metadata": {},
   "execution_count": 13
  },
  {
   "outputs": [
    {
     "output_type": "execute_result",
     "data": {
      "text/plain": "MachNumber = 2.1972 "
     },
     "metadata": {},
     "execution_count": 14
    }
   ],
   "cell_type": "code",
   "source": [
    "M2"
   ],
   "metadata": {},
   "execution_count": 14
  },
  {
   "cell_type": "markdown",
   "source": [
    "A related question: What is the local sonic reference area $A_*$ when the Mach\n",
    "number is 7.1 and the local area is 50 sq cm?\n",
    "\n",
    "We first compute $A/A_*$ from $M = 7.1$, then compute $A_* = A/(A/A_*)$:"
   ],
   "metadata": {}
  },
  {
   "outputs": [
    {
     "output_type": "execute_result",
     "data": {
      "text/plain": "0.4507312336039658"
     },
     "metadata": {},
     "execution_count": 15
    }
   ],
   "cell_type": "code",
   "source": [
    "A = Area(50,units=SqCM)\n",
    "M = MachNumber(7.1)\n",
    "A_over_Astar = AOverAStar(M,Isentropic)\n",
    "Astar = Area(A/A_over_Astar)\n",
    "value(Astar,SqCM)"
   ],
   "metadata": {},
   "execution_count": 15
  },
  {
   "cell_type": "markdown",
   "source": [
    "So the throat would have to be 0.45 sq cm, much smaller than 50 sq cm!\n",
    "Note that there is a convenience function to do those steps all in one:"
   ],
   "metadata": {}
  },
  {
   "outputs": [
    {
     "output_type": "execute_result",
     "data": {
      "text/plain": "0.4507312336039658"
     },
     "metadata": {},
     "execution_count": 16
    }
   ],
   "cell_type": "code",
   "source": [
    "value(AStar(A,M),SqCM)"
   ],
   "metadata": {},
   "execution_count": 16
  },
  {
   "cell_type": "markdown",
   "source": [
    "#### Example 5\n",
    "Consider the flow of air through a converging-diverging nozzle, leaving a stagnant\n",
    "reservoir at pressure $p_0$ = 700 kPa and temperature $T_0 = 30$ degrees C. The Mach\n",
    "number at a location (1) in the converging section with area 50 sq cm is equal to 0.4.\n",
    "The exit of the nozzle has area 60 sq cm.\n",
    "\n",
    "(a) What are the possible Mach numbers at the exit in choked isentropic conditions?\n",
    "What are the exit (i.e., \"back\") pressures $p_2$ associated with these two Mach numbers?\n",
    "\n",
    "(b) What is the mass flow rate through the nozzle in these conditions?"
   ],
   "metadata": {}
  },
  {
   "cell_type": "markdown",
   "source": [
    "First, we set the known values"
   ],
   "metadata": {}
  },
  {
   "outputs": [
    {
     "output_type": "execute_result",
     "data": {
      "text/plain": "MachNumber = 0.4 "
     },
     "metadata": {},
     "execution_count": 17
    }
   ],
   "cell_type": "code",
   "source": [
    "p0 = StagnationPressure(700,units=KPa)\n",
    "T0 = StagnationTemperature(30,units=C)\n",
    "A1 = Area(50,units=SqCM)\n",
    "A2 = Area(60,units=SqCM)\n",
    "M1 = MachNumber(0.4)"
   ],
   "metadata": {},
   "execution_count": 17
  },
  {
   "cell_type": "markdown",
   "source": [
    "Now, we compute $A_1/A_*$ from $M_1$. Use this to calculate $A_*$ from $A_1/(A_1/A_*)$.\n",
    "Then calculate $A_2/A_*$:"
   ],
   "metadata": {}
  },
  {
   "outputs": [
    {
     "output_type": "execute_result",
     "data": {
      "text/plain": "AreaRatio = 1.90817 "
     },
     "metadata": {},
     "execution_count": 18
    }
   ],
   "cell_type": "code",
   "source": [
    "A1_over_Astar = AOverAStar(M1,Isentropic,gas=Air)\n",
    "Astar = Area(A1/A1_over_Astar)\n",
    "A2_over_Astar = AreaRatio(A2/Astar)"
   ],
   "metadata": {},
   "execution_count": 18
  },
  {
   "cell_type": "markdown",
   "source": [
    "Now calculate the Mach numbers at location 2 (the nozzle exit):"
   ],
   "metadata": {}
  },
  {
   "outputs": [],
   "cell_type": "code",
   "source": [
    "M2sub, M2sup = MachNumber(A2_over_Astar,Isentropic,gas=Air);"
   ],
   "metadata": {},
   "execution_count": 19
  },
  {
   "outputs": [
    {
     "output_type": "execute_result",
     "data": {
      "text/plain": "MachNumber = 0.322613 "
     },
     "metadata": {},
     "execution_count": 20
    }
   ],
   "cell_type": "code",
   "source": [
    "M2sub"
   ],
   "metadata": {},
   "execution_count": 20
  },
  {
   "outputs": [
    {
     "output_type": "execute_result",
     "data": {
      "text/plain": "MachNumber = 2.1438 "
     },
     "metadata": {},
     "execution_count": 21
    }
   ],
   "cell_type": "code",
   "source": [
    "M2sup"
   ],
   "metadata": {},
   "execution_count": 21
  },
  {
   "cell_type": "markdown",
   "source": [
    "Actually, all of the last few steps can be done in *one step* with a different\n",
    "version of the function `MachNumber`:"
   ],
   "metadata": {}
  },
  {
   "outputs": [],
   "cell_type": "code",
   "source": [
    "M2sub, M2sup = MachNumber(M1,A1,A2,Isentropic,gas=Air);"
   ],
   "metadata": {},
   "execution_count": 22
  },
  {
   "outputs": [
    {
     "output_type": "execute_result",
     "data": {
      "text/plain": "MachNumber = 0.322613 "
     },
     "metadata": {},
     "execution_count": 23
    }
   ],
   "cell_type": "code",
   "source": [
    "M2sub"
   ],
   "metadata": {},
   "execution_count": 23
  },
  {
   "outputs": [
    {
     "output_type": "execute_result",
     "data": {
      "text/plain": "MachNumber = 2.1438 "
     },
     "metadata": {},
     "execution_count": 24
    }
   ],
   "cell_type": "code",
   "source": [
    "M2sup"
   ],
   "metadata": {},
   "execution_count": 24
  },
  {
   "cell_type": "markdown",
   "source": [
    "Now let's determine the exit pressures (location 2) corresponding to these two Mach numbers:"
   ],
   "metadata": {}
  },
  {
   "outputs": [
    {
     "output_type": "execute_result",
     "data": {
      "text/plain": "651.301619254323"
     },
     "metadata": {},
     "execution_count": 25
    }
   ],
   "cell_type": "code",
   "source": [
    "p0_over_p2sub = P0OverP(M2sub,Isentropic,gas=Air)\n",
    "p2sub = Pressure(p0/p0_over_p2sub)\n",
    "value(p2sub,KPa)"
   ],
   "metadata": {},
   "execution_count": 25
  },
  {
   "outputs": [
    {
     "output_type": "execute_result",
     "data": {
      "text/plain": "71.48184181875564"
     },
     "metadata": {},
     "execution_count": 26
    }
   ],
   "cell_type": "code",
   "source": [
    "p0_over_p2sup = P0OverP(M2sup,Isentropic,gas=Air)\n",
    "p2sup = Pressure(p0/p0_over_p2sup)\n",
    "value(p2sup,KPa)"
   ],
   "metadata": {},
   "execution_count": 26
  },
  {
   "cell_type": "markdown",
   "source": [
    "So if the exit pressure is 651 kPa, then the flow will remain choked and **subsonic**\n",
    "throughout, and if the exit pressure is 71.5 kPa, then the flow will remain choked\n",
    "and **supersonic** throughout.\n",
    "\n",
    "Note that, because the flow is choked, the mass flow rate is the same for both of\n",
    "these cases. Let's calculate that mass flow rate (using $\\rho_1 u_1 A_1$). We need\n",
    "$\\rho_1$ and $u_1$. First, calculate the stagnation density in this nozzle:"
   ],
   "metadata": {}
  },
  {
   "outputs": [
    {
     "output_type": "execute_result",
     "data": {
      "text/plain": "StagnationDensity = 8.0456 KGPerCuM"
     },
     "metadata": {},
     "execution_count": 27
    }
   ],
   "cell_type": "code",
   "source": [
    "ρ0 = StagnationDensity(p0,T0,gas=Air) # this uses the perfect gas law"
   ],
   "metadata": {},
   "execution_count": 27
  },
  {
   "cell_type": "markdown",
   "source": [
    "Using $M_1$, find $\\rho_0/\\rho_1$:"
   ],
   "metadata": {}
  },
  {
   "outputs": [
    {
     "output_type": "execute_result",
     "data": {
      "text/plain": "DensityRatio = 1.08193 "
     },
     "metadata": {},
     "execution_count": 28
    }
   ],
   "cell_type": "code",
   "source": [
    "ρ0_over_ρ1 = ρ0Overρ(M1,Isentropic,gas=Air)"
   ],
   "metadata": {},
   "execution_count": 28
  },
  {
   "cell_type": "markdown",
   "source": [
    "So we can get $\\rho_1$ from $\\rho_0/(\\rho_0/\\rho_1)$:"
   ],
   "metadata": {}
  },
  {
   "outputs": [
    {
     "output_type": "execute_result",
     "data": {
      "text/plain": "Density = 7.43634 KGPerCuM"
     },
     "metadata": {},
     "execution_count": 29
    }
   ],
   "cell_type": "code",
   "source": [
    "ρ1 = Density(ρ0/ρ0_over_ρ1)"
   ],
   "metadata": {},
   "execution_count": 29
  },
  {
   "cell_type": "markdown",
   "source": [
    "Now get $u_1$ from $M_1 c_1$, where $c_1$ is the speed of sound. For that, we need $T_1$:"
   ],
   "metadata": {}
  },
  {
   "outputs": [
    {
     "output_type": "execute_result",
     "data": {
      "text/plain": "SoundSpeed = 343.553 MPerSec"
     },
     "metadata": {},
     "execution_count": 30
    }
   ],
   "cell_type": "code",
   "source": [
    "T0_over_T1 = T0OverT(M1,Isentropic,gas=Air)\n",
    "T1 = Temperature(T0/T0_over_T1)\n",
    "c1 = SoundSpeed(T1)"
   ],
   "metadata": {},
   "execution_count": 30
  },
  {
   "outputs": [
    {
     "output_type": "execute_result",
     "data": {
      "text/plain": "Velocity = 137.421 MPerSec"
     },
     "metadata": {},
     "execution_count": 31
    }
   ],
   "cell_type": "code",
   "source": [
    "u1 = Velocity(M1*c1)"
   ],
   "metadata": {},
   "execution_count": 31
  },
  {
   "cell_type": "markdown",
   "source": [
    "And now we can put it all together:"
   ],
   "metadata": {}
  },
  {
   "outputs": [
    {
     "output_type": "execute_result",
     "data": {
      "text/plain": "MassFlowRate = 5.10956 KGPerSec"
     },
     "metadata": {},
     "execution_count": 32
    }
   ],
   "cell_type": "code",
   "source": [
    "mdot = MassFlowRate(ρ1*u1*A1)"
   ],
   "metadata": {},
   "execution_count": 32
  },
  {
   "cell_type": "markdown",
   "source": [
    "So the mass flow rate is stuck at 5.1 kg/s"
   ],
   "metadata": {}
  },
  {
   "cell_type": "markdown",
   "source": [
    "---\n",
    "\n",
    "*This notebook was generated using [Literate.jl](https://github.com/fredrikekre/Literate.jl).*"
   ],
   "metadata": {}
  }
 ],
 "nbformat_minor": 3,
 "metadata": {
  "language_info": {
   "file_extension": ".jl",
   "mimetype": "application/julia",
   "name": "julia",
   "version": "1.5.3"
  },
  "kernelspec": {
   "name": "julia-1.5",
   "display_name": "Julia 1.5.3",
   "language": "julia"
  }
 },
 "nbformat": 4
}
