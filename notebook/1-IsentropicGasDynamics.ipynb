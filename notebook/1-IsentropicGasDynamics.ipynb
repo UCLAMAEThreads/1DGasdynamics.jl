{
 "cells": [
  {
   "cell_type": "markdown",
   "source": [
    "# Isentropic quasi-1D steady compressible flow\n",
    "This notebook demonstrates the use of the compressible flow tools for computing\n",
    "states and processes in isentropic quasi-1d steady compressible flow."
   ],
   "metadata": {}
  },
  {
   "cell_type": "markdown",
   "source": [
    "### Set up the module"
   ],
   "metadata": {}
  },
  {
   "outputs": [],
   "cell_type": "code",
   "source": [
    "using Gasdynamics1D"
   ],
   "metadata": {},
   "execution_count": 1
  },
  {
   "outputs": [],
   "cell_type": "code",
   "source": [
    "using Plots\n",
    "using LaTeXStrings"
   ],
   "metadata": {},
   "execution_count": 2
  },
  {
   "cell_type": "markdown",
   "source": [
    "### Using isentropic relations\n",
    "Let us apply some basic isentropic relations."
   ],
   "metadata": {}
  },
  {
   "cell_type": "markdown",
   "source": [
    "#### Example 1\n",
    "Let's suppose two states of the flow in air, 1 and 2, are connected with each\n",
    "other by an isentropic process. We know the pressure p1 is 101 kPa, the temperature\n",
    "T1 is 20 degrees C, and the pressure p2 is 80 kPa. What is temperature T2?\n",
    "\n",
    "To answer this, we will use the relationship\n",
    "\n",
    "$$\\dfrac{T_2}{T_1} = \\left( \\dfrac{p_2}{p_1}\\right)^{(\\gamma-1)/\\gamma} $$"
   ],
   "metadata": {}
  },
  {
   "outputs": [
    {
     "output_type": "execute_result",
     "data": {
      "text/plain": "Pressure = 80000.0 Pa"
     },
     "metadata": {},
     "execution_count": 3
    }
   ],
   "cell_type": "code",
   "source": [
    "p1 = Pressure(101u\"kPa\")\n",
    "T1 = Temperature(20u\"°C\")\n",
    "p2 = Pressure(80u\"kPa\")"
   ],
   "metadata": {},
   "execution_count": 3
  },
  {
   "cell_type": "markdown",
   "source": [
    "First, let's set the pressure ratio:"
   ],
   "metadata": {}
  },
  {
   "outputs": [
    {
     "output_type": "execute_result",
     "data": {
      "text/plain": "PressureRatio = 0.7920792079207921"
     },
     "metadata": {},
     "execution_count": 4
    }
   ],
   "cell_type": "code",
   "source": [
    "p2_over_p1 = PressureRatio(p2/p1)"
   ],
   "metadata": {},
   "execution_count": 4
  },
  {
   "cell_type": "markdown",
   "source": [
    "Now find the temperature ratio. Note below that we specify the argument\n",
    "`Isentropic` to make sure it is clear that we are using the isentropic relation.\n",
    "We only need this argument when it is needed for clarity."
   ],
   "metadata": {}
  },
  {
   "outputs": [
    {
     "output_type": "execute_result",
     "data": {
      "text/plain": "TemperatureRatio = 0.9355709895748232"
     },
     "metadata": {},
     "execution_count": 5
    }
   ],
   "cell_type": "code",
   "source": [
    "T2_over_T1 = TemperatureRatio(p2_over_p1,Isentropic)"
   ],
   "metadata": {},
   "execution_count": 5
  },
  {
   "cell_type": "markdown",
   "source": [
    "It is important to understand that the tools \"know\" what formula you want to use\n",
    "(the one listed above), based on the fact that (a) you supplied it with a pressure\n",
    "ratio (the purpose of the `PressureRatio` line above), and (b) you told it that\n",
    "the process is `Isentropic`. It figures out the rest.\n",
    "Finally, calculate $T_2 = T_1 (T_2/T_1)$:"
   ],
   "metadata": {}
  },
  {
   "outputs": [
    {
     "output_type": "execute_result",
     "data": {
      "text/plain": "Temperature = 274.2626355938594 K"
     },
     "metadata": {},
     "execution_count": 6
    }
   ],
   "cell_type": "code",
   "source": [
    "T2 = Temperature(T1*T2_over_T1)"
   ],
   "metadata": {},
   "execution_count": 6
  },
  {
   "cell_type": "markdown",
   "source": [
    "or, in Celsius, if desired"
   ],
   "metadata": {}
  },
  {
   "outputs": [
    {
     "output_type": "execute_result",
     "data": {
      "text/plain": "1.1126355938594088 °C"
     },
     "metadata": {},
     "execution_count": 7
    }
   ],
   "cell_type": "code",
   "source": [
    "value(T2,u\"°C\")"
   ],
   "metadata": {},
   "execution_count": 7
  },
  {
   "cell_type": "markdown",
   "source": [
    "We could also do all of this in one line, though it is a bit harder to debug\n",
    "if something goes wrong:"
   ],
   "metadata": {}
  },
  {
   "outputs": [
    {
     "output_type": "execute_result",
     "data": {
      "text/plain": "Temperature = 274.2626355938594 K"
     },
     "metadata": {},
     "execution_count": 8
    }
   ],
   "cell_type": "code",
   "source": [
    "T2 = Temperature(T1*TemperatureRatio(PressureRatio(p2/p1),Isentropic))"
   ],
   "metadata": {},
   "execution_count": 8
  },
  {
   "cell_type": "markdown",
   "source": [
    "#### Example 2\n",
    "If the temperature ratio $T/T_0$ is 0.2381, what is the Mach number?"
   ],
   "metadata": {}
  },
  {
   "outputs": [
    {
     "output_type": "execute_result",
     "data": {
      "text/plain": "MachNumber = 3.9999475007054572"
     },
     "metadata": {},
     "execution_count": 9
    }
   ],
   "cell_type": "code",
   "source": [
    "MachNumber(TemperatureRatio(0.2381),Isentropic)"
   ],
   "metadata": {},
   "execution_count": 9
  },
  {
   "cell_type": "markdown",
   "source": [
    "#### Example 3\n",
    "If the Mach number is 4.4 and stagnation pressure is 800 kPa, what is the pressure?"
   ],
   "metadata": {}
  },
  {
   "outputs": [
    {
     "output_type": "execute_result",
     "data": {
      "text/plain": "Pressure = 3134.1119713819485 Pa"
     },
     "metadata": {},
     "execution_count": 10
    }
   ],
   "cell_type": "code",
   "source": [
    "Pressure(StagnationPressure(800u\"kPa\"),MachNumber(4.4),Isentropic)"
   ],
   "metadata": {},
   "execution_count": 10
  },
  {
   "cell_type": "markdown",
   "source": [
    "### Mach - area relations\n",
    "A big part of isentropic quasi-1D flow deals with changes of the flow in variable-area\n",
    "ducts. For these calculations, we make use of the *sonic area* $A_*$ as a reference area.\n",
    "Remember that, for any ratio of $A/A_*$, there are two possible Mach numbers,\n",
    "corresponding to a **subsonic flow** and a **supersonic flow**. Let us see that by\n",
    "plotting $A/A_*$ versus Mach number $M$. If, for example, $A/A_* = 2$, then\n",
    "note where the dashed line crosses the plot:"
   ],
   "metadata": {}
  },
  {
   "outputs": [
    {
     "output_type": "execute_result",
     "data": {
      "text/plain": "Plot{Plots.GRBackend() n=3}",
      "image/png": "[encoded data removed]",
      "text/html": [
       "<?xml version=\"1.0\" encoding=\"utf-8\"?>\n",
       "<svg xmlns=\"http://www.w3.org/2000/svg\" xmlns:xlink=\"http://www.w3.org/1999/xlink\" width=\"400\" height=\"300\" viewBox=\"0 0 1600 1200\">\n",
       "<defs>\n",
       "  <clipPath id=\"clip260\">\n",
       "    <rect x=\"0\" y=\"0\" width=\"1600\" height=\"1200\"/>\n",
       "  </clipPath>\n",
       "</defs>\n",
       "<path clip-path=\"url(#clip260)\" d=\"\n",
       "M0 1200 L1600 1200 L1600 0 L0 0  Z\n",
       "  \" fill=\"#ffffff\" fill-rule=\"evenodd\" fill-opacity=\"1\"/>\n",
       "<defs>\n",
       "  <clipPath id=\"clip261\">\n",
       "    <rect x=\"320\" y=\"0\" width=\"1121\" height=\"1121\"/>\n",
       "  </clipPath>\n",
       "</defs>\n",
       "<defs>\n",
       "  <clipPath id=\"clip262\">\n",
       "    <rect x=\"197\" y=\"47\" width=\"1356\" height=\"971\"/>\n",
       "  </clipPath>\n",
       "</defs>\n",
       "<path clip-path=\"url(#clip260)\" d=\"\n",
       "M197.972 1016.92 L1552.76 1016.92 L1552.76 47.2441 L197.972 47.2441  Z\n",
       "  \" fill=\"#ffffff\" fill-rule=\"evenodd\" fill-opacity=\"1\"/>\n",
       "<polyline clip-path=\"url(#clip260)\" style=\"stroke:#000000; stroke-width:4; stroke-opacity:1; fill:none\" points=\"\n",
       "  197.972,1016.92 1552.76,1016.92 \n",
       "  \"/>\n",
       "<polyline clip-path=\"url(#clip260)\" style=\"stroke:#000000; stroke-width:4; stroke-opacity:1; fill:none\" points=\"\n",
       "  197.972,1016.92 197.972,1005.28 \n",
       "  \"/>\n",
       "<polyline clip-path=\"url(#clip260)\" style=\"stroke:#000000; stroke-width:4; stroke-opacity:1; fill:none\" points=\"\n",
       "  536.668,1016.92 536.668,1005.28 \n",
       "  \"/>\n",
       "<polyline clip-path=\"url(#clip260)\" style=\"stroke:#000000; stroke-width:4; stroke-opacity:1; fill:none\" points=\"\n",
       "  875.364,1016.92 875.364,1005.28 \n",
       "  \"/>\n",
       "<polyline clip-path=\"url(#clip260)\" style=\"stroke:#000000; stroke-width:4; stroke-opacity:1; fill:none\" points=\"\n",
       "  1214.06,1016.92 1214.06,1005.28 \n",
       "  \"/>\n",
       "<polyline clip-path=\"url(#clip260)\" style=\"stroke:#000000; stroke-width:4; stroke-opacity:1; fill:none\" points=\"\n",
       "  1552.76,1016.92 1552.76,1005.28 \n",
       "  \"/>\n",
       "<path clip-path=\"url(#clip260)\" d=\"M 0 0 M197.972 1039.71 Q194.361 1039.71 192.532 1043.28 Q190.727 1046.82 190.727 1053.95 Q190.727 1061.05 192.532 1064.62 Q194.361 1068.16 197.972 1068.16 Q201.606 1068.16 203.412 1064.62 Q205.24 1061.05 205.24 1053.95 Q205.24 1046.82 203.412 1043.28 Q201.606 1039.71 197.972 1039.71 M197.972 1036.01 Q203.782 1036.01 206.838 1040.61 Q209.916 1045.2 209.916 1053.95 Q209.916 1062.67 206.838 1067.28 Q203.782 1071.86 197.972 1071.86 Q192.162 1071.86 189.083 1067.28 Q186.028 1062.67 186.028 1053.95 Q186.028 1045.2 189.083 1040.61 Q192.162 1036.01 197.972 1036.01 Z\" fill=\"#000000\" fill-rule=\"evenodd\" fill-opacity=\"1\" /><path clip-path=\"url(#clip260)\" d=\"M 0 0 M527.05 1067.26 L534.689 1067.26 L534.689 1040.89 L526.379 1042.56 L526.379 1038.3 L534.642 1036.63 L539.318 1036.63 L539.318 1067.26 L546.957 1067.26 L546.957 1071.19 L527.05 1071.19 L527.05 1067.26 Z\" fill=\"#000000\" fill-rule=\"evenodd\" fill-opacity=\"1\" /><path clip-path=\"url(#clip260)\" d=\"M 0 0 M870.017 1067.26 L886.336 1067.26 L886.336 1071.19 L864.392 1071.19 L864.392 1067.26 Q867.054 1064.5 871.637 1059.87 Q876.244 1055.22 877.424 1053.88 Q879.669 1051.35 880.549 1049.62 Q881.452 1047.86 881.452 1046.17 Q881.452 1043.41 879.507 1041.68 Q877.586 1039.94 874.484 1039.94 Q872.285 1039.94 869.832 1040.71 Q867.401 1041.47 864.623 1043.02 L864.623 1038.3 Q867.447 1037.16 869.901 1036.59 Q872.355 1036.01 874.392 1036.01 Q879.762 1036.01 882.956 1038.69 Q886.151 1041.38 886.151 1045.87 Q886.151 1048 885.341 1049.92 Q884.554 1051.82 882.447 1054.41 Q881.869 1055.08 878.767 1058.3 Q875.665 1061.49 870.017 1067.26 Z\" fill=\"#000000\" fill-rule=\"evenodd\" fill-opacity=\"1\" /><path clip-path=\"url(#clip260)\" d=\"M 0 0 M1218.31 1052.56 Q1221.66 1053.28 1223.54 1055.54 Q1225.44 1057.81 1225.44 1061.15 Q1225.44 1066.26 1221.92 1069.06 Q1218.4 1071.86 1211.92 1071.86 Q1209.74 1071.86 1207.43 1071.42 Q1205.14 1071.01 1202.68 1070.15 L1202.68 1065.64 Q1204.63 1066.77 1206.94 1067.35 Q1209.26 1067.93 1211.78 1067.93 Q1216.18 1067.93 1218.47 1066.19 Q1220.78 1064.46 1220.78 1061.15 Q1220.78 1058.09 1218.63 1056.38 Q1216.5 1054.64 1212.68 1054.64 L1208.65 1054.64 L1208.65 1050.8 L1212.87 1050.8 Q1216.32 1050.8 1218.15 1049.43 Q1219.97 1048.04 1219.97 1045.45 Q1219.97 1042.79 1218.08 1041.38 Q1216.2 1039.94 1212.68 1039.94 Q1210.76 1039.94 1208.56 1040.36 Q1206.36 1040.78 1203.72 1041.65 L1203.72 1037.49 Q1206.39 1036.75 1208.7 1036.38 Q1211.04 1036.01 1213.1 1036.01 Q1218.42 1036.01 1221.53 1038.44 Q1224.63 1040.84 1224.63 1044.97 Q1224.63 1047.84 1222.98 1049.83 Q1221.34 1051.79 1218.31 1052.56 Z\" fill=\"#000000\" fill-rule=\"evenodd\" fill-opacity=\"1\" /><path clip-path=\"url(#clip260)\" d=\"M 0 0 M1555.77 1040.71 L1543.96 1059.15 L1555.77 1059.15 L1555.77 1040.71 M1554.54 1036.63 L1560.42 1036.63 L1560.42 1059.15 L1565.35 1059.15 L1565.35 1063.04 L1560.42 1063.04 L1560.42 1071.19 L1555.77 1071.19 L1555.77 1063.04 L1540.16 1063.04 L1540.16 1058.53 L1554.54 1036.63 Z\" fill=\"#000000\" fill-rule=\"evenodd\" fill-opacity=\"1\" /><path clip-path=\"url(#clip260)\" d=\"M 0 0 M677.279 1102.26 L686.859 1102.26 L698.986 1134.6 L711.176 1102.26 L720.757 1102.26 L720.757 1149.78 L714.487 1149.78 L714.487 1108.06 L702.233 1140.65 L695.771 1140.65 L683.517 1108.06 L683.517 1149.78 L677.279 1149.78 L677.279 1102.26 Z\" fill=\"#000000\" fill-rule=\"evenodd\" fill-opacity=\"1\" /><path clip-path=\"url(#clip260)\" d=\"M 0 0 M743.1 1131.86 Q736.003 1131.86 733.265 1133.49 Q730.528 1135.11 730.528 1139.03 Q730.528 1142.14 732.565 1143.99 Q734.634 1145.81 738.167 1145.81 Q743.037 1145.81 745.965 1142.37 Q748.925 1138.9 748.925 1133.17 L748.925 1131.86 L743.1 1131.86 M754.782 1129.45 L754.782 1149.78 L748.925 1149.78 L748.925 1144.37 Q746.92 1147.62 743.928 1149.18 Q740.936 1150.71 736.607 1150.71 Q731.133 1150.71 727.886 1147.65 Q724.672 1144.56 724.672 1139.41 Q724.672 1133.39 728.682 1130.34 Q732.724 1127.28 740.713 1127.28 L748.925 1127.28 L748.925 1126.71 Q748.925 1122.67 746.251 1120.47 Q743.61 1118.24 738.804 1118.24 Q735.748 1118.24 732.852 1118.97 Q729.955 1119.71 727.282 1121.17 L727.282 1115.76 Q730.496 1114.52 733.52 1113.91 Q736.544 1113.28 739.408 1113.28 Q747.143 1113.28 750.962 1117.29 Q754.782 1121.3 754.782 1129.45 Z\" fill=\"#000000\" fill-rule=\"evenodd\" fill-opacity=\"1\" /><path clip-path=\"url(#clip260)\" d=\"M 0 0 M786.578 1115.5 L786.578 1120.98 Q784.096 1119.61 781.581 1118.94 Q779.099 1118.24 776.552 1118.24 Q770.855 1118.24 767.704 1121.87 Q764.553 1125.47 764.553 1131.99 Q764.553 1138.52 767.704 1142.14 Q770.855 1145.74 776.552 1145.74 Q779.099 1145.74 781.581 1145.07 Q784.096 1144.37 786.578 1143 L786.578 1148.42 Q784.127 1149.56 781.486 1150.13 Q778.876 1150.71 775.916 1150.71 Q767.863 1150.71 763.121 1145.65 Q758.378 1140.59 758.378 1131.99 Q758.378 1123.27 763.152 1118.27 Q767.959 1113.28 776.298 1113.28 Q779.003 1113.28 781.581 1113.85 Q784.159 1114.39 786.578 1115.5 Z\" fill=\"#000000\" fill-rule=\"evenodd\" fill-opacity=\"1\" /><path clip-path=\"url(#clip260)\" d=\"M 0 0 M822.353 1128.27 L822.353 1149.78 L816.497 1149.78 L816.497 1128.46 Q816.497 1123.4 814.524 1120.88 Q812.55 1118.37 808.604 1118.37 Q803.861 1118.37 801.124 1121.39 Q798.387 1124.42 798.387 1129.64 L798.387 1149.78 L792.498 1149.78 L792.498 1100.26 L798.387 1100.26 L798.387 1119.67 Q800.487 1116.46 803.32 1114.87 Q806.185 1113.28 809.909 1113.28 Q816.051 1113.28 819.202 1117.1 Q822.353 1120.88 822.353 1128.27 Z\" fill=\"#000000\" fill-rule=\"evenodd\" fill-opacity=\"1\" /><path clip-path=\"url(#clip260)\" d=\"M 0 0 M878.849 1128.27 L878.849 1149.78 L872.993 1149.78 L872.993 1128.46 Q872.993 1123.4 871.019 1120.88 Q869.046 1118.37 865.099 1118.37 Q860.357 1118.37 857.619 1121.39 Q854.882 1124.42 854.882 1129.64 L854.882 1149.78 L848.994 1149.78 L848.994 1114.14 L854.882 1114.14 L854.882 1119.67 Q856.983 1116.46 859.816 1114.87 Q862.68 1113.28 866.404 1113.28 Q872.547 1113.28 875.698 1117.1 Q878.849 1120.88 878.849 1128.27 Z\" fill=\"#000000\" fill-rule=\"evenodd\" fill-opacity=\"1\" /><path clip-path=\"url(#clip260)\" d=\"M 0 0 M884.387 1135.72 L884.387 1114.14 L890.244 1114.14 L890.244 1135.49 Q890.244 1140.55 892.217 1143.1 Q894.19 1145.61 898.137 1145.61 Q902.88 1145.61 905.617 1142.59 Q908.386 1139.57 908.386 1134.35 L908.386 1114.14 L914.242 1114.14 L914.242 1149.78 L908.386 1149.78 L908.386 1144.31 Q906.253 1147.56 903.421 1149.15 Q900.62 1150.71 896.896 1150.71 Q890.753 1150.71 887.57 1146.89 Q884.387 1143.07 884.387 1135.72 M899.124 1113.28 L899.124 1113.28 Z\" fill=\"#000000\" fill-rule=\"evenodd\" fill-opacity=\"1\" /><path clip-path=\"url(#clip260)\" d=\"M 0 0 M948.14 1120.98 Q950.336 1117.03 953.392 1115.15 Q956.447 1113.28 960.585 1113.28 Q966.155 1113.28 969.179 1117.19 Q972.202 1121.07 972.202 1128.27 L972.202 1149.78 L966.314 1149.78 L966.314 1128.46 Q966.314 1123.33 964.5 1120.85 Q962.685 1118.37 958.962 1118.37 Q954.41 1118.37 951.768 1121.39 Q949.127 1124.42 949.127 1129.64 L949.127 1149.78 L943.238 1149.78 L943.238 1128.46 Q943.238 1123.3 941.424 1120.85 Q939.61 1118.37 935.822 1118.37 Q931.334 1118.37 928.693 1121.42 Q926.051 1124.45 926.051 1129.64 L926.051 1149.78 L920.163 1149.78 L920.163 1114.14 L926.051 1114.14 L926.051 1119.67 Q928.056 1116.4 930.857 1114.84 Q933.658 1113.28 937.509 1113.28 Q941.392 1113.28 944.098 1115.25 Q946.835 1117.22 948.14 1120.98 Z\" fill=\"#000000\" fill-rule=\"evenodd\" fill-opacity=\"1\" /><path clip-path=\"url(#clip260)\" d=\"M 0 0 M1003.94 1131.99 Q1003.94 1125.53 1001.26 1121.87 Q998.62 1118.18 993.973 1118.18 Q989.326 1118.18 986.652 1121.87 Q984.011 1125.53 984.011 1131.99 Q984.011 1138.45 986.652 1142.14 Q989.326 1145.81 993.973 1145.81 Q998.62 1145.81 1001.26 1142.14 Q1003.94 1138.45 1003.94 1131.99 M984.011 1119.55 Q985.857 1116.36 988.658 1114.84 Q991.49 1113.28 995.405 1113.28 Q1001.9 1113.28 1005.94 1118.43 Q1010.01 1123.59 1010.01 1131.99 Q1010.01 1140.39 1005.94 1145.55 Q1001.9 1150.71 995.405 1150.71 Q991.49 1150.71 988.658 1149.18 Q985.857 1147.62 984.011 1144.44 L984.011 1149.78 L978.122 1149.78 L978.122 1100.26 L984.011 1100.26 L984.011 1119.55 Z\" fill=\"#000000\" fill-rule=\"evenodd\" fill-opacity=\"1\" /><path clip-path=\"url(#clip260)\" d=\"M 0 0 M1046.65 1130.5 L1046.65 1133.36 L1019.72 1133.36 Q1020.1 1139.41 1023.35 1142.59 Q1026.63 1145.74 1032.45 1145.74 Q1035.83 1145.74 1038.98 1144.91 Q1042.16 1144.09 1045.28 1142.43 L1045.28 1147.97 Q1042.13 1149.31 1038.82 1150.01 Q1035.51 1150.71 1032.1 1150.71 Q1023.57 1150.71 1018.58 1145.74 Q1013.61 1140.78 1013.61 1132.31 Q1013.61 1123.56 1018.32 1118.43 Q1023.06 1113.28 1031.09 1113.28 Q1038.28 1113.28 1042.45 1117.92 Q1046.65 1122.54 1046.65 1130.5 M1040.79 1128.78 Q1040.73 1123.97 1038.09 1121.11 Q1035.48 1118.24 1031.15 1118.24 Q1026.25 1118.24 1023.29 1121.01 Q1020.36 1123.78 1019.91 1128.81 L1040.79 1128.78 Z\" fill=\"#000000\" fill-rule=\"evenodd\" fill-opacity=\"1\" /><path clip-path=\"url(#clip260)\" d=\"M 0 0 M1073.45 1119.61 Q1072.46 1119.04 1071.28 1118.78 Q1070.14 1118.5 1068.74 1118.5 Q1063.77 1118.5 1061.1 1121.74 Q1058.46 1124.96 1058.46 1131.01 L1058.46 1149.78 L1052.57 1149.78 L1052.57 1114.14 L1058.46 1114.14 L1058.46 1119.67 Q1060.3 1116.43 1063.26 1114.87 Q1066.22 1113.28 1070.46 1113.28 Q1071.06 1113.28 1071.79 1113.37 Q1072.53 1113.44 1073.42 1113.59 L1073.45 1119.61 Z\" fill=\"#000000\" fill-rule=\"evenodd\" fill-opacity=\"1\" /><polyline clip-path=\"url(#clip260)\" style=\"stroke:#000000; stroke-width:4; stroke-opacity:1; fill:none\" points=\"\n",
       "  197.972,1016.92 197.972,47.2441 \n",
       "  \"/>\n",
       "<polyline clip-path=\"url(#clip260)\" style=\"stroke:#000000; stroke-width:4; stroke-opacity:1; fill:none\" points=\"\n",
       "  197.972,1016.92 214.229,1016.92 \n",
       "  \"/>\n",
       "<polyline clip-path=\"url(#clip260)\" style=\"stroke:#000000; stroke-width:4; stroke-opacity:1; fill:none\" points=\"\n",
       "  197.972,936.114 214.229,936.114 \n",
       "  \"/>\n",
       "<polyline clip-path=\"url(#clip260)\" style=\"stroke:#000000; stroke-width:4; stroke-opacity:1; fill:none\" points=\"\n",
       "  197.972,855.307 214.229,855.307 \n",
       "  \"/>\n",
       "<polyline clip-path=\"url(#clip260)\" style=\"stroke:#000000; stroke-width:4; stroke-opacity:1; fill:none\" points=\"\n",
       "  197.972,774.501 214.229,774.501 \n",
       "  \"/>\n",
       "<polyline clip-path=\"url(#clip260)\" style=\"stroke:#000000; stroke-width:4; stroke-opacity:1; fill:none\" points=\"\n",
       "  197.972,693.695 214.229,693.695 \n",
       "  \"/>\n",
       "<polyline clip-path=\"url(#clip260)\" style=\"stroke:#000000; stroke-width:4; stroke-opacity:1; fill:none\" points=\"\n",
       "  197.972,612.888 214.229,612.888 \n",
       "  \"/>\n",
       "<polyline clip-path=\"url(#clip260)\" style=\"stroke:#000000; stroke-width:4; stroke-opacity:1; fill:none\" points=\"\n",
       "  197.972,532.082 214.229,532.082 \n",
       "  \"/>\n",
       "<polyline clip-path=\"url(#clip260)\" style=\"stroke:#000000; stroke-width:4; stroke-opacity:1; fill:none\" points=\"\n",
       "  197.972,451.276 214.229,451.276 \n",
       "  \"/>\n",
       "<polyline clip-path=\"url(#clip260)\" style=\"stroke:#000000; stroke-width:4; stroke-opacity:1; fill:none\" points=\"\n",
       "  197.972,370.469 214.229,370.469 \n",
       "  \"/>\n",
       "<polyline clip-path=\"url(#clip260)\" style=\"stroke:#000000; stroke-width:4; stroke-opacity:1; fill:none\" points=\"\n",
       "  197.972,289.663 214.229,289.663 \n",
       "  \"/>\n",
       "<polyline clip-path=\"url(#clip260)\" style=\"stroke:#000000; stroke-width:4; stroke-opacity:1; fill:none\" points=\"\n",
       "  197.972,208.857 214.229,208.857 \n",
       "  \"/>\n",
       "<polyline clip-path=\"url(#clip260)\" style=\"stroke:#000000; stroke-width:4; stroke-opacity:1; fill:none\" points=\"\n",
       "  197.972,128.05 214.229,128.05 \n",
       "  \"/>\n",
       "<polyline clip-path=\"url(#clip260)\" style=\"stroke:#000000; stroke-width:4; stroke-opacity:1; fill:none\" points=\"\n",
       "  197.972,47.2441 214.229,47.2441 \n",
       "  \"/>\n",
       "<path clip-path=\"url(#clip260)\" d=\"M 0 0 M162.028 1002.72 Q158.416 1002.72 156.588 1006.28 Q154.782 1009.82 154.782 1016.95 Q154.782 1024.06 156.588 1027.63 Q158.416 1031.17 162.028 1031.17 Q165.662 1031.17 167.467 1027.63 Q169.296 1024.06 169.296 1016.95 Q169.296 1009.82 167.467 1006.28 Q165.662 1002.72 162.028 1002.72 M162.028 999.015 Q167.838 999.015 170.893 1003.62 Q173.972 1008.2 173.972 1016.95 Q173.972 1025.68 170.893 1030.29 Q167.838 1034.87 162.028 1034.87 Q156.217 1034.87 153.139 1030.29 Q150.083 1025.68 150.083 1016.95 Q150.083 1008.2 153.139 1003.62 Q156.217 999.015 162.028 999.015 Z\" fill=\"#000000\" fill-rule=\"evenodd\" fill-opacity=\"1\" /><path clip-path=\"url(#clip260)\" d=\"M 0 0 M154.065 949.458 L161.703 949.458 L161.703 923.093 L153.393 924.759 L153.393 920.5 L161.657 918.834 L166.333 918.834 L166.333 949.458 L173.972 949.458 L173.972 953.394 L154.065 953.394 L154.065 949.458 Z\" fill=\"#000000\" fill-rule=\"evenodd\" fill-opacity=\"1\" /><path clip-path=\"url(#clip260)\" d=\"M 0 0 M157.653 868.652 L173.972 868.652 L173.972 872.587 L152.028 872.587 L152.028 868.652 Q154.69 865.897 159.273 861.268 Q163.879 856.615 165.06 855.272 Q167.305 852.749 168.185 851.013 Q169.088 849.254 169.088 847.564 Q169.088 844.81 167.143 843.073 Q165.222 841.337 162.12 841.337 Q159.921 841.337 157.467 842.101 Q155.037 842.865 152.259 844.416 L152.259 839.694 Q155.083 838.56 157.537 837.981 Q159.99 837.402 162.028 837.402 Q167.398 837.402 170.592 840.087 Q173.787 842.773 173.787 847.263 Q173.787 849.393 172.977 851.314 Q172.19 853.212 170.083 855.805 Q169.504 856.476 166.403 859.694 Q163.301 862.888 157.653 868.652 Z\" fill=\"#000000\" fill-rule=\"evenodd\" fill-opacity=\"1\" /><path clip-path=\"url(#clip260)\" d=\"M 0 0 M166.842 773.147 Q170.199 773.864 172.074 776.133 Q173.972 778.401 173.972 781.735 Q173.972 786.85 170.453 789.651 Q166.935 792.452 160.453 792.452 Q158.278 792.452 155.963 792.012 Q153.671 791.596 151.217 790.739 L151.217 786.225 Q153.162 787.36 155.477 787.938 Q157.791 788.517 160.315 788.517 Q164.713 788.517 167.004 786.781 Q169.319 785.045 169.319 781.735 Q169.319 778.679 167.166 776.966 Q165.037 775.23 161.217 775.23 L157.19 775.23 L157.19 771.387 L161.403 771.387 Q164.852 771.387 166.68 770.022 Q168.509 768.633 168.509 766.04 Q168.509 763.378 166.611 761.966 Q164.736 760.531 161.217 760.531 Q159.296 760.531 157.097 760.948 Q154.898 761.364 152.259 762.244 L152.259 758.077 Q154.921 757.337 157.236 756.966 Q159.574 756.596 161.634 756.596 Q166.958 756.596 170.06 759.026 Q173.162 761.434 173.162 765.554 Q173.162 768.425 171.518 770.415 Q169.875 772.383 166.842 773.147 Z\" fill=\"#000000\" fill-rule=\"evenodd\" fill-opacity=\"1\" /><path clip-path=\"url(#clip260)\" d=\"M 0 0 M164.389 680.489 L152.583 698.938 L164.389 698.938 L164.389 680.489 M163.162 676.415 L169.041 676.415 L169.041 698.938 L173.972 698.938 L173.972 702.826 L169.041 702.826 L169.041 710.975 L164.389 710.975 L164.389 702.826 L148.787 702.826 L148.787 698.313 L163.162 676.415 Z\" fill=\"#000000\" fill-rule=\"evenodd\" fill-opacity=\"1\" /><path clip-path=\"url(#clip260)\" d=\"M 0 0 M153.069 595.608 L171.426 595.608 L171.426 599.543 L157.352 599.543 L157.352 608.016 Q158.37 607.668 159.389 607.506 Q160.407 607.321 161.426 607.321 Q167.213 607.321 170.592 610.492 Q173.972 613.664 173.972 619.08 Q173.972 624.659 170.5 627.761 Q167.027 630.84 160.708 630.84 Q158.532 630.84 156.264 630.469 Q154.018 630.099 151.611 629.358 L151.611 624.659 Q153.694 625.793 155.916 626.349 Q158.139 626.904 160.615 626.904 Q164.62 626.904 166.958 624.798 Q169.296 622.691 169.296 619.08 Q169.296 615.469 166.958 613.363 Q164.62 611.256 160.615 611.256 Q158.741 611.256 156.866 611.673 Q155.014 612.09 153.069 612.969 L153.069 595.608 Z\" fill=\"#000000\" fill-rule=\"evenodd\" fill-opacity=\"1\" /><path clip-path=\"url(#clip260)\" d=\"M 0 0 M162.444 530.219 Q159.296 530.219 157.444 532.371 Q155.616 534.524 155.616 538.274 Q155.616 542.001 157.444 544.177 Q159.296 546.33 162.444 546.33 Q165.592 546.33 167.421 544.177 Q169.273 542.001 169.273 538.274 Q169.273 534.524 167.421 532.371 Q165.592 530.219 162.444 530.219 M171.727 515.566 L171.727 519.825 Q169.967 518.992 168.162 518.552 Q166.379 518.112 164.62 518.112 Q159.99 518.112 157.537 521.237 Q155.106 524.362 154.759 530.682 Q156.125 528.668 158.185 527.603 Q160.245 526.515 162.722 526.515 Q167.93 526.515 170.94 529.686 Q173.972 532.834 173.972 538.274 Q173.972 543.598 170.824 546.816 Q167.676 550.033 162.444 550.033 Q156.449 550.033 153.278 545.45 Q150.106 540.843 150.106 532.117 Q150.106 523.922 153.995 519.061 Q157.884 514.177 164.435 514.177 Q166.194 514.177 167.977 514.524 Q169.782 514.871 171.727 515.566 Z\" fill=\"#000000\" fill-rule=\"evenodd\" fill-opacity=\"1\" /><path clip-path=\"url(#clip260)\" d=\"M 0 0 M151.75 433.996 L173.972 433.996 L173.972 435.986 L161.426 468.556 L156.541 468.556 L168.347 437.931 L151.75 437.931 L151.75 433.996 Z\" fill=\"#000000\" fill-rule=\"evenodd\" fill-opacity=\"1\" /><path clip-path=\"url(#clip260)\" d=\"M 0 0 M162.12 371.337 Q158.787 371.337 156.866 373.12 Q154.967 374.902 154.967 378.027 Q154.967 381.152 156.866 382.935 Q158.787 384.717 162.12 384.717 Q165.453 384.717 167.375 382.935 Q169.296 381.129 169.296 378.027 Q169.296 374.902 167.375 373.12 Q165.477 371.337 162.12 371.337 M157.444 369.347 Q154.435 368.606 152.745 366.546 Q151.079 364.486 151.079 361.523 Q151.079 357.379 154.018 354.972 Q156.981 352.564 162.12 352.564 Q167.282 352.564 170.222 354.972 Q173.162 357.379 173.162 361.523 Q173.162 364.486 171.472 366.546 Q169.805 368.606 166.819 369.347 Q170.199 370.134 172.074 372.425 Q173.972 374.717 173.972 378.027 Q173.972 383.05 170.893 385.735 Q167.838 388.421 162.12 388.421 Q156.403 388.421 153.324 385.735 Q150.268 383.05 150.268 378.027 Q150.268 374.717 152.166 372.425 Q154.065 370.134 157.444 369.347 M155.731 361.962 Q155.731 364.648 157.398 366.152 Q159.088 367.657 162.12 367.657 Q165.129 367.657 166.819 366.152 Q168.532 364.648 168.532 361.962 Q168.532 359.277 166.819 357.773 Q165.129 356.268 162.12 356.268 Q159.088 356.268 157.398 357.773 Q155.731 359.277 155.731 361.962 Z\" fill=\"#000000\" fill-rule=\"evenodd\" fill-opacity=\"1\" /><path clip-path=\"url(#clip260)\" d=\"M 0 0 M152.352 306.225 L152.352 301.966 Q154.111 302.8 155.916 303.239 Q157.722 303.679 159.458 303.679 Q164.088 303.679 166.518 300.577 Q168.972 297.452 169.319 291.11 Q167.977 293.101 165.916 294.165 Q163.856 295.23 161.356 295.23 Q156.171 295.23 153.139 292.105 Q150.129 288.957 150.129 283.517 Q150.129 278.193 153.278 274.976 Q156.426 271.758 161.657 271.758 Q167.652 271.758 170.801 276.364 Q173.972 280.948 173.972 289.698 Q173.972 297.869 170.083 302.753 Q166.217 307.614 159.666 307.614 Q157.907 307.614 156.102 307.267 Q154.296 306.92 152.352 306.225 M161.657 291.573 Q164.805 291.573 166.634 289.42 Q168.486 287.267 168.486 283.517 Q168.486 279.79 166.634 277.638 Q164.805 275.462 161.657 275.462 Q158.509 275.462 156.657 277.638 Q154.828 279.79 154.828 283.517 Q154.828 287.267 156.657 289.42 Q158.509 291.573 161.657 291.573 Z\" fill=\"#000000\" fill-rule=\"evenodd\" fill-opacity=\"1\" /><path clip-path=\"url(#clip260)\" d=\"M 0 0 M127.051 222.202 L134.69 222.202 L134.69 195.836 L126.38 197.503 L126.38 193.243 L134.643 191.577 L139.319 191.577 L139.319 222.202 L146.958 222.202 L146.958 226.137 L127.051 226.137 L127.051 222.202 Z\" fill=\"#000000\" fill-rule=\"evenodd\" fill-opacity=\"1\" /><path clip-path=\"url(#clip260)\" d=\"M 0 0 M162.028 194.655 Q158.416 194.655 156.588 198.22 Q154.782 201.762 154.782 208.891 Q154.782 215.998 156.588 219.563 Q158.416 223.104 162.028 223.104 Q165.662 223.104 167.467 219.563 Q169.296 215.998 169.296 208.891 Q169.296 201.762 167.467 198.22 Q165.662 194.655 162.028 194.655 M162.028 190.952 Q167.838 190.952 170.893 195.558 Q173.972 200.141 173.972 208.891 Q173.972 217.618 170.893 222.225 Q167.838 226.808 162.028 226.808 Q156.217 226.808 153.139 222.225 Q150.083 217.618 150.083 208.891 Q150.083 200.141 153.139 195.558 Q156.217 190.952 162.028 190.952 Z\" fill=\"#000000\" fill-rule=\"evenodd\" fill-opacity=\"1\" /><path clip-path=\"url(#clip260)\" d=\"M 0 0 M128.278 141.395 L135.917 141.395 L135.917 115.03 L127.606 116.696 L127.606 112.437 L135.87 110.77 L140.546 110.77 L140.546 141.395 L148.185 141.395 L148.185 145.33 L128.278 145.33 L128.278 141.395 Z\" fill=\"#000000\" fill-rule=\"evenodd\" fill-opacity=\"1\" /><path clip-path=\"url(#clip260)\" d=\"M 0 0 M154.065 141.395 L161.703 141.395 L161.703 115.03 L153.393 116.696 L153.393 112.437 L161.657 110.77 L166.333 110.77 L166.333 141.395 L173.972 141.395 L173.972 145.33 L154.065 145.33 L154.065 141.395 Z\" fill=\"#000000\" fill-rule=\"evenodd\" fill-opacity=\"1\" /><path clip-path=\"url(#clip260)\" d=\"M 0 0 M128.648 60.5889 L136.287 60.5889 L136.287 34.2233 L127.977 35.89 L127.977 31.6308 L136.241 29.9641 L140.917 29.9641 L140.917 60.5889 L148.555 60.5889 L148.555 64.5241 L128.648 64.5241 L128.648 60.5889 Z\" fill=\"#000000\" fill-rule=\"evenodd\" fill-opacity=\"1\" /><path clip-path=\"url(#clip260)\" d=\"M 0 0 M157.653 60.5889 L173.972 60.5889 L173.972 64.5241 L152.028 64.5241 L152.028 60.5889 Q154.69 57.8343 159.273 53.2047 Q163.879 48.552 165.06 47.2094 Q167.305 44.6862 168.185 42.9501 Q169.088 41.1909 169.088 39.5011 Q169.088 36.7465 167.143 35.0104 Q165.222 33.2743 162.12 33.2743 Q159.921 33.2743 157.467 34.0381 Q155.037 34.802 152.259 36.3529 L152.259 31.6308 Q155.083 30.4965 157.537 29.9178 Q159.99 29.3391 162.028 29.3391 Q167.398 29.3391 170.592 32.0243 Q173.787 34.7094 173.787 39.2002 Q173.787 41.3298 172.977 43.2511 Q172.19 45.1492 170.083 47.7418 Q169.504 48.4131 166.403 51.6306 Q163.301 54.8251 157.653 60.5889 Z\" fill=\"#000000\" fill-rule=\"evenodd\" fill-opacity=\"1\" /><path clip-path=\"url(#clip260)\" d=\"M 0 0 M83.1668 581.356 Q83.7787 581.356 84.1008 581.614 Q84.3907 581.839 84.4551 582.065 Q84.4873 582.258 84.4873 582.548 Q84.4873 583.385 84.3907 586.283 Q84.294 589.182 84.294 590.019 Q84.294 591.372 84.3907 594.142 Q84.4873 596.911 84.4873 598.264 Q84.4873 599.166 83.7465 599.166 Q83.2635 599.166 83.0058 599.069 Q82.716 598.973 82.6193 598.715 Q82.4905 598.425 82.4905 598.264 Q82.4583 598.071 82.4583 597.588 Q82.4583 596.944 82.3939 596.267 Q82.2973 595.591 82.104 594.754 Q81.9108 593.916 81.4277 593.401 Q80.9446 592.853 80.2683 592.853 Q79.9785 592.853 77.5952 593.079 Q75.212 593.304 72.4423 593.594 Q69.6404 593.884 69.2539 593.916 L69.2539 610.47 Q71.8626 611.984 73.6661 613.047 Q75.4696 614.109 76.0815 614.496 Q76.6935 614.882 77.0799 615.108 Q77.4664 615.333 77.6918 615.462 Q79.3987 616.396 80.1395 616.396 Q82.2007 616.396 82.4583 613.304 Q82.4583 612.241 83.2312 612.241 Q83.811 612.241 84.133 612.499 Q84.4229 612.757 84.4551 612.982 Q84.4873 613.175 84.4873 613.497 Q84.4873 614.56 84.3907 616.782 Q84.294 619.005 84.294 620.1 Q84.294 621.034 84.3907 622.966 Q84.4873 624.898 84.4873 625.768 Q84.4873 626.154 84.2618 626.38 Q84.0364 626.605 83.7465 626.605 Q83.2957 626.605 83.038 626.541 Q82.7804 626.444 82.6515 626.187 Q82.5227 625.929 82.5227 625.8 Q82.4905 625.671 82.4583 625.22 Q82.2973 622.773 81.1379 620.873 Q79.9462 618.94 76.8867 617.104 L38.3685 594.174 Q37.982 593.948 37.7888 593.787 Q37.5955 593.626 37.4345 593.304 Q37.2735 592.95 37.2735 592.435 Q37.2735 591.63 37.5311 591.469 Q37.7566 591.308 38.8516 591.211 L80.0751 587.185 Q80.9446 587.089 81.2989 587.024 Q81.621 586.928 81.9752 586.509 Q82.2973 586.058 82.3939 585.253 Q82.4583 584.416 82.4583 582.87 Q82.4583 582.29 82.4905 582.065 Q82.4905 581.839 82.6515 581.614 Q82.8126 581.356 83.1668 581.356 M67.1927 594.11 L45.4538 596.203 L67.1927 609.214 L67.1927 594.11 Z\" fill=\"#000000\" fill-rule=\"evenodd\" fill-opacity=\"1\" /><path clip-path=\"url(#clip260)\" d=\"M 0 0 M100.043 577.605 Q99.7206 577.605 99.0121 577.348 L36.7904 554.063 Q36.726 554.063 36.3717 553.902 Q36.0175 553.741 35.792 553.644 Q35.5344 553.547 35.3411 553.354 Q35.1479 553.129 35.1479 552.871 Q35.1479 552.227 35.953 552.227 Q36.0175 552.227 36.7904 552.42 L99.0765 575.769 Q100.204 576.156 100.526 576.414 Q100.848 576.639 100.848 577.026 Q100.848 577.605 100.043 577.605 Z\" fill=\"#000000\" fill-rule=\"evenodd\" fill-opacity=\"1\" /><path clip-path=\"url(#clip260)\" d=\"M 0 0 M83.1668 499.689 Q83.7787 499.689 84.1008 499.947 Q84.3907 500.172 84.4551 500.398 Q84.4873 500.591 84.4873 500.881 Q84.4873 501.718 84.3907 504.617 Q84.294 507.515 84.294 508.353 Q84.294 509.705 84.3907 512.475 Q84.4873 515.245 84.4873 516.597 Q84.4873 517.499 83.7465 517.499 Q83.2635 517.499 83.0058 517.403 Q82.716 517.306 82.6193 517.048 Q82.4905 516.758 82.4905 516.597 Q82.4583 516.404 82.4583 515.921 Q82.4583 515.277 82.3939 514.601 Q82.2973 513.924 82.104 513.087 Q81.9108 512.25 81.4277 511.734 Q80.9446 511.187 80.2683 511.187 Q79.9785 511.187 77.5952 511.412 Q75.212 511.638 72.4423 511.928 Q69.6404 512.217 69.2539 512.25 L69.2539 528.803 Q71.8626 530.317 73.6661 531.38 Q75.4696 532.443 76.0815 532.829 Q76.6935 533.216 77.0799 533.441 Q77.4664 533.667 77.6918 533.795 Q79.3987 534.729 80.1395 534.729 Q82.2007 534.729 82.4583 531.638 Q82.4583 530.575 83.2312 530.575 Q83.811 530.575 84.133 530.832 Q84.4229 531.09 84.4551 531.315 Q84.4873 531.509 84.4873 531.831 Q84.4873 532.894 84.3907 535.116 Q84.294 537.338 84.294 538.433 Q84.294 539.367 84.3907 541.299 Q84.4873 543.232 84.4873 544.101 Q84.4873 544.488 84.2618 544.713 Q84.0364 544.939 83.7465 544.939 Q83.2957 544.939 83.038 544.874 Q82.7804 544.778 82.6515 544.52 Q82.5227 544.262 82.5227 544.133 Q82.4905 544.005 82.4583 543.554 Q82.2973 541.106 81.1379 539.206 Q79.9462 537.274 76.8867 535.438 L38.3685 512.507 Q37.982 512.282 37.7888 512.121 Q37.5955 511.96 37.4345 511.638 Q37.2735 511.283 37.2735 510.768 Q37.2735 509.963 37.5311 509.802 Q37.7566 509.641 38.8516 509.544 L80.0751 505.519 Q80.9446 505.422 81.2989 505.358 Q81.621 505.261 81.9752 504.842 Q82.2973 504.391 82.3939 503.586 Q82.4583 502.749 82.4583 501.203 Q82.4583 500.623 82.4905 500.398 Q82.4905 500.172 82.6515 499.947 Q82.8126 499.689 83.1668 499.689 M67.1927 512.443 L45.4538 514.536 L67.1927 527.547 L67.1927 512.443 Z\" fill=\"#000000\" fill-rule=\"evenodd\" fill-opacity=\"1\" /><path clip-path=\"url(#clip260)\" d=\"M 0 0 M89.4408 480.276 Q88.6518 480.276 88.1333 479.216 L85.0898 472.791 L82.0464 479.306 Q81.5955 480.276 80.8064 480.276 Q80.3556 480.276 79.9498 479.915 Q79.5214 479.532 79.5214 479.036 Q79.5214 478.675 80.0174 478.021 L84.1655 472.295 Q76.5456 472.994 76.3202 472.971 Q75.8693 472.971 75.5311 472.633 Q75.1704 472.295 75.1704 471.732 Q75.1704 471.281 75.5086 470.92 Q75.8242 470.537 76.3202 470.537 L84.1655 471.213 L80.3781 466.095 Q79.4989 464.901 79.5214 464.472 Q79.5214 463.954 79.9272 463.593 Q80.333 463.232 80.8064 463.232 Q81.5955 463.232 82.0915 464.292 L85.1349 470.717 L88.2009 464.202 Q88.6518 463.232 89.4408 463.232 Q89.8917 463.232 90.3201 463.616 Q90.7258 463.976 90.7258 464.472 Q90.7258 464.743 90.4553 465.216 Q90.4102 465.306 89.6888 466.276 Q88.9674 467.245 87.8627 468.756 Q86.7581 470.244 86.0592 471.213 Q93.6791 470.514 93.9046 470.537 Q94.3554 470.537 94.7162 470.875 Q95.0769 471.213 95.0769 471.777 Q95.0769 472.227 94.7612 472.611 Q94.4231 472.971 93.9046 472.971 L86.0592 472.295 L90.7258 478.743 Q90.7258 479.442 90.3877 479.825 Q90.027 480.186 89.8241 480.231 Q89.6212 480.276 89.4408 480.276 Z\" fill=\"#000000\" fill-rule=\"evenodd\" fill-opacity=\"1\" /><polyline clip-path=\"url(#clip262)\" style=\"stroke:#009af9; stroke-width:4; stroke-opacity:1; fill:none\" points=\"\n",
       "  201.359,-3659.65 204.746,-1321.79 208.133,-542.686 211.52,-153.276 214.907,80.258 218.294,235.853 221.681,346.912 225.068,430.136 228.455,494.803 231.842,546.479 \n",
       "  235.228,588.709 238.615,623.852 242.002,653.545 245.389,678.956 248.776,700.939 252.163,720.139 255.55,737.046 258.937,752.043 262.324,765.43 265.711,777.449 \n",
       "  269.098,788.295 272.485,798.129 275.872,807.081 279.259,815.263 282.646,822.766 286.033,829.668 289.42,836.037 292.807,841.929 296.194,847.394 299.581,852.474 \n",
       "  302.968,857.206 306.355,861.622 309.742,865.752 313.129,869.62 316.516,873.249 319.902,876.658 323.289,879.865 326.676,882.887 330.063,885.736 333.45,888.426 \n",
       "  336.837,890.969 340.224,893.375 343.611,895.652 346.998,897.811 350.385,899.858 353.772,901.801 357.159,903.646 360.546,905.399 363.933,907.066 367.32,908.652 \n",
       "  370.707,910.161 374.094,911.598 377.481,912.966 380.868,914.27 384.255,915.512 387.642,916.696 391.029,917.825 394.416,918.901 397.803,919.927 401.19,920.906 \n",
       "  404.576,921.839 407.963,922.728 411.35,923.576 414.737,924.385 418.124,925.155 421.511,925.889 424.898,926.588 428.285,927.253 431.672,927.886 435.059,928.488 \n",
       "  438.446,929.06 441.833,929.603 445.22,930.118 448.607,930.607 451.994,931.07 455.381,931.508 458.768,931.921 462.155,932.311 465.542,932.679 468.929,933.024 \n",
       "  472.316,933.348 475.703,933.652 479.09,933.935 482.477,934.199 485.864,934.443 489.25,934.669 492.637,934.877 496.024,935.068 499.411,935.241 502.798,935.397 \n",
       "  506.185,935.537 509.572,935.661 512.959,935.769 516.346,935.862 519.733,935.94 523.12,936.003 526.507,936.052 529.894,936.086 533.281,936.107 536.668,936.114 \n",
       "  540.055,936.107 543.442,936.087 546.829,936.054 550.216,936.008 553.603,935.95 556.99,935.879 560.377,935.795 563.764,935.7 567.151,935.592 570.538,935.473 \n",
       "  573.924,935.342 577.311,935.199 580.698,935.045 584.085,934.88 587.472,934.703 590.859,934.515 594.246,934.316 597.633,934.106 601.02,933.885 604.407,933.654 \n",
       "  607.794,933.411 611.181,933.158 614.568,932.895 617.955,932.62 621.342,932.336 624.729,932.04 628.116,931.735 631.503,931.419 634.89,931.092 638.277,930.756 \n",
       "  641.664,930.409 645.051,930.052 648.438,929.684 651.825,929.307 655.212,928.919 658.598,928.521 661.985,928.112 665.372,927.694 668.759,927.266 672.146,926.827 \n",
       "  675.533,926.378 678.92,925.919 682.307,925.45 685.694,924.97 689.081,924.48 692.468,923.98 695.855,923.47 699.242,922.95 702.629,922.419 706.016,921.878 \n",
       "  709.403,921.327 712.79,920.765 716.177,920.193 719.564,919.61 722.951,919.017 726.338,918.413 729.725,917.799 733.112,917.174 736.499,916.539 739.886,915.893 \n",
       "  743.272,915.236 746.659,914.569 750.046,913.89 753.433,913.201 756.82,912.5 760.207,911.789 763.594,911.067 766.981,910.333 770.368,909.589 773.755,908.833 \n",
       "  777.142,908.066 780.529,907.287 783.916,906.497 787.303,905.696 790.69,904.883 794.077,904.058 797.464,903.221 800.851,902.373 804.238,901.513 807.625,900.641 \n",
       "  811.012,899.757 814.399,898.861 817.786,897.952 821.173,897.032 824.56,896.099 827.946,895.153 831.333,894.195 834.72,893.225 838.107,892.241 841.494,891.245 \n",
       "  844.881,890.236 848.268,889.214 851.655,888.179 855.042,887.131 858.429,886.069 861.816,884.995 865.203,883.906 868.59,882.804 871.977,881.689 875.364,880.559 \n",
       "  878.751,879.416 882.138,878.259 885.525,877.087 888.912,875.902 892.299,874.702 895.686,873.487 899.073,872.258 902.46,871.015 905.847,869.756 909.234,868.483 \n",
       "  912.62,867.195 916.007,865.892 919.394,864.573 922.781,863.239 926.168,861.889 929.555,860.524 932.942,859.143 936.329,857.747 939.716,856.334 943.103,854.905 \n",
       "  946.49,853.46 949.877,851.999 953.264,850.521 956.651,849.026 960.038,847.515 963.425,845.986 966.812,844.441 970.199,842.878 973.586,841.298 976.973,839.701 \n",
       "  980.36,838.086 983.747,836.453 987.134,834.803 990.521,833.134 993.908,831.447 997.294,829.742 1000.68,828.018 1004.07,826.276 1007.46,824.514 1010.84,822.734 \n",
       "  1014.23,820.935 1017.62,819.116 1021,817.279 1024.39,815.421 1027.78,813.544 1031.16,811.647 1034.55,809.73 1037.94,807.792 1041.32,805.835 1044.71,803.856 \n",
       "  1048.1,801.857 1051.49,799.838 1054.87,797.797 1058.26,795.735 1061.65,793.651 1065.03,791.546 1068.42,789.419 1071.81,787.271 1075.19,785.1 1078.58,782.907 \n",
       "  1081.97,780.691 1085.36,778.453 1088.74,776.192 1092.13,773.909 1095.52,771.602 1098.9,769.271 1102.29,766.917 1105.68,764.54 1109.06,762.138 1112.45,759.712 \n",
       "  1115.84,757.263 1119.23,754.788 1122.61,752.289 1126,749.765 1129.39,747.216 1132.77,744.642 1136.16,742.042 1139.55,739.417 1142.93,736.765 1146.32,734.088 \n",
       "  1149.71,731.384 1153.09,728.654 1156.48,725.897 1159.87,723.113 1163.26,720.303 1166.64,717.464 1170.03,714.599 1173.42,711.705 1176.8,708.784 1180.19,705.834 \n",
       "  1183.58,702.856 1186.96,699.85 1190.35,696.814 1193.74,693.75 1197.13,690.656 1200.51,687.533 1203.9,684.38 1207.29,681.197 1210.67,677.984 1214.06,674.74 \n",
       "  1217.45,671.466 1220.83,668.161 1224.22,664.824 1227.61,661.457 1230.99,658.058 1234.38,654.627 1237.77,651.164 1241.16,647.668 1244.54,644.14 1247.93,640.58 \n",
       "  1251.32,636.986 1254.7,633.359 1258.09,629.698 1261.48,626.004 1264.86,622.276 1268.25,618.513 1271.64,614.716 1275.03,610.884 1278.41,607.017 1281.8,603.114 \n",
       "  1285.19,599.176 1288.57,595.202 1291.96,591.192 1295.35,587.146 1298.73,583.063 1302.12,578.943 1305.51,574.786 1308.89,570.592 1312.28,566.36 1315.67,562.09 \n",
       "  1319.06,557.781 1322.44,553.434 1325.83,549.049 1329.22,544.624 1332.6,540.16 1335.99,535.656 1339.38,531.112 1342.76,526.528 1346.15,521.903 1349.54,517.238 \n",
       "  1352.93,512.531 1356.31,507.784 1359.7,502.994 1363.09,498.163 1366.47,493.289 1369.86,488.373 1373.25,483.413 1376.63,478.411 1380.02,473.365 1383.41,468.276 \n",
       "  1386.79,463.142 1390.18,457.964 1393.57,452.741 1396.96,447.473 1400.34,442.16 1403.73,436.801 1407.12,431.397 1410.5,425.946 1413.89,420.448 1417.28,414.904 \n",
       "  1420.66,409.312 1424.05,403.673 1427.44,397.986 1430.83,392.25 1434.21,386.467 1437.6,380.634 1440.99,374.752 1444.37,368.821 1447.76,362.839 1451.15,356.808 \n",
       "  1454.53,350.726 1457.92,344.593 1461.31,338.409 1464.69,332.173 1468.08,325.885 1471.47,319.545 1474.86,313.153 1478.24,306.707 1481.63,300.209 1485.02,293.656 \n",
       "  1488.4,287.05 1491.79,280.389 1495.18,273.673 1498.56,266.902 1501.95,260.076 1505.34,253.194 1508.73,246.256 1512.11,239.262 1515.5,232.21 1518.89,225.101 \n",
       "  1522.27,217.934 1525.66,210.71 1529.05,203.427 1532.43,196.085 1535.82,188.684 1539.21,181.223 1542.6,173.702 1545.98,166.122 1549.37,158.48 1552.76,150.777 \n",
       "  1556.14,143.013 1559.53,135.187 1562.92,127.298 1566.3,119.347 1569.69,111.333 1573.08,103.255 1576.46,95.114 1579.85,86.9081 1583.24,78.6376 1586.63,70.302 \n",
       "  1590.01,61.9009 1593.4,53.4339 1596.79,44.9005 1600.17,36.3004 1603.56,27.6331 1606.95,18.8983 1610.33,10.0954 1613.72,1.22412 1617.11,-7.71601 1620.5,-16.7254 \n",
       "  1623.88,-25.8045 1627.27,-34.9537 1630.66,-44.1735 1634.04,-53.4643 1637.43,-62.8265 1640.82,-72.2606 1644.2,-81.767 1647.59,-91.3462 1650.98,-100.998 1654.36,-110.724 \n",
       "  1657.75,-120.525 1661.14,-130.399 1664.53,-140.349 1667.91,-150.374 1671.3,-160.475 1674.69,-170.652 1678.07,-180.906 1681.46,-191.237 1684.85,-201.646 1688.23,-212.133 \n",
       "  1691.62,-222.699 1695.01,-233.344 1698.4,-244.069 1701.78,-254.874 1705.17,-265.759 1708.56,-276.725 1711.94,-287.773 1715.33,-298.903 1718.72,-310.115 1722.1,-321.41 \n",
       "  1725.49,-332.789 1728.88,-344.251 1732.26,-355.798 1735.65,-367.43 1739.04,-379.147 1742.43,-390.95 1745.81,-402.84 1749.2,-414.816 1752.59,-426.88 1755.97,-439.032 \n",
       "  1759.36,-451.272 1762.75,-463.601 1766.13,-476.019 1769.52,-488.528 1772.91,-501.127 1776.3,-513.817 1779.68,-526.598 1783.07,-539.471 1786.46,-552.437 1789.84,-565.496 \n",
       "  1793.23,-578.649 1796.62,-591.896 1800,-605.237 1803.39,-618.674 1806.78,-632.206 1810.16,-645.834 1813.55,-659.56 1816.94,-673.382 1820.33,-687.303 1823.71,-701.322 \n",
       "  1827.1,-715.44 1830.49,-729.658 1833.87,-743.975 1837.26,-758.394 1840.65,-772.913 1844.03,-787.535 1847.42,-802.258 1850.81,-817.085 1854.2,-832.015 1857.58,-847.049 \n",
       "  1860.97,-862.188 1864.36,-877.431 1867.74,-892.781 1871.13,-908.237 1874.52,-923.8 1877.9,-939.47 1881.29,-955.248 1884.68,-971.136 1888.06,-987.132 1891.45,-1003.24 \n",
       "  1894.84,-1019.45 1898.23,-1035.78 1901.61,-1052.22 1905,-1068.77 1908.39,-1085.44 1911.77,-1102.21 1915.16,-1119.11 1918.55,-1136.11 1921.93,-1153.23 1925.32,-1170.47 \n",
       "  1928.71,-1187.83 1932.1,-1205.3 1935.48,-1222.89 1938.87,-1240.59 1942.26,-1258.42 1945.64,-1276.37 1949.03,-1294.43 1952.42,-1312.62 1955.8,-1330.93 1959.19,-1349.36 \n",
       "  1962.58,-1367.91 1965.97,-1386.59 1969.35,-1405.39 1972.74,-1424.31 1976.13,-1443.37 1979.51,-1462.54 1982.9,-1481.85 1986.29,-1501.28 1989.67,-1520.84 1993.06,-1540.52 \n",
       "  1996.45,-1560.34 1999.83,-1580.29 2003.22,-1600.36 2006.61,-1620.57 2010,-1640.91 2013.38,-1661.39 2016.77,-1681.99 2020.16,-1702.73 2023.54,-1723.61 2026.93,-1744.62 \n",
       "  2030.32,-1765.77 2033.7,-1787.05 2037.09,-1808.47 2040.48,-1830.03 2043.87,-1851.73 2047.25,-1873.57 2050.64,-1895.54 2054.03,-1917.66 2057.41,-1939.92 2060.8,-1962.33 \n",
       "  2064.19,-1984.87 2067.57,-2007.56 2070.96,-2030.39 2074.35,-2053.37 2077.73,-2076.5 2081.12,-2099.77 2084.51,-2123.19 2087.9,-2146.76 2091.28,-2170.47 2094.67,-2194.34 \n",
       "  2098.06,-2218.35 2101.44,-2242.52 2104.83,-2266.84 2108.22,-2291.31 2111.6,-2315.93 2114.99,-2340.71 2118.38,-2365.65 2121.77,-2390.74 2125.15,-2415.98 2128.54,-2441.38 \n",
       "  2131.93,-2466.94 2135.31,-2492.66 2138.7,-2518.54 2142.09,-2544.58 2145.47,-2570.78 2148.86,-2597.14 2152.25,-2623.66 2155.63,-2650.35 2159.02,-2677.2 2162.41,-2704.21 \n",
       "  2165.8,-2731.39 2169.18,-2758.74 2172.57,-2786.25 2175.96,-2813.93 2179.34,-2841.78 2182.73,-2869.8 2186.12,-2897.99 2189.5,-2926.36 2192.89,-2954.89 2196.28,-2983.6 \n",
       "  2199.67,-3012.48 2203.05,-3041.53 2206.44,-3070.76 2209.83,-3100.17 2213.21,-3129.75 2216.6,-3159.51 2219.99,-3189.45 2223.37,-3219.57 2226.76,-3249.86 2230.15,-3280.34 \n",
       "  \n",
       "  \"/>\n",
       "<circle clip-path=\"url(#clip262)\" cx=\"536.668\" cy=\"936.114\" r=\"14\" fill=\"#e26f46\" fill-rule=\"evenodd\" fill-opacity=\"1\" stroke=\"#000000\" stroke-opacity=\"1\" stroke-width=\"2.4\"/>\n",
       "<polyline clip-path=\"url(#clip262)\" style=\"stroke:#3da44d; stroke-width:4; stroke-opacity:1; fill:none\" stroke-dasharray=\"16, 10\" points=\"\n",
       "  197.972,855.307 201.359,855.307 204.746,855.307 208.133,855.307 211.52,855.307 214.907,855.307 218.294,855.307 221.681,855.307 225.068,855.307 228.455,855.307 \n",
       "  231.842,855.307 235.228,855.307 238.615,855.307 242.002,855.307 245.389,855.307 248.776,855.307 252.163,855.307 255.55,855.307 258.937,855.307 262.324,855.307 \n",
       "  265.711,855.307 269.098,855.307 272.485,855.307 275.872,855.307 279.259,855.307 282.646,855.307 286.033,855.307 289.42,855.307 292.807,855.307 296.194,855.307 \n",
       "  299.581,855.307 302.968,855.307 306.355,855.307 309.742,855.307 313.129,855.307 316.516,855.307 319.902,855.307 323.289,855.307 326.676,855.307 330.063,855.307 \n",
       "  333.45,855.307 336.837,855.307 340.224,855.307 343.611,855.307 346.998,855.307 350.385,855.307 353.772,855.307 357.159,855.307 360.546,855.307 363.933,855.307 \n",
       "  367.32,855.307 370.707,855.307 374.094,855.307 377.481,855.307 380.868,855.307 384.255,855.307 387.642,855.307 391.029,855.307 394.416,855.307 397.803,855.307 \n",
       "  401.19,855.307 404.576,855.307 407.963,855.307 411.35,855.307 414.737,855.307 418.124,855.307 421.511,855.307 424.898,855.307 428.285,855.307 431.672,855.307 \n",
       "  435.059,855.307 438.446,855.307 441.833,855.307 445.22,855.307 448.607,855.307 451.994,855.307 455.381,855.307 458.768,855.307 462.155,855.307 465.542,855.307 \n",
       "  468.929,855.307 472.316,855.307 475.703,855.307 479.09,855.307 482.477,855.307 485.864,855.307 489.25,855.307 492.637,855.307 496.024,855.307 499.411,855.307 \n",
       "  502.798,855.307 506.185,855.307 509.572,855.307 512.959,855.307 516.346,855.307 519.733,855.307 523.12,855.307 526.507,855.307 529.894,855.307 533.281,855.307 \n",
       "  536.668,855.307 540.055,855.307 543.442,855.307 546.829,855.307 550.216,855.307 553.603,855.307 556.99,855.307 560.377,855.307 563.764,855.307 567.151,855.307 \n",
       "  570.538,855.307 573.924,855.307 577.311,855.307 580.698,855.307 584.085,855.307 587.472,855.307 590.859,855.307 594.246,855.307 597.633,855.307 601.02,855.307 \n",
       "  604.407,855.307 607.794,855.307 611.181,855.307 614.568,855.307 617.955,855.307 621.342,855.307 624.729,855.307 628.116,855.307 631.503,855.307 634.89,855.307 \n",
       "  638.277,855.307 641.664,855.307 645.051,855.307 648.438,855.307 651.825,855.307 655.212,855.307 658.598,855.307 661.985,855.307 665.372,855.307 668.759,855.307 \n",
       "  672.146,855.307 675.533,855.307 678.92,855.307 682.307,855.307 685.694,855.307 689.081,855.307 692.468,855.307 695.855,855.307 699.242,855.307 702.629,855.307 \n",
       "  706.016,855.307 709.403,855.307 712.79,855.307 716.177,855.307 719.564,855.307 722.951,855.307 726.338,855.307 729.725,855.307 733.112,855.307 736.499,855.307 \n",
       "  739.886,855.307 743.272,855.307 746.659,855.307 750.046,855.307 753.433,855.307 756.82,855.307 760.207,855.307 763.594,855.307 766.981,855.307 770.368,855.307 \n",
       "  773.755,855.307 777.142,855.307 780.529,855.307 783.916,855.307 787.303,855.307 790.69,855.307 794.077,855.307 797.464,855.307 800.851,855.307 804.238,855.307 \n",
       "  807.625,855.307 811.012,855.307 814.399,855.307 817.786,855.307 821.173,855.307 824.56,855.307 827.946,855.307 831.333,855.307 834.72,855.307 838.107,855.307 \n",
       "  841.494,855.307 844.881,855.307 848.268,855.307 851.655,855.307 855.042,855.307 858.429,855.307 861.816,855.307 865.203,855.307 868.59,855.307 871.977,855.307 \n",
       "  875.364,855.307 878.751,855.307 882.138,855.307 885.525,855.307 888.912,855.307 892.299,855.307 895.686,855.307 899.073,855.307 902.46,855.307 905.847,855.307 \n",
       "  909.234,855.307 912.62,855.307 916.007,855.307 919.394,855.307 922.781,855.307 926.168,855.307 929.555,855.307 932.942,855.307 936.329,855.307 939.716,855.307 \n",
       "  943.103,855.307 946.49,855.307 949.877,855.307 953.264,855.307 956.651,855.307 960.038,855.307 963.425,855.307 966.812,855.307 970.199,855.307 973.586,855.307 \n",
       "  976.973,855.307 980.36,855.307 983.747,855.307 987.134,855.307 990.521,855.307 993.908,855.307 997.294,855.307 1000.68,855.307 1004.07,855.307 1007.46,855.307 \n",
       "  1010.84,855.307 1014.23,855.307 1017.62,855.307 1021,855.307 1024.39,855.307 1027.78,855.307 1031.16,855.307 1034.55,855.307 1037.94,855.307 1041.32,855.307 \n",
       "  1044.71,855.307 1048.1,855.307 1051.49,855.307 1054.87,855.307 1058.26,855.307 1061.65,855.307 1065.03,855.307 1068.42,855.307 1071.81,855.307 1075.19,855.307 \n",
       "  1078.58,855.307 1081.97,855.307 1085.36,855.307 1088.74,855.307 1092.13,855.307 1095.52,855.307 1098.9,855.307 1102.29,855.307 1105.68,855.307 1109.06,855.307 \n",
       "  1112.45,855.307 1115.84,855.307 1119.23,855.307 1122.61,855.307 1126,855.307 1129.39,855.307 1132.77,855.307 1136.16,855.307 1139.55,855.307 1142.93,855.307 \n",
       "  1146.32,855.307 1149.71,855.307 1153.09,855.307 1156.48,855.307 1159.87,855.307 1163.26,855.307 1166.64,855.307 1170.03,855.307 1173.42,855.307 1176.8,855.307 \n",
       "  1180.19,855.307 1183.58,855.307 1186.96,855.307 1190.35,855.307 1193.74,855.307 1197.13,855.307 1200.51,855.307 1203.9,855.307 1207.29,855.307 1210.67,855.307 \n",
       "  1214.06,855.307 1217.45,855.307 1220.83,855.307 1224.22,855.307 1227.61,855.307 1230.99,855.307 1234.38,855.307 1237.77,855.307 1241.16,855.307 1244.54,855.307 \n",
       "  1247.93,855.307 1251.32,855.307 1254.7,855.307 1258.09,855.307 1261.48,855.307 1264.86,855.307 1268.25,855.307 1271.64,855.307 1275.03,855.307 1278.41,855.307 \n",
       "  1281.8,855.307 1285.19,855.307 1288.57,855.307 1291.96,855.307 1295.35,855.307 1298.73,855.307 1302.12,855.307 1305.51,855.307 1308.89,855.307 1312.28,855.307 \n",
       "  1315.67,855.307 1319.06,855.307 1322.44,855.307 1325.83,855.307 1329.22,855.307 1332.6,855.307 1335.99,855.307 1339.38,855.307 1342.76,855.307 1346.15,855.307 \n",
       "  1349.54,855.307 1352.93,855.307 1356.31,855.307 1359.7,855.307 1363.09,855.307 1366.47,855.307 1369.86,855.307 1373.25,855.307 1376.63,855.307 1380.02,855.307 \n",
       "  1383.41,855.307 1386.79,855.307 1390.18,855.307 1393.57,855.307 1396.96,855.307 1400.34,855.307 1403.73,855.307 1407.12,855.307 1410.5,855.307 1413.89,855.307 \n",
       "  1417.28,855.307 1420.66,855.307 1424.05,855.307 1427.44,855.307 1430.83,855.307 1434.21,855.307 1437.6,855.307 1440.99,855.307 1444.37,855.307 1447.76,855.307 \n",
       "  1451.15,855.307 1454.53,855.307 1457.92,855.307 1461.31,855.307 1464.69,855.307 1468.08,855.307 1471.47,855.307 1474.86,855.307 1478.24,855.307 1481.63,855.307 \n",
       "  1485.02,855.307 1488.4,855.307 1491.79,855.307 1495.18,855.307 1498.56,855.307 1501.95,855.307 1505.34,855.307 1508.73,855.307 1512.11,855.307 1515.5,855.307 \n",
       "  1518.89,855.307 1522.27,855.307 1525.66,855.307 1529.05,855.307 1532.43,855.307 1535.82,855.307 1539.21,855.307 1542.6,855.307 1545.98,855.307 1549.37,855.307 \n",
       "  1552.76,855.307 1556.14,855.307 1559.53,855.307 1562.92,855.307 1566.3,855.307 1569.69,855.307 1573.08,855.307 1576.46,855.307 1579.85,855.307 1583.24,855.307 \n",
       "  1586.63,855.307 1590.01,855.307 1593.4,855.307 1596.79,855.307 1600.17,855.307 1603.56,855.307 1606.95,855.307 1610.33,855.307 1613.72,855.307 1617.11,855.307 \n",
       "  1620.5,855.307 1623.88,855.307 1627.27,855.307 1630.66,855.307 1634.04,855.307 1637.43,855.307 1640.82,855.307 1644.2,855.307 1647.59,855.307 1650.98,855.307 \n",
       "  1654.36,855.307 1657.75,855.307 1661.14,855.307 1664.53,855.307 1667.91,855.307 1671.3,855.307 1674.69,855.307 1678.07,855.307 1681.46,855.307 1684.85,855.307 \n",
       "  1688.23,855.307 1691.62,855.307 1695.01,855.307 1698.4,855.307 1701.78,855.307 1705.17,855.307 1708.56,855.307 1711.94,855.307 1715.33,855.307 1718.72,855.307 \n",
       "  1722.1,855.307 1725.49,855.307 1728.88,855.307 1732.26,855.307 1735.65,855.307 1739.04,855.307 1742.43,855.307 1745.81,855.307 1749.2,855.307 1752.59,855.307 \n",
       "  1755.97,855.307 1759.36,855.307 1762.75,855.307 1766.13,855.307 1769.52,855.307 1772.91,855.307 1776.3,855.307 1779.68,855.307 1783.07,855.307 1786.46,855.307 \n",
       "  1789.84,855.307 1793.23,855.307 1796.62,855.307 1800,855.307 1803.39,855.307 1806.78,855.307 1810.16,855.307 1813.55,855.307 1816.94,855.307 1820.33,855.307 \n",
       "  1823.71,855.307 1827.1,855.307 1830.49,855.307 1833.87,855.307 1837.26,855.307 1840.65,855.307 1844.03,855.307 1847.42,855.307 1850.81,855.307 1854.2,855.307 \n",
       "  1857.58,855.307 1860.97,855.307 1864.36,855.307 1867.74,855.307 1871.13,855.307 1874.52,855.307 1877.9,855.307 1881.29,855.307 1884.68,855.307 1888.06,855.307 \n",
       "  1891.45,855.307 1894.84,855.307 1898.23,855.307 1901.61,855.307 1905,855.307 1908.39,855.307 1911.77,855.307 1915.16,855.307 1918.55,855.307 1921.93,855.307 \n",
       "  1925.32,855.307 1928.71,855.307 1932.1,855.307 1935.48,855.307 1938.87,855.307 1942.26,855.307 1945.64,855.307 1949.03,855.307 1952.42,855.307 1955.8,855.307 \n",
       "  1959.19,855.307 1962.58,855.307 1965.97,855.307 1969.35,855.307 1972.74,855.307 1976.13,855.307 1979.51,855.307 1982.9,855.307 1986.29,855.307 1989.67,855.307 \n",
       "  1993.06,855.307 1996.45,855.307 1999.83,855.307 2003.22,855.307 2006.61,855.307 2010,855.307 2013.38,855.307 2016.77,855.307 2020.16,855.307 2023.54,855.307 \n",
       "  2026.93,855.307 2030.32,855.307 2033.7,855.307 2037.09,855.307 2040.48,855.307 2043.87,855.307 2047.25,855.307 2050.64,855.307 2054.03,855.307 2057.41,855.307 \n",
       "  2060.8,855.307 2064.19,855.307 2067.57,855.307 2070.96,855.307 2074.35,855.307 2077.73,855.307 2081.12,855.307 2084.51,855.307 2087.9,855.307 2091.28,855.307 \n",
       "  2094.67,855.307 2098.06,855.307 2101.44,855.307 2104.83,855.307 2108.22,855.307 2111.6,855.307 2114.99,855.307 2118.38,855.307 2121.77,855.307 2125.15,855.307 \n",
       "  2128.54,855.307 2131.93,855.307 2135.31,855.307 2138.7,855.307 2142.09,855.307 2145.47,855.307 2148.86,855.307 2152.25,855.307 2155.63,855.307 2159.02,855.307 \n",
       "  2162.41,855.307 2165.8,855.307 2169.18,855.307 2172.57,855.307 2175.96,855.307 2179.34,855.307 2182.73,855.307 2186.12,855.307 2189.5,855.307 2192.89,855.307 \n",
       "  2196.28,855.307 2199.67,855.307 2203.05,855.307 2206.44,855.307 2209.83,855.307 2213.21,855.307 2216.6,855.307 2219.99,855.307 2223.37,855.307 2226.76,855.307 \n",
       "  2230.15,855.307 \n",
       "  \"/>\n",
       "</svg>\n"
      ],
      "image/svg+xml": [
       "<?xml version=\"1.0\" encoding=\"utf-8\"?>\n",
       "<svg xmlns=\"http://www.w3.org/2000/svg\" xmlns:xlink=\"http://www.w3.org/1999/xlink\" width=\"400\" height=\"300\" viewBox=\"0 0 1600 1200\">\n",
       "<defs>\n",
       "  <clipPath id=\"clip230\">\n",
       "    <rect x=\"0\" y=\"0\" width=\"1600\" height=\"1200\"/>\n",
       "  </clipPath>\n",
       "</defs>\n",
       "<path clip-path=\"url(#clip230)\" d=\"\n",
       "M0 1200 L1600 1200 L1600 0 L0 0  Z\n",
       "  \" fill=\"#ffffff\" fill-rule=\"evenodd\" fill-opacity=\"1\"/>\n",
       "<defs>\n",
       "  <clipPath id=\"clip231\">\n",
       "    <rect x=\"320\" y=\"0\" width=\"1121\" height=\"1121\"/>\n",
       "  </clipPath>\n",
       "</defs>\n",
       "<path clip-path=\"url(#clip230)\" d=\"\n",
       "M197.972 1016.92 L1552.76 1016.92 L1552.76 47.2441 L197.972 47.2441  Z\n",
       "  \" fill=\"#ffffff\" fill-rule=\"evenodd\" fill-opacity=\"1\"/>\n",
       "<defs>\n",
       "  <clipPath id=\"clip232\">\n",
       "    <rect x=\"197\" y=\"47\" width=\"1356\" height=\"971\"/>\n",
       "  </clipPath>\n",
       "</defs>\n",
       "<polyline clip-path=\"url(#clip230)\" style=\"stroke:#000000; stroke-width:4; stroke-opacity:1; fill:none\" points=\"\n",
       "  197.972,1016.92 1552.76,1016.92 \n",
       "  \"/>\n",
       "<polyline clip-path=\"url(#clip230)\" style=\"stroke:#000000; stroke-width:4; stroke-opacity:1; fill:none\" points=\"\n",
       "  197.972,1016.92 197.972,1005.28 \n",
       "  \"/>\n",
       "<polyline clip-path=\"url(#clip230)\" style=\"stroke:#000000; stroke-width:4; stroke-opacity:1; fill:none\" points=\"\n",
       "  536.668,1016.92 536.668,1005.28 \n",
       "  \"/>\n",
       "<polyline clip-path=\"url(#clip230)\" style=\"stroke:#000000; stroke-width:4; stroke-opacity:1; fill:none\" points=\"\n",
       "  875.364,1016.92 875.364,1005.28 \n",
       "  \"/>\n",
       "<polyline clip-path=\"url(#clip230)\" style=\"stroke:#000000; stroke-width:4; stroke-opacity:1; fill:none\" points=\"\n",
       "  1214.06,1016.92 1214.06,1005.28 \n",
       "  \"/>\n",
       "<polyline clip-path=\"url(#clip230)\" style=\"stroke:#000000; stroke-width:4; stroke-opacity:1; fill:none\" points=\"\n",
       "  1552.76,1016.92 1552.76,1005.28 \n",
       "  \"/>\n",
       "<path clip-path=\"url(#clip230)\" d=\"M 0 0 M197.972 1039.71 Q194.361 1039.71 192.532 1043.28 Q190.727 1046.82 190.727 1053.95 Q190.727 1061.05 192.532 1064.62 Q194.361 1068.16 197.972 1068.16 Q201.606 1068.16 203.412 1064.62 Q205.24 1061.05 205.24 1053.95 Q205.24 1046.82 203.412 1043.28 Q201.606 1039.71 197.972 1039.71 M197.972 1036.01 Q203.782 1036.01 206.838 1040.61 Q209.916 1045.2 209.916 1053.95 Q209.916 1062.67 206.838 1067.28 Q203.782 1071.86 197.972 1071.86 Q192.162 1071.86 189.083 1067.28 Q186.028 1062.67 186.028 1053.95 Q186.028 1045.2 189.083 1040.61 Q192.162 1036.01 197.972 1036.01 Z\" fill=\"#000000\" fill-rule=\"evenodd\" fill-opacity=\"1\" /><path clip-path=\"url(#clip230)\" d=\"M 0 0 M527.05 1067.26 L534.689 1067.26 L534.689 1040.89 L526.379 1042.56 L526.379 1038.3 L534.642 1036.63 L539.318 1036.63 L539.318 1067.26 L546.957 1067.26 L546.957 1071.19 L527.05 1071.19 L527.05 1067.26 Z\" fill=\"#000000\" fill-rule=\"evenodd\" fill-opacity=\"1\" /><path clip-path=\"url(#clip230)\" d=\"M 0 0 M870.017 1067.26 L886.336 1067.26 L886.336 1071.19 L864.392 1071.19 L864.392 1067.26 Q867.054 1064.5 871.637 1059.87 Q876.244 1055.22 877.424 1053.88 Q879.669 1051.35 880.549 1049.62 Q881.452 1047.86 881.452 1046.17 Q881.452 1043.41 879.507 1041.68 Q877.586 1039.94 874.484 1039.94 Q872.285 1039.94 869.832 1040.71 Q867.401 1041.47 864.623 1043.02 L864.623 1038.3 Q867.447 1037.16 869.901 1036.59 Q872.355 1036.01 874.392 1036.01 Q879.762 1036.01 882.956 1038.69 Q886.151 1041.38 886.151 1045.87 Q886.151 1048 885.341 1049.92 Q884.554 1051.82 882.447 1054.41 Q881.869 1055.08 878.767 1058.3 Q875.665 1061.49 870.017 1067.26 Z\" fill=\"#000000\" fill-rule=\"evenodd\" fill-opacity=\"1\" /><path clip-path=\"url(#clip230)\" d=\"M 0 0 M1218.31 1052.56 Q1221.66 1053.28 1223.54 1055.54 Q1225.44 1057.81 1225.44 1061.15 Q1225.44 1066.26 1221.92 1069.06 Q1218.4 1071.86 1211.92 1071.86 Q1209.74 1071.86 1207.43 1071.42 Q1205.14 1071.01 1202.68 1070.15 L1202.68 1065.64 Q1204.63 1066.77 1206.94 1067.35 Q1209.26 1067.93 1211.78 1067.93 Q1216.18 1067.93 1218.47 1066.19 Q1220.78 1064.46 1220.78 1061.15 Q1220.78 1058.09 1218.63 1056.38 Q1216.5 1054.64 1212.68 1054.64 L1208.65 1054.64 L1208.65 1050.8 L1212.87 1050.8 Q1216.32 1050.8 1218.15 1049.43 Q1219.97 1048.04 1219.97 1045.45 Q1219.97 1042.79 1218.08 1041.38 Q1216.2 1039.94 1212.68 1039.94 Q1210.76 1039.94 1208.56 1040.36 Q1206.36 1040.78 1203.72 1041.65 L1203.72 1037.49 Q1206.39 1036.75 1208.7 1036.38 Q1211.04 1036.01 1213.1 1036.01 Q1218.42 1036.01 1221.53 1038.44 Q1224.63 1040.84 1224.63 1044.97 Q1224.63 1047.84 1222.98 1049.83 Q1221.34 1051.79 1218.31 1052.56 Z\" fill=\"#000000\" fill-rule=\"evenodd\" fill-opacity=\"1\" /><path clip-path=\"url(#clip230)\" d=\"M 0 0 M1555.77 1040.71 L1543.96 1059.15 L1555.77 1059.15 L1555.77 1040.71 M1554.54 1036.63 L1560.42 1036.63 L1560.42 1059.15 L1565.35 1059.15 L1565.35 1063.04 L1560.42 1063.04 L1560.42 1071.19 L1555.77 1071.19 L1555.77 1063.04 L1540.16 1063.04 L1540.16 1058.53 L1554.54 1036.63 Z\" fill=\"#000000\" fill-rule=\"evenodd\" fill-opacity=\"1\" /><path clip-path=\"url(#clip230)\" d=\"M 0 0 M677.279 1102.26 L686.859 1102.26 L698.986 1134.6 L711.176 1102.26 L720.757 1102.26 L720.757 1149.78 L714.487 1149.78 L714.487 1108.06 L702.233 1140.65 L695.771 1140.65 L683.517 1108.06 L683.517 1149.78 L677.279 1149.78 L677.279 1102.26 Z\" fill=\"#000000\" fill-rule=\"evenodd\" fill-opacity=\"1\" /><path clip-path=\"url(#clip230)\" d=\"M 0 0 M743.1 1131.86 Q736.003 1131.86 733.265 1133.49 Q730.528 1135.11 730.528 1139.03 Q730.528 1142.14 732.565 1143.99 Q734.634 1145.81 738.167 1145.81 Q743.037 1145.81 745.965 1142.37 Q748.925 1138.9 748.925 1133.17 L748.925 1131.86 L743.1 1131.86 M754.782 1129.45 L754.782 1149.78 L748.925 1149.78 L748.925 1144.37 Q746.92 1147.62 743.928 1149.18 Q740.936 1150.71 736.607 1150.71 Q731.133 1150.71 727.886 1147.65 Q724.672 1144.56 724.672 1139.41 Q724.672 1133.39 728.682 1130.34 Q732.724 1127.28 740.713 1127.28 L748.925 1127.28 L748.925 1126.71 Q748.925 1122.67 746.251 1120.47 Q743.61 1118.24 738.804 1118.24 Q735.748 1118.24 732.852 1118.97 Q729.955 1119.71 727.282 1121.17 L727.282 1115.76 Q730.496 1114.52 733.52 1113.91 Q736.544 1113.28 739.408 1113.28 Q747.143 1113.28 750.962 1117.29 Q754.782 1121.3 754.782 1129.45 Z\" fill=\"#000000\" fill-rule=\"evenodd\" fill-opacity=\"1\" /><path clip-path=\"url(#clip230)\" d=\"M 0 0 M786.578 1115.5 L786.578 1120.98 Q784.096 1119.61 781.581 1118.94 Q779.099 1118.24 776.552 1118.24 Q770.855 1118.24 767.704 1121.87 Q764.553 1125.47 764.553 1131.99 Q764.553 1138.52 767.704 1142.14 Q770.855 1145.74 776.552 1145.74 Q779.099 1145.74 781.581 1145.07 Q784.096 1144.37 786.578 1143 L786.578 1148.42 Q784.127 1149.56 781.486 1150.13 Q778.876 1150.71 775.916 1150.71 Q767.863 1150.71 763.121 1145.65 Q758.378 1140.59 758.378 1131.99 Q758.378 1123.27 763.152 1118.27 Q767.959 1113.28 776.298 1113.28 Q779.003 1113.28 781.581 1113.85 Q784.159 1114.39 786.578 1115.5 Z\" fill=\"#000000\" fill-rule=\"evenodd\" fill-opacity=\"1\" /><path clip-path=\"url(#clip230)\" d=\"M 0 0 M822.353 1128.27 L822.353 1149.78 L816.497 1149.78 L816.497 1128.46 Q816.497 1123.4 814.524 1120.88 Q812.55 1118.37 808.604 1118.37 Q803.861 1118.37 801.124 1121.39 Q798.387 1124.42 798.387 1129.64 L798.387 1149.78 L792.498 1149.78 L792.498 1100.26 L798.387 1100.26 L798.387 1119.67 Q800.487 1116.46 803.32 1114.87 Q806.185 1113.28 809.909 1113.28 Q816.051 1113.28 819.202 1117.1 Q822.353 1120.88 822.353 1128.27 Z\" fill=\"#000000\" fill-rule=\"evenodd\" fill-opacity=\"1\" /><path clip-path=\"url(#clip230)\" d=\"M 0 0 M878.849 1128.27 L878.849 1149.78 L872.993 1149.78 L872.993 1128.46 Q872.993 1123.4 871.019 1120.88 Q869.046 1118.37 865.099 1118.37 Q860.357 1118.37 857.619 1121.39 Q854.882 1124.42 854.882 1129.64 L854.882 1149.78 L848.994 1149.78 L848.994 1114.14 L854.882 1114.14 L854.882 1119.67 Q856.983 1116.46 859.816 1114.87 Q862.68 1113.28 866.404 1113.28 Q872.547 1113.28 875.698 1117.1 Q878.849 1120.88 878.849 1128.27 Z\" fill=\"#000000\" fill-rule=\"evenodd\" fill-opacity=\"1\" /><path clip-path=\"url(#clip230)\" d=\"M 0 0 M884.387 1135.72 L884.387 1114.14 L890.244 1114.14 L890.244 1135.49 Q890.244 1140.55 892.217 1143.1 Q894.19 1145.61 898.137 1145.61 Q902.88 1145.61 905.617 1142.59 Q908.386 1139.57 908.386 1134.35 L908.386 1114.14 L914.242 1114.14 L914.242 1149.78 L908.386 1149.78 L908.386 1144.31 Q906.253 1147.56 903.421 1149.15 Q900.62 1150.71 896.896 1150.71 Q890.753 1150.71 887.57 1146.89 Q884.387 1143.07 884.387 1135.72 M899.124 1113.28 L899.124 1113.28 Z\" fill=\"#000000\" fill-rule=\"evenodd\" fill-opacity=\"1\" /><path clip-path=\"url(#clip230)\" d=\"M 0 0 M948.14 1120.98 Q950.336 1117.03 953.392 1115.15 Q956.447 1113.28 960.585 1113.28 Q966.155 1113.28 969.179 1117.19 Q972.202 1121.07 972.202 1128.27 L972.202 1149.78 L966.314 1149.78 L966.314 1128.46 Q966.314 1123.33 964.5 1120.85 Q962.685 1118.37 958.962 1118.37 Q954.41 1118.37 951.768 1121.39 Q949.127 1124.42 949.127 1129.64 L949.127 1149.78 L943.238 1149.78 L943.238 1128.46 Q943.238 1123.3 941.424 1120.85 Q939.61 1118.37 935.822 1118.37 Q931.334 1118.37 928.693 1121.42 Q926.051 1124.45 926.051 1129.64 L926.051 1149.78 L920.163 1149.78 L920.163 1114.14 L926.051 1114.14 L926.051 1119.67 Q928.056 1116.4 930.857 1114.84 Q933.658 1113.28 937.509 1113.28 Q941.392 1113.28 944.098 1115.25 Q946.835 1117.22 948.14 1120.98 Z\" fill=\"#000000\" fill-rule=\"evenodd\" fill-opacity=\"1\" /><path clip-path=\"url(#clip230)\" d=\"M 0 0 M1003.94 1131.99 Q1003.94 1125.53 1001.26 1121.87 Q998.62 1118.18 993.973 1118.18 Q989.326 1118.18 986.652 1121.87 Q984.011 1125.53 984.011 1131.99 Q984.011 1138.45 986.652 1142.14 Q989.326 1145.81 993.973 1145.81 Q998.62 1145.81 1001.26 1142.14 Q1003.94 1138.45 1003.94 1131.99 M984.011 1119.55 Q985.857 1116.36 988.658 1114.84 Q991.49 1113.28 995.405 1113.28 Q1001.9 1113.28 1005.94 1118.43 Q1010.01 1123.59 1010.01 1131.99 Q1010.01 1140.39 1005.94 1145.55 Q1001.9 1150.71 995.405 1150.71 Q991.49 1150.71 988.658 1149.18 Q985.857 1147.62 984.011 1144.44 L984.011 1149.78 L978.122 1149.78 L978.122 1100.26 L984.011 1100.26 L984.011 1119.55 Z\" fill=\"#000000\" fill-rule=\"evenodd\" fill-opacity=\"1\" /><path clip-path=\"url(#clip230)\" d=\"M 0 0 M1046.65 1130.5 L1046.65 1133.36 L1019.72 1133.36 Q1020.1 1139.41 1023.35 1142.59 Q1026.63 1145.74 1032.45 1145.74 Q1035.83 1145.74 1038.98 1144.91 Q1042.16 1144.09 1045.28 1142.43 L1045.28 1147.97 Q1042.13 1149.31 1038.82 1150.01 Q1035.51 1150.71 1032.1 1150.71 Q1023.57 1150.71 1018.58 1145.74 Q1013.61 1140.78 1013.61 1132.31 Q1013.61 1123.56 1018.32 1118.43 Q1023.06 1113.28 1031.09 1113.28 Q1038.28 1113.28 1042.45 1117.92 Q1046.65 1122.54 1046.65 1130.5 M1040.79 1128.78 Q1040.73 1123.97 1038.09 1121.11 Q1035.48 1118.24 1031.15 1118.24 Q1026.25 1118.24 1023.29 1121.01 Q1020.36 1123.78 1019.91 1128.81 L1040.79 1128.78 Z\" fill=\"#000000\" fill-rule=\"evenodd\" fill-opacity=\"1\" /><path clip-path=\"url(#clip230)\" d=\"M 0 0 M1073.45 1119.61 Q1072.46 1119.04 1071.28 1118.78 Q1070.14 1118.5 1068.74 1118.5 Q1063.77 1118.5 1061.1 1121.74 Q1058.46 1124.96 1058.46 1131.01 L1058.46 1149.78 L1052.57 1149.78 L1052.57 1114.14 L1058.46 1114.14 L1058.46 1119.67 Q1060.3 1116.43 1063.26 1114.87 Q1066.22 1113.28 1070.46 1113.28 Q1071.06 1113.28 1071.79 1113.37 Q1072.53 1113.44 1073.42 1113.59 L1073.45 1119.61 Z\" fill=\"#000000\" fill-rule=\"evenodd\" fill-opacity=\"1\" /><polyline clip-path=\"url(#clip230)\" style=\"stroke:#000000; stroke-width:4; stroke-opacity:1; fill:none\" points=\"\n",
       "  197.972,1016.92 197.972,47.2441 \n",
       "  \"/>\n",
       "<polyline clip-path=\"url(#clip230)\" style=\"stroke:#000000; stroke-width:4; stroke-opacity:1; fill:none\" points=\"\n",
       "  197.972,1016.92 214.229,1016.92 \n",
       "  \"/>\n",
       "<polyline clip-path=\"url(#clip230)\" style=\"stroke:#000000; stroke-width:4; stroke-opacity:1; fill:none\" points=\"\n",
       "  197.972,936.114 214.229,936.114 \n",
       "  \"/>\n",
       "<polyline clip-path=\"url(#clip230)\" style=\"stroke:#000000; stroke-width:4; stroke-opacity:1; fill:none\" points=\"\n",
       "  197.972,855.307 214.229,855.307 \n",
       "  \"/>\n",
       "<polyline clip-path=\"url(#clip230)\" style=\"stroke:#000000; stroke-width:4; stroke-opacity:1; fill:none\" points=\"\n",
       "  197.972,774.501 214.229,774.501 \n",
       "  \"/>\n",
       "<polyline clip-path=\"url(#clip230)\" style=\"stroke:#000000; stroke-width:4; stroke-opacity:1; fill:none\" points=\"\n",
       "  197.972,693.695 214.229,693.695 \n",
       "  \"/>\n",
       "<polyline clip-path=\"url(#clip230)\" style=\"stroke:#000000; stroke-width:4; stroke-opacity:1; fill:none\" points=\"\n",
       "  197.972,612.888 214.229,612.888 \n",
       "  \"/>\n",
       "<polyline clip-path=\"url(#clip230)\" style=\"stroke:#000000; stroke-width:4; stroke-opacity:1; fill:none\" points=\"\n",
       "  197.972,532.082 214.229,532.082 \n",
       "  \"/>\n",
       "<polyline clip-path=\"url(#clip230)\" style=\"stroke:#000000; stroke-width:4; stroke-opacity:1; fill:none\" points=\"\n",
       "  197.972,451.276 214.229,451.276 \n",
       "  \"/>\n",
       "<polyline clip-path=\"url(#clip230)\" style=\"stroke:#000000; stroke-width:4; stroke-opacity:1; fill:none\" points=\"\n",
       "  197.972,370.469 214.229,370.469 \n",
       "  \"/>\n",
       "<polyline clip-path=\"url(#clip230)\" style=\"stroke:#000000; stroke-width:4; stroke-opacity:1; fill:none\" points=\"\n",
       "  197.972,289.663 214.229,289.663 \n",
       "  \"/>\n",
       "<polyline clip-path=\"url(#clip230)\" style=\"stroke:#000000; stroke-width:4; stroke-opacity:1; fill:none\" points=\"\n",
       "  197.972,208.857 214.229,208.857 \n",
       "  \"/>\n",
       "<polyline clip-path=\"url(#clip230)\" style=\"stroke:#000000; stroke-width:4; stroke-opacity:1; fill:none\" points=\"\n",
       "  197.972,128.05 214.229,128.05 \n",
       "  \"/>\n",
       "<polyline clip-path=\"url(#clip230)\" style=\"stroke:#000000; stroke-width:4; stroke-opacity:1; fill:none\" points=\"\n",
       "  197.972,47.2441 214.229,47.2441 \n",
       "  \"/>\n",
       "<path clip-path=\"url(#clip230)\" d=\"M 0 0 M162.028 1002.72 Q158.416 1002.72 156.588 1006.28 Q154.782 1009.82 154.782 1016.95 Q154.782 1024.06 156.588 1027.63 Q158.416 1031.17 162.028 1031.17 Q165.662 1031.17 167.467 1027.63 Q169.296 1024.06 169.296 1016.95 Q169.296 1009.82 167.467 1006.28 Q165.662 1002.72 162.028 1002.72 M162.028 999.015 Q167.838 999.015 170.893 1003.62 Q173.972 1008.2 173.972 1016.95 Q173.972 1025.68 170.893 1030.29 Q167.838 1034.87 162.028 1034.87 Q156.217 1034.87 153.139 1030.29 Q150.083 1025.68 150.083 1016.95 Q150.083 1008.2 153.139 1003.62 Q156.217 999.015 162.028 999.015 Z\" fill=\"#000000\" fill-rule=\"evenodd\" fill-opacity=\"1\" /><path clip-path=\"url(#clip230)\" d=\"M 0 0 M154.065 949.458 L161.703 949.458 L161.703 923.093 L153.393 924.759 L153.393 920.5 L161.657 918.834 L166.333 918.834 L166.333 949.458 L173.972 949.458 L173.972 953.394 L154.065 953.394 L154.065 949.458 Z\" fill=\"#000000\" fill-rule=\"evenodd\" fill-opacity=\"1\" /><path clip-path=\"url(#clip230)\" d=\"M 0 0 M157.653 868.652 L173.972 868.652 L173.972 872.587 L152.028 872.587 L152.028 868.652 Q154.69 865.897 159.273 861.268 Q163.879 856.615 165.06 855.272 Q167.305 852.749 168.185 851.013 Q169.088 849.254 169.088 847.564 Q169.088 844.81 167.143 843.073 Q165.222 841.337 162.12 841.337 Q159.921 841.337 157.467 842.101 Q155.037 842.865 152.259 844.416 L152.259 839.694 Q155.083 838.56 157.537 837.981 Q159.99 837.402 162.028 837.402 Q167.398 837.402 170.592 840.087 Q173.787 842.773 173.787 847.263 Q173.787 849.393 172.977 851.314 Q172.19 853.212 170.083 855.805 Q169.504 856.476 166.403 859.694 Q163.301 862.888 157.653 868.652 Z\" fill=\"#000000\" fill-rule=\"evenodd\" fill-opacity=\"1\" /><path clip-path=\"url(#clip230)\" d=\"M 0 0 M166.842 773.147 Q170.199 773.864 172.074 776.133 Q173.972 778.401 173.972 781.735 Q173.972 786.85 170.453 789.651 Q166.935 792.452 160.453 792.452 Q158.278 792.452 155.963 792.012 Q153.671 791.596 151.217 790.739 L151.217 786.225 Q153.162 787.36 155.477 787.938 Q157.791 788.517 160.315 788.517 Q164.713 788.517 167.004 786.781 Q169.319 785.045 169.319 781.735 Q169.319 778.679 167.166 776.966 Q165.037 775.23 161.217 775.23 L157.19 775.23 L157.19 771.387 L161.403 771.387 Q164.852 771.387 166.68 770.022 Q168.509 768.633 168.509 766.04 Q168.509 763.378 166.611 761.966 Q164.736 760.531 161.217 760.531 Q159.296 760.531 157.097 760.948 Q154.898 761.364 152.259 762.244 L152.259 758.077 Q154.921 757.337 157.236 756.966 Q159.574 756.596 161.634 756.596 Q166.958 756.596 170.06 759.026 Q173.162 761.434 173.162 765.554 Q173.162 768.425 171.518 770.415 Q169.875 772.383 166.842 773.147 Z\" fill=\"#000000\" fill-rule=\"evenodd\" fill-opacity=\"1\" /><path clip-path=\"url(#clip230)\" d=\"M 0 0 M164.389 680.489 L152.583 698.938 L164.389 698.938 L164.389 680.489 M163.162 676.415 L169.041 676.415 L169.041 698.938 L173.972 698.938 L173.972 702.826 L169.041 702.826 L169.041 710.975 L164.389 710.975 L164.389 702.826 L148.787 702.826 L148.787 698.313 L163.162 676.415 Z\" fill=\"#000000\" fill-rule=\"evenodd\" fill-opacity=\"1\" /><path clip-path=\"url(#clip230)\" d=\"M 0 0 M153.069 595.608 L171.426 595.608 L171.426 599.543 L157.352 599.543 L157.352 608.016 Q158.37 607.668 159.389 607.506 Q160.407 607.321 161.426 607.321 Q167.213 607.321 170.592 610.492 Q173.972 613.664 173.972 619.08 Q173.972 624.659 170.5 627.761 Q167.027 630.84 160.708 630.84 Q158.532 630.84 156.264 630.469 Q154.018 630.099 151.611 629.358 L151.611 624.659 Q153.694 625.793 155.916 626.349 Q158.139 626.904 160.615 626.904 Q164.62 626.904 166.958 624.798 Q169.296 622.691 169.296 619.08 Q169.296 615.469 166.958 613.363 Q164.62 611.256 160.615 611.256 Q158.741 611.256 156.866 611.673 Q155.014 612.09 153.069 612.969 L153.069 595.608 Z\" fill=\"#000000\" fill-rule=\"evenodd\" fill-opacity=\"1\" /><path clip-path=\"url(#clip230)\" d=\"M 0 0 M162.444 530.219 Q159.296 530.219 157.444 532.371 Q155.616 534.524 155.616 538.274 Q155.616 542.001 157.444 544.177 Q159.296 546.33 162.444 546.33 Q165.592 546.33 167.421 544.177 Q169.273 542.001 169.273 538.274 Q169.273 534.524 167.421 532.371 Q165.592 530.219 162.444 530.219 M171.727 515.566 L171.727 519.825 Q169.967 518.992 168.162 518.552 Q166.379 518.112 164.62 518.112 Q159.99 518.112 157.537 521.237 Q155.106 524.362 154.759 530.682 Q156.125 528.668 158.185 527.603 Q160.245 526.515 162.722 526.515 Q167.93 526.515 170.94 529.686 Q173.972 532.834 173.972 538.274 Q173.972 543.598 170.824 546.816 Q167.676 550.033 162.444 550.033 Q156.449 550.033 153.278 545.45 Q150.106 540.843 150.106 532.117 Q150.106 523.922 153.995 519.061 Q157.884 514.177 164.435 514.177 Q166.194 514.177 167.977 514.524 Q169.782 514.871 171.727 515.566 Z\" fill=\"#000000\" fill-rule=\"evenodd\" fill-opacity=\"1\" /><path clip-path=\"url(#clip230)\" d=\"M 0 0 M151.75 433.996 L173.972 433.996 L173.972 435.986 L161.426 468.556 L156.541 468.556 L168.347 437.931 L151.75 437.931 L151.75 433.996 Z\" fill=\"#000000\" fill-rule=\"evenodd\" fill-opacity=\"1\" /><path clip-path=\"url(#clip230)\" d=\"M 0 0 M162.12 371.337 Q158.787 371.337 156.866 373.12 Q154.967 374.902 154.967 378.027 Q154.967 381.152 156.866 382.935 Q158.787 384.717 162.12 384.717 Q165.453 384.717 167.375 382.935 Q169.296 381.129 169.296 378.027 Q169.296 374.902 167.375 373.12 Q165.477 371.337 162.12 371.337 M157.444 369.347 Q154.435 368.606 152.745 366.546 Q151.079 364.486 151.079 361.523 Q151.079 357.379 154.018 354.972 Q156.981 352.564 162.12 352.564 Q167.282 352.564 170.222 354.972 Q173.162 357.379 173.162 361.523 Q173.162 364.486 171.472 366.546 Q169.805 368.606 166.819 369.347 Q170.199 370.134 172.074 372.425 Q173.972 374.717 173.972 378.027 Q173.972 383.05 170.893 385.735 Q167.838 388.421 162.12 388.421 Q156.403 388.421 153.324 385.735 Q150.268 383.05 150.268 378.027 Q150.268 374.717 152.166 372.425 Q154.065 370.134 157.444 369.347 M155.731 361.962 Q155.731 364.648 157.398 366.152 Q159.088 367.657 162.12 367.657 Q165.129 367.657 166.819 366.152 Q168.532 364.648 168.532 361.962 Q168.532 359.277 166.819 357.773 Q165.129 356.268 162.12 356.268 Q159.088 356.268 157.398 357.773 Q155.731 359.277 155.731 361.962 Z\" fill=\"#000000\" fill-rule=\"evenodd\" fill-opacity=\"1\" /><path clip-path=\"url(#clip230)\" d=\"M 0 0 M152.352 306.225 L152.352 301.966 Q154.111 302.8 155.916 303.239 Q157.722 303.679 159.458 303.679 Q164.088 303.679 166.518 300.577 Q168.972 297.452 169.319 291.11 Q167.977 293.101 165.916 294.165 Q163.856 295.23 161.356 295.23 Q156.171 295.23 153.139 292.105 Q150.129 288.957 150.129 283.517 Q150.129 278.193 153.278 274.976 Q156.426 271.758 161.657 271.758 Q167.652 271.758 170.801 276.364 Q173.972 280.948 173.972 289.698 Q173.972 297.869 170.083 302.753 Q166.217 307.614 159.666 307.614 Q157.907 307.614 156.102 307.267 Q154.296 306.92 152.352 306.225 M161.657 291.573 Q164.805 291.573 166.634 289.42 Q168.486 287.267 168.486 283.517 Q168.486 279.79 166.634 277.638 Q164.805 275.462 161.657 275.462 Q158.509 275.462 156.657 277.638 Q154.828 279.79 154.828 283.517 Q154.828 287.267 156.657 289.42 Q158.509 291.573 161.657 291.573 Z\" fill=\"#000000\" fill-rule=\"evenodd\" fill-opacity=\"1\" /><path clip-path=\"url(#clip230)\" d=\"M 0 0 M127.051 222.202 L134.69 222.202 L134.69 195.836 L126.38 197.503 L126.38 193.243 L134.643 191.577 L139.319 191.577 L139.319 222.202 L146.958 222.202 L146.958 226.137 L127.051 226.137 L127.051 222.202 Z\" fill=\"#000000\" fill-rule=\"evenodd\" fill-opacity=\"1\" /><path clip-path=\"url(#clip230)\" d=\"M 0 0 M162.028 194.655 Q158.416 194.655 156.588 198.22 Q154.782 201.762 154.782 208.891 Q154.782 215.998 156.588 219.563 Q158.416 223.104 162.028 223.104 Q165.662 223.104 167.467 219.563 Q169.296 215.998 169.296 208.891 Q169.296 201.762 167.467 198.22 Q165.662 194.655 162.028 194.655 M162.028 190.952 Q167.838 190.952 170.893 195.558 Q173.972 200.141 173.972 208.891 Q173.972 217.618 170.893 222.225 Q167.838 226.808 162.028 226.808 Q156.217 226.808 153.139 222.225 Q150.083 217.618 150.083 208.891 Q150.083 200.141 153.139 195.558 Q156.217 190.952 162.028 190.952 Z\" fill=\"#000000\" fill-rule=\"evenodd\" fill-opacity=\"1\" /><path clip-path=\"url(#clip230)\" d=\"M 0 0 M128.278 141.395 L135.917 141.395 L135.917 115.03 L127.606 116.696 L127.606 112.437 L135.87 110.77 L140.546 110.77 L140.546 141.395 L148.185 141.395 L148.185 145.33 L128.278 145.33 L128.278 141.395 Z\" fill=\"#000000\" fill-rule=\"evenodd\" fill-opacity=\"1\" /><path clip-path=\"url(#clip230)\" d=\"M 0 0 M154.065 141.395 L161.703 141.395 L161.703 115.03 L153.393 116.696 L153.393 112.437 L161.657 110.77 L166.333 110.77 L166.333 141.395 L173.972 141.395 L173.972 145.33 L154.065 145.33 L154.065 141.395 Z\" fill=\"#000000\" fill-rule=\"evenodd\" fill-opacity=\"1\" /><path clip-path=\"url(#clip230)\" d=\"M 0 0 M128.648 60.5889 L136.287 60.5889 L136.287 34.2233 L127.977 35.89 L127.977 31.6308 L136.241 29.9641 L140.917 29.9641 L140.917 60.5889 L148.555 60.5889 L148.555 64.5241 L128.648 64.5241 L128.648 60.5889 Z\" fill=\"#000000\" fill-rule=\"evenodd\" fill-opacity=\"1\" /><path clip-path=\"url(#clip230)\" d=\"M 0 0 M157.653 60.5889 L173.972 60.5889 L173.972 64.5241 L152.028 64.5241 L152.028 60.5889 Q154.69 57.8343 159.273 53.2047 Q163.879 48.552 165.06 47.2094 Q167.305 44.6862 168.185 42.9501 Q169.088 41.1909 169.088 39.5011 Q169.088 36.7465 167.143 35.0104 Q165.222 33.2743 162.12 33.2743 Q159.921 33.2743 157.467 34.0381 Q155.037 34.802 152.259 36.3529 L152.259 31.6308 Q155.083 30.4965 157.537 29.9178 Q159.99 29.3391 162.028 29.3391 Q167.398 29.3391 170.592 32.0243 Q173.787 34.7094 173.787 39.2002 Q173.787 41.3298 172.977 43.2511 Q172.19 45.1492 170.083 47.7418 Q169.504 48.4131 166.403 51.6306 Q163.301 54.8251 157.653 60.5889 Z\" fill=\"#000000\" fill-rule=\"evenodd\" fill-opacity=\"1\" /><path clip-path=\"url(#clip230)\" d=\"M 0 0 M83.1668 581.356 Q83.7787 581.356 84.1008 581.614 Q84.3907 581.839 84.4551 582.065 Q84.4873 582.258 84.4873 582.548 Q84.4873 583.385 84.3907 586.283 Q84.294 589.182 84.294 590.019 Q84.294 591.372 84.3907 594.142 Q84.4873 596.911 84.4873 598.264 Q84.4873 599.166 83.7465 599.166 Q83.2635 599.166 83.0058 599.069 Q82.716 598.973 82.6193 598.715 Q82.4905 598.425 82.4905 598.264 Q82.4583 598.071 82.4583 597.588 Q82.4583 596.944 82.3939 596.267 Q82.2973 595.591 82.104 594.754 Q81.9108 593.916 81.4277 593.401 Q80.9446 592.853 80.2683 592.853 Q79.9785 592.853 77.5952 593.079 Q75.212 593.304 72.4423 593.594 Q69.6404 593.884 69.2539 593.916 L69.2539 610.47 Q71.8626 611.984 73.6661 613.047 Q75.4696 614.109 76.0815 614.496 Q76.6935 614.882 77.0799 615.108 Q77.4664 615.333 77.6918 615.462 Q79.3987 616.396 80.1395 616.396 Q82.2007 616.396 82.4583 613.304 Q82.4583 612.241 83.2312 612.241 Q83.811 612.241 84.133 612.499 Q84.4229 612.757 84.4551 612.982 Q84.4873 613.175 84.4873 613.497 Q84.4873 614.56 84.3907 616.782 Q84.294 619.005 84.294 620.1 Q84.294 621.034 84.3907 622.966 Q84.4873 624.898 84.4873 625.768 Q84.4873 626.154 84.2618 626.38 Q84.0364 626.605 83.7465 626.605 Q83.2957 626.605 83.038 626.541 Q82.7804 626.444 82.6515 626.187 Q82.5227 625.929 82.5227 625.8 Q82.4905 625.671 82.4583 625.22 Q82.2973 622.773 81.1379 620.873 Q79.9462 618.94 76.8867 617.104 L38.3685 594.174 Q37.982 593.948 37.7888 593.787 Q37.5955 593.626 37.4345 593.304 Q37.2735 592.95 37.2735 592.435 Q37.2735 591.63 37.5311 591.469 Q37.7566 591.308 38.8516 591.211 L80.0751 587.185 Q80.9446 587.089 81.2989 587.024 Q81.621 586.928 81.9752 586.509 Q82.2973 586.058 82.3939 585.253 Q82.4583 584.416 82.4583 582.87 Q82.4583 582.29 82.4905 582.065 Q82.4905 581.839 82.6515 581.614 Q82.8126 581.356 83.1668 581.356 M67.1927 594.11 L45.4538 596.203 L67.1927 609.214 L67.1927 594.11 Z\" fill=\"#000000\" fill-rule=\"evenodd\" fill-opacity=\"1\" /><path clip-path=\"url(#clip230)\" d=\"M 0 0 M100.043 577.605 Q99.7206 577.605 99.0121 577.348 L36.7904 554.063 Q36.726 554.063 36.3717 553.902 Q36.0175 553.741 35.792 553.644 Q35.5344 553.547 35.3411 553.354 Q35.1479 553.129 35.1479 552.871 Q35.1479 552.227 35.953 552.227 Q36.0175 552.227 36.7904 552.42 L99.0765 575.769 Q100.204 576.156 100.526 576.414 Q100.848 576.639 100.848 577.026 Q100.848 577.605 100.043 577.605 Z\" fill=\"#000000\" fill-rule=\"evenodd\" fill-opacity=\"1\" /><path clip-path=\"url(#clip230)\" d=\"M 0 0 M83.1668 499.689 Q83.7787 499.689 84.1008 499.947 Q84.3907 500.172 84.4551 500.398 Q84.4873 500.591 84.4873 500.881 Q84.4873 501.718 84.3907 504.617 Q84.294 507.515 84.294 508.353 Q84.294 509.705 84.3907 512.475 Q84.4873 515.245 84.4873 516.597 Q84.4873 517.499 83.7465 517.499 Q83.2635 517.499 83.0058 517.403 Q82.716 517.306 82.6193 517.048 Q82.4905 516.758 82.4905 516.597 Q82.4583 516.404 82.4583 515.921 Q82.4583 515.277 82.3939 514.601 Q82.2973 513.924 82.104 513.087 Q81.9108 512.25 81.4277 511.734 Q80.9446 511.187 80.2683 511.187 Q79.9785 511.187 77.5952 511.412 Q75.212 511.638 72.4423 511.928 Q69.6404 512.217 69.2539 512.25 L69.2539 528.803 Q71.8626 530.317 73.6661 531.38 Q75.4696 532.443 76.0815 532.829 Q76.6935 533.216 77.0799 533.441 Q77.4664 533.667 77.6918 533.795 Q79.3987 534.729 80.1395 534.729 Q82.2007 534.729 82.4583 531.638 Q82.4583 530.575 83.2312 530.575 Q83.811 530.575 84.133 530.832 Q84.4229 531.09 84.4551 531.315 Q84.4873 531.509 84.4873 531.831 Q84.4873 532.894 84.3907 535.116 Q84.294 537.338 84.294 538.433 Q84.294 539.367 84.3907 541.299 Q84.4873 543.232 84.4873 544.101 Q84.4873 544.488 84.2618 544.713 Q84.0364 544.939 83.7465 544.939 Q83.2957 544.939 83.038 544.874 Q82.7804 544.778 82.6515 544.52 Q82.5227 544.262 82.5227 544.133 Q82.4905 544.005 82.4583 543.554 Q82.2973 541.106 81.1379 539.206 Q79.9462 537.274 76.8867 535.438 L38.3685 512.507 Q37.982 512.282 37.7888 512.121 Q37.5955 511.96 37.4345 511.638 Q37.2735 511.283 37.2735 510.768 Q37.2735 509.963 37.5311 509.802 Q37.7566 509.641 38.8516 509.544 L80.0751 505.519 Q80.9446 505.422 81.2989 505.358 Q81.621 505.261 81.9752 504.842 Q82.2973 504.391 82.3939 503.586 Q82.4583 502.749 82.4583 501.203 Q82.4583 500.623 82.4905 500.398 Q82.4905 500.172 82.6515 499.947 Q82.8126 499.689 83.1668 499.689 M67.1927 512.443 L45.4538 514.536 L67.1927 527.547 L67.1927 512.443 Z\" fill=\"#000000\" fill-rule=\"evenodd\" fill-opacity=\"1\" /><path clip-path=\"url(#clip230)\" d=\"M 0 0 M89.4408 480.276 Q88.6518 480.276 88.1333 479.216 L85.0898 472.791 L82.0464 479.306 Q81.5955 480.276 80.8064 480.276 Q80.3556 480.276 79.9498 479.915 Q79.5214 479.532 79.5214 479.036 Q79.5214 478.675 80.0174 478.021 L84.1655 472.295 Q76.5456 472.994 76.3202 472.971 Q75.8693 472.971 75.5311 472.633 Q75.1704 472.295 75.1704 471.732 Q75.1704 471.281 75.5086 470.92 Q75.8242 470.537 76.3202 470.537 L84.1655 471.213 L80.3781 466.095 Q79.4989 464.901 79.5214 464.472 Q79.5214 463.954 79.9272 463.593 Q80.333 463.232 80.8064 463.232 Q81.5955 463.232 82.0915 464.292 L85.1349 470.717 L88.2009 464.202 Q88.6518 463.232 89.4408 463.232 Q89.8917 463.232 90.3201 463.616 Q90.7258 463.976 90.7258 464.472 Q90.7258 464.743 90.4553 465.216 Q90.4102 465.306 89.6888 466.276 Q88.9674 467.245 87.8627 468.756 Q86.7581 470.244 86.0592 471.213 Q93.6791 470.514 93.9046 470.537 Q94.3554 470.537 94.7162 470.875 Q95.0769 471.213 95.0769 471.777 Q95.0769 472.227 94.7612 472.611 Q94.4231 472.971 93.9046 472.971 L86.0592 472.295 L90.7258 478.743 Q90.7258 479.442 90.3877 479.825 Q90.027 480.186 89.8241 480.231 Q89.6212 480.276 89.4408 480.276 Z\" fill=\"#000000\" fill-rule=\"evenodd\" fill-opacity=\"1\" /><polyline clip-path=\"url(#clip232)\" style=\"stroke:#009af9; stroke-width:4; stroke-opacity:1; fill:none\" points=\"\n",
       "  201.359,-3659.65 204.746,-1321.79 208.133,-542.686 211.52,-153.276 214.907,80.258 218.294,235.853 221.681,346.912 225.068,430.136 228.455,494.803 231.842,546.479 \n",
       "  235.228,588.709 238.615,623.852 242.002,653.545 245.389,678.956 248.776,700.939 252.163,720.139 255.55,737.046 258.937,752.043 262.324,765.43 265.711,777.449 \n",
       "  269.098,788.295 272.485,798.129 275.872,807.081 279.259,815.263 282.646,822.766 286.033,829.668 289.42,836.037 292.807,841.929 296.194,847.394 299.581,852.474 \n",
       "  302.968,857.206 306.355,861.622 309.742,865.752 313.129,869.62 316.516,873.249 319.902,876.658 323.289,879.865 326.676,882.887 330.063,885.736 333.45,888.426 \n",
       "  336.837,890.969 340.224,893.375 343.611,895.652 346.998,897.811 350.385,899.858 353.772,901.801 357.159,903.646 360.546,905.399 363.933,907.066 367.32,908.652 \n",
       "  370.707,910.161 374.094,911.598 377.481,912.966 380.868,914.27 384.255,915.512 387.642,916.696 391.029,917.825 394.416,918.901 397.803,919.927 401.19,920.906 \n",
       "  404.576,921.839 407.963,922.728 411.35,923.576 414.737,924.385 418.124,925.155 421.511,925.889 424.898,926.588 428.285,927.253 431.672,927.886 435.059,928.488 \n",
       "  438.446,929.06 441.833,929.603 445.22,930.118 448.607,930.607 451.994,931.07 455.381,931.508 458.768,931.921 462.155,932.311 465.542,932.679 468.929,933.024 \n",
       "  472.316,933.348 475.703,933.652 479.09,933.935 482.477,934.199 485.864,934.443 489.25,934.669 492.637,934.877 496.024,935.068 499.411,935.241 502.798,935.397 \n",
       "  506.185,935.537 509.572,935.661 512.959,935.769 516.346,935.862 519.733,935.94 523.12,936.003 526.507,936.052 529.894,936.086 533.281,936.107 536.668,936.114 \n",
       "  540.055,936.107 543.442,936.087 546.829,936.054 550.216,936.008 553.603,935.95 556.99,935.879 560.377,935.795 563.764,935.7 567.151,935.592 570.538,935.473 \n",
       "  573.924,935.342 577.311,935.199 580.698,935.045 584.085,934.88 587.472,934.703 590.859,934.515 594.246,934.316 597.633,934.106 601.02,933.885 604.407,933.654 \n",
       "  607.794,933.411 611.181,933.158 614.568,932.895 617.955,932.62 621.342,932.336 624.729,932.04 628.116,931.735 631.503,931.419 634.89,931.092 638.277,930.756 \n",
       "  641.664,930.409 645.051,930.052 648.438,929.684 651.825,929.307 655.212,928.919 658.598,928.521 661.985,928.112 665.372,927.694 668.759,927.266 672.146,926.827 \n",
       "  675.533,926.378 678.92,925.919 682.307,925.45 685.694,924.97 689.081,924.48 692.468,923.98 695.855,923.47 699.242,922.95 702.629,922.419 706.016,921.878 \n",
       "  709.403,921.327 712.79,920.765 716.177,920.193 719.564,919.61 722.951,919.017 726.338,918.413 729.725,917.799 733.112,917.174 736.499,916.539 739.886,915.893 \n",
       "  743.272,915.236 746.659,914.569 750.046,913.89 753.433,913.201 756.82,912.5 760.207,911.789 763.594,911.067 766.981,910.333 770.368,909.589 773.755,908.833 \n",
       "  777.142,908.066 780.529,907.287 783.916,906.497 787.303,905.696 790.69,904.883 794.077,904.058 797.464,903.221 800.851,902.373 804.238,901.513 807.625,900.641 \n",
       "  811.012,899.757 814.399,898.861 817.786,897.952 821.173,897.032 824.56,896.099 827.946,895.153 831.333,894.195 834.72,893.225 838.107,892.241 841.494,891.245 \n",
       "  844.881,890.236 848.268,889.214 851.655,888.179 855.042,887.131 858.429,886.069 861.816,884.995 865.203,883.906 868.59,882.804 871.977,881.689 875.364,880.559 \n",
       "  878.751,879.416 882.138,878.259 885.525,877.087 888.912,875.902 892.299,874.702 895.686,873.487 899.073,872.258 902.46,871.015 905.847,869.756 909.234,868.483 \n",
       "  912.62,867.195 916.007,865.892 919.394,864.573 922.781,863.239 926.168,861.889 929.555,860.524 932.942,859.143 936.329,857.747 939.716,856.334 943.103,854.905 \n",
       "  946.49,853.46 949.877,851.999 953.264,850.521 956.651,849.026 960.038,847.515 963.425,845.986 966.812,844.441 970.199,842.878 973.586,841.298 976.973,839.701 \n",
       "  980.36,838.086 983.747,836.453 987.134,834.803 990.521,833.134 993.908,831.447 997.294,829.742 1000.68,828.018 1004.07,826.276 1007.46,824.514 1010.84,822.734 \n",
       "  1014.23,820.935 1017.62,819.116 1021,817.279 1024.39,815.421 1027.78,813.544 1031.16,811.647 1034.55,809.73 1037.94,807.792 1041.32,805.835 1044.71,803.856 \n",
       "  1048.1,801.857 1051.49,799.838 1054.87,797.797 1058.26,795.735 1061.65,793.651 1065.03,791.546 1068.42,789.419 1071.81,787.271 1075.19,785.1 1078.58,782.907 \n",
       "  1081.97,780.691 1085.36,778.453 1088.74,776.192 1092.13,773.909 1095.52,771.602 1098.9,769.271 1102.29,766.917 1105.68,764.54 1109.06,762.138 1112.45,759.712 \n",
       "  1115.84,757.263 1119.23,754.788 1122.61,752.289 1126,749.765 1129.39,747.216 1132.77,744.642 1136.16,742.042 1139.55,739.417 1142.93,736.765 1146.32,734.088 \n",
       "  1149.71,731.384 1153.09,728.654 1156.48,725.897 1159.87,723.113 1163.26,720.303 1166.64,717.464 1170.03,714.599 1173.42,711.705 1176.8,708.784 1180.19,705.834 \n",
       "  1183.58,702.856 1186.96,699.85 1190.35,696.814 1193.74,693.75 1197.13,690.656 1200.51,687.533 1203.9,684.38 1207.29,681.197 1210.67,677.984 1214.06,674.74 \n",
       "  1217.45,671.466 1220.83,668.161 1224.22,664.824 1227.61,661.457 1230.99,658.058 1234.38,654.627 1237.77,651.164 1241.16,647.668 1244.54,644.14 1247.93,640.58 \n",
       "  1251.32,636.986 1254.7,633.359 1258.09,629.698 1261.48,626.004 1264.86,622.276 1268.25,618.513 1271.64,614.716 1275.03,610.884 1278.41,607.017 1281.8,603.114 \n",
       "  1285.19,599.176 1288.57,595.202 1291.96,591.192 1295.35,587.146 1298.73,583.063 1302.12,578.943 1305.51,574.786 1308.89,570.592 1312.28,566.36 1315.67,562.09 \n",
       "  1319.06,557.781 1322.44,553.434 1325.83,549.049 1329.22,544.624 1332.6,540.16 1335.99,535.656 1339.38,531.112 1342.76,526.528 1346.15,521.903 1349.54,517.238 \n",
       "  1352.93,512.531 1356.31,507.784 1359.7,502.994 1363.09,498.163 1366.47,493.289 1369.86,488.373 1373.25,483.413 1376.63,478.411 1380.02,473.365 1383.41,468.276 \n",
       "  1386.79,463.142 1390.18,457.964 1393.57,452.741 1396.96,447.473 1400.34,442.16 1403.73,436.801 1407.12,431.397 1410.5,425.946 1413.89,420.448 1417.28,414.904 \n",
       "  1420.66,409.312 1424.05,403.673 1427.44,397.986 1430.83,392.25 1434.21,386.467 1437.6,380.634 1440.99,374.752 1444.37,368.821 1447.76,362.839 1451.15,356.808 \n",
       "  1454.53,350.726 1457.92,344.593 1461.31,338.409 1464.69,332.173 1468.08,325.885 1471.47,319.545 1474.86,313.153 1478.24,306.707 1481.63,300.209 1485.02,293.656 \n",
       "  1488.4,287.05 1491.79,280.389 1495.18,273.673 1498.56,266.902 1501.95,260.076 1505.34,253.194 1508.73,246.256 1512.11,239.262 1515.5,232.21 1518.89,225.101 \n",
       "  1522.27,217.934 1525.66,210.71 1529.05,203.427 1532.43,196.085 1535.82,188.684 1539.21,181.223 1542.6,173.702 1545.98,166.122 1549.37,158.48 1552.76,150.777 \n",
       "  1556.14,143.013 1559.53,135.187 1562.92,127.298 1566.3,119.347 1569.69,111.333 1573.08,103.255 1576.46,95.114 1579.85,86.9081 1583.24,78.6376 1586.63,70.302 \n",
       "  1590.01,61.9009 1593.4,53.4339 1596.79,44.9005 1600.17,36.3004 1603.56,27.6331 1606.95,18.8983 1610.33,10.0954 1613.72,1.22412 1617.11,-7.71601 1620.5,-16.7254 \n",
       "  1623.88,-25.8045 1627.27,-34.9537 1630.66,-44.1735 1634.04,-53.4643 1637.43,-62.8265 1640.82,-72.2606 1644.2,-81.767 1647.59,-91.3462 1650.98,-100.998 1654.36,-110.724 \n",
       "  1657.75,-120.525 1661.14,-130.399 1664.53,-140.349 1667.91,-150.374 1671.3,-160.475 1674.69,-170.652 1678.07,-180.906 1681.46,-191.237 1684.85,-201.646 1688.23,-212.133 \n",
       "  1691.62,-222.699 1695.01,-233.344 1698.4,-244.069 1701.78,-254.874 1705.17,-265.759 1708.56,-276.725 1711.94,-287.773 1715.33,-298.903 1718.72,-310.115 1722.1,-321.41 \n",
       "  1725.49,-332.789 1728.88,-344.251 1732.26,-355.798 1735.65,-367.43 1739.04,-379.147 1742.43,-390.95 1745.81,-402.84 1749.2,-414.816 1752.59,-426.88 1755.97,-439.032 \n",
       "  1759.36,-451.272 1762.75,-463.601 1766.13,-476.019 1769.52,-488.528 1772.91,-501.127 1776.3,-513.817 1779.68,-526.598 1783.07,-539.471 1786.46,-552.437 1789.84,-565.496 \n",
       "  1793.23,-578.649 1796.62,-591.896 1800,-605.237 1803.39,-618.674 1806.78,-632.206 1810.16,-645.834 1813.55,-659.56 1816.94,-673.382 1820.33,-687.303 1823.71,-701.322 \n",
       "  1827.1,-715.44 1830.49,-729.658 1833.87,-743.975 1837.26,-758.394 1840.65,-772.913 1844.03,-787.535 1847.42,-802.258 1850.81,-817.085 1854.2,-832.015 1857.58,-847.049 \n",
       "  1860.97,-862.188 1864.36,-877.431 1867.74,-892.781 1871.13,-908.237 1874.52,-923.8 1877.9,-939.47 1881.29,-955.248 1884.68,-971.136 1888.06,-987.132 1891.45,-1003.24 \n",
       "  1894.84,-1019.45 1898.23,-1035.78 1901.61,-1052.22 1905,-1068.77 1908.39,-1085.44 1911.77,-1102.21 1915.16,-1119.11 1918.55,-1136.11 1921.93,-1153.23 1925.32,-1170.47 \n",
       "  1928.71,-1187.83 1932.1,-1205.3 1935.48,-1222.89 1938.87,-1240.59 1942.26,-1258.42 1945.64,-1276.37 1949.03,-1294.43 1952.42,-1312.62 1955.8,-1330.93 1959.19,-1349.36 \n",
       "  1962.58,-1367.91 1965.97,-1386.59 1969.35,-1405.39 1972.74,-1424.31 1976.13,-1443.37 1979.51,-1462.54 1982.9,-1481.85 1986.29,-1501.28 1989.67,-1520.84 1993.06,-1540.52 \n",
       "  1996.45,-1560.34 1999.83,-1580.29 2003.22,-1600.36 2006.61,-1620.57 2010,-1640.91 2013.38,-1661.39 2016.77,-1681.99 2020.16,-1702.73 2023.54,-1723.61 2026.93,-1744.62 \n",
       "  2030.32,-1765.77 2033.7,-1787.05 2037.09,-1808.47 2040.48,-1830.03 2043.87,-1851.73 2047.25,-1873.57 2050.64,-1895.54 2054.03,-1917.66 2057.41,-1939.92 2060.8,-1962.33 \n",
       "  2064.19,-1984.87 2067.57,-2007.56 2070.96,-2030.39 2074.35,-2053.37 2077.73,-2076.5 2081.12,-2099.77 2084.51,-2123.19 2087.9,-2146.76 2091.28,-2170.47 2094.67,-2194.34 \n",
       "  2098.06,-2218.35 2101.44,-2242.52 2104.83,-2266.84 2108.22,-2291.31 2111.6,-2315.93 2114.99,-2340.71 2118.38,-2365.65 2121.77,-2390.74 2125.15,-2415.98 2128.54,-2441.38 \n",
       "  2131.93,-2466.94 2135.31,-2492.66 2138.7,-2518.54 2142.09,-2544.58 2145.47,-2570.78 2148.86,-2597.14 2152.25,-2623.66 2155.63,-2650.35 2159.02,-2677.2 2162.41,-2704.21 \n",
       "  2165.8,-2731.39 2169.18,-2758.74 2172.57,-2786.25 2175.96,-2813.93 2179.34,-2841.78 2182.73,-2869.8 2186.12,-2897.99 2189.5,-2926.36 2192.89,-2954.89 2196.28,-2983.6 \n",
       "  2199.67,-3012.48 2203.05,-3041.53 2206.44,-3070.76 2209.83,-3100.17 2213.21,-3129.75 2216.6,-3159.51 2219.99,-3189.45 2223.37,-3219.57 2226.76,-3249.86 2230.15,-3280.34 \n",
       "  \n",
       "  \"/>\n",
       "<circle clip-path=\"url(#clip232)\" cx=\"536.668\" cy=\"936.114\" r=\"14\" fill=\"#e26f46\" fill-rule=\"evenodd\" fill-opacity=\"1\" stroke=\"#000000\" stroke-opacity=\"1\" stroke-width=\"2.4\"/>\n",
       "<polyline clip-path=\"url(#clip232)\" style=\"stroke:#3da44d; stroke-width:4; stroke-opacity:1; fill:none\" stroke-dasharray=\"16, 10\" points=\"\n",
       "  197.972,855.307 201.359,855.307 204.746,855.307 208.133,855.307 211.52,855.307 214.907,855.307 218.294,855.307 221.681,855.307 225.068,855.307 228.455,855.307 \n",
       "  231.842,855.307 235.228,855.307 238.615,855.307 242.002,855.307 245.389,855.307 248.776,855.307 252.163,855.307 255.55,855.307 258.937,855.307 262.324,855.307 \n",
       "  265.711,855.307 269.098,855.307 272.485,855.307 275.872,855.307 279.259,855.307 282.646,855.307 286.033,855.307 289.42,855.307 292.807,855.307 296.194,855.307 \n",
       "  299.581,855.307 302.968,855.307 306.355,855.307 309.742,855.307 313.129,855.307 316.516,855.307 319.902,855.307 323.289,855.307 326.676,855.307 330.063,855.307 \n",
       "  333.45,855.307 336.837,855.307 340.224,855.307 343.611,855.307 346.998,855.307 350.385,855.307 353.772,855.307 357.159,855.307 360.546,855.307 363.933,855.307 \n",
       "  367.32,855.307 370.707,855.307 374.094,855.307 377.481,855.307 380.868,855.307 384.255,855.307 387.642,855.307 391.029,855.307 394.416,855.307 397.803,855.307 \n",
       "  401.19,855.307 404.576,855.307 407.963,855.307 411.35,855.307 414.737,855.307 418.124,855.307 421.511,855.307 424.898,855.307 428.285,855.307 431.672,855.307 \n",
       "  435.059,855.307 438.446,855.307 441.833,855.307 445.22,855.307 448.607,855.307 451.994,855.307 455.381,855.307 458.768,855.307 462.155,855.307 465.542,855.307 \n",
       "  468.929,855.307 472.316,855.307 475.703,855.307 479.09,855.307 482.477,855.307 485.864,855.307 489.25,855.307 492.637,855.307 496.024,855.307 499.411,855.307 \n",
       "  502.798,855.307 506.185,855.307 509.572,855.307 512.959,855.307 516.346,855.307 519.733,855.307 523.12,855.307 526.507,855.307 529.894,855.307 533.281,855.307 \n",
       "  536.668,855.307 540.055,855.307 543.442,855.307 546.829,855.307 550.216,855.307 553.603,855.307 556.99,855.307 560.377,855.307 563.764,855.307 567.151,855.307 \n",
       "  570.538,855.307 573.924,855.307 577.311,855.307 580.698,855.307 584.085,855.307 587.472,855.307 590.859,855.307 594.246,855.307 597.633,855.307 601.02,855.307 \n",
       "  604.407,855.307 607.794,855.307 611.181,855.307 614.568,855.307 617.955,855.307 621.342,855.307 624.729,855.307 628.116,855.307 631.503,855.307 634.89,855.307 \n",
       "  638.277,855.307 641.664,855.307 645.051,855.307 648.438,855.307 651.825,855.307 655.212,855.307 658.598,855.307 661.985,855.307 665.372,855.307 668.759,855.307 \n",
       "  672.146,855.307 675.533,855.307 678.92,855.307 682.307,855.307 685.694,855.307 689.081,855.307 692.468,855.307 695.855,855.307 699.242,855.307 702.629,855.307 \n",
       "  706.016,855.307 709.403,855.307 712.79,855.307 716.177,855.307 719.564,855.307 722.951,855.307 726.338,855.307 729.725,855.307 733.112,855.307 736.499,855.307 \n",
       "  739.886,855.307 743.272,855.307 746.659,855.307 750.046,855.307 753.433,855.307 756.82,855.307 760.207,855.307 763.594,855.307 766.981,855.307 770.368,855.307 \n",
       "  773.755,855.307 777.142,855.307 780.529,855.307 783.916,855.307 787.303,855.307 790.69,855.307 794.077,855.307 797.464,855.307 800.851,855.307 804.238,855.307 \n",
       "  807.625,855.307 811.012,855.307 814.399,855.307 817.786,855.307 821.173,855.307 824.56,855.307 827.946,855.307 831.333,855.307 834.72,855.307 838.107,855.307 \n",
       "  841.494,855.307 844.881,855.307 848.268,855.307 851.655,855.307 855.042,855.307 858.429,855.307 861.816,855.307 865.203,855.307 868.59,855.307 871.977,855.307 \n",
       "  875.364,855.307 878.751,855.307 882.138,855.307 885.525,855.307 888.912,855.307 892.299,855.307 895.686,855.307 899.073,855.307 902.46,855.307 905.847,855.307 \n",
       "  909.234,855.307 912.62,855.307 916.007,855.307 919.394,855.307 922.781,855.307 926.168,855.307 929.555,855.307 932.942,855.307 936.329,855.307 939.716,855.307 \n",
       "  943.103,855.307 946.49,855.307 949.877,855.307 953.264,855.307 956.651,855.307 960.038,855.307 963.425,855.307 966.812,855.307 970.199,855.307 973.586,855.307 \n",
       "  976.973,855.307 980.36,855.307 983.747,855.307 987.134,855.307 990.521,855.307 993.908,855.307 997.294,855.307 1000.68,855.307 1004.07,855.307 1007.46,855.307 \n",
       "  1010.84,855.307 1014.23,855.307 1017.62,855.307 1021,855.307 1024.39,855.307 1027.78,855.307 1031.16,855.307 1034.55,855.307 1037.94,855.307 1041.32,855.307 \n",
       "  1044.71,855.307 1048.1,855.307 1051.49,855.307 1054.87,855.307 1058.26,855.307 1061.65,855.307 1065.03,855.307 1068.42,855.307 1071.81,855.307 1075.19,855.307 \n",
       "  1078.58,855.307 1081.97,855.307 1085.36,855.307 1088.74,855.307 1092.13,855.307 1095.52,855.307 1098.9,855.307 1102.29,855.307 1105.68,855.307 1109.06,855.307 \n",
       "  1112.45,855.307 1115.84,855.307 1119.23,855.307 1122.61,855.307 1126,855.307 1129.39,855.307 1132.77,855.307 1136.16,855.307 1139.55,855.307 1142.93,855.307 \n",
       "  1146.32,855.307 1149.71,855.307 1153.09,855.307 1156.48,855.307 1159.87,855.307 1163.26,855.307 1166.64,855.307 1170.03,855.307 1173.42,855.307 1176.8,855.307 \n",
       "  1180.19,855.307 1183.58,855.307 1186.96,855.307 1190.35,855.307 1193.74,855.307 1197.13,855.307 1200.51,855.307 1203.9,855.307 1207.29,855.307 1210.67,855.307 \n",
       "  1214.06,855.307 1217.45,855.307 1220.83,855.307 1224.22,855.307 1227.61,855.307 1230.99,855.307 1234.38,855.307 1237.77,855.307 1241.16,855.307 1244.54,855.307 \n",
       "  1247.93,855.307 1251.32,855.307 1254.7,855.307 1258.09,855.307 1261.48,855.307 1264.86,855.307 1268.25,855.307 1271.64,855.307 1275.03,855.307 1278.41,855.307 \n",
       "  1281.8,855.307 1285.19,855.307 1288.57,855.307 1291.96,855.307 1295.35,855.307 1298.73,855.307 1302.12,855.307 1305.51,855.307 1308.89,855.307 1312.28,855.307 \n",
       "  1315.67,855.307 1319.06,855.307 1322.44,855.307 1325.83,855.307 1329.22,855.307 1332.6,855.307 1335.99,855.307 1339.38,855.307 1342.76,855.307 1346.15,855.307 \n",
       "  1349.54,855.307 1352.93,855.307 1356.31,855.307 1359.7,855.307 1363.09,855.307 1366.47,855.307 1369.86,855.307 1373.25,855.307 1376.63,855.307 1380.02,855.307 \n",
       "  1383.41,855.307 1386.79,855.307 1390.18,855.307 1393.57,855.307 1396.96,855.307 1400.34,855.307 1403.73,855.307 1407.12,855.307 1410.5,855.307 1413.89,855.307 \n",
       "  1417.28,855.307 1420.66,855.307 1424.05,855.307 1427.44,855.307 1430.83,855.307 1434.21,855.307 1437.6,855.307 1440.99,855.307 1444.37,855.307 1447.76,855.307 \n",
       "  1451.15,855.307 1454.53,855.307 1457.92,855.307 1461.31,855.307 1464.69,855.307 1468.08,855.307 1471.47,855.307 1474.86,855.307 1478.24,855.307 1481.63,855.307 \n",
       "  1485.02,855.307 1488.4,855.307 1491.79,855.307 1495.18,855.307 1498.56,855.307 1501.95,855.307 1505.34,855.307 1508.73,855.307 1512.11,855.307 1515.5,855.307 \n",
       "  1518.89,855.307 1522.27,855.307 1525.66,855.307 1529.05,855.307 1532.43,855.307 1535.82,855.307 1539.21,855.307 1542.6,855.307 1545.98,855.307 1549.37,855.307 \n",
       "  1552.76,855.307 1556.14,855.307 1559.53,855.307 1562.92,855.307 1566.3,855.307 1569.69,855.307 1573.08,855.307 1576.46,855.307 1579.85,855.307 1583.24,855.307 \n",
       "  1586.63,855.307 1590.01,855.307 1593.4,855.307 1596.79,855.307 1600.17,855.307 1603.56,855.307 1606.95,855.307 1610.33,855.307 1613.72,855.307 1617.11,855.307 \n",
       "  1620.5,855.307 1623.88,855.307 1627.27,855.307 1630.66,855.307 1634.04,855.307 1637.43,855.307 1640.82,855.307 1644.2,855.307 1647.59,855.307 1650.98,855.307 \n",
       "  1654.36,855.307 1657.75,855.307 1661.14,855.307 1664.53,855.307 1667.91,855.307 1671.3,855.307 1674.69,855.307 1678.07,855.307 1681.46,855.307 1684.85,855.307 \n",
       "  1688.23,855.307 1691.62,855.307 1695.01,855.307 1698.4,855.307 1701.78,855.307 1705.17,855.307 1708.56,855.307 1711.94,855.307 1715.33,855.307 1718.72,855.307 \n",
       "  1722.1,855.307 1725.49,855.307 1728.88,855.307 1732.26,855.307 1735.65,855.307 1739.04,855.307 1742.43,855.307 1745.81,855.307 1749.2,855.307 1752.59,855.307 \n",
       "  1755.97,855.307 1759.36,855.307 1762.75,855.307 1766.13,855.307 1769.52,855.307 1772.91,855.307 1776.3,855.307 1779.68,855.307 1783.07,855.307 1786.46,855.307 \n",
       "  1789.84,855.307 1793.23,855.307 1796.62,855.307 1800,855.307 1803.39,855.307 1806.78,855.307 1810.16,855.307 1813.55,855.307 1816.94,855.307 1820.33,855.307 \n",
       "  1823.71,855.307 1827.1,855.307 1830.49,855.307 1833.87,855.307 1837.26,855.307 1840.65,855.307 1844.03,855.307 1847.42,855.307 1850.81,855.307 1854.2,855.307 \n",
       "  1857.58,855.307 1860.97,855.307 1864.36,855.307 1867.74,855.307 1871.13,855.307 1874.52,855.307 1877.9,855.307 1881.29,855.307 1884.68,855.307 1888.06,855.307 \n",
       "  1891.45,855.307 1894.84,855.307 1898.23,855.307 1901.61,855.307 1905,855.307 1908.39,855.307 1911.77,855.307 1915.16,855.307 1918.55,855.307 1921.93,855.307 \n",
       "  1925.32,855.307 1928.71,855.307 1932.1,855.307 1935.48,855.307 1938.87,855.307 1942.26,855.307 1945.64,855.307 1949.03,855.307 1952.42,855.307 1955.8,855.307 \n",
       "  1959.19,855.307 1962.58,855.307 1965.97,855.307 1969.35,855.307 1972.74,855.307 1976.13,855.307 1979.51,855.307 1982.9,855.307 1986.29,855.307 1989.67,855.307 \n",
       "  1993.06,855.307 1996.45,855.307 1999.83,855.307 2003.22,855.307 2006.61,855.307 2010,855.307 2013.38,855.307 2016.77,855.307 2020.16,855.307 2023.54,855.307 \n",
       "  2026.93,855.307 2030.32,855.307 2033.7,855.307 2037.09,855.307 2040.48,855.307 2043.87,855.307 2047.25,855.307 2050.64,855.307 2054.03,855.307 2057.41,855.307 \n",
       "  2060.8,855.307 2064.19,855.307 2067.57,855.307 2070.96,855.307 2074.35,855.307 2077.73,855.307 2081.12,855.307 2084.51,855.307 2087.9,855.307 2091.28,855.307 \n",
       "  2094.67,855.307 2098.06,855.307 2101.44,855.307 2104.83,855.307 2108.22,855.307 2111.6,855.307 2114.99,855.307 2118.38,855.307 2121.77,855.307 2125.15,855.307 \n",
       "  2128.54,855.307 2131.93,855.307 2135.31,855.307 2138.7,855.307 2142.09,855.307 2145.47,855.307 2148.86,855.307 2152.25,855.307 2155.63,855.307 2159.02,855.307 \n",
       "  2162.41,855.307 2165.8,855.307 2169.18,855.307 2172.57,855.307 2175.96,855.307 2179.34,855.307 2182.73,855.307 2186.12,855.307 2189.5,855.307 2192.89,855.307 \n",
       "  2196.28,855.307 2199.67,855.307 2203.05,855.307 2206.44,855.307 2209.83,855.307 2213.21,855.307 2216.6,855.307 2219.99,855.307 2223.37,855.307 2226.76,855.307 \n",
       "  2230.15,855.307 \n",
       "  \"/>\n",
       "</svg>\n"
      ]
     },
     "metadata": {},
     "execution_count": 11
    }
   ],
   "cell_type": "code",
   "source": [
    "Mrange = range(0,6,length=601)\n",
    "Aratio = []\n",
    "for M in Mrange\n",
    "    push!(Aratio,value(AOverAStar(MachNumber(M),Isentropic)))\n",
    "end\n",
    "\n",
    "plot(Mrange,Aratio,xlim=(0,4),ylim=(0,12),yticks=0:1:12,xlabel=\"Mach number\",ylabel=L\"A/A_*\",legend=false)\n",
    "scatter!([1],[1])\n",
    "plot!(Mrange,2*ones(length(Mrange)),style=:dash)"
   ],
   "metadata": {},
   "execution_count": 11
  },
  {
   "cell_type": "markdown",
   "source": [
    "#### Example 4\n",
    "What are the subsonic and supersonic Mach numbers associated with, for example,\n",
    "an area ratio $A/A_*$ of 2 (the dashed line in the plot above)? We simply input\n",
    "the desired area ratio and find the two solutions:"
   ],
   "metadata": {}
  },
  {
   "outputs": [],
   "cell_type": "code",
   "source": [
    "M1, M2 = MachNumber(AreaRatio(2),Isentropic);"
   ],
   "metadata": {},
   "execution_count": 12
  },
  {
   "outputs": [
    {
     "output_type": "execute_result",
     "data": {
      "text/plain": "MachNumber = 0.3059038341891081"
     },
     "metadata": {},
     "execution_count": 13
    }
   ],
   "cell_type": "code",
   "source": [
    "M1"
   ],
   "metadata": {},
   "execution_count": 13
  },
  {
   "outputs": [
    {
     "output_type": "execute_result",
     "data": {
      "text/plain": "MachNumber = 2.1971981216521868"
     },
     "metadata": {},
     "execution_count": 14
    }
   ],
   "cell_type": "code",
   "source": [
    "M2"
   ],
   "metadata": {},
   "execution_count": 14
  },
  {
   "cell_type": "markdown",
   "source": [
    "A related question: What is the local sonic reference area $A_*$ when the Mach\n",
    "number is 7.1 and the local area is 50 sq cm?\n",
    "\n",
    "We first compute $A/A_*$ from $M = 7.1$, then compute $A_* = A/(A/A_*)$:"
   ],
   "metadata": {}
  },
  {
   "outputs": [
    {
     "output_type": "execute_result",
     "data": {
      "text/plain": "0.4507312336039658 cm²"
     },
     "metadata": {},
     "execution_count": 15
    }
   ],
   "cell_type": "code",
   "source": [
    "A = Area(50u\"cm^2\")\n",
    "M = MachNumber(7.1)\n",
    "A_over_Astar = AOverAStar(M,Isentropic)\n",
    "Astar = Area(A/A_over_Astar)\n",
    "value(Astar,u\"cm^2\")"
   ],
   "metadata": {},
   "execution_count": 15
  },
  {
   "cell_type": "markdown",
   "source": [
    "So the throat would have to be 0.45 sq cm, much smaller than 50 sq cm!\n",
    "Note that there is a convenience function to do those steps all in one:"
   ],
   "metadata": {}
  },
  {
   "outputs": [
    {
     "output_type": "execute_result",
     "data": {
      "text/plain": "0.4507312336039658 cm²"
     },
     "metadata": {},
     "execution_count": 16
    }
   ],
   "cell_type": "code",
   "source": [
    "value(AStar(A,M),u\"cm^2\")"
   ],
   "metadata": {},
   "execution_count": 16
  },
  {
   "cell_type": "markdown",
   "source": [
    "#### Example 5\n",
    "Consider the flow of air through a converging-diverging nozzle, leaving a stagnant\n",
    "reservoir at pressure $p_0$ = 700 kPa and temperature $T_0 = 30$ degrees C. The Mach\n",
    "number at a location (1) in the converging section with area 50 sq cm is equal to 0.4.\n",
    "The exit of the nozzle has area 60 sq cm.\n",
    "\n",
    "(a) What are the possible Mach numbers at the exit in choked isentropic conditions?\n",
    "What are the exit (i.e., \"back\") pressures $p_2$ associated with these two Mach numbers?\n",
    "\n",
    "(b) What is the mass flow rate through the nozzle in these conditions?"
   ],
   "metadata": {}
  },
  {
   "cell_type": "markdown",
   "source": [
    "First, we set the known values"
   ],
   "metadata": {}
  },
  {
   "outputs": [
    {
     "output_type": "execute_result",
     "data": {
      "text/plain": "MachNumber = 0.4"
     },
     "metadata": {},
     "execution_count": 17
    }
   ],
   "cell_type": "code",
   "source": [
    "p0 = StagnationPressure(700u\"kPa\")\n",
    "T0 = StagnationTemperature(30u\"°C\")\n",
    "A1 = Area(50u\"cm^2\")\n",
    "A2 = Area(60u\"cm^2\")\n",
    "M1 = MachNumber(0.4)"
   ],
   "metadata": {},
   "execution_count": 17
  },
  {
   "cell_type": "markdown",
   "source": [
    "Now, we compute $A_1/A_*$ from $M_1$. Use this to calculate $A_*$ from $A_1/(A_1/A_*)$.\n",
    "Then calculate $A_2/A_*$:"
   ],
   "metadata": {}
  },
  {
   "outputs": [
    {
     "output_type": "execute_result",
     "data": {
      "text/plain": "AreaRatio = 1.9081680000000003"
     },
     "metadata": {},
     "execution_count": 18
    }
   ],
   "cell_type": "code",
   "source": [
    "A1_over_Astar = AOverAStar(M1,Isentropic,gas=Air)\n",
    "Astar = Area(A1/A1_over_Astar)\n",
    "A2_over_Astar = AreaRatio(A2/Astar)"
   ],
   "metadata": {},
   "execution_count": 18
  },
  {
   "cell_type": "markdown",
   "source": [
    "Now calculate the Mach numbers at location 2 (the nozzle exit):"
   ],
   "metadata": {}
  },
  {
   "outputs": [],
   "cell_type": "code",
   "source": [
    "M2sub = SubsonicMachNumber(A2_over_Astar,Isentropic,gas=Air);"
   ],
   "metadata": {},
   "execution_count": 19
  },
  {
   "outputs": [],
   "cell_type": "code",
   "source": [
    "M2sup = SupersonicMachNumber(A2_over_Astar,Isentropic,gas=Air);"
   ],
   "metadata": {},
   "execution_count": 20
  },
  {
   "cell_type": "markdown",
   "source": [
    "Actually, all of the last few steps can be done in *one step* with a different\n",
    "version of the function `MachNumber`:"
   ],
   "metadata": {}
  },
  {
   "outputs": [],
   "cell_type": "code",
   "source": [
    "M2sub, M2sup = MachNumber(M1,A1,A2,Isentropic,gas=Air);"
   ],
   "metadata": {},
   "execution_count": 21
  },
  {
   "cell_type": "markdown",
   "source": [
    "Now let's determine the exit pressures (location 2) corresponding to these two Mach numbers:"
   ],
   "metadata": {}
  },
  {
   "outputs": [
    {
     "output_type": "execute_result",
     "data": {
      "text/plain": "651.301619254323 kPa"
     },
     "metadata": {},
     "execution_count": 22
    }
   ],
   "cell_type": "code",
   "source": [
    "p0_over_p2sub = P0OverP(M2sub,Isentropic,gas=Air)\n",
    "p2sub = Pressure(p0/p0_over_p2sub)\n",
    "value(p2sub,u\"kPa\")"
   ],
   "metadata": {},
   "execution_count": 22
  },
  {
   "outputs": [
    {
     "output_type": "execute_result",
     "data": {
      "text/plain": "71.48184181875564 kPa"
     },
     "metadata": {},
     "execution_count": 23
    }
   ],
   "cell_type": "code",
   "source": [
    "p0_over_p2sup = P0OverP(M2sup,Isentropic,gas=Air)\n",
    "p2sup = Pressure(p0/p0_over_p2sup)\n",
    "value(p2sup,u\"kPa\")"
   ],
   "metadata": {},
   "execution_count": 23
  },
  {
   "cell_type": "markdown",
   "source": [
    "So if the exit pressure is 651 kPa, then the flow will remain choked and **subsonic**\n",
    "throughout, and if the exit pressure is 71.5 kPa, then the flow will remain choked\n",
    "and **supersonic** throughout.\n",
    "\n",
    "Note that, because the flow is choked, the mass flow rate is the same for both of\n",
    "these cases. Let's calculate that mass flow rate (using $\\rho_1 u_1 A_1$). We need\n",
    "$\\rho_1$ and $u_1$. First, calculate the stagnation density in this nozzle:"
   ],
   "metadata": {}
  },
  {
   "outputs": [
    {
     "output_type": "execute_result",
     "data": {
      "text/plain": "StagnationDensity = 8.045602474827321 kg m⁻³"
     },
     "metadata": {},
     "execution_count": 24
    }
   ],
   "cell_type": "code",
   "source": [
    "ρ0 = StagnationDensity(p0,T0,gas=Air) # this uses the perfect gas law"
   ],
   "metadata": {},
   "execution_count": 24
  },
  {
   "cell_type": "markdown",
   "source": [
    "Using $M_1$, find $\\rho_0/\\rho_1$:"
   ],
   "metadata": {}
  },
  {
   "outputs": [
    {
     "output_type": "execute_result",
     "data": {
      "text/plain": "DensityRatio = 1.0819301994280557"
     },
     "metadata": {},
     "execution_count": 25
    }
   ],
   "cell_type": "code",
   "source": [
    "ρ0_over_ρ1 = ρ0Overρ(M1,Isentropic,gas=Air)"
   ],
   "metadata": {},
   "execution_count": 25
  },
  {
   "cell_type": "markdown",
   "source": [
    "So we can get $\\rho_1$ from $\\rho_0/(\\rho_0/\\rho_1)$:"
   ],
   "metadata": {}
  },
  {
   "outputs": [
    {
     "output_type": "execute_result",
     "data": {
      "text/plain": "Density = 7.436341530239654 kg m⁻³"
     },
     "metadata": {},
     "execution_count": 26
    }
   ],
   "cell_type": "code",
   "source": [
    "ρ1 = Density(ρ0/ρ0_over_ρ1)"
   ],
   "metadata": {},
   "execution_count": 26
  },
  {
   "cell_type": "markdown",
   "source": [
    "Now get $u_1$ from $M_1 c_1$, where $c_1$ is the speed of sound. For that, we need $T_1$:"
   ],
   "metadata": {}
  },
  {
   "outputs": [
    {
     "output_type": "execute_result",
     "data": {
      "text/plain": "SoundSpeed = 343.55312544059313 m s⁻¹"
     },
     "metadata": {},
     "execution_count": 27
    }
   ],
   "cell_type": "code",
   "source": [
    "T0_over_T1 = T0OverT(M1,Isentropic,gas=Air)\n",
    "T1 = Temperature(T0/T0_over_T1)\n",
    "c1 = SoundSpeed(T1)"
   ],
   "metadata": {},
   "execution_count": 27
  },
  {
   "outputs": [
    {
     "output_type": "execute_result",
     "data": {
      "text/plain": "Velocity = 137.42125017623727 m s⁻¹"
     },
     "metadata": {},
     "execution_count": 28
    }
   ],
   "cell_type": "code",
   "source": [
    "u1 = Velocity(M1*c1)"
   ],
   "metadata": {},
   "execution_count": 28
  },
  {
   "cell_type": "markdown",
   "source": [
    "And now we can put it all together:"
   ],
   "metadata": {}
  },
  {
   "outputs": [
    {
     "output_type": "execute_result",
     "data": {
      "text/plain": "MassFlowRate = 5.109556749115033 kg s⁻¹"
     },
     "metadata": {},
     "execution_count": 29
    }
   ],
   "cell_type": "code",
   "source": [
    "mdot = MassFlowRate(ρ1*u1*A1)"
   ],
   "metadata": {},
   "execution_count": 29
  },
  {
   "cell_type": "markdown",
   "source": [
    "So the mass flow rate is stuck at 5.1 kg/s"
   ],
   "metadata": {}
  },
  {
   "cell_type": "markdown",
   "source": [
    "---\n",
    "\n",
    "*This notebook was generated using [Literate.jl](https://github.com/fredrikekre/Literate.jl).*"
   ],
   "metadata": {}
  }
 ],
 "nbformat_minor": 3,
 "metadata": {
  "language_info": {
   "file_extension": ".jl",
   "mimetype": "application/julia",
   "name": "julia",
   "version": "1.5.3"
  },
  "kernelspec": {
   "name": "julia-1.5",
   "display_name": "Julia 1.5.3",
   "language": "julia"
  }
 },
 "nbformat": 4
}
